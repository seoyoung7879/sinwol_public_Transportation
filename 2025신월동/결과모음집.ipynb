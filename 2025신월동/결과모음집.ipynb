{
 "cells": [
  {
   "cell_type": "markdown",
   "metadata": {},
   "source": []
  },
  {
   "cell_type": "code",
   "execution_count": 34,
   "metadata": {},
   "outputs": [
    {
     "data": {
      "application/vnd.plotly.v1+json": {
       "config": {
        "plotlyServerURL": "https://plot.ly"
       },
       "data": [
        {
         "alignmentgroup": "True",
         "hovertemplate": "승하차=승차인원수<br>승차요일=%{x}<br>인원수=%{y}<extra></extra>",
         "legendgroup": "승차인원수",
         "marker": {
          "color": "blue",
          "pattern": {
           "shape": ""
          }
         },
         "name": "승차인원수",
         "offsetgroup": "승차인원수",
         "orientation": "v",
         "showlegend": true,
         "textposition": "auto",
         "type": "bar",
         "x": [
          "Monday",
          "Tuesday",
          "Wednesday",
          "Thursday",
          "Friday",
          "Saturday",
          "Sunday"
         ],
         "xaxis": "x",
         "y": [
          57880,
          59330,
          59398,
          59238,
          60393,
          46126,
          35091
         ],
         "yaxis": "y"
        },
        {
         "alignmentgroup": "True",
         "hovertemplate": "승하차=하차인원수<br>승차요일=%{x}<br>인원수=%{y}<extra></extra>",
         "legendgroup": "하차인원수",
         "marker": {
          "color": "red",
          "pattern": {
           "shape": ""
          }
         },
         "name": "하차인원수",
         "offsetgroup": "하차인원수",
         "orientation": "v",
         "showlegend": true,
         "textposition": "auto",
         "type": "bar",
         "x": [
          "Monday",
          "Tuesday",
          "Wednesday",
          "Thursday",
          "Friday",
          "Saturday",
          "Sunday"
         ],
         "xaxis": "x",
         "y": [
          57773,
          59279,
          59425,
          59156,
          60371,
          46196,
          35256
         ],
         "yaxis": "y"
        }
       ],
       "layout": {
        "barmode": "group",
        "legend": {
         "title": {
          "text": "승하차"
         },
         "tracegroupgap": 0
        },
        "template": {
         "data": {
          "bar": [
           {
            "error_x": {
             "color": "#2a3f5f"
            },
            "error_y": {
             "color": "#2a3f5f"
            },
            "marker": {
             "line": {
              "color": "#E5ECF6",
              "width": 0.5
             },
             "pattern": {
              "fillmode": "overlay",
              "size": 10,
              "solidity": 0.2
             }
            },
            "type": "bar"
           }
          ],
          "barpolar": [
           {
            "marker": {
             "line": {
              "color": "#E5ECF6",
              "width": 0.5
             },
             "pattern": {
              "fillmode": "overlay",
              "size": 10,
              "solidity": 0.2
             }
            },
            "type": "barpolar"
           }
          ],
          "carpet": [
           {
            "aaxis": {
             "endlinecolor": "#2a3f5f",
             "gridcolor": "white",
             "linecolor": "white",
             "minorgridcolor": "white",
             "startlinecolor": "#2a3f5f"
            },
            "baxis": {
             "endlinecolor": "#2a3f5f",
             "gridcolor": "white",
             "linecolor": "white",
             "minorgridcolor": "white",
             "startlinecolor": "#2a3f5f"
            },
            "type": "carpet"
           }
          ],
          "choropleth": [
           {
            "colorbar": {
             "outlinewidth": 0,
             "ticks": ""
            },
            "type": "choropleth"
           }
          ],
          "contour": [
           {
            "colorbar": {
             "outlinewidth": 0,
             "ticks": ""
            },
            "colorscale": [
             [
              0,
              "#0d0887"
             ],
             [
              0.1111111111111111,
              "#46039f"
             ],
             [
              0.2222222222222222,
              "#7201a8"
             ],
             [
              0.3333333333333333,
              "#9c179e"
             ],
             [
              0.4444444444444444,
              "#bd3786"
             ],
             [
              0.5555555555555556,
              "#d8576b"
             ],
             [
              0.6666666666666666,
              "#ed7953"
             ],
             [
              0.7777777777777778,
              "#fb9f3a"
             ],
             [
              0.8888888888888888,
              "#fdca26"
             ],
             [
              1,
              "#f0f921"
             ]
            ],
            "type": "contour"
           }
          ],
          "contourcarpet": [
           {
            "colorbar": {
             "outlinewidth": 0,
             "ticks": ""
            },
            "type": "contourcarpet"
           }
          ],
          "heatmap": [
           {
            "colorbar": {
             "outlinewidth": 0,
             "ticks": ""
            },
            "colorscale": [
             [
              0,
              "#0d0887"
             ],
             [
              0.1111111111111111,
              "#46039f"
             ],
             [
              0.2222222222222222,
              "#7201a8"
             ],
             [
              0.3333333333333333,
              "#9c179e"
             ],
             [
              0.4444444444444444,
              "#bd3786"
             ],
             [
              0.5555555555555556,
              "#d8576b"
             ],
             [
              0.6666666666666666,
              "#ed7953"
             ],
             [
              0.7777777777777778,
              "#fb9f3a"
             ],
             [
              0.8888888888888888,
              "#fdca26"
             ],
             [
              1,
              "#f0f921"
             ]
            ],
            "type": "heatmap"
           }
          ],
          "heatmapgl": [
           {
            "colorbar": {
             "outlinewidth": 0,
             "ticks": ""
            },
            "colorscale": [
             [
              0,
              "#0d0887"
             ],
             [
              0.1111111111111111,
              "#46039f"
             ],
             [
              0.2222222222222222,
              "#7201a8"
             ],
             [
              0.3333333333333333,
              "#9c179e"
             ],
             [
              0.4444444444444444,
              "#bd3786"
             ],
             [
              0.5555555555555556,
              "#d8576b"
             ],
             [
              0.6666666666666666,
              "#ed7953"
             ],
             [
              0.7777777777777778,
              "#fb9f3a"
             ],
             [
              0.8888888888888888,
              "#fdca26"
             ],
             [
              1,
              "#f0f921"
             ]
            ],
            "type": "heatmapgl"
           }
          ],
          "histogram": [
           {
            "marker": {
             "pattern": {
              "fillmode": "overlay",
              "size": 10,
              "solidity": 0.2
             }
            },
            "type": "histogram"
           }
          ],
          "histogram2d": [
           {
            "colorbar": {
             "outlinewidth": 0,
             "ticks": ""
            },
            "colorscale": [
             [
              0,
              "#0d0887"
             ],
             [
              0.1111111111111111,
              "#46039f"
             ],
             [
              0.2222222222222222,
              "#7201a8"
             ],
             [
              0.3333333333333333,
              "#9c179e"
             ],
             [
              0.4444444444444444,
              "#bd3786"
             ],
             [
              0.5555555555555556,
              "#d8576b"
             ],
             [
              0.6666666666666666,
              "#ed7953"
             ],
             [
              0.7777777777777778,
              "#fb9f3a"
             ],
             [
              0.8888888888888888,
              "#fdca26"
             ],
             [
              1,
              "#f0f921"
             ]
            ],
            "type": "histogram2d"
           }
          ],
          "histogram2dcontour": [
           {
            "colorbar": {
             "outlinewidth": 0,
             "ticks": ""
            },
            "colorscale": [
             [
              0,
              "#0d0887"
             ],
             [
              0.1111111111111111,
              "#46039f"
             ],
             [
              0.2222222222222222,
              "#7201a8"
             ],
             [
              0.3333333333333333,
              "#9c179e"
             ],
             [
              0.4444444444444444,
              "#bd3786"
             ],
             [
              0.5555555555555556,
              "#d8576b"
             ],
             [
              0.6666666666666666,
              "#ed7953"
             ],
             [
              0.7777777777777778,
              "#fb9f3a"
             ],
             [
              0.8888888888888888,
              "#fdca26"
             ],
             [
              1,
              "#f0f921"
             ]
            ],
            "type": "histogram2dcontour"
           }
          ],
          "mesh3d": [
           {
            "colorbar": {
             "outlinewidth": 0,
             "ticks": ""
            },
            "type": "mesh3d"
           }
          ],
          "parcoords": [
           {
            "line": {
             "colorbar": {
              "outlinewidth": 0,
              "ticks": ""
             }
            },
            "type": "parcoords"
           }
          ],
          "pie": [
           {
            "automargin": true,
            "type": "pie"
           }
          ],
          "scatter": [
           {
            "fillpattern": {
             "fillmode": "overlay",
             "size": 10,
             "solidity": 0.2
            },
            "type": "scatter"
           }
          ],
          "scatter3d": [
           {
            "line": {
             "colorbar": {
              "outlinewidth": 0,
              "ticks": ""
             }
            },
            "marker": {
             "colorbar": {
              "outlinewidth": 0,
              "ticks": ""
             }
            },
            "type": "scatter3d"
           }
          ],
          "scattercarpet": [
           {
            "marker": {
             "colorbar": {
              "outlinewidth": 0,
              "ticks": ""
             }
            },
            "type": "scattercarpet"
           }
          ],
          "scattergeo": [
           {
            "marker": {
             "colorbar": {
              "outlinewidth": 0,
              "ticks": ""
             }
            },
            "type": "scattergeo"
           }
          ],
          "scattergl": [
           {
            "marker": {
             "colorbar": {
              "outlinewidth": 0,
              "ticks": ""
             }
            },
            "type": "scattergl"
           }
          ],
          "scattermapbox": [
           {
            "marker": {
             "colorbar": {
              "outlinewidth": 0,
              "ticks": ""
             }
            },
            "type": "scattermapbox"
           }
          ],
          "scatterpolar": [
           {
            "marker": {
             "colorbar": {
              "outlinewidth": 0,
              "ticks": ""
             }
            },
            "type": "scatterpolar"
           }
          ],
          "scatterpolargl": [
           {
            "marker": {
             "colorbar": {
              "outlinewidth": 0,
              "ticks": ""
             }
            },
            "type": "scatterpolargl"
           }
          ],
          "scatterternary": [
           {
            "marker": {
             "colorbar": {
              "outlinewidth": 0,
              "ticks": ""
             }
            },
            "type": "scatterternary"
           }
          ],
          "surface": [
           {
            "colorbar": {
             "outlinewidth": 0,
             "ticks": ""
            },
            "colorscale": [
             [
              0,
              "#0d0887"
             ],
             [
              0.1111111111111111,
              "#46039f"
             ],
             [
              0.2222222222222222,
              "#7201a8"
             ],
             [
              0.3333333333333333,
              "#9c179e"
             ],
             [
              0.4444444444444444,
              "#bd3786"
             ],
             [
              0.5555555555555556,
              "#d8576b"
             ],
             [
              0.6666666666666666,
              "#ed7953"
             ],
             [
              0.7777777777777778,
              "#fb9f3a"
             ],
             [
              0.8888888888888888,
              "#fdca26"
             ],
             [
              1,
              "#f0f921"
             ]
            ],
            "type": "surface"
           }
          ],
          "table": [
           {
            "cells": {
             "fill": {
              "color": "#EBF0F8"
             },
             "line": {
              "color": "white"
             }
            },
            "header": {
             "fill": {
              "color": "#C8D4E3"
             },
             "line": {
              "color": "white"
             }
            },
            "type": "table"
           }
          ]
         },
         "layout": {
          "annotationdefaults": {
           "arrowcolor": "#2a3f5f",
           "arrowhead": 0,
           "arrowwidth": 1
          },
          "autotypenumbers": "strict",
          "coloraxis": {
           "colorbar": {
            "outlinewidth": 0,
            "ticks": ""
           }
          },
          "colorscale": {
           "diverging": [
            [
             0,
             "#8e0152"
            ],
            [
             0.1,
             "#c51b7d"
            ],
            [
             0.2,
             "#de77ae"
            ],
            [
             0.3,
             "#f1b6da"
            ],
            [
             0.4,
             "#fde0ef"
            ],
            [
             0.5,
             "#f7f7f7"
            ],
            [
             0.6,
             "#e6f5d0"
            ],
            [
             0.7,
             "#b8e186"
            ],
            [
             0.8,
             "#7fbc41"
            ],
            [
             0.9,
             "#4d9221"
            ],
            [
             1,
             "#276419"
            ]
           ],
           "sequential": [
            [
             0,
             "#0d0887"
            ],
            [
             0.1111111111111111,
             "#46039f"
            ],
            [
             0.2222222222222222,
             "#7201a8"
            ],
            [
             0.3333333333333333,
             "#9c179e"
            ],
            [
             0.4444444444444444,
             "#bd3786"
            ],
            [
             0.5555555555555556,
             "#d8576b"
            ],
            [
             0.6666666666666666,
             "#ed7953"
            ],
            [
             0.7777777777777778,
             "#fb9f3a"
            ],
            [
             0.8888888888888888,
             "#fdca26"
            ],
            [
             1,
             "#f0f921"
            ]
           ],
           "sequentialminus": [
            [
             0,
             "#0d0887"
            ],
            [
             0.1111111111111111,
             "#46039f"
            ],
            [
             0.2222222222222222,
             "#7201a8"
            ],
            [
             0.3333333333333333,
             "#9c179e"
            ],
            [
             0.4444444444444444,
             "#bd3786"
            ],
            [
             0.5555555555555556,
             "#d8576b"
            ],
            [
             0.6666666666666666,
             "#ed7953"
            ],
            [
             0.7777777777777778,
             "#fb9f3a"
            ],
            [
             0.8888888888888888,
             "#fdca26"
            ],
            [
             1,
             "#f0f921"
            ]
           ]
          },
          "colorway": [
           "#636efa",
           "#EF553B",
           "#00cc96",
           "#ab63fa",
           "#FFA15A",
           "#19d3f3",
           "#FF6692",
           "#B6E880",
           "#FF97FF",
           "#FECB52"
          ],
          "font": {
           "color": "#2a3f5f"
          },
          "geo": {
           "bgcolor": "white",
           "lakecolor": "white",
           "landcolor": "#E5ECF6",
           "showlakes": true,
           "showland": true,
           "subunitcolor": "white"
          },
          "hoverlabel": {
           "align": "left"
          },
          "hovermode": "closest",
          "mapbox": {
           "style": "light"
          },
          "paper_bgcolor": "white",
          "plot_bgcolor": "#E5ECF6",
          "polar": {
           "angularaxis": {
            "gridcolor": "white",
            "linecolor": "white",
            "ticks": ""
           },
           "bgcolor": "#E5ECF6",
           "radialaxis": {
            "gridcolor": "white",
            "linecolor": "white",
            "ticks": ""
           }
          },
          "scene": {
           "xaxis": {
            "backgroundcolor": "#E5ECF6",
            "gridcolor": "white",
            "gridwidth": 2,
            "linecolor": "white",
            "showbackground": true,
            "ticks": "",
            "zerolinecolor": "white"
           },
           "yaxis": {
            "backgroundcolor": "#E5ECF6",
            "gridcolor": "white",
            "gridwidth": 2,
            "linecolor": "white",
            "showbackground": true,
            "ticks": "",
            "zerolinecolor": "white"
           },
           "zaxis": {
            "backgroundcolor": "#E5ECF6",
            "gridcolor": "white",
            "gridwidth": 2,
            "linecolor": "white",
            "showbackground": true,
            "ticks": "",
            "zerolinecolor": "white"
           }
          },
          "shapedefaults": {
           "line": {
            "color": "#2a3f5f"
           }
          },
          "ternary": {
           "aaxis": {
            "gridcolor": "white",
            "linecolor": "white",
            "ticks": ""
           },
           "baxis": {
            "gridcolor": "white",
            "linecolor": "white",
            "ticks": ""
           },
           "bgcolor": "#E5ECF6",
           "caxis": {
            "gridcolor": "white",
            "linecolor": "white",
            "ticks": ""
           }
          },
          "title": {
           "x": 0.05
          },
          "xaxis": {
           "automargin": true,
           "gridcolor": "white",
           "linecolor": "white",
           "ticks": "",
           "title": {
            "standoff": 15
           },
           "zerolinecolor": "white",
           "zerolinewidth": 2
          },
          "yaxis": {
           "automargin": true,
           "gridcolor": "white",
           "linecolor": "white",
           "ticks": "",
           "title": {
            "standoff": 15
           },
           "zerolinecolor": "white",
           "zerolinewidth": 2
          }
         }
        },
        "title": {
         "text": "요일별 승하차 인원"
        },
        "xaxis": {
         "anchor": "y",
         "domain": [
          0,
          1
         ],
         "title": {
          "text": "승차요일"
         }
        },
        "yaxis": {
         "anchor": "x",
         "domain": [
          0,
          1
         ],
         "title": {
          "text": "인원수"
         }
        }
       }
      }
     },
     "metadata": {},
     "output_type": "display_data"
    }
   ],
   "source": [
    "import pandas as pd\n",
    "import plotly.express as px\n",
    "\n",
    "# CSV 파일 읽기\n",
    "bus_data = pd.read_csv('C:\\\\Users\\\\USER\\\\Desktop\\\\2025신월동\\\\data-20250122T010720Z-001\\\\data\\\\sinwol_bus.csv')\n",
    "\n",
    "# 승차일시와 하차일시를 datetime 형식으로 변환\n",
    "bus_data['승차일시'] = pd.to_datetime(bus_data['승차일시'], format='%Y%m%d%H%M%S')\n",
    "bus_data['하차일시'] = pd.to_datetime(bus_data['하차일시'], format='%Y%m%d%H%M%S')\n",
    "\n",
    "# 요일 정보 추출 (0=월요일, 6=일요일)\n",
    "bus_data['승차요일'] = bus_data['승차일시'].dt.day_name()  # 요일명 추출\n",
    "bus_data['하차요일'] = bus_data['하차일시'].dt.day_name()  # 요일명 추출\n",
    "\n",
    "# 요일 순서를 설정\n",
    "ordered_days = ['Monday', 'Tuesday', 'Wednesday', 'Thursday', 'Friday', 'Saturday', 'Sunday']\n",
    "bus_data['승차요일'] = pd.Categorical(bus_data['승차요일'], categories=ordered_days, ordered=True)\n",
    "bus_data['하차요일'] = pd.Categorical(bus_data['하차요일'], categories=ordered_days, ordered=True)\n",
    "\n",
    "# 요일별 승차와 하차 인원수 집계 (observed=False 추가)\n",
    "boarding_counts = bus_data.groupby('승차요일', observed=False)['승객수'].sum().reset_index(name='승차인원수')\n",
    "alighting_counts = bus_data.groupby('하차요일', observed=False)['승객수'].sum().reset_index(name='하차인원수')\n",
    "\n",
    "# 요일별 승하차 인원 통합\n",
    "combined_counts = pd.merge(boarding_counts, alighting_counts, left_on='승차요일', right_on='하차요일', how='outer')\n",
    "\n",
    "# 시각화 (grouped bar로 승차와 하차 인원 나란히 비교)\n",
    "fig = px.bar(combined_counts, \n",
    "             x='승차요일', \n",
    "             y=['승차인원수', '하차인원수'], \n",
    "             title='요일별 승하차 인원',\n",
    "             labels={'value': '인원수', 'variable': '승하차'},\n",
    "             barmode='group',  # grouped bar 형식\n",
    "             color_discrete_sequence=['blue', 'red'])  # 승차는 파랑, 하차는 빨강\n",
    "fig.show()"
   ]
  },
  {
   "cell_type": "code",
   "execution_count": 36,
   "metadata": {},
   "outputs": [
    {
     "data": {
      "application/vnd.plotly.v1+json": {
       "config": {
        "plotlyServerURL": "https://plot.ly"
       },
       "data": [
        {
         "alignmentgroup": "True",
         "hovertemplate": "승하차=승차인원수<br>승차시간대=%{x}<br>인원수=%{y}<extra></extra>",
         "legendgroup": "승차인원수",
         "marker": {
          "color": "blue",
          "pattern": {
           "shape": ""
          }
         },
         "name": "승차인원수",
         "offsetgroup": "승차인원수",
         "orientation": "v",
         "showlegend": true,
         "textposition": "auto",
         "type": "bar",
         "x": [
          "00:00",
          "01:00",
          "02:00",
          "03:00",
          "04:00",
          "05:00",
          "06:00",
          "07:00",
          "08:00",
          "09:00",
          "10:00",
          "11:00",
          "12:00",
          "13:00",
          "14:00",
          "15:00",
          "16:00",
          "17:00",
          "18:00",
          "19:00",
          "20:00",
          "21:00",
          "22:00",
          "23:00"
         ],
         "xaxis": "x",
         "y": [
          1854,
          287,
          200,
          123,
          3656,
          7754,
          15406,
          32679,
          31156,
          20224,
          16514,
          15895,
          17918,
          18351,
          18624,
          21931,
          26326,
          26491,
          30000,
          19740,
          17315,
          15892,
          13054,
          6066
         ],
         "yaxis": "y"
        },
        {
         "alignmentgroup": "True",
         "hovertemplate": "승하차=하차인원수<br>승차시간대=%{x}<br>인원수=%{y}<extra></extra>",
         "legendgroup": "하차인원수",
         "marker": {
          "color": "red",
          "pattern": {
           "shape": ""
          }
         },
         "name": "하차인원수",
         "offsetgroup": "하차인원수",
         "orientation": "v",
         "showlegend": true,
         "textposition": "auto",
         "type": "bar",
         "x": [
          "00:00",
          "01:00",
          "02:00",
          "03:00",
          "04:00",
          "05:00",
          "06:00",
          "07:00",
          "08:00",
          "09:00",
          "10:00",
          "11:00",
          "12:00",
          "13:00",
          "14:00",
          "15:00",
          "16:00",
          "17:00",
          "18:00",
          "19:00",
          "20:00",
          "21:00",
          "22:00",
          "23:00"
         ],
         "xaxis": "x",
         "y": [
          3638,
          494,
          237,
          166,
          1649,
          5702,
          11407,
          23558,
          36943,
          24296,
          17466,
          16065,
          17185,
          18520,
          17682,
          21036,
          24524,
          24780,
          28884,
          25405,
          17725,
          16154,
          15213,
          8727
         ],
         "yaxis": "y"
        }
       ],
       "layout": {
        "barmode": "stack",
        "legend": {
         "title": {
          "text": "승하차"
         },
         "tracegroupgap": 0
        },
        "template": {
         "data": {
          "bar": [
           {
            "error_x": {
             "color": "#2a3f5f"
            },
            "error_y": {
             "color": "#2a3f5f"
            },
            "marker": {
             "line": {
              "color": "#E5ECF6",
              "width": 0.5
             },
             "pattern": {
              "fillmode": "overlay",
              "size": 10,
              "solidity": 0.2
             }
            },
            "type": "bar"
           }
          ],
          "barpolar": [
           {
            "marker": {
             "line": {
              "color": "#E5ECF6",
              "width": 0.5
             },
             "pattern": {
              "fillmode": "overlay",
              "size": 10,
              "solidity": 0.2
             }
            },
            "type": "barpolar"
           }
          ],
          "carpet": [
           {
            "aaxis": {
             "endlinecolor": "#2a3f5f",
             "gridcolor": "white",
             "linecolor": "white",
             "minorgridcolor": "white",
             "startlinecolor": "#2a3f5f"
            },
            "baxis": {
             "endlinecolor": "#2a3f5f",
             "gridcolor": "white",
             "linecolor": "white",
             "minorgridcolor": "white",
             "startlinecolor": "#2a3f5f"
            },
            "type": "carpet"
           }
          ],
          "choropleth": [
           {
            "colorbar": {
             "outlinewidth": 0,
             "ticks": ""
            },
            "type": "choropleth"
           }
          ],
          "contour": [
           {
            "colorbar": {
             "outlinewidth": 0,
             "ticks": ""
            },
            "colorscale": [
             [
              0,
              "#0d0887"
             ],
             [
              0.1111111111111111,
              "#46039f"
             ],
             [
              0.2222222222222222,
              "#7201a8"
             ],
             [
              0.3333333333333333,
              "#9c179e"
             ],
             [
              0.4444444444444444,
              "#bd3786"
             ],
             [
              0.5555555555555556,
              "#d8576b"
             ],
             [
              0.6666666666666666,
              "#ed7953"
             ],
             [
              0.7777777777777778,
              "#fb9f3a"
             ],
             [
              0.8888888888888888,
              "#fdca26"
             ],
             [
              1,
              "#f0f921"
             ]
            ],
            "type": "contour"
           }
          ],
          "contourcarpet": [
           {
            "colorbar": {
             "outlinewidth": 0,
             "ticks": ""
            },
            "type": "contourcarpet"
           }
          ],
          "heatmap": [
           {
            "colorbar": {
             "outlinewidth": 0,
             "ticks": ""
            },
            "colorscale": [
             [
              0,
              "#0d0887"
             ],
             [
              0.1111111111111111,
              "#46039f"
             ],
             [
              0.2222222222222222,
              "#7201a8"
             ],
             [
              0.3333333333333333,
              "#9c179e"
             ],
             [
              0.4444444444444444,
              "#bd3786"
             ],
             [
              0.5555555555555556,
              "#d8576b"
             ],
             [
              0.6666666666666666,
              "#ed7953"
             ],
             [
              0.7777777777777778,
              "#fb9f3a"
             ],
             [
              0.8888888888888888,
              "#fdca26"
             ],
             [
              1,
              "#f0f921"
             ]
            ],
            "type": "heatmap"
           }
          ],
          "heatmapgl": [
           {
            "colorbar": {
             "outlinewidth": 0,
             "ticks": ""
            },
            "colorscale": [
             [
              0,
              "#0d0887"
             ],
             [
              0.1111111111111111,
              "#46039f"
             ],
             [
              0.2222222222222222,
              "#7201a8"
             ],
             [
              0.3333333333333333,
              "#9c179e"
             ],
             [
              0.4444444444444444,
              "#bd3786"
             ],
             [
              0.5555555555555556,
              "#d8576b"
             ],
             [
              0.6666666666666666,
              "#ed7953"
             ],
             [
              0.7777777777777778,
              "#fb9f3a"
             ],
             [
              0.8888888888888888,
              "#fdca26"
             ],
             [
              1,
              "#f0f921"
             ]
            ],
            "type": "heatmapgl"
           }
          ],
          "histogram": [
           {
            "marker": {
             "pattern": {
              "fillmode": "overlay",
              "size": 10,
              "solidity": 0.2
             }
            },
            "type": "histogram"
           }
          ],
          "histogram2d": [
           {
            "colorbar": {
             "outlinewidth": 0,
             "ticks": ""
            },
            "colorscale": [
             [
              0,
              "#0d0887"
             ],
             [
              0.1111111111111111,
              "#46039f"
             ],
             [
              0.2222222222222222,
              "#7201a8"
             ],
             [
              0.3333333333333333,
              "#9c179e"
             ],
             [
              0.4444444444444444,
              "#bd3786"
             ],
             [
              0.5555555555555556,
              "#d8576b"
             ],
             [
              0.6666666666666666,
              "#ed7953"
             ],
             [
              0.7777777777777778,
              "#fb9f3a"
             ],
             [
              0.8888888888888888,
              "#fdca26"
             ],
             [
              1,
              "#f0f921"
             ]
            ],
            "type": "histogram2d"
           }
          ],
          "histogram2dcontour": [
           {
            "colorbar": {
             "outlinewidth": 0,
             "ticks": ""
            },
            "colorscale": [
             [
              0,
              "#0d0887"
             ],
             [
              0.1111111111111111,
              "#46039f"
             ],
             [
              0.2222222222222222,
              "#7201a8"
             ],
             [
              0.3333333333333333,
              "#9c179e"
             ],
             [
              0.4444444444444444,
              "#bd3786"
             ],
             [
              0.5555555555555556,
              "#d8576b"
             ],
             [
              0.6666666666666666,
              "#ed7953"
             ],
             [
              0.7777777777777778,
              "#fb9f3a"
             ],
             [
              0.8888888888888888,
              "#fdca26"
             ],
             [
              1,
              "#f0f921"
             ]
            ],
            "type": "histogram2dcontour"
           }
          ],
          "mesh3d": [
           {
            "colorbar": {
             "outlinewidth": 0,
             "ticks": ""
            },
            "type": "mesh3d"
           }
          ],
          "parcoords": [
           {
            "line": {
             "colorbar": {
              "outlinewidth": 0,
              "ticks": ""
             }
            },
            "type": "parcoords"
           }
          ],
          "pie": [
           {
            "automargin": true,
            "type": "pie"
           }
          ],
          "scatter": [
           {
            "fillpattern": {
             "fillmode": "overlay",
             "size": 10,
             "solidity": 0.2
            },
            "type": "scatter"
           }
          ],
          "scatter3d": [
           {
            "line": {
             "colorbar": {
              "outlinewidth": 0,
              "ticks": ""
             }
            },
            "marker": {
             "colorbar": {
              "outlinewidth": 0,
              "ticks": ""
             }
            },
            "type": "scatter3d"
           }
          ],
          "scattercarpet": [
           {
            "marker": {
             "colorbar": {
              "outlinewidth": 0,
              "ticks": ""
             }
            },
            "type": "scattercarpet"
           }
          ],
          "scattergeo": [
           {
            "marker": {
             "colorbar": {
              "outlinewidth": 0,
              "ticks": ""
             }
            },
            "type": "scattergeo"
           }
          ],
          "scattergl": [
           {
            "marker": {
             "colorbar": {
              "outlinewidth": 0,
              "ticks": ""
             }
            },
            "type": "scattergl"
           }
          ],
          "scattermapbox": [
           {
            "marker": {
             "colorbar": {
              "outlinewidth": 0,
              "ticks": ""
             }
            },
            "type": "scattermapbox"
           }
          ],
          "scatterpolar": [
           {
            "marker": {
             "colorbar": {
              "outlinewidth": 0,
              "ticks": ""
             }
            },
            "type": "scatterpolar"
           }
          ],
          "scatterpolargl": [
           {
            "marker": {
             "colorbar": {
              "outlinewidth": 0,
              "ticks": ""
             }
            },
            "type": "scatterpolargl"
           }
          ],
          "scatterternary": [
           {
            "marker": {
             "colorbar": {
              "outlinewidth": 0,
              "ticks": ""
             }
            },
            "type": "scatterternary"
           }
          ],
          "surface": [
           {
            "colorbar": {
             "outlinewidth": 0,
             "ticks": ""
            },
            "colorscale": [
             [
              0,
              "#0d0887"
             ],
             [
              0.1111111111111111,
              "#46039f"
             ],
             [
              0.2222222222222222,
              "#7201a8"
             ],
             [
              0.3333333333333333,
              "#9c179e"
             ],
             [
              0.4444444444444444,
              "#bd3786"
             ],
             [
              0.5555555555555556,
              "#d8576b"
             ],
             [
              0.6666666666666666,
              "#ed7953"
             ],
             [
              0.7777777777777778,
              "#fb9f3a"
             ],
             [
              0.8888888888888888,
              "#fdca26"
             ],
             [
              1,
              "#f0f921"
             ]
            ],
            "type": "surface"
           }
          ],
          "table": [
           {
            "cells": {
             "fill": {
              "color": "#EBF0F8"
             },
             "line": {
              "color": "white"
             }
            },
            "header": {
             "fill": {
              "color": "#C8D4E3"
             },
             "line": {
              "color": "white"
             }
            },
            "type": "table"
           }
          ]
         },
         "layout": {
          "annotationdefaults": {
           "arrowcolor": "#2a3f5f",
           "arrowhead": 0,
           "arrowwidth": 1
          },
          "autotypenumbers": "strict",
          "coloraxis": {
           "colorbar": {
            "outlinewidth": 0,
            "ticks": ""
           }
          },
          "colorscale": {
           "diverging": [
            [
             0,
             "#8e0152"
            ],
            [
             0.1,
             "#c51b7d"
            ],
            [
             0.2,
             "#de77ae"
            ],
            [
             0.3,
             "#f1b6da"
            ],
            [
             0.4,
             "#fde0ef"
            ],
            [
             0.5,
             "#f7f7f7"
            ],
            [
             0.6,
             "#e6f5d0"
            ],
            [
             0.7,
             "#b8e186"
            ],
            [
             0.8,
             "#7fbc41"
            ],
            [
             0.9,
             "#4d9221"
            ],
            [
             1,
             "#276419"
            ]
           ],
           "sequential": [
            [
             0,
             "#0d0887"
            ],
            [
             0.1111111111111111,
             "#46039f"
            ],
            [
             0.2222222222222222,
             "#7201a8"
            ],
            [
             0.3333333333333333,
             "#9c179e"
            ],
            [
             0.4444444444444444,
             "#bd3786"
            ],
            [
             0.5555555555555556,
             "#d8576b"
            ],
            [
             0.6666666666666666,
             "#ed7953"
            ],
            [
             0.7777777777777778,
             "#fb9f3a"
            ],
            [
             0.8888888888888888,
             "#fdca26"
            ],
            [
             1,
             "#f0f921"
            ]
           ],
           "sequentialminus": [
            [
             0,
             "#0d0887"
            ],
            [
             0.1111111111111111,
             "#46039f"
            ],
            [
             0.2222222222222222,
             "#7201a8"
            ],
            [
             0.3333333333333333,
             "#9c179e"
            ],
            [
             0.4444444444444444,
             "#bd3786"
            ],
            [
             0.5555555555555556,
             "#d8576b"
            ],
            [
             0.6666666666666666,
             "#ed7953"
            ],
            [
             0.7777777777777778,
             "#fb9f3a"
            ],
            [
             0.8888888888888888,
             "#fdca26"
            ],
            [
             1,
             "#f0f921"
            ]
           ]
          },
          "colorway": [
           "#636efa",
           "#EF553B",
           "#00cc96",
           "#ab63fa",
           "#FFA15A",
           "#19d3f3",
           "#FF6692",
           "#B6E880",
           "#FF97FF",
           "#FECB52"
          ],
          "font": {
           "color": "#2a3f5f"
          },
          "geo": {
           "bgcolor": "white",
           "lakecolor": "white",
           "landcolor": "#E5ECF6",
           "showlakes": true,
           "showland": true,
           "subunitcolor": "white"
          },
          "hoverlabel": {
           "align": "left"
          },
          "hovermode": "closest",
          "mapbox": {
           "style": "light"
          },
          "paper_bgcolor": "white",
          "plot_bgcolor": "#E5ECF6",
          "polar": {
           "angularaxis": {
            "gridcolor": "white",
            "linecolor": "white",
            "ticks": ""
           },
           "bgcolor": "#E5ECF6",
           "radialaxis": {
            "gridcolor": "white",
            "linecolor": "white",
            "ticks": ""
           }
          },
          "scene": {
           "xaxis": {
            "backgroundcolor": "#E5ECF6",
            "gridcolor": "white",
            "gridwidth": 2,
            "linecolor": "white",
            "showbackground": true,
            "ticks": "",
            "zerolinecolor": "white"
           },
           "yaxis": {
            "backgroundcolor": "#E5ECF6",
            "gridcolor": "white",
            "gridwidth": 2,
            "linecolor": "white",
            "showbackground": true,
            "ticks": "",
            "zerolinecolor": "white"
           },
           "zaxis": {
            "backgroundcolor": "#E5ECF6",
            "gridcolor": "white",
            "gridwidth": 2,
            "linecolor": "white",
            "showbackground": true,
            "ticks": "",
            "zerolinecolor": "white"
           }
          },
          "shapedefaults": {
           "line": {
            "color": "#2a3f5f"
           }
          },
          "ternary": {
           "aaxis": {
            "gridcolor": "white",
            "linecolor": "white",
            "ticks": ""
           },
           "baxis": {
            "gridcolor": "white",
            "linecolor": "white",
            "ticks": ""
           },
           "bgcolor": "#E5ECF6",
           "caxis": {
            "gridcolor": "white",
            "linecolor": "white",
            "ticks": ""
           }
          },
          "title": {
           "x": 0.05
          },
          "xaxis": {
           "automargin": true,
           "gridcolor": "white",
           "linecolor": "white",
           "ticks": "",
           "title": {
            "standoff": 15
           },
           "zerolinecolor": "white",
           "zerolinewidth": 2
          },
          "yaxis": {
           "automargin": true,
           "gridcolor": "white",
           "linecolor": "white",
           "ticks": "",
           "title": {
            "standoff": 15
           },
           "zerolinecolor": "white",
           "zerolinewidth": 2
          }
         }
        },
        "title": {
         "text": "시간대별 승하차 인원"
        },
        "xaxis": {
         "anchor": "y",
         "domain": [
          0,
          1
         ],
         "title": {
          "text": "시간대"
         }
        },
        "yaxis": {
         "anchor": "x",
         "domain": [
          0,
          1
         ],
         "title": {
          "text": "인원수"
         }
        }
       }
      }
     },
     "metadata": {},
     "output_type": "display_data"
    }
   ],
   "source": [
    "import pandas as pd\n",
    "import plotly.express as px\n",
    "\n",
    "# CSV 파일 읽기\n",
    "bus_data = pd.read_csv('C:\\\\Users\\\\USER\\\\Desktop\\\\2025신월동\\\\data-20250122T010720Z-001\\\\data\\\\sinwol_bus.csv')\n",
    "\n",
    "# 승차일시와 하차일시를 datetime 형식으로 변환\n",
    "bus_data['승차일시'] = pd.to_datetime(bus_data['승차일시'], format='%Y%m%d%H%M%S')\n",
    "bus_data['하차일시'] = pd.to_datetime(bus_data['하차일시'], format='%Y%m%d%H%M%S')\n",
    "\n",
    "# 시간대 추가 (00시도 00:00으로 출력되도록 포맷 설정)\n",
    "bus_data['승차시간대'] = bus_data['승차일시'].dt.floor('H').dt.strftime('%H:%M')  # 시간 단위로 내림 후 포맷\n",
    "bus_data['하차시간대'] = bus_data['하차일시'].dt.floor('H').dt.strftime('%H:%M')  # 시간 단위로 내림 후 포맷\n",
    "\n",
    "# 승차와 하차 인원수 집계\n",
    "boarding_counts = bus_data.groupby('승차시간대')['승객수'].sum().reset_index(name='승차인원수')\n",
    "alighting_counts = bus_data.groupby('하차시간대')['승객수'].sum().reset_index(name='하차인원수')\n",
    "\n",
    "# 시간대별 승하차 인원 통합\n",
    "combined_counts = pd.merge(boarding_counts, alighting_counts, left_on='승차시간대', right_on='하차시간대', how='outer')\n",
    "\n",
    "# 시각화\n",
    "fig = px.bar(combined_counts, \n",
    "             x='승차시간대', \n",
    "             y=['승차인원수', '하차인원수'], \n",
    "             title='시간대별 승하차 인원',\n",
    "             labels={'value': '인원수', 'variable': '승하차'},\n",
    "             barmode='stack',  # 스택형 막대그래프\n",
    "             color_discrete_sequence=['blue', 'red'])  # 승차는 파랑, 하차는 빨강\n",
    "\n",
    "# x축 레이블 변경\n",
    "fig.update_layout(xaxis_title='시간대')  # x축 이름을 '시간대'로 변경\n",
    "\n",
    "fig.show()"
   ]
  },
  {
   "cell_type": "code",
   "execution_count": 38,
   "metadata": {},
   "outputs": [
    {
     "name": "stderr",
     "output_type": "stream",
     "text": [
      "c:\\ProgramData\\anaconda3\\Lib\\site-packages\\plotly\\express\\_core.py:1958: FutureWarning:\n",
      "\n",
      "The default of observed=False is deprecated and will be changed to True in a future version of pandas. Pass observed=False to retain current behavior or observed=True to adopt the future default and silence this warning.\n",
      "\n"
     ]
    },
    {
     "data": {
      "application/vnd.plotly.v1+json": {
       "config": {
        "plotlyServerURL": "https://plot.ly"
       },
       "data": [
        {
         "hovertemplate": "승차요일=Monday<br>시간대=%{x}<br>인원수=%{y}<extra></extra>",
         "legendgroup": "Monday",
         "line": {
          "color": "#636efa",
          "dash": "solid"
         },
         "marker": {
          "symbol": "circle"
         },
         "mode": "markers+lines",
         "name": "Monday",
         "orientation": "v",
         "showlegend": true,
         "type": "scatter",
         "x": [
          "00:00",
          "01:00",
          "02:00",
          "03:00",
          "04:00",
          "05:00",
          "06:00",
          "07:00",
          "08:00",
          "09:00",
          "10:00",
          "11:00",
          "12:00",
          "13:00",
          "14:00",
          "15:00",
          "16:00",
          "17:00",
          "18:00",
          "19:00",
          "20:00",
          "21:00",
          "22:00",
          "23:00"
         ],
         "xaxis": "x",
         "y": [
          177,
          22,
          13,
          14,
          581,
          1253,
          2774,
          5903,
          5267,
          3046,
          2274,
          2225,
          2410,
          2506,
          2589,
          3241,
          4130,
          4074,
          5070,
          3132,
          2476,
          2208,
          1733,
          762
         ],
         "yaxis": "y"
        },
        {
         "hovertemplate": "승차요일=Tuesday<br>시간대=%{x}<br>인원수=%{y}<extra></extra>",
         "legendgroup": "Tuesday",
         "line": {
          "color": "#EF553B",
          "dash": "solid"
         },
         "marker": {
          "symbol": "circle"
         },
         "mode": "markers+lines",
         "name": "Tuesday",
         "orientation": "v",
         "showlegend": true,
         "type": "scatter",
         "x": [
          "00:00",
          "01:00",
          "02:00",
          "03:00",
          "04:00",
          "05:00",
          "06:00",
          "07:00",
          "08:00",
          "09:00",
          "10:00",
          "11:00",
          "12:00",
          "13:00",
          "14:00",
          "15:00",
          "16:00",
          "17:00",
          "18:00",
          "19:00",
          "20:00",
          "21:00",
          "22:00",
          "23:00"
         ],
         "xaxis": "x",
         "y": [
          219,
          44,
          25,
          13,
          624,
          1257,
          2716,
          6248,
          5386,
          3071,
          2330,
          2285,
          2580,
          2500,
          2684,
          2782,
          4548,
          4083,
          4940,
          3133,
          2530,
          2461,
          2034,
          837
         ],
         "yaxis": "y"
        },
        {
         "hovertemplate": "승차요일=Wednesday<br>시간대=%{x}<br>인원수=%{y}<extra></extra>",
         "legendgroup": "Wednesday",
         "line": {
          "color": "#00cc96",
          "dash": "solid"
         },
         "marker": {
          "symbol": "circle"
         },
         "mode": "markers+lines",
         "name": "Wednesday",
         "orientation": "v",
         "showlegend": true,
         "type": "scatter",
         "x": [
          "00:00",
          "01:00",
          "02:00",
          "03:00",
          "04:00",
          "05:00",
          "06:00",
          "07:00",
          "08:00",
          "09:00",
          "10:00",
          "11:00",
          "12:00",
          "13:00",
          "14:00",
          "15:00",
          "16:00",
          "17:00",
          "18:00",
          "19:00",
          "20:00",
          "21:00",
          "22:00",
          "23:00"
         ],
         "xaxis": "x",
         "y": [
          246,
          43,
          24,
          21,
          644,
          1244,
          2598,
          5969,
          5371,
          3126,
          2299,
          2112,
          2665,
          2606,
          2783,
          4049,
          3650,
          4150,
          4973,
          2966,
          2647,
          2413,
          1970,
          829
         ],
         "yaxis": "y"
        },
        {
         "hovertemplate": "승차요일=Thursday<br>시간대=%{x}<br>인원수=%{y}<extra></extra>",
         "legendgroup": "Thursday",
         "line": {
          "color": "#ab63fa",
          "dash": "solid"
         },
         "marker": {
          "symbol": "circle"
         },
         "mode": "markers+lines",
         "name": "Thursday",
         "orientation": "v",
         "showlegend": true,
         "type": "scatter",
         "x": [
          "00:00",
          "01:00",
          "02:00",
          "03:00",
          "04:00",
          "05:00",
          "06:00",
          "07:00",
          "08:00",
          "09:00",
          "10:00",
          "11:00",
          "12:00",
          "13:00",
          "14:00",
          "15:00",
          "16:00",
          "17:00",
          "18:00",
          "19:00",
          "20:00",
          "21:00",
          "22:00",
          "23:00"
         ],
         "xaxis": "x",
         "y": [
          253,
          43,
          24,
          16,
          609,
          1254,
          2764,
          6009,
          5384,
          3144,
          2294,
          2153,
          2421,
          2477,
          2506,
          2900,
          4460,
          4159,
          5028,
          3162,
          2734,
          2442,
          2065,
          937
         ],
         "yaxis": "y"
        },
        {
         "hovertemplate": "승차요일=Friday<br>시간대=%{x}<br>인원수=%{y}<extra></extra>",
         "legendgroup": "Friday",
         "line": {
          "color": "#FFA15A",
          "dash": "solid"
         },
         "marker": {
          "symbol": "circle"
         },
         "mode": "markers+lines",
         "name": "Friday",
         "orientation": "v",
         "showlegend": true,
         "type": "scatter",
         "x": [
          "00:00",
          "01:00",
          "02:00",
          "03:00",
          "04:00",
          "05:00",
          "06:00",
          "07:00",
          "08:00",
          "09:00",
          "10:00",
          "11:00",
          "12:00",
          "13:00",
          "14:00",
          "15:00",
          "16:00",
          "17:00",
          "18:00",
          "19:00",
          "20:00",
          "21:00",
          "22:00",
          "23:00"
         ],
         "xaxis": "x",
         "y": [
          287,
          40,
          27,
          17,
          615,
          1211,
          2538,
          5827,
          5340,
          3060,
          2318,
          2320,
          2526,
          2641,
          2727,
          3573,
          4024,
          4426,
          4969,
          3202,
          2732,
          2536,
          2243,
          1194
         ],
         "yaxis": "y"
        },
        {
         "hovertemplate": "승차요일=Saturday<br>시간대=%{x}<br>인원수=%{y}<extra></extra>",
         "legendgroup": "Saturday",
         "line": {
          "color": "#19d3f3",
          "dash": "solid"
         },
         "marker": {
          "symbol": "circle"
         },
         "mode": "markers+lines",
         "name": "Saturday",
         "orientation": "v",
         "showlegend": true,
         "type": "scatter",
         "x": [
          "00:00",
          "01:00",
          "02:00",
          "03:00",
          "04:00",
          "05:00",
          "06:00",
          "07:00",
          "08:00",
          "09:00",
          "10:00",
          "11:00",
          "12:00",
          "13:00",
          "14:00",
          "15:00",
          "16:00",
          "17:00",
          "18:00",
          "19:00",
          "20:00",
          "21:00",
          "22:00",
          "23:00"
         ],
         "xaxis": "x",
         "y": [
          351,
          65,
          43,
          18,
          381,
          1003,
          1157,
          1716,
          2739,
          2742,
          2718,
          2743,
          3026,
          3081,
          2900,
          2908,
          3223,
          3135,
          2760,
          2238,
          2341,
          2197,
          1700,
          941
         ],
         "yaxis": "y"
        },
        {
         "hovertemplate": "승차요일=Sunday<br>시간대=%{x}<br>인원수=%{y}<extra></extra>",
         "legendgroup": "Sunday",
         "line": {
          "color": "#FF6692",
          "dash": "solid"
         },
         "marker": {
          "symbol": "circle"
         },
         "mode": "markers+lines",
         "name": "Sunday",
         "orientation": "v",
         "showlegend": true,
         "type": "scatter",
         "x": [
          "00:00",
          "01:00",
          "02:00",
          "03:00",
          "04:00",
          "05:00",
          "06:00",
          "07:00",
          "08:00",
          "09:00",
          "10:00",
          "11:00",
          "12:00",
          "13:00",
          "14:00",
          "15:00",
          "16:00",
          "17:00",
          "18:00",
          "19:00",
          "20:00",
          "21:00",
          "22:00",
          "23:00"
         ],
         "xaxis": "x",
         "y": [
          321,
          30,
          44,
          24,
          202,
          532,
          859,
          1007,
          1669,
          2035,
          2281,
          2057,
          2290,
          2540,
          2435,
          2478,
          2291,
          2464,
          2260,
          1907,
          1855,
          1635,
          1309,
          566
         ],
         "yaxis": "y"
        }
       ],
       "layout": {
        "legend": {
         "title": {
          "text": "승차요일"
         },
         "tracegroupgap": 0,
         "traceorder": "normal"
        },
        "template": {
         "data": {
          "bar": [
           {
            "error_x": {
             "color": "#2a3f5f"
            },
            "error_y": {
             "color": "#2a3f5f"
            },
            "marker": {
             "line": {
              "color": "#E5ECF6",
              "width": 0.5
             },
             "pattern": {
              "fillmode": "overlay",
              "size": 10,
              "solidity": 0.2
             }
            },
            "type": "bar"
           }
          ],
          "barpolar": [
           {
            "marker": {
             "line": {
              "color": "#E5ECF6",
              "width": 0.5
             },
             "pattern": {
              "fillmode": "overlay",
              "size": 10,
              "solidity": 0.2
             }
            },
            "type": "barpolar"
           }
          ],
          "carpet": [
           {
            "aaxis": {
             "endlinecolor": "#2a3f5f",
             "gridcolor": "white",
             "linecolor": "white",
             "minorgridcolor": "white",
             "startlinecolor": "#2a3f5f"
            },
            "baxis": {
             "endlinecolor": "#2a3f5f",
             "gridcolor": "white",
             "linecolor": "white",
             "minorgridcolor": "white",
             "startlinecolor": "#2a3f5f"
            },
            "type": "carpet"
           }
          ],
          "choropleth": [
           {
            "colorbar": {
             "outlinewidth": 0,
             "ticks": ""
            },
            "type": "choropleth"
           }
          ],
          "contour": [
           {
            "colorbar": {
             "outlinewidth": 0,
             "ticks": ""
            },
            "colorscale": [
             [
              0,
              "#0d0887"
             ],
             [
              0.1111111111111111,
              "#46039f"
             ],
             [
              0.2222222222222222,
              "#7201a8"
             ],
             [
              0.3333333333333333,
              "#9c179e"
             ],
             [
              0.4444444444444444,
              "#bd3786"
             ],
             [
              0.5555555555555556,
              "#d8576b"
             ],
             [
              0.6666666666666666,
              "#ed7953"
             ],
             [
              0.7777777777777778,
              "#fb9f3a"
             ],
             [
              0.8888888888888888,
              "#fdca26"
             ],
             [
              1,
              "#f0f921"
             ]
            ],
            "type": "contour"
           }
          ],
          "contourcarpet": [
           {
            "colorbar": {
             "outlinewidth": 0,
             "ticks": ""
            },
            "type": "contourcarpet"
           }
          ],
          "heatmap": [
           {
            "colorbar": {
             "outlinewidth": 0,
             "ticks": ""
            },
            "colorscale": [
             [
              0,
              "#0d0887"
             ],
             [
              0.1111111111111111,
              "#46039f"
             ],
             [
              0.2222222222222222,
              "#7201a8"
             ],
             [
              0.3333333333333333,
              "#9c179e"
             ],
             [
              0.4444444444444444,
              "#bd3786"
             ],
             [
              0.5555555555555556,
              "#d8576b"
             ],
             [
              0.6666666666666666,
              "#ed7953"
             ],
             [
              0.7777777777777778,
              "#fb9f3a"
             ],
             [
              0.8888888888888888,
              "#fdca26"
             ],
             [
              1,
              "#f0f921"
             ]
            ],
            "type": "heatmap"
           }
          ],
          "heatmapgl": [
           {
            "colorbar": {
             "outlinewidth": 0,
             "ticks": ""
            },
            "colorscale": [
             [
              0,
              "#0d0887"
             ],
             [
              0.1111111111111111,
              "#46039f"
             ],
             [
              0.2222222222222222,
              "#7201a8"
             ],
             [
              0.3333333333333333,
              "#9c179e"
             ],
             [
              0.4444444444444444,
              "#bd3786"
             ],
             [
              0.5555555555555556,
              "#d8576b"
             ],
             [
              0.6666666666666666,
              "#ed7953"
             ],
             [
              0.7777777777777778,
              "#fb9f3a"
             ],
             [
              0.8888888888888888,
              "#fdca26"
             ],
             [
              1,
              "#f0f921"
             ]
            ],
            "type": "heatmapgl"
           }
          ],
          "histogram": [
           {
            "marker": {
             "pattern": {
              "fillmode": "overlay",
              "size": 10,
              "solidity": 0.2
             }
            },
            "type": "histogram"
           }
          ],
          "histogram2d": [
           {
            "colorbar": {
             "outlinewidth": 0,
             "ticks": ""
            },
            "colorscale": [
             [
              0,
              "#0d0887"
             ],
             [
              0.1111111111111111,
              "#46039f"
             ],
             [
              0.2222222222222222,
              "#7201a8"
             ],
             [
              0.3333333333333333,
              "#9c179e"
             ],
             [
              0.4444444444444444,
              "#bd3786"
             ],
             [
              0.5555555555555556,
              "#d8576b"
             ],
             [
              0.6666666666666666,
              "#ed7953"
             ],
             [
              0.7777777777777778,
              "#fb9f3a"
             ],
             [
              0.8888888888888888,
              "#fdca26"
             ],
             [
              1,
              "#f0f921"
             ]
            ],
            "type": "histogram2d"
           }
          ],
          "histogram2dcontour": [
           {
            "colorbar": {
             "outlinewidth": 0,
             "ticks": ""
            },
            "colorscale": [
             [
              0,
              "#0d0887"
             ],
             [
              0.1111111111111111,
              "#46039f"
             ],
             [
              0.2222222222222222,
              "#7201a8"
             ],
             [
              0.3333333333333333,
              "#9c179e"
             ],
             [
              0.4444444444444444,
              "#bd3786"
             ],
             [
              0.5555555555555556,
              "#d8576b"
             ],
             [
              0.6666666666666666,
              "#ed7953"
             ],
             [
              0.7777777777777778,
              "#fb9f3a"
             ],
             [
              0.8888888888888888,
              "#fdca26"
             ],
             [
              1,
              "#f0f921"
             ]
            ],
            "type": "histogram2dcontour"
           }
          ],
          "mesh3d": [
           {
            "colorbar": {
             "outlinewidth": 0,
             "ticks": ""
            },
            "type": "mesh3d"
           }
          ],
          "parcoords": [
           {
            "line": {
             "colorbar": {
              "outlinewidth": 0,
              "ticks": ""
             }
            },
            "type": "parcoords"
           }
          ],
          "pie": [
           {
            "automargin": true,
            "type": "pie"
           }
          ],
          "scatter": [
           {
            "fillpattern": {
             "fillmode": "overlay",
             "size": 10,
             "solidity": 0.2
            },
            "type": "scatter"
           }
          ],
          "scatter3d": [
           {
            "line": {
             "colorbar": {
              "outlinewidth": 0,
              "ticks": ""
             }
            },
            "marker": {
             "colorbar": {
              "outlinewidth": 0,
              "ticks": ""
             }
            },
            "type": "scatter3d"
           }
          ],
          "scattercarpet": [
           {
            "marker": {
             "colorbar": {
              "outlinewidth": 0,
              "ticks": ""
             }
            },
            "type": "scattercarpet"
           }
          ],
          "scattergeo": [
           {
            "marker": {
             "colorbar": {
              "outlinewidth": 0,
              "ticks": ""
             }
            },
            "type": "scattergeo"
           }
          ],
          "scattergl": [
           {
            "marker": {
             "colorbar": {
              "outlinewidth": 0,
              "ticks": ""
             }
            },
            "type": "scattergl"
           }
          ],
          "scattermapbox": [
           {
            "marker": {
             "colorbar": {
              "outlinewidth": 0,
              "ticks": ""
             }
            },
            "type": "scattermapbox"
           }
          ],
          "scatterpolar": [
           {
            "marker": {
             "colorbar": {
              "outlinewidth": 0,
              "ticks": ""
             }
            },
            "type": "scatterpolar"
           }
          ],
          "scatterpolargl": [
           {
            "marker": {
             "colorbar": {
              "outlinewidth": 0,
              "ticks": ""
             }
            },
            "type": "scatterpolargl"
           }
          ],
          "scatterternary": [
           {
            "marker": {
             "colorbar": {
              "outlinewidth": 0,
              "ticks": ""
             }
            },
            "type": "scatterternary"
           }
          ],
          "surface": [
           {
            "colorbar": {
             "outlinewidth": 0,
             "ticks": ""
            },
            "colorscale": [
             [
              0,
              "#0d0887"
             ],
             [
              0.1111111111111111,
              "#46039f"
             ],
             [
              0.2222222222222222,
              "#7201a8"
             ],
             [
              0.3333333333333333,
              "#9c179e"
             ],
             [
              0.4444444444444444,
              "#bd3786"
             ],
             [
              0.5555555555555556,
              "#d8576b"
             ],
             [
              0.6666666666666666,
              "#ed7953"
             ],
             [
              0.7777777777777778,
              "#fb9f3a"
             ],
             [
              0.8888888888888888,
              "#fdca26"
             ],
             [
              1,
              "#f0f921"
             ]
            ],
            "type": "surface"
           }
          ],
          "table": [
           {
            "cells": {
             "fill": {
              "color": "#EBF0F8"
             },
             "line": {
              "color": "white"
             }
            },
            "header": {
             "fill": {
              "color": "#C8D4E3"
             },
             "line": {
              "color": "white"
             }
            },
            "type": "table"
           }
          ]
         },
         "layout": {
          "annotationdefaults": {
           "arrowcolor": "#2a3f5f",
           "arrowhead": 0,
           "arrowwidth": 1
          },
          "autotypenumbers": "strict",
          "coloraxis": {
           "colorbar": {
            "outlinewidth": 0,
            "ticks": ""
           }
          },
          "colorscale": {
           "diverging": [
            [
             0,
             "#8e0152"
            ],
            [
             0.1,
             "#c51b7d"
            ],
            [
             0.2,
             "#de77ae"
            ],
            [
             0.3,
             "#f1b6da"
            ],
            [
             0.4,
             "#fde0ef"
            ],
            [
             0.5,
             "#f7f7f7"
            ],
            [
             0.6,
             "#e6f5d0"
            ],
            [
             0.7,
             "#b8e186"
            ],
            [
             0.8,
             "#7fbc41"
            ],
            [
             0.9,
             "#4d9221"
            ],
            [
             1,
             "#276419"
            ]
           ],
           "sequential": [
            [
             0,
             "#0d0887"
            ],
            [
             0.1111111111111111,
             "#46039f"
            ],
            [
             0.2222222222222222,
             "#7201a8"
            ],
            [
             0.3333333333333333,
             "#9c179e"
            ],
            [
             0.4444444444444444,
             "#bd3786"
            ],
            [
             0.5555555555555556,
             "#d8576b"
            ],
            [
             0.6666666666666666,
             "#ed7953"
            ],
            [
             0.7777777777777778,
             "#fb9f3a"
            ],
            [
             0.8888888888888888,
             "#fdca26"
            ],
            [
             1,
             "#f0f921"
            ]
           ],
           "sequentialminus": [
            [
             0,
             "#0d0887"
            ],
            [
             0.1111111111111111,
             "#46039f"
            ],
            [
             0.2222222222222222,
             "#7201a8"
            ],
            [
             0.3333333333333333,
             "#9c179e"
            ],
            [
             0.4444444444444444,
             "#bd3786"
            ],
            [
             0.5555555555555556,
             "#d8576b"
            ],
            [
             0.6666666666666666,
             "#ed7953"
            ],
            [
             0.7777777777777778,
             "#fb9f3a"
            ],
            [
             0.8888888888888888,
             "#fdca26"
            ],
            [
             1,
             "#f0f921"
            ]
           ]
          },
          "colorway": [
           "#636efa",
           "#EF553B",
           "#00cc96",
           "#ab63fa",
           "#FFA15A",
           "#19d3f3",
           "#FF6692",
           "#B6E880",
           "#FF97FF",
           "#FECB52"
          ],
          "font": {
           "color": "#2a3f5f"
          },
          "geo": {
           "bgcolor": "white",
           "lakecolor": "white",
           "landcolor": "#E5ECF6",
           "showlakes": true,
           "showland": true,
           "subunitcolor": "white"
          },
          "hoverlabel": {
           "align": "left"
          },
          "hovermode": "closest",
          "mapbox": {
           "style": "light"
          },
          "paper_bgcolor": "white",
          "plot_bgcolor": "#E5ECF6",
          "polar": {
           "angularaxis": {
            "gridcolor": "white",
            "linecolor": "white",
            "ticks": ""
           },
           "bgcolor": "#E5ECF6",
           "radialaxis": {
            "gridcolor": "white",
            "linecolor": "white",
            "ticks": ""
           }
          },
          "scene": {
           "xaxis": {
            "backgroundcolor": "#E5ECF6",
            "gridcolor": "white",
            "gridwidth": 2,
            "linecolor": "white",
            "showbackground": true,
            "ticks": "",
            "zerolinecolor": "white"
           },
           "yaxis": {
            "backgroundcolor": "#E5ECF6",
            "gridcolor": "white",
            "gridwidth": 2,
            "linecolor": "white",
            "showbackground": true,
            "ticks": "",
            "zerolinecolor": "white"
           },
           "zaxis": {
            "backgroundcolor": "#E5ECF6",
            "gridcolor": "white",
            "gridwidth": 2,
            "linecolor": "white",
            "showbackground": true,
            "ticks": "",
            "zerolinecolor": "white"
           }
          },
          "shapedefaults": {
           "line": {
            "color": "#2a3f5f"
           }
          },
          "ternary": {
           "aaxis": {
            "gridcolor": "white",
            "linecolor": "white",
            "ticks": ""
           },
           "baxis": {
            "gridcolor": "white",
            "linecolor": "white",
            "ticks": ""
           },
           "bgcolor": "#E5ECF6",
           "caxis": {
            "gridcolor": "white",
            "linecolor": "white",
            "ticks": ""
           }
          },
          "title": {
           "x": 0.05
          },
          "xaxis": {
           "automargin": true,
           "gridcolor": "white",
           "linecolor": "white",
           "ticks": "",
           "title": {
            "standoff": 15
           },
           "zerolinecolor": "white",
           "zerolinewidth": 2
          },
          "yaxis": {
           "automargin": true,
           "gridcolor": "white",
           "linecolor": "white",
           "ticks": "",
           "title": {
            "standoff": 15
           },
           "zerolinecolor": "white",
           "zerolinewidth": 2
          }
         }
        },
        "title": {
         "text": "요일 및 시간대별 승차 인원"
        },
        "xaxis": {
         "anchor": "y",
         "domain": [
          0,
          1
         ],
         "title": {
          "text": "시간대"
         }
        },
        "yaxis": {
         "anchor": "x",
         "domain": [
          0,
          1
         ],
         "title": {
          "text": "인원수"
         }
        }
       }
      }
     },
     "metadata": {},
     "output_type": "display_data"
    }
   ],
   "source": [
    "import pandas as pd\n",
    "import plotly.express as px\n",
    "\n",
    "# CSV 파일 읽기\n",
    "bus_data = pd.read_csv('C:\\\\Users\\\\USER\\\\Desktop\\\\2025신월동\\\\data-20250122T010720Z-001\\\\data\\\\sinwol_bus.csv')\n",
    "\n",
    "# 승차일시를 datetime 형식으로 변환\n",
    "bus_data['승차일시'] = pd.to_datetime(bus_data['승차일시'], format='%Y%m%d%H%M%S')\n",
    "\n",
    "# 요일 및 시간대 추가\n",
    "bus_data['승차요일'] = bus_data['승차일시'].dt.day_name()\n",
    "bus_data['승차시간대'] = bus_data['승차일시'].dt.floor('H').dt.strftime('%H:%M')  # 시간 단위로 내림 후 포맷\n",
    "\n",
    "# 승차 인원수 집계\n",
    "boarding_counts = bus_data.groupby(['승차요일', '승차시간대'])['승객수'].sum().reset_index(name='승차인원수')\n",
    "\n",
    "# 요일 순서 설정 (월화수목금토일)\n",
    "days_order = ['Monday', 'Tuesday', 'Wednesday', 'Thursday', 'Friday', 'Saturday', 'Sunday']\n",
    "boarding_counts['승차요일'] = pd.Categorical(boarding_counts['승차요일'], categories=days_order, ordered=True)\n",
    "\n",
    "# 요일 순서가 적용된 데이터프레임 정렬\n",
    "boarding_counts = boarding_counts.sort_values(['승차요일', '승차시간대'])\n",
    "\n",
    "# 시각화\n",
    "fig = px.line(boarding_counts, \n",
    "              x='승차시간대', \n",
    "              y='승차인원수', \n",
    "              color='승차요일', \n",
    "              title='요일 및 시간대별 승차 인원',\n",
    "              labels={'승차시간대': '시간대', '승차인원수': '인원수'},\n",
    "              markers=True)  # 마커 추가\n",
    "\n",
    "# 그래프 출력\n",
    "fig.update_layout(legend=dict(traceorder=\"normal\"))  # 범례 순서 월화수목금토일 적용\n",
    "fig.show()\n",
    "\n",
    "\n"
   ]
  },
  {
   "cell_type": "code",
   "execution_count": 40,
   "metadata": {},
   "outputs": [
    {
     "name": "stderr",
     "output_type": "stream",
     "text": [
      "c:\\ProgramData\\anaconda3\\Lib\\site-packages\\plotly\\express\\_core.py:1958: FutureWarning:\n",
      "\n",
      "The default of observed=False is deprecated and will be changed to True in a future version of pandas. Pass observed=False to retain current behavior or observed=True to adopt the future default and silence this warning.\n",
      "\n"
     ]
    },
    {
     "data": {
      "application/vnd.plotly.v1+json": {
       "config": {
        "plotlyServerURL": "https://plot.ly"
       },
       "data": [
        {
         "hovertemplate": "하차요일=Monday<br>시간대=%{x}<br>인원수=%{y}<extra></extra>",
         "legendgroup": "Monday",
         "line": {
          "color": "#636efa",
          "dash": "solid"
         },
         "marker": {
          "symbol": "circle"
         },
         "mode": "markers+lines",
         "name": "Monday",
         "orientation": "v",
         "showlegend": true,
         "type": "scatter",
         "x": [
          "00:00",
          "01:00",
          "02:00",
          "03:00",
          "04:00",
          "05:00",
          "06:00",
          "07:00",
          "08:00",
          "09:00",
          "10:00",
          "11:00",
          "12:00",
          "13:00",
          "14:00",
          "15:00",
          "16:00",
          "17:00",
          "18:00",
          "19:00",
          "20:00",
          "21:00",
          "22:00",
          "23:00"
         ],
         "xaxis": "x",
         "y": [
          306,
          42,
          18,
          17,
          256,
          942,
          1814,
          4254,
          6620,
          3858,
          2487,
          2259,
          2365,
          2486,
          2435,
          3058,
          3804,
          3681,
          4778,
          4168,
          2705,
          2222,
          2095,
          1103
         ],
         "yaxis": "y"
        },
        {
         "hovertemplate": "하차요일=Tuesday<br>시간대=%{x}<br>인원수=%{y}<extra></extra>",
         "legendgroup": "Tuesday",
         "line": {
          "color": "#EF553B",
          "dash": "solid"
         },
         "marker": {
          "symbol": "circle"
         },
         "mode": "markers+lines",
         "name": "Tuesday",
         "orientation": "v",
         "showlegend": true,
         "type": "scatter",
         "x": [
          "00:00",
          "01:00",
          "02:00",
          "03:00",
          "04:00",
          "05:00",
          "06:00",
          "07:00",
          "08:00",
          "09:00",
          "10:00",
          "11:00",
          "12:00",
          "13:00",
          "14:00",
          "15:00",
          "16:00",
          "17:00",
          "18:00",
          "19:00",
          "20:00",
          "21:00",
          "22:00",
          "23:00"
         ],
         "xaxis": "x",
         "y": [
          445,
          51,
          44,
          15,
          297,
          901,
          1913,
          4414,
          6739,
          3923,
          2578,
          2260,
          2453,
          2586,
          2464,
          2791,
          4073,
          3772,
          4576,
          4238,
          2614,
          2478,
          2379,
          1275
         ],
         "yaxis": "y"
        },
        {
         "hovertemplate": "하차요일=Wednesday<br>시간대=%{x}<br>인원수=%{y}<extra></extra>",
         "legendgroup": "Wednesday",
         "line": {
          "color": "#00cc96",
          "dash": "solid"
         },
         "marker": {
          "symbol": "circle"
         },
         "mode": "markers+lines",
         "name": "Wednesday",
         "orientation": "v",
         "showlegend": true,
         "type": "scatter",
         "x": [
          "00:00",
          "01:00",
          "02:00",
          "03:00",
          "04:00",
          "05:00",
          "06:00",
          "07:00",
          "08:00",
          "09:00",
          "10:00",
          "11:00",
          "12:00",
          "13:00",
          "14:00",
          "15:00",
          "16:00",
          "17:00",
          "18:00",
          "19:00",
          "20:00",
          "21:00",
          "22:00",
          "23:00"
         ],
         "xaxis": "x",
         "y": [
          500,
          75,
          24,
          28,
          300,
          938,
          1831,
          4233,
          6485,
          4031,
          2507,
          2201,
          2493,
          2638,
          2564,
          3909,
          3473,
          3763,
          4659,
          4043,
          2738,
          2430,
          2306,
          1256
         ],
         "yaxis": "y"
        },
        {
         "hovertemplate": "하차요일=Thursday<br>시간대=%{x}<br>인원수=%{y}<extra></extra>",
         "legendgroup": "Thursday",
         "line": {
          "color": "#ab63fa",
          "dash": "solid"
         },
         "marker": {
          "symbol": "circle"
         },
         "mode": "markers+lines",
         "name": "Thursday",
         "orientation": "v",
         "showlegend": true,
         "type": "scatter",
         "x": [
          "00:00",
          "01:00",
          "02:00",
          "03:00",
          "04:00",
          "05:00",
          "06:00",
          "07:00",
          "08:00",
          "09:00",
          "10:00",
          "11:00",
          "12:00",
          "13:00",
          "14:00",
          "15:00",
          "16:00",
          "17:00",
          "18:00",
          "19:00",
          "20:00",
          "21:00",
          "22:00",
          "23:00"
         ],
         "xaxis": "x",
         "y": [
          500,
          57,
          34,
          27,
          272,
          870,
          1981,
          4287,
          6663,
          3974,
          2512,
          2187,
          2376,
          2498,
          2391,
          2714,
          4015,
          3773,
          4687,
          4281,
          2810,
          2506,
          2405,
          1336
         ],
         "yaxis": "y"
        },
        {
         "hovertemplate": "하차요일=Friday<br>시간대=%{x}<br>인원수=%{y}<extra></extra>",
         "legendgroup": "Friday",
         "line": {
          "color": "#FFA15A",
          "dash": "solid"
         },
         "marker": {
          "symbol": "circle"
         },
         "mode": "markers+lines",
         "name": "Friday",
         "orientation": "v",
         "showlegend": true,
         "type": "scatter",
         "x": [
          "00:00",
          "01:00",
          "02:00",
          "03:00",
          "04:00",
          "05:00",
          "06:00",
          "07:00",
          "08:00",
          "09:00",
          "10:00",
          "11:00",
          "12:00",
          "13:00",
          "14:00",
          "15:00",
          "16:00",
          "17:00",
          "18:00",
          "19:00",
          "20:00",
          "21:00",
          "22:00",
          "23:00"
         ],
         "xaxis": "x",
         "y": [
          616,
          65,
          32,
          19,
          270,
          937,
          1836,
          4169,
          6470,
          3840,
          2556,
          2295,
          2396,
          2678,
          2530,
          3351,
          3710,
          4079,
          4773,
          4195,
          2862,
          2543,
          2548,
          1601
         ],
         "yaxis": "y"
        },
        {
         "hovertemplate": "하차요일=Saturday<br>시간대=%{x}<br>인원수=%{y}<extra></extra>",
         "legendgroup": "Saturday",
         "line": {
          "color": "#19d3f3",
          "dash": "solid"
         },
         "marker": {
          "symbol": "circle"
         },
         "mode": "markers+lines",
         "name": "Saturday",
         "orientation": "v",
         "showlegend": true,
         "type": "scatter",
         "x": [
          "00:00",
          "01:00",
          "02:00",
          "03:00",
          "04:00",
          "05:00",
          "06:00",
          "07:00",
          "08:00",
          "09:00",
          "10:00",
          "11:00",
          "12:00",
          "13:00",
          "14:00",
          "15:00",
          "16:00",
          "17:00",
          "18:00",
          "19:00",
          "20:00",
          "21:00",
          "22:00",
          "23:00"
         ],
         "xaxis": "x",
         "y": [
          697,
          104,
          53,
          21,
          172,
          720,
          1204,
          1348,
          2517,
          2739,
          2628,
          2783,
          2905,
          3106,
          2902,
          2726,
          3129,
          3313,
          2975,
          2472,
          2185,
          2211,
          1988,
          1298
         ],
         "yaxis": "y"
        },
        {
         "hovertemplate": "하차요일=Sunday<br>시간대=%{x}<br>인원수=%{y}<extra></extra>",
         "legendgroup": "Sunday",
         "line": {
          "color": "#FF6692",
          "dash": "solid"
         },
         "marker": {
          "symbol": "circle"
         },
         "mode": "markers+lines",
         "name": "Sunday",
         "orientation": "v",
         "showlegend": true,
         "type": "scatter",
         "x": [
          "00:00",
          "01:00",
          "02:00",
          "03:00",
          "04:00",
          "05:00",
          "06:00",
          "07:00",
          "08:00",
          "09:00",
          "10:00",
          "11:00",
          "12:00",
          "13:00",
          "14:00",
          "15:00",
          "16:00",
          "17:00",
          "18:00",
          "19:00",
          "20:00",
          "21:00",
          "22:00",
          "23:00"
         ],
         "xaxis": "x",
         "y": [
          574,
          100,
          32,
          39,
          82,
          394,
          828,
          853,
          1449,
          1931,
          2198,
          2080,
          2197,
          2528,
          2396,
          2487,
          2320,
          2399,
          2436,
          2008,
          1811,
          1764,
          1492,
          858
         ],
         "yaxis": "y"
        }
       ],
       "layout": {
        "legend": {
         "title": {
          "text": "하차요일"
         },
         "tracegroupgap": 0
        },
        "template": {
         "data": {
          "bar": [
           {
            "error_x": {
             "color": "#2a3f5f"
            },
            "error_y": {
             "color": "#2a3f5f"
            },
            "marker": {
             "line": {
              "color": "#E5ECF6",
              "width": 0.5
             },
             "pattern": {
              "fillmode": "overlay",
              "size": 10,
              "solidity": 0.2
             }
            },
            "type": "bar"
           }
          ],
          "barpolar": [
           {
            "marker": {
             "line": {
              "color": "#E5ECF6",
              "width": 0.5
             },
             "pattern": {
              "fillmode": "overlay",
              "size": 10,
              "solidity": 0.2
             }
            },
            "type": "barpolar"
           }
          ],
          "carpet": [
           {
            "aaxis": {
             "endlinecolor": "#2a3f5f",
             "gridcolor": "white",
             "linecolor": "white",
             "minorgridcolor": "white",
             "startlinecolor": "#2a3f5f"
            },
            "baxis": {
             "endlinecolor": "#2a3f5f",
             "gridcolor": "white",
             "linecolor": "white",
             "minorgridcolor": "white",
             "startlinecolor": "#2a3f5f"
            },
            "type": "carpet"
           }
          ],
          "choropleth": [
           {
            "colorbar": {
             "outlinewidth": 0,
             "ticks": ""
            },
            "type": "choropleth"
           }
          ],
          "contour": [
           {
            "colorbar": {
             "outlinewidth": 0,
             "ticks": ""
            },
            "colorscale": [
             [
              0,
              "#0d0887"
             ],
             [
              0.1111111111111111,
              "#46039f"
             ],
             [
              0.2222222222222222,
              "#7201a8"
             ],
             [
              0.3333333333333333,
              "#9c179e"
             ],
             [
              0.4444444444444444,
              "#bd3786"
             ],
             [
              0.5555555555555556,
              "#d8576b"
             ],
             [
              0.6666666666666666,
              "#ed7953"
             ],
             [
              0.7777777777777778,
              "#fb9f3a"
             ],
             [
              0.8888888888888888,
              "#fdca26"
             ],
             [
              1,
              "#f0f921"
             ]
            ],
            "type": "contour"
           }
          ],
          "contourcarpet": [
           {
            "colorbar": {
             "outlinewidth": 0,
             "ticks": ""
            },
            "type": "contourcarpet"
           }
          ],
          "heatmap": [
           {
            "colorbar": {
             "outlinewidth": 0,
             "ticks": ""
            },
            "colorscale": [
             [
              0,
              "#0d0887"
             ],
             [
              0.1111111111111111,
              "#46039f"
             ],
             [
              0.2222222222222222,
              "#7201a8"
             ],
             [
              0.3333333333333333,
              "#9c179e"
             ],
             [
              0.4444444444444444,
              "#bd3786"
             ],
             [
              0.5555555555555556,
              "#d8576b"
             ],
             [
              0.6666666666666666,
              "#ed7953"
             ],
             [
              0.7777777777777778,
              "#fb9f3a"
             ],
             [
              0.8888888888888888,
              "#fdca26"
             ],
             [
              1,
              "#f0f921"
             ]
            ],
            "type": "heatmap"
           }
          ],
          "heatmapgl": [
           {
            "colorbar": {
             "outlinewidth": 0,
             "ticks": ""
            },
            "colorscale": [
             [
              0,
              "#0d0887"
             ],
             [
              0.1111111111111111,
              "#46039f"
             ],
             [
              0.2222222222222222,
              "#7201a8"
             ],
             [
              0.3333333333333333,
              "#9c179e"
             ],
             [
              0.4444444444444444,
              "#bd3786"
             ],
             [
              0.5555555555555556,
              "#d8576b"
             ],
             [
              0.6666666666666666,
              "#ed7953"
             ],
             [
              0.7777777777777778,
              "#fb9f3a"
             ],
             [
              0.8888888888888888,
              "#fdca26"
             ],
             [
              1,
              "#f0f921"
             ]
            ],
            "type": "heatmapgl"
           }
          ],
          "histogram": [
           {
            "marker": {
             "pattern": {
              "fillmode": "overlay",
              "size": 10,
              "solidity": 0.2
             }
            },
            "type": "histogram"
           }
          ],
          "histogram2d": [
           {
            "colorbar": {
             "outlinewidth": 0,
             "ticks": ""
            },
            "colorscale": [
             [
              0,
              "#0d0887"
             ],
             [
              0.1111111111111111,
              "#46039f"
             ],
             [
              0.2222222222222222,
              "#7201a8"
             ],
             [
              0.3333333333333333,
              "#9c179e"
             ],
             [
              0.4444444444444444,
              "#bd3786"
             ],
             [
              0.5555555555555556,
              "#d8576b"
             ],
             [
              0.6666666666666666,
              "#ed7953"
             ],
             [
              0.7777777777777778,
              "#fb9f3a"
             ],
             [
              0.8888888888888888,
              "#fdca26"
             ],
             [
              1,
              "#f0f921"
             ]
            ],
            "type": "histogram2d"
           }
          ],
          "histogram2dcontour": [
           {
            "colorbar": {
             "outlinewidth": 0,
             "ticks": ""
            },
            "colorscale": [
             [
              0,
              "#0d0887"
             ],
             [
              0.1111111111111111,
              "#46039f"
             ],
             [
              0.2222222222222222,
              "#7201a8"
             ],
             [
              0.3333333333333333,
              "#9c179e"
             ],
             [
              0.4444444444444444,
              "#bd3786"
             ],
             [
              0.5555555555555556,
              "#d8576b"
             ],
             [
              0.6666666666666666,
              "#ed7953"
             ],
             [
              0.7777777777777778,
              "#fb9f3a"
             ],
             [
              0.8888888888888888,
              "#fdca26"
             ],
             [
              1,
              "#f0f921"
             ]
            ],
            "type": "histogram2dcontour"
           }
          ],
          "mesh3d": [
           {
            "colorbar": {
             "outlinewidth": 0,
             "ticks": ""
            },
            "type": "mesh3d"
           }
          ],
          "parcoords": [
           {
            "line": {
             "colorbar": {
              "outlinewidth": 0,
              "ticks": ""
             }
            },
            "type": "parcoords"
           }
          ],
          "pie": [
           {
            "automargin": true,
            "type": "pie"
           }
          ],
          "scatter": [
           {
            "fillpattern": {
             "fillmode": "overlay",
             "size": 10,
             "solidity": 0.2
            },
            "type": "scatter"
           }
          ],
          "scatter3d": [
           {
            "line": {
             "colorbar": {
              "outlinewidth": 0,
              "ticks": ""
             }
            },
            "marker": {
             "colorbar": {
              "outlinewidth": 0,
              "ticks": ""
             }
            },
            "type": "scatter3d"
           }
          ],
          "scattercarpet": [
           {
            "marker": {
             "colorbar": {
              "outlinewidth": 0,
              "ticks": ""
             }
            },
            "type": "scattercarpet"
           }
          ],
          "scattergeo": [
           {
            "marker": {
             "colorbar": {
              "outlinewidth": 0,
              "ticks": ""
             }
            },
            "type": "scattergeo"
           }
          ],
          "scattergl": [
           {
            "marker": {
             "colorbar": {
              "outlinewidth": 0,
              "ticks": ""
             }
            },
            "type": "scattergl"
           }
          ],
          "scattermapbox": [
           {
            "marker": {
             "colorbar": {
              "outlinewidth": 0,
              "ticks": ""
             }
            },
            "type": "scattermapbox"
           }
          ],
          "scatterpolar": [
           {
            "marker": {
             "colorbar": {
              "outlinewidth": 0,
              "ticks": ""
             }
            },
            "type": "scatterpolar"
           }
          ],
          "scatterpolargl": [
           {
            "marker": {
             "colorbar": {
              "outlinewidth": 0,
              "ticks": ""
             }
            },
            "type": "scatterpolargl"
           }
          ],
          "scatterternary": [
           {
            "marker": {
             "colorbar": {
              "outlinewidth": 0,
              "ticks": ""
             }
            },
            "type": "scatterternary"
           }
          ],
          "surface": [
           {
            "colorbar": {
             "outlinewidth": 0,
             "ticks": ""
            },
            "colorscale": [
             [
              0,
              "#0d0887"
             ],
             [
              0.1111111111111111,
              "#46039f"
             ],
             [
              0.2222222222222222,
              "#7201a8"
             ],
             [
              0.3333333333333333,
              "#9c179e"
             ],
             [
              0.4444444444444444,
              "#bd3786"
             ],
             [
              0.5555555555555556,
              "#d8576b"
             ],
             [
              0.6666666666666666,
              "#ed7953"
             ],
             [
              0.7777777777777778,
              "#fb9f3a"
             ],
             [
              0.8888888888888888,
              "#fdca26"
             ],
             [
              1,
              "#f0f921"
             ]
            ],
            "type": "surface"
           }
          ],
          "table": [
           {
            "cells": {
             "fill": {
              "color": "#EBF0F8"
             },
             "line": {
              "color": "white"
             }
            },
            "header": {
             "fill": {
              "color": "#C8D4E3"
             },
             "line": {
              "color": "white"
             }
            },
            "type": "table"
           }
          ]
         },
         "layout": {
          "annotationdefaults": {
           "arrowcolor": "#2a3f5f",
           "arrowhead": 0,
           "arrowwidth": 1
          },
          "autotypenumbers": "strict",
          "coloraxis": {
           "colorbar": {
            "outlinewidth": 0,
            "ticks": ""
           }
          },
          "colorscale": {
           "diverging": [
            [
             0,
             "#8e0152"
            ],
            [
             0.1,
             "#c51b7d"
            ],
            [
             0.2,
             "#de77ae"
            ],
            [
             0.3,
             "#f1b6da"
            ],
            [
             0.4,
             "#fde0ef"
            ],
            [
             0.5,
             "#f7f7f7"
            ],
            [
             0.6,
             "#e6f5d0"
            ],
            [
             0.7,
             "#b8e186"
            ],
            [
             0.8,
             "#7fbc41"
            ],
            [
             0.9,
             "#4d9221"
            ],
            [
             1,
             "#276419"
            ]
           ],
           "sequential": [
            [
             0,
             "#0d0887"
            ],
            [
             0.1111111111111111,
             "#46039f"
            ],
            [
             0.2222222222222222,
             "#7201a8"
            ],
            [
             0.3333333333333333,
             "#9c179e"
            ],
            [
             0.4444444444444444,
             "#bd3786"
            ],
            [
             0.5555555555555556,
             "#d8576b"
            ],
            [
             0.6666666666666666,
             "#ed7953"
            ],
            [
             0.7777777777777778,
             "#fb9f3a"
            ],
            [
             0.8888888888888888,
             "#fdca26"
            ],
            [
             1,
             "#f0f921"
            ]
           ],
           "sequentialminus": [
            [
             0,
             "#0d0887"
            ],
            [
             0.1111111111111111,
             "#46039f"
            ],
            [
             0.2222222222222222,
             "#7201a8"
            ],
            [
             0.3333333333333333,
             "#9c179e"
            ],
            [
             0.4444444444444444,
             "#bd3786"
            ],
            [
             0.5555555555555556,
             "#d8576b"
            ],
            [
             0.6666666666666666,
             "#ed7953"
            ],
            [
             0.7777777777777778,
             "#fb9f3a"
            ],
            [
             0.8888888888888888,
             "#fdca26"
            ],
            [
             1,
             "#f0f921"
            ]
           ]
          },
          "colorway": [
           "#636efa",
           "#EF553B",
           "#00cc96",
           "#ab63fa",
           "#FFA15A",
           "#19d3f3",
           "#FF6692",
           "#B6E880",
           "#FF97FF",
           "#FECB52"
          ],
          "font": {
           "color": "#2a3f5f"
          },
          "geo": {
           "bgcolor": "white",
           "lakecolor": "white",
           "landcolor": "#E5ECF6",
           "showlakes": true,
           "showland": true,
           "subunitcolor": "white"
          },
          "hoverlabel": {
           "align": "left"
          },
          "hovermode": "closest",
          "mapbox": {
           "style": "light"
          },
          "paper_bgcolor": "white",
          "plot_bgcolor": "#E5ECF6",
          "polar": {
           "angularaxis": {
            "gridcolor": "white",
            "linecolor": "white",
            "ticks": ""
           },
           "bgcolor": "#E5ECF6",
           "radialaxis": {
            "gridcolor": "white",
            "linecolor": "white",
            "ticks": ""
           }
          },
          "scene": {
           "xaxis": {
            "backgroundcolor": "#E5ECF6",
            "gridcolor": "white",
            "gridwidth": 2,
            "linecolor": "white",
            "showbackground": true,
            "ticks": "",
            "zerolinecolor": "white"
           },
           "yaxis": {
            "backgroundcolor": "#E5ECF6",
            "gridcolor": "white",
            "gridwidth": 2,
            "linecolor": "white",
            "showbackground": true,
            "ticks": "",
            "zerolinecolor": "white"
           },
           "zaxis": {
            "backgroundcolor": "#E5ECF6",
            "gridcolor": "white",
            "gridwidth": 2,
            "linecolor": "white",
            "showbackground": true,
            "ticks": "",
            "zerolinecolor": "white"
           }
          },
          "shapedefaults": {
           "line": {
            "color": "#2a3f5f"
           }
          },
          "ternary": {
           "aaxis": {
            "gridcolor": "white",
            "linecolor": "white",
            "ticks": ""
           },
           "baxis": {
            "gridcolor": "white",
            "linecolor": "white",
            "ticks": ""
           },
           "bgcolor": "#E5ECF6",
           "caxis": {
            "gridcolor": "white",
            "linecolor": "white",
            "ticks": ""
           }
          },
          "title": {
           "x": 0.05
          },
          "xaxis": {
           "automargin": true,
           "gridcolor": "white",
           "linecolor": "white",
           "ticks": "",
           "title": {
            "standoff": 15
           },
           "zerolinecolor": "white",
           "zerolinewidth": 2
          },
          "yaxis": {
           "automargin": true,
           "gridcolor": "white",
           "linecolor": "white",
           "ticks": "",
           "title": {
            "standoff": 15
           },
           "zerolinecolor": "white",
           "zerolinewidth": 2
          }
         }
        },
        "title": {
         "text": "요일 및 시간대별 하차 인원"
        },
        "xaxis": {
         "anchor": "y",
         "domain": [
          0,
          1
         ],
         "title": {
          "text": "시간대"
         }
        },
        "yaxis": {
         "anchor": "x",
         "domain": [
          0,
          1
         ],
         "title": {
          "text": "인원수"
         }
        }
       }
      }
     },
     "metadata": {},
     "output_type": "display_data"
    }
   ],
   "source": [
    "import pandas as pd\n",
    "import plotly.express as px\n",
    "\n",
    "# CSV 파일 읽기\n",
    "bus_data = pd.read_csv('C:\\\\Users\\\\USER\\\\Desktop\\\\2025신월동\\\\data-20250122T010720Z-001\\\\data\\\\sinwol_bus.csv')\n",
    "\n",
    "# 하차일시를 datetime 형식으로 변환\n",
    "bus_data['하차일시'] = pd.to_datetime(bus_data['하차일시'], format='%Y%m%d%H%M%S')\n",
    "\n",
    "# 요일 및 시간대 추가\n",
    "bus_data['하차요일'] = bus_data['하차일시'].dt.day_name()\n",
    "bus_data['하차시간대'] = bus_data['하차일시'].dt.floor('H').dt.strftime('%H:%M')  # 시간 단위로 내림 후 포맷\n",
    "\n",
    "# 하차 인원수 집계\n",
    "alighting_counts = bus_data.groupby(['하차요일', '하차시간대'])['승객수'].sum().reset_index(name='하차인원수')\n",
    "\n",
    "# 요일 순서 설정 (월화수목금토일)\n",
    "days_order = ['Monday', 'Tuesday', 'Wednesday', 'Thursday', 'Friday', 'Saturday', 'Sunday']\n",
    "alighting_counts['하차요일'] = pd.Categorical(alighting_counts['하차요일'], categories=days_order, ordered=True)\n",
    "\n",
    "# 시각화\n",
    "fig = px.line(\n",
    "    alighting_counts.sort_values(by=['하차요일', '하차시간대']),  # 요일 및 시간대 순서 정렬\n",
    "    x='하차시간대',\n",
    "    y='하차인원수',\n",
    "    color='하차요일',\n",
    "    title='요일 및 시간대별 하차 인원',\n",
    "    labels={'하차시간대': '시간대', '하차인원수': '인원수'},\n",
    "    markers=True  # 마커 추가\n",
    ")\n",
    "\n",
    "# 범례 순서 설정\n",
    "fig.for_each_trace(lambda t: t.update(name=t.name.split(' ')[0]))  # 요일 이름에서 공백 제거\n",
    "\n",
    "fig.show()\n",
    "\n",
    "\n"
   ]
  },
  {
   "cell_type": "code",
   "execution_count": 42,
   "metadata": {},
   "outputs": [
    {
     "data": {
      "application/vnd.plotly.v1+json": {
       "config": {
        "plotlyServerURL": "https://plot.ly"
       },
       "data": [
        {
         "hovertemplate": "<b>%{hovertext}</b><br><br>버스노선명=100번(하계동~용산구청)<br>일평균 승차 인원=%{x}<br>일평균 하차 인원=%{y}<extra></extra>",
         "hovertext": [
          "100번(하계동~용산구청)"
         ],
         "legendgroup": "100번(하계동~용산구청)",
         "marker": {
          "color": "#636efa",
          "symbol": "circle"
         },
         "mode": "markers",
         "name": "100번(하계동~용산구청)",
         "orientation": "v",
         "showlegend": true,
         "type": "scatter",
         "x": [
          302
         ],
         "xaxis": "x",
         "y": [
          291
         ],
         "yaxis": "y"
        },
        {
         "hovertemplate": "<b>%{hovertext}</b><br><br>버스노선명=101번(화계사~동대문)<br>일평균 승차 인원=%{x}<br>일평균 하차 인원=%{y}<extra></extra>",
         "hovertext": [
          "101번(화계사~동대문)"
         ],
         "legendgroup": "101번(화계사~동대문)",
         "marker": {
          "color": "#EF553B",
          "symbol": "circle"
         },
         "mode": "markers",
         "name": "101번(화계사~동대문)",
         "orientation": "v",
         "showlegend": true,
         "type": "scatter",
         "x": [
          412
         ],
         "xaxis": "x",
         "y": [
          468
         ],
         "yaxis": "y"
        },
        {
         "hovertemplate": "<b>%{hovertext}</b><br><br>버스노선명=102번(상계동~동대문)<br>일평균 승차 인원=%{x}<br>일평균 하차 인원=%{y}<extra></extra>",
         "hovertext": [
          "102번(상계동~동대문)"
         ],
         "legendgroup": "102번(상계동~동대문)",
         "marker": {
          "color": "#00cc96",
          "symbol": "circle"
         },
         "mode": "markers",
         "name": "102번(상계동~동대문)",
         "orientation": "v",
         "showlegend": true,
         "type": "scatter",
         "x": [
          140
         ],
         "xaxis": "x",
         "y": [
          82
         ],
         "yaxis": "y"
        },
        {
         "hovertemplate": "<b>%{hovertext}</b><br><br>버스노선명=104번(강북청소년수련관난나~숭례문)<br>일평균 승차 인원=%{x}<br>일평균 하차 인원=%{y}<extra></extra>",
         "hovertext": [
          "104번(강북청소년수련관난나~숭례문)"
         ],
         "legendgroup": "104번(강북청소년수련관난나~숭례문)",
         "marker": {
          "color": "#ab63fa",
          "symbol": "circle"
         },
         "mode": "markers",
         "name": "104번(강북청소년수련관난나~숭례문)",
         "orientation": "v",
         "showlegend": true,
         "type": "scatter",
         "x": [
          190
         ],
         "xaxis": "x",
         "y": [
          85
         ],
         "yaxis": "y"
        },
        {
         "hovertemplate": "<b>%{hovertext}</b><br><br>버스노선명=105번(상계동~서울역)<br>일평균 승차 인원=%{x}<br>일평균 하차 인원=%{y}<extra></extra>",
         "hovertext": [
          "105번(상계동~서울역)"
         ],
         "legendgroup": "105번(상계동~서울역)",
         "marker": {
          "color": "#FFA15A",
          "symbol": "circle"
         },
         "mode": "markers",
         "name": "105번(상계동~서울역)",
         "orientation": "v",
         "showlegend": true,
         "type": "scatter",
         "x": [
          194
         ],
         "xaxis": "x",
         "y": [
          92
         ],
         "yaxis": "y"
        },
        {
         "hovertemplate": "<b>%{hovertext}</b><br><br>버스노선명=106번(의정부~동대문)<br>일평균 승차 인원=%{x}<br>일평균 하차 인원=%{y}<extra></extra>",
         "hovertext": [
          "106번(의정부~동대문)"
         ],
         "legendgroup": "106번(의정부~동대문)",
         "marker": {
          "color": "#19d3f3",
          "symbol": "circle"
         },
         "mode": "markers",
         "name": "106번(의정부~동대문)",
         "orientation": "v",
         "showlegend": true,
         "type": "scatter",
         "x": [
          78
         ],
         "xaxis": "x",
         "y": [
          67
         ],
         "yaxis": "y"
        },
        {
         "hovertemplate": "<b>%{hovertext}</b><br><br>버스노선명=110번(A,고려대방향,정릉~정릉)<br>일평균 승차 인원=%{x}<br>일평균 하차 인원=%{y}<extra></extra>",
         "hovertext": [
          "110번(A,고려대방향,정릉~정릉)"
         ],
         "legendgroup": "110번(A,고려대방향,정릉~정릉)",
         "marker": {
          "color": "#FF6692",
          "symbol": "circle"
         },
         "mode": "markers",
         "name": "110번(A,고려대방향,정릉~정릉)",
         "orientation": "v",
         "showlegend": true,
         "type": "scatter",
         "x": [
          161
         ],
         "xaxis": "x",
         "y": [
          251
         ],
         "yaxis": "y"
        },
        {
         "hovertemplate": "<b>%{hovertext}</b><br><br>버스노선명=130번(우이동~길동)<br>일평균 승차 인원=%{x}<br>일평균 하차 인원=%{y}<extra></extra>",
         "hovertext": [
          "130번(우이동~길동)"
         ],
         "legendgroup": "130번(우이동~길동)",
         "marker": {
          "color": "#B6E880",
          "symbol": "circle"
         },
         "mode": "markers",
         "name": "130번(우이동~길동)",
         "orientation": "v",
         "showlegend": true,
         "type": "scatter",
         "x": [
          45
         ],
         "xaxis": "x",
         "y": [
          36
         ],
         "yaxis": "y"
        },
        {
         "hovertemplate": "<b>%{hovertext}</b><br><br>버스노선명=140번(도봉산역~AT센터)<br>일평균 승차 인원=%{x}<br>일평균 하차 인원=%{y}<extra></extra>",
         "hovertext": [
          "140번(도봉산역~AT센터)"
         ],
         "legendgroup": "140번(도봉산역~AT센터)",
         "marker": {
          "color": "#FF97FF",
          "symbol": "circle"
         },
         "mode": "markers",
         "name": "140번(도봉산역~AT센터)",
         "orientation": "v",
         "showlegend": true,
         "type": "scatter",
         "x": [
          275
         ],
         "xaxis": "x",
         "y": [
          285
         ],
         "yaxis": "y"
        },
        {
         "hovertemplate": "<b>%{hovertext}</b><br><br>버스노선명=141번(도봉산~염곡동)<br>일평균 승차 인원=%{x}<br>일평균 하차 인원=%{y}<extra></extra>",
         "hovertext": [
          "141번(도봉산~염곡동)"
         ],
         "legendgroup": "141번(도봉산~염곡동)",
         "marker": {
          "color": "#FECB52",
          "symbol": "circle"
         },
         "mode": "markers",
         "name": "141번(도봉산~염곡동)",
         "orientation": "v",
         "showlegend": true,
         "type": "scatter",
         "x": [
          53
         ],
         "xaxis": "x",
         "y": [
          78
         ],
         "yaxis": "y"
        },
        {
         "hovertemplate": "<b>%{hovertext}</b><br><br>버스노선명=142번(도봉동~고속터미널)<br>일평균 승차 인원=%{x}<br>일평균 하차 인원=%{y}<extra></extra>",
         "hovertext": [
          "142번(도봉동~고속터미널)"
         ],
         "legendgroup": "142번(도봉동~고속터미널)",
         "marker": {
          "color": "#636efa",
          "symbol": "circle"
         },
         "mode": "markers",
         "name": "142번(도봉동~고속터미널)",
         "orientation": "v",
         "showlegend": true,
         "type": "scatter",
         "x": [
          491
         ],
         "xaxis": "x",
         "y": [
          482
         ],
         "yaxis": "y"
        },
        {
         "hovertemplate": "<b>%{hovertext}</b><br><br>버스노선명=143번(정릉~개포동)<br>일평균 승차 인원=%{x}<br>일평균 하차 인원=%{y}<extra></extra>",
         "hovertext": [
          "143번(정릉~개포동)"
         ],
         "legendgroup": "143번(정릉~개포동)",
         "marker": {
          "color": "#EF553B",
          "symbol": "circle"
         },
         "mode": "markers",
         "name": "143번(정릉~개포동)",
         "orientation": "v",
         "showlegend": true,
         "type": "scatter",
         "x": [
          519
         ],
         "xaxis": "x",
         "y": [
          433
         ],
         "yaxis": "y"
        },
        {
         "hovertemplate": "<b>%{hovertext}</b><br><br>버스노선명=144번(우이동~교대)<br>일평균 승차 인원=%{x}<br>일평균 하차 인원=%{y}<extra></extra>",
         "hovertext": [
          "144번(우이동~교대)"
         ],
         "legendgroup": "144번(우이동~교대)",
         "marker": {
          "color": "#00cc96",
          "symbol": "circle"
         },
         "mode": "markers",
         "name": "144번(우이동~교대)",
         "orientation": "v",
         "showlegend": true,
         "type": "scatter",
         "x": [
          192
         ],
         "xaxis": "x",
         "y": [
          190
         ],
         "yaxis": "y"
        },
        {
         "hovertemplate": "<b>%{hovertext}</b><br><br>버스노선명=145번(번동~강남역)<br>일평균 승차 인원=%{x}<br>일평균 하차 인원=%{y}<extra></extra>",
         "hovertext": [
          "145번(번동~강남역)"
         ],
         "legendgroup": "145번(번동~강남역)",
         "marker": {
          "color": "#ab63fa",
          "symbol": "circle"
         },
         "mode": "markers",
         "name": "145번(번동~강남역)",
         "orientation": "v",
         "showlegend": true,
         "type": "scatter",
         "x": [
          103
         ],
         "xaxis": "x",
         "y": [
          160
         ],
         "yaxis": "y"
        },
        {
         "hovertemplate": "<b>%{hovertext}</b><br><br>버스노선명=146번(상계주공7단지~강남역)<br>일평균 승차 인원=%{x}<br>일평균 하차 인원=%{y}<extra></extra>",
         "hovertext": [
          "146번(상계주공7단지~강남역)"
         ],
         "legendgroup": "146번(상계주공7단지~강남역)",
         "marker": {
          "color": "#FFA15A",
          "symbol": "circle"
         },
         "mode": "markers",
         "name": "146번(상계주공7단지~강남역)",
         "orientation": "v",
         "showlegend": true,
         "type": "scatter",
         "x": [
          286
         ],
         "xaxis": "x",
         "y": [
          268
         ],
         "yaxis": "y"
        },
        {
         "hovertemplate": "<b>%{hovertext}</b><br><br>버스노선명=147번(월계동~도곡동)<br>일평균 승차 인원=%{x}<br>일평균 하차 인원=%{y}<extra></extra>",
         "hovertext": [
          "147번(월계동~도곡동)"
         ],
         "legendgroup": "147번(월계동~도곡동)",
         "marker": {
          "color": "#19d3f3",
          "symbol": "circle"
         },
         "mode": "markers",
         "name": "147번(월계동~도곡동)",
         "orientation": "v",
         "showlegend": true,
         "type": "scatter",
         "x": [
          88
         ],
         "xaxis": "x",
         "y": [
          84
         ],
         "yaxis": "y"
        },
        {
         "hovertemplate": "<b>%{hovertext}</b><br><br>버스노선명=150번(도봉산~석수역)<br>일평균 승차 인원=%{x}<br>일평균 하차 인원=%{y}<extra></extra>",
         "hovertext": [
          "150번(도봉산~석수역)"
         ],
         "legendgroup": "150번(도봉산~석수역)",
         "marker": {
          "color": "#FF6692",
          "symbol": "circle"
         },
         "mode": "markers",
         "name": "150번(도봉산~석수역)",
         "orientation": "v",
         "showlegend": true,
         "type": "scatter",
         "x": [
          798
         ],
         "xaxis": "x",
         "y": [
          780
         ],
         "yaxis": "y"
        },
        {
         "hovertemplate": "<b>%{hovertext}</b><br><br>버스노선명=151번(우이동~중앙대)<br>일평균 승차 인원=%{x}<br>일평균 하차 인원=%{y}<extra></extra>",
         "hovertext": [
          "151번(우이동~중앙대)"
         ],
         "legendgroup": "151번(우이동~중앙대)",
         "marker": {
          "color": "#B6E880",
          "symbol": "circle"
         },
         "mode": "markers",
         "name": "151번(우이동~중앙대)",
         "orientation": "v",
         "showlegend": true,
         "type": "scatter",
         "x": [
          272
         ],
         "xaxis": "x",
         "y": [
          262
         ],
         "yaxis": "y"
        },
        {
         "hovertemplate": "<b>%{hovertext}</b><br><br>버스노선명=152번(화계사~삼막사사거리)<br>일평균 승차 인원=%{x}<br>일평균 하차 인원=%{y}<extra></extra>",
         "hovertext": [
          "152번(화계사~삼막사사거리)"
         ],
         "legendgroup": "152번(화계사~삼막사사거리)",
         "marker": {
          "color": "#FF97FF",
          "symbol": "circle"
         },
         "mode": "markers",
         "name": "152번(화계사~삼막사사거리)",
         "orientation": "v",
         "showlegend": true,
         "type": "scatter",
         "x": [
          443
         ],
         "xaxis": "x",
         "y": [
          510
         ],
         "yaxis": "y"
        },
        {
         "hovertemplate": "<b>%{hovertext}</b><br><br>버스노선명=160번(도봉산~온수동)<br>일평균 승차 인원=%{x}<br>일평균 하차 인원=%{y}<extra></extra>",
         "hovertext": [
          "160번(도봉산~온수동)"
         ],
         "legendgroup": "160번(도봉산~온수동)",
         "marker": {
          "color": "#FECB52",
          "symbol": "circle"
         },
         "mode": "markers",
         "name": "160번(도봉산~온수동)",
         "orientation": "v",
         "showlegend": true,
         "type": "scatter",
         "x": [
          2349
         ],
         "xaxis": "x",
         "y": [
          3503
         ],
         "yaxis": "y"
        },
        {
         "hovertemplate": "<b>%{hovertext}</b><br><br>버스노선명=162번(정릉~여의도)<br>일평균 승차 인원=%{x}<br>일평균 하차 인원=%{y}<extra></extra>",
         "hovertext": [
          "162번(정릉~여의도)"
         ],
         "legendgroup": "162번(정릉~여의도)",
         "marker": {
          "color": "#636efa",
          "symbol": "circle"
         },
         "mode": "markers",
         "name": "162번(정릉~여의도)",
         "orientation": "v",
         "showlegend": true,
         "type": "scatter",
         "x": [
          451
         ],
         "xaxis": "x",
         "y": [
          670
         ],
         "yaxis": "y"
        },
        {
         "hovertemplate": "<b>%{hovertext}</b><br><br>버스노선명=171번(용마문화복지센터~월드컵파크7단지)<br>일평균 승차 인원=%{x}<br>일평균 하차 인원=%{y}<extra></extra>",
         "hovertext": [
          "171번(용마문화복지센터~월드컵파크7단지)"
         ],
         "legendgroup": "171번(용마문화복지센터~월드컵파크7단지)",
         "marker": {
          "color": "#EF553B",
          "symbol": "circle"
         },
         "mode": "markers",
         "name": "171번(용마문화복지센터~월드컵파크7단지)",
         "orientation": "v",
         "showlegend": true,
         "type": "scatter",
         "x": [
          1638
         ],
         "xaxis": "x",
         "y": [
          1485
         ],
         "yaxis": "y"
        },
        {
         "hovertemplate": "<b>%{hovertext}</b><br><br>버스노선명=172번(하계동~월드컵2.3단지)<br>일평균 승차 인원=%{x}<br>일평균 하차 인원=%{y}<extra></extra>",
         "hovertext": [
          "172번(하계동~월드컵2.3단지)"
         ],
         "legendgroup": "172번(하계동~월드컵2.3단지)",
         "marker": {
          "color": "#00cc96",
          "symbol": "circle"
         },
         "mode": "markers",
         "name": "172번(하계동~월드컵2.3단지)",
         "orientation": "v",
         "showlegend": true,
         "type": "scatter",
         "x": [
          1051
         ],
         "xaxis": "x",
         "y": [
          1066
         ],
         "yaxis": "y"
        },
        {
         "hovertemplate": "<b>%{hovertext}</b><br><br>버스노선명=260번(중랑차고지~여의도)<br>일평균 승차 인원=%{x}<br>일평균 하차 인원=%{y}<extra></extra>",
         "hovertext": [
          "260번(중랑차고지~여의도)"
         ],
         "legendgroup": "260번(중랑차고지~여의도)",
         "marker": {
          "color": "#ab63fa",
          "symbol": "circle"
         },
         "mode": "markers",
         "name": "260번(중랑차고지~여의도)",
         "orientation": "v",
         "showlegend": true,
         "type": "scatter",
         "x": [
          654
         ],
         "xaxis": "x",
         "y": [
          537
         ],
         "yaxis": "y"
        },
        {
         "hovertemplate": "<b>%{hovertext}</b><br><br>버스노선명=261번(장위동~여의도환승센터)<br>일평균 승차 인원=%{x}<br>일평균 하차 인원=%{y}<extra></extra>",
         "hovertext": [
          "261번(장위동~여의도환승센터)"
         ],
         "legendgroup": "261번(장위동~여의도환승센터)",
         "marker": {
          "color": "#FFA15A",
          "symbol": "circle"
         },
         "mode": "markers",
         "name": "261번(장위동~여의도환승센터)",
         "orientation": "v",
         "showlegend": true,
         "type": "scatter",
         "x": [
          531
         ],
         "xaxis": "x",
         "y": [
          598
         ],
         "yaxis": "y"
        },
        {
         "hovertemplate": "<b>%{hovertext}</b><br><br>버스노선명=262번(중랑공영차고지~여의도)<br>일평균 승차 인원=%{x}<br>일평균 하차 인원=%{y}<extra></extra>",
         "hovertext": [
          "262번(중랑공영차고지~여의도)"
         ],
         "legendgroup": "262번(중랑공영차고지~여의도)",
         "marker": {
          "color": "#19d3f3",
          "symbol": "circle"
         },
         "mode": "markers",
         "name": "262번(중랑공영차고지~여의도)",
         "orientation": "v",
         "showlegend": true,
         "type": "scatter",
         "x": [
          996
         ],
         "xaxis": "x",
         "y": [
          1024
         ],
         "yaxis": "y"
        },
        {
         "hovertemplate": "<b>%{hovertext}</b><br><br>버스노선명=272번(면목동~남가좌동)<br>일평균 승차 인원=%{x}<br>일평균 하차 인원=%{y}<extra></extra>",
         "hovertext": [
          "272번(면목동~남가좌동)"
         ],
         "legendgroup": "272번(면목동~남가좌동)",
         "marker": {
          "color": "#FF6692",
          "symbol": "circle"
         },
         "mode": "markers",
         "name": "272번(면목동~남가좌동)",
         "orientation": "v",
         "showlegend": true,
         "type": "scatter",
         "x": [
          849
         ],
         "xaxis": "x",
         "y": [
          812
         ],
         "yaxis": "y"
        },
        {
         "hovertemplate": "<b>%{hovertext}</b><br><br>버스노선명=301번(장지공영차고지~혜화동)<br>일평균 승차 인원=%{x}<br>일평균 하차 인원=%{y}<extra></extra>",
         "hovertext": [
          "301번(장지공영차고지~혜화동)"
         ],
         "legendgroup": "301번(장지공영차고지~혜화동)",
         "marker": {
          "color": "#B6E880",
          "symbol": "circle"
         },
         "mode": "markers",
         "name": "301번(장지공영차고지~혜화동)",
         "orientation": "v",
         "showlegend": true,
         "type": "scatter",
         "x": [
          105
         ],
         "xaxis": "x",
         "y": [
          82
         ],
         "yaxis": "y"
        },
        {
         "hovertemplate": "<b>%{hovertext}</b><br><br>버스노선명=340번(강동차고지~무지개아파트)<br>일평균 승차 인원=%{x}<br>일평균 하차 인원=%{y}<extra></extra>",
         "hovertext": [
          "340번(강동차고지~무지개아파트)"
         ],
         "legendgroup": "340번(강동차고지~무지개아파트)",
         "marker": {
          "color": "#FF97FF",
          "symbol": "circle"
         },
         "mode": "markers",
         "name": "340번(강동차고지~무지개아파트)",
         "orientation": "v",
         "showlegend": true,
         "type": "scatter",
         "x": [
          33
         ],
         "xaxis": "x",
         "y": [
          59
         ],
         "yaxis": "y"
        },
        {
         "hovertemplate": "<b>%{hovertext}</b><br><br>버스노선명=360번(송파차고지~여의도)<br>일평균 승차 인원=%{x}<br>일평균 하차 인원=%{y}<extra></extra>",
         "hovertext": [
          "360번(송파차고지~여의도)"
         ],
         "legendgroup": "360번(송파차고지~여의도)",
         "marker": {
          "color": "#FECB52",
          "symbol": "circle"
         },
         "mode": "markers",
         "name": "360번(송파차고지~여의도)",
         "orientation": "v",
         "showlegend": true,
         "type": "scatter",
         "x": [
          1803
         ],
         "xaxis": "x",
         "y": [
          1952
         ],
         "yaxis": "y"
        },
        {
         "hovertemplate": "<b>%{hovertext}</b><br><br>버스노선명=400번(염곡동~시청)<br>일평균 승차 인원=%{x}<br>일평균 하차 인원=%{y}<extra></extra>",
         "hovertext": [
          "400번(염곡동~시청)"
         ],
         "legendgroup": "400번(염곡동~시청)",
         "marker": {
          "color": "#636efa",
          "symbol": "circle"
         },
         "mode": "markers",
         "name": "400번(염곡동~시청)",
         "orientation": "v",
         "showlegend": true,
         "type": "scatter",
         "x": [
          341
         ],
         "xaxis": "x",
         "y": [
          322
         ],
         "yaxis": "y"
        },
        {
         "hovertemplate": "<b>%{hovertext}</b><br><br>버스노선명=401번(장지공영차고지~서울역)<br>일평균 승차 인원=%{x}<br>일평균 하차 인원=%{y}<extra></extra>",
         "hovertext": [
          "401번(장지공영차고지~서울역)"
         ],
         "legendgroup": "401번(장지공영차고지~서울역)",
         "marker": {
          "color": "#EF553B",
          "symbol": "circle"
         },
         "mode": "markers",
         "name": "401번(장지공영차고지~서울역)",
         "orientation": "v",
         "showlegend": true,
         "type": "scatter",
         "x": [
          379
         ],
         "xaxis": "x",
         "y": [
          406
         ],
         "yaxis": "y"
        },
        {
         "hovertemplate": "<b>%{hovertext}</b><br><br>버스노선명=402번(장지공영차고지~시청)<br>일평균 승차 인원=%{x}<br>일평균 하차 인원=%{y}<extra></extra>",
         "hovertext": [
          "402번(장지공영차고지~시청)"
         ],
         "legendgroup": "402번(장지공영차고지~시청)",
         "marker": {
          "color": "#00cc96",
          "symbol": "circle"
         },
         "mode": "markers",
         "name": "402번(장지공영차고지~시청)",
         "orientation": "v",
         "showlegend": true,
         "type": "scatter",
         "x": [
          166
         ],
         "xaxis": "x",
         "y": [
          195
         ],
         "yaxis": "y"
        },
        {
         "hovertemplate": "<b>%{hovertext}</b><br><br>버스노선명=406번(개포동~서울역)<br>일평균 승차 인원=%{x}<br>일평균 하차 인원=%{y}<extra></extra>",
         "hovertext": [
          "406번(개포동~서울역)"
         ],
         "legendgroup": "406번(개포동~서울역)",
         "marker": {
          "color": "#ab63fa",
          "symbol": "circle"
         },
         "mode": "markers",
         "name": "406번(개포동~서울역)",
         "orientation": "v",
         "showlegend": true,
         "type": "scatter",
         "x": [
          222
         ],
         "xaxis": "x",
         "y": [
          250
         ],
         "yaxis": "y"
        },
        {
         "hovertemplate": "<b>%{hovertext}</b><br><br>버스노선명=420번(개포동~답십리역)<br>일평균 승차 인원=%{x}<br>일평균 하차 인원=%{y}<extra></extra>",
         "hovertext": [
          "420번(개포동~답십리역)"
         ],
         "legendgroup": "420번(개포동~답십리역)",
         "marker": {
          "color": "#FFA15A",
          "symbol": "circle"
         },
         "mode": "markers",
         "name": "420번(개포동~답십리역)",
         "orientation": "v",
         "showlegend": true,
         "type": "scatter",
         "x": [
          245
         ],
         "xaxis": "x",
         "y": [
          274
         ],
         "yaxis": "y"
        },
        {
         "hovertemplate": "<b>%{hovertext}</b><br><br>버스노선명=461번(장지공영차고지~여의도)<br>일평균 승차 인원=%{x}<br>일평균 하차 인원=%{y}<extra></extra>",
         "hovertext": [
          "461번(장지공영차고지~여의도)"
         ],
         "legendgroup": "461번(장지공영차고지~여의도)",
         "marker": {
          "color": "#19d3f3",
          "symbol": "circle"
         },
         "mode": "markers",
         "name": "461번(장지공영차고지~여의도)",
         "orientation": "v",
         "showlegend": true,
         "type": "scatter",
         "x": [
          1132
         ],
         "xaxis": "x",
         "y": [
          713
         ],
         "yaxis": "y"
        },
        {
         "hovertemplate": "<b>%{hovertext}</b><br><br>버스노선명=472번(개포동~신촌)<br>일평균 승차 인원=%{x}<br>일평균 하차 인원=%{y}<extra></extra>",
         "hovertext": [
          "472번(개포동~신촌)"
         ],
         "legendgroup": "472번(개포동~신촌)",
         "marker": {
          "color": "#FF6692",
          "symbol": "circle"
         },
         "mode": "markers",
         "name": "472번(개포동~신촌)",
         "orientation": "v",
         "showlegend": true,
         "type": "scatter",
         "x": [
          457
         ],
         "xaxis": "x",
         "y": [
          418
         ],
         "yaxis": "y"
        },
        {
         "hovertemplate": "<b>%{hovertext}</b><br><br>버스노선명=501번(한남운수대학동차고지~종로2가)<br>일평균 승차 인원=%{x}<br>일평균 하차 인원=%{y}<extra></extra>",
         "hovertext": [
          "501번(한남운수대학동차고지~종로2가)"
         ],
         "legendgroup": "501번(한남운수대학동차고지~종로2가)",
         "marker": {
          "color": "#B6E880",
          "symbol": "circle"
         },
         "mode": "markers",
         "name": "501번(한남운수대학동차고지~종로2가)",
         "orientation": "v",
         "showlegend": true,
         "type": "scatter",
         "x": [
          327
         ],
         "xaxis": "x",
         "y": [
          383
         ],
         "yaxis": "y"
        },
        {
         "hovertemplate": "<b>%{hovertext}</b><br><br>버스노선명=571번(가산동~기자촌)<br>일평균 승차 인원=%{x}<br>일평균 하차 인원=%{y}<extra></extra>",
         "hovertext": [
          "571번(가산동~기자촌)"
         ],
         "legendgroup": "571번(가산동~기자촌)",
         "marker": {
          "color": "#FF97FF",
          "symbol": "circle"
         },
         "mode": "markers",
         "name": "571번(가산동~기자촌)",
         "orientation": "v",
         "showlegend": true,
         "type": "scatter",
         "x": [
          9428
         ],
         "xaxis": "x",
         "y": [
          10344
         ],
         "yaxis": "y"
        },
        {
         "hovertemplate": "<b>%{hovertext}</b><br><br>버스노선명=600번(온수동~광화문)<br>일평균 승차 인원=%{x}<br>일평균 하차 인원=%{y}<extra></extra>",
         "hovertext": [
          "600번(온수동~광화문)"
         ],
         "legendgroup": "600번(온수동~광화문)",
         "marker": {
          "color": "#FECB52",
          "symbol": "circle"
         },
         "mode": "markers",
         "name": "600번(온수동~광화문)",
         "orientation": "v",
         "showlegend": true,
         "type": "scatter",
         "x": [
          2287
         ],
         "xaxis": "x",
         "y": [
          3378
         ],
         "yaxis": "y"
        },
        {
         "hovertemplate": "<b>%{hovertext}</b><br><br>버스노선명=601번(개화동~종로4가)<br>일평균 승차 인원=%{x}<br>일평균 하차 인원=%{y}<extra></extra>",
         "hovertext": [
          "601번(개화동~종로4가)"
         ],
         "legendgroup": "601번(개화동~종로4가)",
         "marker": {
          "color": "#636efa",
          "symbol": "circle"
         },
         "mode": "markers",
         "name": "601번(개화동~종로4가)",
         "orientation": "v",
         "showlegend": true,
         "type": "scatter",
         "x": [
          6087
         ],
         "xaxis": "x",
         "y": [
          3456
         ],
         "yaxis": "y"
        },
        {
         "hovertemplate": "<b>%{hovertext}</b><br><br>버스노선명=602번(양천공용차고지~시청앞)<br>일평균 승차 인원=%{x}<br>일평균 하차 인원=%{y}<extra></extra>",
         "hovertext": [
          "602번(양천공용차고지~시청앞)"
         ],
         "legendgroup": "602번(양천공용차고지~시청앞)",
         "marker": {
          "color": "#EF553B",
          "symbol": "circle"
         },
         "mode": "markers",
         "name": "602번(양천공용차고지~시청앞)",
         "orientation": "v",
         "showlegend": true,
         "type": "scatter",
         "x": [
          71562
         ],
         "xaxis": "x",
         "y": [
          72536
         ],
         "yaxis": "y"
        },
        {
         "hovertemplate": "<b>%{hovertext}</b><br><br>버스노선명=603번(신월동~시청)<br>일평균 승차 인원=%{x}<br>일평균 하차 인원=%{y}<extra></extra>",
         "hovertext": [
          "603번(신월동~시청)"
         ],
         "legendgroup": "603번(신월동~시청)",
         "marker": {
          "color": "#00cc96",
          "symbol": "circle"
         },
         "mode": "markers",
         "name": "603번(신월동~시청)",
         "orientation": "v",
         "showlegend": true,
         "type": "scatter",
         "x": [
          63835
         ],
         "xaxis": "x",
         "y": [
          56863
         ],
         "yaxis": "y"
        },
        {
         "hovertemplate": "<b>%{hovertext}</b><br><br>버스노선명=604번(신월동~중구청)<br>일평균 승차 인원=%{x}<br>일평균 하차 인원=%{y}<extra></extra>",
         "hovertext": [
          "604번(신월동~중구청)"
         ],
         "legendgroup": "604번(신월동~중구청)",
         "marker": {
          "color": "#ab63fa",
          "symbol": "circle"
         },
         "mode": "markers",
         "name": "604번(신월동~중구청)",
         "orientation": "v",
         "showlegend": true,
         "type": "scatter",
         "x": [
          13172
         ],
         "xaxis": "x",
         "y": [
          10490
         ],
         "yaxis": "y"
        },
        {
         "hovertemplate": "<b>%{hovertext}</b><br><br>버스노선명=605번(강서공영차고지~후암동)<br>일평균 승차 인원=%{x}<br>일평균 하차 인원=%{y}<extra></extra>",
         "hovertext": [
          "605번(강서공영차고지~후암동)"
         ],
         "legendgroup": "605번(강서공영차고지~후암동)",
         "marker": {
          "color": "#FFA15A",
          "symbol": "circle"
         },
         "mode": "markers",
         "name": "605번(강서공영차고지~후암동)",
         "orientation": "v",
         "showlegend": true,
         "type": "scatter",
         "x": [
          6701
         ],
         "xaxis": "x",
         "y": [
          5918
         ],
         "yaxis": "y"
        },
        {
         "hovertemplate": "<b>%{hovertext}</b><br><br>버스노선명=606번(부천상동~종로1가)<br>일평균 승차 인원=%{x}<br>일평균 하차 인원=%{y}<extra></extra>",
         "hovertext": [
          "606번(부천상동~종로1가)"
         ],
         "legendgroup": "606번(부천상동~종로1가)",
         "marker": {
          "color": "#19d3f3",
          "symbol": "circle"
         },
         "mode": "markers",
         "name": "606번(부천상동~종로1가)",
         "orientation": "v",
         "showlegend": true,
         "type": "scatter",
         "x": [
          30485
         ],
         "xaxis": "x",
         "y": [
          25065
         ],
         "yaxis": "y"
        },
        {
         "hovertemplate": "<b>%{hovertext}</b><br><br>버스노선명=640번(신월동~강남역)<br>일평균 승차 인원=%{x}<br>일평균 하차 인원=%{y}<extra></extra>",
         "hovertext": [
          "640번(신월동~강남역)"
         ],
         "legendgroup": "640번(신월동~강남역)",
         "marker": {
          "color": "#FF6692",
          "symbol": "circle"
         },
         "mode": "markers",
         "name": "640번(신월동~강남역)",
         "orientation": "v",
         "showlegend": true,
         "type": "scatter",
         "x": [
          78418
         ],
         "xaxis": "x",
         "y": [
          71445
         ],
         "yaxis": "y"
        },
        {
         "hovertemplate": "<b>%{hovertext}</b><br><br>버스노선명=641번(문래동~양재동)<br>일평균 승차 인원=%{x}<br>일평균 하차 인원=%{y}<extra></extra>",
         "hovertext": [
          "641번(문래동~양재동)"
         ],
         "legendgroup": "641번(문래동~양재동)",
         "marker": {
          "color": "#B6E880",
          "symbol": "circle"
         },
         "mode": "markers",
         "name": "641번(문래동~양재동)",
         "orientation": "v",
         "showlegend": true,
         "type": "scatter",
         "x": [
          3612
         ],
         "xaxis": "x",
         "y": [
          4245
         ],
         "yaxis": "y"
        },
        {
         "hovertemplate": "<b>%{hovertext}</b><br><br>버스노선명=650번(외발산동~서울대입구)<br>일평균 승차 인원=%{x}<br>일평균 하차 인원=%{y}<extra></extra>",
         "hovertext": [
          "650번(외발산동~서울대입구)"
         ],
         "legendgroup": "650번(외발산동~서울대입구)",
         "marker": {
          "color": "#FF97FF",
          "symbol": "circle"
         },
         "mode": "markers",
         "name": "650번(외발산동~서울대입구)",
         "orientation": "v",
         "showlegend": true,
         "type": "scatter",
         "x": [
          42552
         ],
         "xaxis": "x",
         "y": [
          39147
         ],
         "yaxis": "y"
        },
        {
         "hovertemplate": "<b>%{hovertext}</b><br><br>버스노선명=651번(방화동~관악구청)<br>일평균 승차 인원=%{x}<br>일평균 하차 인원=%{y}<extra></extra>",
         "hovertext": [
          "651번(방화동~관악구청)"
         ],
         "legendgroup": "651번(방화동~관악구청)",
         "marker": {
          "color": "#FECB52",
          "symbol": "circle"
         },
         "mode": "markers",
         "name": "651번(방화동~관악구청)",
         "orientation": "v",
         "showlegend": true,
         "type": "scatter",
         "x": [
          75353
         ],
         "xaxis": "x",
         "y": [
          75332
         ],
         "yaxis": "y"
        },
        {
         "hovertemplate": "<b>%{hovertext}</b><br><br>버스노선명=701번(진관차고지~종로2가)<br>일평균 승차 인원=%{x}<br>일평균 하차 인원=%{y}<extra></extra>",
         "hovertext": [
          "701번(진관차고지~종로2가)"
         ],
         "legendgroup": "701번(진관차고지~종로2가)",
         "marker": {
          "color": "#636efa",
          "symbol": "circle"
         },
         "mode": "markers",
         "name": "701번(진관차고지~종로2가)",
         "orientation": "v",
         "showlegend": true,
         "type": "scatter",
         "x": [
          190
         ],
         "xaxis": "x",
         "y": [
          147
         ],
         "yaxis": "y"
        },
        {
         "hovertemplate": "<b>%{hovertext}</b><br><br>버스노선명=720번(기자촌~답십리)<br>일평균 승차 인원=%{x}<br>일평균 하차 인원=%{y}<extra></extra>",
         "hovertext": [
          "720번(기자촌~답십리)"
         ],
         "legendgroup": "720번(기자촌~답십리)",
         "marker": {
          "color": "#EF553B",
          "symbol": "circle"
         },
         "mode": "markers",
         "name": "720번(기자촌~답십리)",
         "orientation": "v",
         "showlegend": true,
         "type": "scatter",
         "x": [
          304
         ],
         "xaxis": "x",
         "y": [
          288
         ],
         "yaxis": "y"
        },
        {
         "hovertemplate": "<b>%{hovertext}</b><br><br>버스노선명=752번(구산동~노량진)<br>일평균 승차 인원=%{x}<br>일평균 하차 인원=%{y}<extra></extra>",
         "hovertext": [
          "752번(구산동~노량진)"
         ],
         "legendgroup": "752번(구산동~노량진)",
         "marker": {
          "color": "#00cc96",
          "symbol": "circle"
         },
         "mode": "markers",
         "name": "752번(구산동~노량진)",
         "orientation": "v",
         "showlegend": true,
         "type": "scatter",
         "x": [
          493
         ],
         "xaxis": "x",
         "y": [
          396
         ],
         "yaxis": "y"
        },
        {
         "hovertemplate": "<b>%{hovertext}</b><br><br>버스노선명=753번(구산동~상도동)<br>일평균 승차 인원=%{x}<br>일평균 하차 인원=%{y}<extra></extra>",
         "hovertext": [
          "753번(구산동~상도동)"
         ],
         "legendgroup": "753번(구산동~상도동)",
         "marker": {
          "color": "#ab63fa",
          "symbol": "circle"
         },
         "mode": "markers",
         "name": "753번(구산동~상도동)",
         "orientation": "v",
         "showlegend": true,
         "type": "scatter",
         "x": [
          814
         ],
         "xaxis": "x",
         "y": [
          892
         ],
         "yaxis": "y"
        },
        {
         "hovertemplate": "<b>%{hovertext}</b><br><br>버스노선명=110번(B,국민대방향,정릉~정릉)<br>일평균 승차 인원=%{x}<br>일평균 하차 인원=%{y}<extra></extra>",
         "hovertext": [
          "110번(B,국민대방향,정릉~정릉)"
         ],
         "legendgroup": "110번(B,국민대방향,정릉~정릉)",
         "marker": {
          "color": "#FFA15A",
          "symbol": "circle"
         },
         "mode": "markers",
         "name": "110번(B,국민대방향,정릉~정릉)",
         "orientation": "v",
         "showlegend": true,
         "type": "scatter",
         "x": [
          258
         ],
         "xaxis": "x",
         "y": [
          310
         ],
         "yaxis": "y"
        },
        {
         "hovertemplate": "<b>%{hovertext}</b><br><br>버스노선명=109번(우이동~서울역)<br>일평균 승차 인원=%{x}<br>일평균 하차 인원=%{y}<extra></extra>",
         "hovertext": [
          "109번(우이동~서울역)"
         ],
         "legendgroup": "109번(우이동~서울역)",
         "marker": {
          "color": "#19d3f3",
          "symbol": "circle"
         },
         "mode": "markers",
         "name": "109번(우이동~서울역)",
         "orientation": "v",
         "showlegend": true,
         "type": "scatter",
         "x": [
          146
         ],
         "xaxis": "x",
         "y": [
          110
         ],
         "yaxis": "y"
        },
        {
         "hovertemplate": "<b>%{hovertext}</b><br><br>버스노선명=750번(A,신촌,수색교~서울대)<br>일평균 승차 인원=%{x}<br>일평균 하차 인원=%{y}<extra></extra>",
         "hovertext": [
          "750번(A,신촌,수색교~서울대)"
         ],
         "legendgroup": "750번(A,신촌,수색교~서울대)",
         "marker": {
          "color": "#FF6692",
          "symbol": "circle"
         },
         "mode": "markers",
         "name": "750번(A,신촌,수색교~서울대)",
         "orientation": "v",
         "showlegend": true,
         "type": "scatter",
         "x": [
          1066
         ],
         "xaxis": "x",
         "y": [
          936
         ],
         "yaxis": "y"
        },
        {
         "hovertemplate": "<b>%{hovertext}</b><br><br>버스노선명=2230번(면목동~경동시장)<br>일평균 승차 인원=%{x}<br>일평균 하차 인원=%{y}<extra></extra>",
         "hovertext": [
          "2230번(면목동~경동시장)"
         ],
         "legendgroup": "2230번(면목동~경동시장)",
         "marker": {
          "color": "#B6E880",
          "symbol": "circle"
         },
         "mode": "markers",
         "name": "2230번(면목동~경동시장)",
         "orientation": "v",
         "showlegend": true,
         "type": "scatter",
         "x": [
          78
         ],
         "xaxis": "x",
         "y": [
          51
         ],
         "yaxis": "y"
        },
        {
         "hovertemplate": "<b>%{hovertext}</b><br><br>버스노선명=1139번(상계동~방학3동주민센터)<br>일평균 승차 인원=%{x}<br>일평균 하차 인원=%{y}<extra></extra>",
         "hovertext": [
          "1139번(상계동~방학3동주민센터)"
         ],
         "legendgroup": "1139번(상계동~방학3동주민센터)",
         "marker": {
          "color": "#FF97FF",
          "symbol": "circle"
         },
         "mode": "markers",
         "name": "1139번(상계동~방학3동주민센터)",
         "orientation": "v",
         "showlegend": true,
         "type": "scatter",
         "x": [
          8
         ],
         "xaxis": "x",
         "y": [
          8
         ],
         "yaxis": "y"
        },
        {
         "hovertemplate": "<b>%{hovertext}</b><br><br>버스노선명=643번(양천차고지~강남역)<br>일평균 승차 인원=%{x}<br>일평균 하차 인원=%{y}<extra></extra>",
         "hovertext": [
          "643번(양천차고지~강남역)"
         ],
         "legendgroup": "643번(양천차고지~강남역)",
         "marker": {
          "color": "#FECB52",
          "symbol": "circle"
         },
         "mode": "markers",
         "name": "643번(양천차고지~강남역)",
         "orientation": "v",
         "showlegend": true,
         "type": "scatter",
         "x": [
          10852
         ],
         "xaxis": "x",
         "y": [
          11998
         ],
         "yaxis": "y"
        },
        {
         "hovertemplate": "<b>%{hovertext}</b><br><br>버스노선명=5515번(신동아아파트~청림동현대아파트)<br>일평균 승차 인원=%{x}<br>일평균 하차 인원=%{y}<extra></extra>",
         "hovertext": [
          "5515번(신동아아파트~청림동현대아파트)"
         ],
         "legendgroup": "5515번(신동아아파트~청림동현대아파트)",
         "marker": {
          "color": "#636efa",
          "symbol": "circle"
         },
         "mode": "markers",
         "name": "5515번(신동아아파트~청림동현대아파트)",
         "orientation": "v",
         "showlegend": true,
         "type": "scatter",
         "x": [
          332
         ],
         "xaxis": "x",
         "y": [
          376
         ],
         "yaxis": "y"
        },
        {
         "hovertemplate": "<b>%{hovertext}</b><br><br>버스노선명=종로07(명륜새마을금고~이화사거리)<br>일평균 승차 인원=%{x}<br>일평균 하차 인원=%{y}<extra></extra>",
         "hovertext": [
          "종로07(명륜새마을금고~이화사거리)"
         ],
         "legendgroup": "종로07(명륜새마을금고~이화사거리)",
         "marker": {
          "color": "#EF553B",
          "symbol": "circle"
         },
         "mode": "markers",
         "name": "종로07(명륜새마을금고~이화사거리)",
         "orientation": "v",
         "showlegend": true,
         "type": "scatter",
         "x": [
          4
         ],
         "xaxis": "x",
         "y": [
          12
         ],
         "yaxis": "y"
        },
        {
         "hovertemplate": "<b>%{hovertext}</b><br><br>버스노선명=광진05(신자초등학교~강변역)<br>일평균 승차 인원=%{x}<br>일평균 하차 인원=%{y}<extra></extra>",
         "hovertext": [
          "광진05(신자초등학교~강변역)"
         ],
         "legendgroup": "광진05(신자초등학교~강변역)",
         "marker": {
          "color": "#00cc96",
          "symbol": "circle"
         },
         "mode": "markers",
         "name": "광진05(신자초등학교~강변역)",
         "orientation": "v",
         "showlegend": true,
         "type": "scatter",
         "x": [
          5
         ],
         "xaxis": "x",
         "y": [
          5
         ],
         "yaxis": "y"
        },
        {
         "hovertemplate": "<b>%{hovertext}</b><br><br>버스노선명=영등포06(대방역~영등포역)<br>일평균 승차 인원=%{x}<br>일평균 하차 인원=%{y}<extra></extra>",
         "hovertext": [
          "영등포06(대방역~영등포역)"
         ],
         "legendgroup": "영등포06(대방역~영등포역)",
         "marker": {
          "color": "#ab63fa",
          "symbol": "circle"
         },
         "mode": "markers",
         "name": "영등포06(대방역~영등포역)",
         "orientation": "v",
         "showlegend": true,
         "type": "scatter",
         "x": [
          4
         ],
         "xaxis": "x",
         "y": [
          2
         ],
         "yaxis": "y"
        },
        {
         "hovertemplate": "<b>%{hovertext}</b><br><br>버스노선명=동대문05(답십리역~영휘원사거리)<br>일평균 승차 인원=%{x}<br>일평균 하차 인원=%{y}<extra></extra>",
         "hovertext": [
          "동대문05(답십리역~영휘원사거리)"
         ],
         "legendgroup": "동대문05(답십리역~영휘원사거리)",
         "marker": {
          "color": "#FFA15A",
          "symbol": "circle"
         },
         "mode": "markers",
         "name": "동대문05(답십리역~영휘원사거리)",
         "orientation": "v",
         "showlegend": true,
         "type": "scatter",
         "x": [
          3
         ],
         "xaxis": "x",
         "y": [
          5
         ],
         "yaxis": "y"
        },
        {
         "hovertemplate": "<b>%{hovertext}</b><br><br>버스노선명=성북22(세계문화유산정릉~삼선동주민센터)<br>일평균 승차 인원=%{x}<br>일평균 하차 인원=%{y}<extra></extra>",
         "hovertext": [
          "성북22(세계문화유산정릉~삼선동주민센터)"
         ],
         "legendgroup": "성북22(세계문화유산정릉~삼선동주민센터)",
         "marker": {
          "color": "#19d3f3",
          "symbol": "circle"
         },
         "mode": "markers",
         "name": "성북22(세계문화유산정릉~삼선동주민센터)",
         "orientation": "v",
         "showlegend": true,
         "type": "scatter",
         "x": [
          5
         ],
         "xaxis": "x",
         "y": [
          1
         ],
         "yaxis": "y"
        },
        {
         "hovertemplate": "<b>%{hovertext}</b><br><br>버스노선명=1014번(정릉~신당동)<br>일평균 승차 인원=%{x}<br>일평균 하차 인원=%{y}<extra></extra>",
         "hovertext": [
          "1014번(정릉~신당동)"
         ],
         "legendgroup": "1014번(정릉~신당동)",
         "marker": {
          "color": "#FF6692",
          "symbol": "circle"
         },
         "mode": "markers",
         "name": "1014번(정릉~신당동)",
         "orientation": "v",
         "showlegend": true,
         "type": "scatter",
         "x": [
          19
         ],
         "xaxis": "x",
         "y": [
          13
         ],
         "yaxis": "y"
        },
        {
         "hovertemplate": "<b>%{hovertext}</b><br><br>버스노선명=1017번(월계동~상왕십리)<br>일평균 승차 인원=%{x}<br>일평균 하차 인원=%{y}<extra></extra>",
         "hovertext": [
          "1017번(월계동~상왕십리)"
         ],
         "legendgroup": "1017번(월계동~상왕십리)",
         "marker": {
          "color": "#B6E880",
          "symbol": "circle"
         },
         "mode": "markers",
         "name": "1017번(월계동~상왕십리)",
         "orientation": "v",
         "showlegend": true,
         "type": "scatter",
         "x": [
          36
         ],
         "xaxis": "x",
         "y": [
          38
         ],
         "yaxis": "y"
        },
        {
         "hovertemplate": "<b>%{hovertext}</b><br><br>버스노선명=1020번(정릉~교보문고)<br>일평균 승차 인원=%{x}<br>일평균 하차 인원=%{y}<extra></extra>",
         "hovertext": [
          "1020번(정릉~교보문고)"
         ],
         "legendgroup": "1020번(정릉~교보문고)",
         "marker": {
          "color": "#FF97FF",
          "symbol": "circle"
         },
         "mode": "markers",
         "name": "1020번(정릉~교보문고)",
         "orientation": "v",
         "showlegend": true,
         "type": "scatter",
         "x": [
          225
         ],
         "xaxis": "x",
         "y": [
          265
         ],
         "yaxis": "y"
        },
        {
         "hovertemplate": "<b>%{hovertext}</b><br><br>버스노선명=1111번(번동~성북동)<br>일평균 승차 인원=%{x}<br>일평균 하차 인원=%{y}<extra></extra>",
         "hovertext": [
          "1111번(번동~성북동)"
         ],
         "legendgroup": "1111번(번동~성북동)",
         "marker": {
          "color": "#FECB52",
          "symbol": "circle"
         },
         "mode": "markers",
         "name": "1111번(번동~성북동)",
         "orientation": "v",
         "showlegend": true,
         "type": "scatter",
         "x": [
          20
         ],
         "xaxis": "x",
         "y": [
          32
         ],
         "yaxis": "y"
        },
        {
         "hovertemplate": "<b>%{hovertext}</b><br><br>버스노선명=1113번(정릉~월곡역)<br>일평균 승차 인원=%{x}<br>일평균 하차 인원=%{y}<extra></extra>",
         "hovertext": [
          "1113번(정릉~월곡역)"
         ],
         "legendgroup": "1113번(정릉~월곡역)",
         "marker": {
          "color": "#636efa",
          "symbol": "circle"
         },
         "mode": "markers",
         "name": "1113번(정릉~월곡역)",
         "orientation": "v",
         "showlegend": true,
         "type": "scatter",
         "x": [
          14
         ],
         "xaxis": "x",
         "y": [
          15
         ],
         "yaxis": "y"
        },
        {
         "hovertemplate": "<b>%{hovertext}</b><br><br>버스노선명=1119번(강북청소년수련관난나~녹천역)<br>일평균 승차 인원=%{x}<br>일평균 하차 인원=%{y}<extra></extra>",
         "hovertext": [
          "1119번(강북청소년수련관난나~녹천역)"
         ],
         "legendgroup": "1119번(강북청소년수련관난나~녹천역)",
         "marker": {
          "color": "#EF553B",
          "symbol": "circle"
         },
         "mode": "markers",
         "name": "1119번(강북청소년수련관난나~녹천역)",
         "orientation": "v",
         "showlegend": true,
         "type": "scatter",
         "x": [
          18
         ],
         "xaxis": "x",
         "y": [
          5
         ],
         "yaxis": "y"
        },
        {
         "hovertemplate": "<b>%{hovertext}</b><br><br>버스노선명=1120번(하계동~삼양동입구)<br>일평균 승차 인원=%{x}<br>일평균 하차 인원=%{y}<extra></extra>",
         "hovertext": [
          "1120번(하계동~삼양동입구)"
         ],
         "legendgroup": "1120번(하계동~삼양동입구)",
         "marker": {
          "color": "#00cc96",
          "symbol": "circle"
         },
         "mode": "markers",
         "name": "1120번(하계동~삼양동입구)",
         "orientation": "v",
         "showlegend": true,
         "type": "scatter",
         "x": [
          22
         ],
         "xaxis": "x",
         "y": [
          10
         ],
         "yaxis": "y"
        },
        {
         "hovertemplate": "<b>%{hovertext}</b><br><br>버스노선명=1124번(수유역~미아삼거리역)<br>일평균 승차 인원=%{x}<br>일평균 하차 인원=%{y}<extra></extra>",
         "hovertext": [
          "1124번(수유역~미아삼거리역)"
         ],
         "legendgroup": "1124번(수유역~미아삼거리역)",
         "marker": {
          "color": "#ab63fa",
          "symbol": "circle"
         },
         "mode": "markers",
         "name": "1124번(수유역~미아삼거리역)",
         "orientation": "v",
         "showlegend": true,
         "type": "scatter",
         "x": [
          null
         ],
         "xaxis": "x",
         "y": [
          1
         ],
         "yaxis": "y"
        },
        {
         "hovertemplate": "<b>%{hovertext}</b><br><br>버스노선명=1126번(강북청소년수련관난나~안방학동)<br>일평균 승차 인원=%{x}<br>일평균 하차 인원=%{y}<extra></extra>",
         "hovertext": [
          "1126번(강북청소년수련관난나~안방학동)"
         ],
         "legendgroup": "1126번(강북청소년수련관난나~안방학동)",
         "marker": {
          "color": "#FFA15A",
          "symbol": "circle"
         },
         "mode": "markers",
         "name": "1126번(강북청소년수련관난나~안방학동)",
         "orientation": "v",
         "showlegend": true,
         "type": "scatter",
         "x": [
          15
         ],
         "xaxis": "x",
         "y": [
          14
         ],
         "yaxis": "y"
        },
        {
         "hovertemplate": "<b>%{hovertext}</b><br><br>버스노선명=1128번(도봉산~KT월곡지사)<br>일평균 승차 인원=%{x}<br>일평균 하차 인원=%{y}<extra></extra>",
         "hovertext": [
          "1128번(도봉산~KT월곡지사)"
         ],
         "legendgroup": "1128번(도봉산~KT월곡지사)",
         "marker": {
          "color": "#19d3f3",
          "symbol": "circle"
         },
         "mode": "markers",
         "name": "1128번(도봉산~KT월곡지사)",
         "orientation": "v",
         "showlegend": true,
         "type": "scatter",
         "x": [
          15
         ],
         "xaxis": "x",
         "y": [
          25
         ],
         "yaxis": "y"
        },
        {
         "hovertemplate": "<b>%{hovertext}</b><br><br>버스노선명=1129번(상계현대2차아파트~창동역동측)<br>일평균 승차 인원=%{x}<br>일평균 하차 인원=%{y}<extra></extra>",
         "hovertext": [
          "1129번(상계현대2차아파트~창동역동측)"
         ],
         "legendgroup": "1129번(상계현대2차아파트~창동역동측)",
         "marker": {
          "color": "#FF6692",
          "symbol": "circle"
         },
         "mode": "markers",
         "name": "1129번(상계현대2차아파트~창동역동측)",
         "orientation": "v",
         "showlegend": true,
         "type": "scatter",
         "x": [
          2
         ],
         "xaxis": "x",
         "y": [
          1
         ],
         "yaxis": "y"
        },
        {
         "hovertemplate": "<b>%{hovertext}</b><br><br>버스노선명=1130번(청백아파트1단지~석계역1번출구.B)<br>일평균 승차 인원=%{x}<br>일평균 하차 인원=%{y}<extra></extra>",
         "hovertext": [
          "1130번(청백아파트1단지~석계역1번출구.B)"
         ],
         "legendgroup": "1130번(청백아파트1단지~석계역1번출구.B)",
         "marker": {
          "color": "#B6E880",
          "symbol": "circle"
         },
         "mode": "markers",
         "name": "1130번(청백아파트1단지~석계역1번출구.B)",
         "orientation": "v",
         "showlegend": true,
         "type": "scatter",
         "x": [
          10
         ],
         "xaxis": "x",
         "y": [
          9
         ],
         "yaxis": "y"
        },
        {
         "hovertemplate": "<b>%{hovertext}</b><br><br>버스노선명=1132번(월계동~노원역)<br>일평균 승차 인원=%{x}<br>일평균 하차 인원=%{y}<extra></extra>",
         "hovertext": [
          "1132번(월계동~노원역)"
         ],
         "legendgroup": "1132번(월계동~노원역)",
         "marker": {
          "color": "#FF97FF",
          "symbol": "circle"
         },
         "mode": "markers",
         "name": "1132번(월계동~노원역)",
         "orientation": "v",
         "showlegend": true,
         "type": "scatter",
         "x": [
          4
         ],
         "xaxis": "x",
         "y": [
          12
         ],
         "yaxis": "y"
        },
        {
         "hovertemplate": "<b>%{hovertext}</b><br><br>버스노선명=1133번(염광고교(수유)~염광고교(석계))<br>일평균 승차 인원=%{x}<br>일평균 하차 인원=%{y}<extra></extra>",
         "hovertext": [
          "1133번(염광고교(수유)~염광고교(석계))"
         ],
         "legendgroup": "1133번(염광고교(수유)~염광고교(석계))",
         "marker": {
          "color": "#FECB52",
          "symbol": "circle"
         },
         "mode": "markers",
         "name": "1133번(염광고교(수유)~염광고교(석계))",
         "orientation": "v",
         "showlegend": true,
         "type": "scatter",
         "x": [
          10
         ],
         "xaxis": "x",
         "y": [
          10
         ],
         "yaxis": "y"
        },
        {
         "hovertemplate": "<b>%{hovertext}</b><br><br>버스노선명=1135번(석계역~중계역)<br>일평균 승차 인원=%{x}<br>일평균 하차 인원=%{y}<extra></extra>",
         "hovertext": [
          "1135번(석계역~중계역)"
         ],
         "legendgroup": "1135번(석계역~중계역)",
         "marker": {
          "color": "#636efa",
          "symbol": "circle"
         },
         "mode": "markers",
         "name": "1135번(석계역~중계역)",
         "orientation": "v",
         "showlegend": true,
         "type": "scatter",
         "x": [
          null
         ],
         "xaxis": "x",
         "y": [
          6
         ],
         "yaxis": "y"
        },
        {
         "hovertemplate": "<b>%{hovertext}</b><br><br>버스노선명=1136번(월계동E마트~원자력병원)<br>일평균 승차 인원=%{x}<br>일평균 하차 인원=%{y}<extra></extra>",
         "hovertext": [
          "1136번(월계동E마트~원자력병원)"
         ],
         "legendgroup": "1136번(월계동E마트~원자력병원)",
         "marker": {
          "color": "#EF553B",
          "symbol": "circle"
         },
         "mode": "markers",
         "name": "1136번(월계동E마트~원자력병원)",
         "orientation": "v",
         "showlegend": true,
         "type": "scatter",
         "x": [
          3
         ],
         "xaxis": "x",
         "y": [
          5
         ],
         "yaxis": "y"
        },
        {
         "hovertemplate": "<b>%{hovertext}</b><br><br>버스노선명=1137번(상계동~미아사거리)<br>일평균 승차 인원=%{x}<br>일평균 하차 인원=%{y}<extra></extra>",
         "hovertext": [
          "1137번(상계동~미아사거리)"
         ],
         "legendgroup": "1137번(상계동~미아사거리)",
         "marker": {
          "color": "#00cc96",
          "symbol": "circle"
         },
         "mode": "markers",
         "name": "1137번(상계동~미아사거리)",
         "orientation": "v",
         "showlegend": true,
         "type": "scatter",
         "x": [
          16
         ],
         "xaxis": "x",
         "y": [
          16
         ],
         "yaxis": "y"
        },
        {
         "hovertemplate": "<b>%{hovertext}</b><br><br>버스노선명=1138번(상계동~수유역)<br>일평균 승차 인원=%{x}<br>일평균 하차 인원=%{y}<extra></extra>",
         "hovertext": [
          "1138번(상계동~수유역)"
         ],
         "legendgroup": "1138번(상계동~수유역)",
         "marker": {
          "color": "#ab63fa",
          "symbol": "circle"
         },
         "mode": "markers",
         "name": "1138번(상계동~수유역)",
         "orientation": "v",
         "showlegend": true,
         "type": "scatter",
         "x": [
          9
         ],
         "xaxis": "x",
         "y": [
          6
         ],
         "yaxis": "y"
        },
        {
         "hovertemplate": "<b>%{hovertext}</b><br><br>버스노선명=1140번(중계동~광운대)<br>일평균 승차 인원=%{x}<br>일평균 하차 인원=%{y}<extra></extra>",
         "hovertext": [
          "1140번(중계동~광운대)"
         ],
         "legendgroup": "1140번(중계동~광운대)",
         "marker": {
          "color": "#FFA15A",
          "symbol": "circle"
         },
         "mode": "markers",
         "name": "1140번(중계동~광운대)",
         "orientation": "v",
         "showlegend": true,
         "type": "scatter",
         "x": [
          14
         ],
         "xaxis": "x",
         "y": [
          30
         ],
         "yaxis": "y"
        },
        {
         "hovertemplate": "<b>%{hovertext}</b><br><br>버스노선명=1144번(하계동~우이동)<br>일평균 승차 인원=%{x}<br>일평균 하차 인원=%{y}<extra></extra>",
         "hovertext": [
          "1144번(하계동~우이동)"
         ],
         "legendgroup": "1144번(하계동~우이동)",
         "marker": {
          "color": "#19d3f3",
          "symbol": "circle"
         },
         "mode": "markers",
         "name": "1144번(하계동~우이동)",
         "orientation": "v",
         "showlegend": true,
         "type": "scatter",
         "x": [
          11
         ],
         "xaxis": "x",
         "y": [
          2
         ],
         "yaxis": "y"
        },
        {
         "hovertemplate": "<b>%{hovertext}</b><br><br>버스노선명=1154번(하계동~장암동)<br>일평균 승차 인원=%{x}<br>일평균 하차 인원=%{y}<extra></extra>",
         "hovertext": [
          "1154번(하계동~장암동)"
         ],
         "legendgroup": "1154번(하계동~장암동)",
         "marker": {
          "color": "#FF6692",
          "symbol": "circle"
         },
         "mode": "markers",
         "name": "1154번(하계동~장암동)",
         "orientation": "v",
         "showlegend": true,
         "type": "scatter",
         "x": [
          4
         ],
         "xaxis": "x",
         "y": [
          4
         ],
         "yaxis": "y"
        },
        {
         "hovertemplate": "<b>%{hovertext}</b><br><br>버스노선명=1213번(국민대~면목동)<br>일평균 승차 인원=%{x}<br>일평균 하차 인원=%{y}<extra></extra>",
         "hovertext": [
          "1213번(국민대~면목동)"
         ],
         "legendgroup": "1213번(국민대~면목동)",
         "marker": {
          "color": "#B6E880",
          "symbol": "circle"
         },
         "mode": "markers",
         "name": "1213번(국민대~면목동)",
         "orientation": "v",
         "showlegend": true,
         "type": "scatter",
         "x": [
          60
         ],
         "xaxis": "x",
         "y": [
          115
         ],
         "yaxis": "y"
        },
        {
         "hovertemplate": "<b>%{hovertext}</b><br><br>버스노선명=1218번(수유역~답십리)<br>일평균 승차 인원=%{x}<br>일평균 하차 인원=%{y}<extra></extra>",
         "hovertext": [
          "1218번(수유역~답십리)"
         ],
         "legendgroup": "1218번(수유역~답십리)",
         "marker": {
          "color": "#FF97FF",
          "symbol": "circle"
         },
         "mode": "markers",
         "name": "1218번(수유역~답십리)",
         "orientation": "v",
         "showlegend": true,
         "type": "scatter",
         "x": [
          22
         ],
         "xaxis": "x",
         "y": [
          25
         ],
         "yaxis": "y"
        },
        {
         "hovertemplate": "<b>%{hovertext}</b><br><br>버스노선명=1221번(중계동~서울의료원)<br>일평균 승차 인원=%{x}<br>일평균 하차 인원=%{y}<extra></extra>",
         "hovertext": [
          "1221번(중계동~서울의료원)"
         ],
         "legendgroup": "1221번(중계동~서울의료원)",
         "marker": {
          "color": "#FECB52",
          "symbol": "circle"
         },
         "mode": "markers",
         "name": "1221번(중계동~서울의료원)",
         "orientation": "v",
         "showlegend": true,
         "type": "scatter",
         "x": [
          5
         ],
         "xaxis": "x",
         "y": [
          6
         ],
         "yaxis": "y"
        },
        {
         "hovertemplate": "<b>%{hovertext}</b><br><br>버스노선명=1222번(월계동~용두동)<br>일평균 승차 인원=%{x}<br>일평균 하차 인원=%{y}<extra></extra>",
         "hovertext": [
          "1222번(월계동~용두동)"
         ],
         "legendgroup": "1222번(월계동~용두동)",
         "marker": {
          "color": "#636efa",
          "symbol": "circle"
         },
         "mode": "markers",
         "name": "1222번(월계동~용두동)",
         "orientation": "v",
         "showlegend": true,
         "type": "scatter",
         "x": [
          14
         ],
         "xaxis": "x",
         "y": [
          10
         ],
         "yaxis": "y"
        },
        {
         "hovertemplate": "<b>%{hovertext}</b><br><br>버스노선명=1224번(상계동~청량리)<br>일평균 승차 인원=%{x}<br>일평균 하차 인원=%{y}<extra></extra>",
         "hovertext": [
          "1224번(상계동~청량리)"
         ],
         "legendgroup": "1224번(상계동~청량리)",
         "marker": {
          "color": "#EF553B",
          "symbol": "circle"
         },
         "mode": "markers",
         "name": "1224번(상계동~청량리)",
         "orientation": "v",
         "showlegend": true,
         "type": "scatter",
         "x": [
          36
         ],
         "xaxis": "x",
         "y": [
          52
         ],
         "yaxis": "y"
        },
        {
         "hovertemplate": "<b>%{hovertext}</b><br><br>버스노선명=1711번(국민대~공덕동)<br>일평균 승차 인원=%{x}<br>일평균 하차 인원=%{y}<extra></extra>",
         "hovertext": [
          "1711번(국민대~공덕동)"
         ],
         "legendgroup": "1711번(국민대~공덕동)",
         "marker": {
          "color": "#00cc96",
          "symbol": "circle"
         },
         "mode": "markers",
         "name": "1711번(국민대~공덕동)",
         "orientation": "v",
         "showlegend": true,
         "type": "scatter",
         "x": [
          246
         ],
         "xaxis": "x",
         "y": [
          221
         ],
         "yaxis": "y"
        },
        {
         "hovertemplate": "<b>%{hovertext}</b><br><br>버스노선명=2012번(신내공영차고지~동대문역사문화공원)<br>일평균 승차 인원=%{x}<br>일평균 하차 인원=%{y}<extra></extra>",
         "hovertext": [
          "2012번(신내공영차고지~동대문역사문화공원)"
         ],
         "legendgroup": "2012번(신내공영차고지~동대문역사문화공원)",
         "marker": {
          "color": "#ab63fa",
          "symbol": "circle"
         },
         "mode": "markers",
         "name": "2012번(신내공영차고지~동대문역사문화공원)",
         "orientation": "v",
         "showlegend": true,
         "type": "scatter",
         "x": [
          91
         ],
         "xaxis": "x",
         "y": [
          56
         ],
         "yaxis": "y"
        },
        {
         "hovertemplate": "<b>%{hovertext}</b><br><br>버스노선명=2013번(면목동~신당역)<br>일평균 승차 인원=%{x}<br>일평균 하차 인원=%{y}<extra></extra>",
         "hovertext": [
          "2013번(면목동~신당역)"
         ],
         "legendgroup": "2013번(면목동~신당역)",
         "marker": {
          "color": "#FFA15A",
          "symbol": "circle"
         },
         "mode": "markers",
         "name": "2013번(면목동~신당역)",
         "orientation": "v",
         "showlegend": true,
         "type": "scatter",
         "x": [
          61
         ],
         "xaxis": "x",
         "y": [
          38
         ],
         "yaxis": "y"
        },
        {
         "hovertemplate": "<b>%{hovertext}</b><br><br>버스노선명=2014번(성수동~동대문운동장)<br>일평균 승차 인원=%{x}<br>일평균 하차 인원=%{y}<extra></extra>",
         "hovertext": [
          "2014번(성수동~동대문운동장)"
         ],
         "legendgroup": "2014번(성수동~동대문운동장)",
         "marker": {
          "color": "#19d3f3",
          "symbol": "circle"
         },
         "mode": "markers",
         "name": "2014번(성수동~동대문운동장)",
         "orientation": "v",
         "showlegend": true,
         "type": "scatter",
         "x": [
          56
         ],
         "xaxis": "x",
         "y": [
          41
         ],
         "yaxis": "y"
        },
        {
         "hovertemplate": "<b>%{hovertext}</b><br><br>버스노선명=2015번(신내공영차고지~동대문운동장)<br>일평균 승차 인원=%{x}<br>일평균 하차 인원=%{y}<extra></extra>",
         "hovertext": [
          "2015번(신내공영차고지~동대문운동장)"
         ],
         "legendgroup": "2015번(신내공영차고지~동대문운동장)",
         "marker": {
          "color": "#FF6692",
          "symbol": "circle"
         },
         "mode": "markers",
         "name": "2015번(신내공영차고지~동대문운동장)",
         "orientation": "v",
         "showlegend": true,
         "type": "scatter",
         "x": [
          69
         ],
         "xaxis": "x",
         "y": [
          47
         ],
         "yaxis": "y"
        },
        {
         "hovertemplate": "<b>%{hovertext}</b><br><br>버스노선명=2112번(면목동~성북동)<br>일평균 승차 인원=%{x}<br>일평균 하차 인원=%{y}<extra></extra>",
         "hovertext": [
          "2112번(면목동~성북동)"
         ],
         "legendgroup": "2112번(면목동~성북동)",
         "marker": {
          "color": "#B6E880",
          "symbol": "circle"
         },
         "mode": "markers",
         "name": "2112번(면목동~성북동)",
         "orientation": "v",
         "showlegend": true,
         "type": "scatter",
         "x": [
          69
         ],
         "xaxis": "x",
         "y": [
          95
         ],
         "yaxis": "y"
        },
        {
         "hovertemplate": "<b>%{hovertext}</b><br><br>버스노선명=2211번(면목동~회기역)<br>일평균 승차 인원=%{x}<br>일평균 하차 인원=%{y}<extra></extra>",
         "hovertext": [
          "2211번(면목동~회기역)"
         ],
         "legendgroup": "2211번(면목동~회기역)",
         "marker": {
          "color": "#FF97FF",
          "symbol": "circle"
         },
         "mode": "markers",
         "name": "2211번(면목동~회기역)",
         "orientation": "v",
         "showlegend": true,
         "type": "scatter",
         "x": [
          37
         ],
         "xaxis": "x",
         "y": [
          32
         ],
         "yaxis": "y"
        },
        {
         "hovertemplate": "<b>%{hovertext}</b><br><br>버스노선명=2222번(자양동~고대앞)<br>일평균 승차 인원=%{x}<br>일평균 하차 인원=%{y}<extra></extra>",
         "hovertext": [
          "2222번(자양동~고대앞)"
         ],
         "legendgroup": "2222번(자양동~고대앞)",
         "marker": {
          "color": "#FECB52",
          "symbol": "circle"
         },
         "mode": "markers",
         "name": "2222번(자양동~고대앞)",
         "orientation": "v",
         "showlegend": true,
         "type": "scatter",
         "x": [
          39
         ],
         "xaxis": "x",
         "y": [
          26
         ],
         "yaxis": "y"
        },
        {
         "hovertemplate": "<b>%{hovertext}</b><br><br>버스노선명=2233번(면목동~옥수동)<br>일평균 승차 인원=%{x}<br>일평균 하차 인원=%{y}<extra></extra>",
         "hovertext": [
          "2233번(면목동~옥수동)"
         ],
         "legendgroup": "2233번(면목동~옥수동)",
         "marker": {
          "color": "#636efa",
          "symbol": "circle"
         },
         "mode": "markers",
         "name": "2233번(면목동~옥수동)",
         "orientation": "v",
         "showlegend": true,
         "type": "scatter",
         "x": [
          99
         ],
         "xaxis": "x",
         "y": [
          127
         ],
         "yaxis": "y"
        },
        {
         "hovertemplate": "<b>%{hovertext}</b><br><br>버스노선명=2311번(중랑차고지~문정동)<br>일평균 승차 인원=%{x}<br>일평균 하차 인원=%{y}<extra></extra>",
         "hovertext": [
          "2311번(중랑차고지~문정동)"
         ],
         "legendgroup": "2311번(중랑차고지~문정동)",
         "marker": {
          "color": "#EF553B",
          "symbol": "circle"
         },
         "mode": "markers",
         "name": "2311번(중랑차고지~문정동)",
         "orientation": "v",
         "showlegend": true,
         "type": "scatter",
         "x": [
          34
         ],
         "xaxis": "x",
         "y": [
          29
         ],
         "yaxis": "y"
        },
        {
         "hovertemplate": "<b>%{hovertext}</b><br><br>버스노선명=2413번(성수동~개포동)<br>일평균 승차 인원=%{x}<br>일평균 하차 인원=%{y}<extra></extra>",
         "hovertext": [
          "2413번(성수동~개포동)"
         ],
         "legendgroup": "2413번(성수동~개포동)",
         "marker": {
          "color": "#00cc96",
          "symbol": "circle"
         },
         "mode": "markers",
         "name": "2413번(성수동~개포동)",
         "orientation": "v",
         "showlegend": true,
         "type": "scatter",
         "x": [
          39
         ],
         "xaxis": "x",
         "y": [
          70
         ],
         "yaxis": "y"
        },
        {
         "hovertemplate": "<b>%{hovertext}</b><br><br>버스노선명=3212번(강동공영차고지~강변역)<br>일평균 승차 인원=%{x}<br>일평균 하차 인원=%{y}<extra></extra>",
         "hovertext": [
          "3212번(강동공영차고지~강변역)"
         ],
         "legendgroup": "3212번(강동공영차고지~강변역)",
         "marker": {
          "color": "#ab63fa",
          "symbol": "circle"
         },
         "mode": "markers",
         "name": "3212번(강동공영차고지~강변역)",
         "orientation": "v",
         "showlegend": true,
         "type": "scatter",
         "x": [
          3
         ],
         "xaxis": "x",
         "y": [
          10
         ],
         "yaxis": "y"
        },
        {
         "hovertemplate": "<b>%{hovertext}</b><br><br>버스노선명=3217번(송파차고지~어린이대공원)<br>일평균 승차 인원=%{x}<br>일평균 하차 인원=%{y}<extra></extra>",
         "hovertext": [
          "3217번(송파차고지~어린이대공원)"
         ],
         "legendgroup": "3217번(송파차고지~어린이대공원)",
         "marker": {
          "color": "#FFA15A",
          "symbol": "circle"
         },
         "mode": "markers",
         "name": "3217번(송파차고지~어린이대공원)",
         "orientation": "v",
         "showlegend": true,
         "type": "scatter",
         "x": [
          61
         ],
         "xaxis": "x",
         "y": [
          71
         ],
         "yaxis": "y"
        },
        {
         "hovertemplate": "<b>%{hovertext}</b><br><br>버스노선명=3313번(복정역~잠실새내역)<br>일평균 승차 인원=%{x}<br>일평균 하차 인원=%{y}<extra></extra>",
         "hovertext": [
          "3313번(복정역~잠실새내역)"
         ],
         "legendgroup": "3313번(복정역~잠실새내역)",
         "marker": {
          "color": "#19d3f3",
          "symbol": "circle"
         },
         "mode": "markers",
         "name": "3313번(복정역~잠실새내역)",
         "orientation": "v",
         "showlegend": true,
         "type": "scatter",
         "x": [
          14
         ],
         "xaxis": "x",
         "y": [
          32
         ],
         "yaxis": "y"
        },
        {
         "hovertemplate": "<b>%{hovertext}</b><br><br>버스노선명=3314번(마천동~종합운동장)<br>일평균 승차 인원=%{x}<br>일평균 하차 인원=%{y}<extra></extra>",
         "hovertext": [
          "3314번(마천동~종합운동장)"
         ],
         "legendgroup": "3314번(마천동~종합운동장)",
         "marker": {
          "color": "#FF6692",
          "symbol": "circle"
         },
         "mode": "markers",
         "name": "3314번(마천동~종합운동장)",
         "orientation": "v",
         "showlegend": true,
         "type": "scatter",
         "x": [
          8
         ],
         "xaxis": "x",
         "y": [
          17
         ],
         "yaxis": "y"
        },
        {
         "hovertemplate": "<b>%{hovertext}</b><br><br>버스노선명=3315번(마천동~송파구민회관)<br>일평균 승차 인원=%{x}<br>일평균 하차 인원=%{y}<extra></extra>",
         "hovertext": [
          "3315번(마천동~송파구민회관)"
         ],
         "legendgroup": "3315번(마천동~송파구민회관)",
         "marker": {
          "color": "#B6E880",
          "symbol": "circle"
         },
         "mode": "markers",
         "name": "3315번(마천동~송파구민회관)",
         "orientation": "v",
         "showlegend": true,
         "type": "scatter",
         "x": [
          9
         ],
         "xaxis": "x",
         "y": [
          13
         ],
         "yaxis": "y"
        },
        {
         "hovertemplate": "<b>%{hovertext}</b><br><br>버스노선명=3411번(강동공영차고지~삼성역)<br>일평균 승차 인원=%{x}<br>일평균 하차 인원=%{y}<extra></extra>",
         "hovertext": [
          "3411번(강동공영차고지~삼성역)"
         ],
         "legendgroup": "3411번(강동공영차고지~삼성역)",
         "marker": {
          "color": "#FF97FF",
          "symbol": "circle"
         },
         "mode": "markers",
         "name": "3411번(강동공영차고지~삼성역)",
         "orientation": "v",
         "showlegend": true,
         "type": "scatter",
         "x": [
          29
         ],
         "xaxis": "x",
         "y": [
          24
         ],
         "yaxis": "y"
        },
        {
         "hovertemplate": "<b>%{hovertext}</b><br><br>버스노선명=3412번(강동공영차고지~강남역)<br>일평균 승차 인원=%{x}<br>일평균 하차 인원=%{y}<extra></extra>",
         "hovertext": [
          "3412번(강동공영차고지~강남역)"
         ],
         "legendgroup": "3412번(강동공영차고지~강남역)",
         "marker": {
          "color": "#FECB52",
          "symbol": "circle"
         },
         "mode": "markers",
         "name": "3412번(강동공영차고지~강남역)",
         "orientation": "v",
         "showlegend": true,
         "type": "scatter",
         "x": [
          40
         ],
         "xaxis": "x",
         "y": [
          45
         ],
         "yaxis": "y"
        },
        {
         "hovertemplate": "<b>%{hovertext}</b><br><br>버스노선명=3413번(강일동공영차고지~수서경찰서)<br>일평균 승차 인원=%{x}<br>일평균 하차 인원=%{y}<extra></extra>",
         "hovertext": [
          "3413번(강일동공영차고지~수서경찰서)"
         ],
         "legendgroup": "3413번(강일동공영차고지~수서경찰서)",
         "marker": {
          "color": "#636efa",
          "symbol": "circle"
         },
         "mode": "markers",
         "name": "3413번(강일동공영차고지~수서경찰서)",
         "orientation": "v",
         "showlegend": true,
         "type": "scatter",
         "x": [
          27
         ],
         "xaxis": "x",
         "y": [
          25
         ],
         "yaxis": "y"
        },
        {
         "hovertemplate": "<b>%{hovertext}</b><br><br>버스노선명=3414번(오금동~개포동)<br>일평균 승차 인원=%{x}<br>일평균 하차 인원=%{y}<extra></extra>",
         "hovertext": [
          "3414번(오금동~개포동)"
         ],
         "legendgroup": "3414번(오금동~개포동)",
         "marker": {
          "color": "#EF553B",
          "symbol": "circle"
         },
         "mode": "markers",
         "name": "3414번(오금동~개포동)",
         "orientation": "v",
         "showlegend": true,
         "type": "scatter",
         "x": [
          44
         ],
         "xaxis": "x",
         "y": [
          48
         ],
         "yaxis": "y"
        },
        {
         "hovertemplate": "<b>%{hovertext}</b><br><br>버스노선명=3416번(마천역~세곡리엔파크2단지)<br>일평균 승차 인원=%{x}<br>일평균 하차 인원=%{y}<extra></extra>",
         "hovertext": [
          "3416번(마천역~세곡리엔파크2단지)"
         ],
         "legendgroup": "3416번(마천역~세곡리엔파크2단지)",
         "marker": {
          "color": "#00cc96",
          "symbol": "circle"
         },
         "mode": "markers",
         "name": "3416번(마천역~세곡리엔파크2단지)",
         "orientation": "v",
         "showlegend": true,
         "type": "scatter",
         "x": [
          8
         ],
         "xaxis": "x",
         "y": [
          8
         ],
         "yaxis": "y"
        },
        {
         "hovertemplate": "<b>%{hovertext}</b><br><br>버스노선명=3417번(장지공영차고지~삼성역)<br>일평균 승차 인원=%{x}<br>일평균 하차 인원=%{y}<extra></extra>",
         "hovertext": [
          "3417번(장지공영차고지~삼성역)"
         ],
         "legendgroup": "3417번(장지공영차고지~삼성역)",
         "marker": {
          "color": "#ab63fa",
          "symbol": "circle"
         },
         "mode": "markers",
         "name": "3417번(장지공영차고지~삼성역)",
         "orientation": "v",
         "showlegend": true,
         "type": "scatter",
         "x": [
          12
         ],
         "xaxis": "x",
         "y": [
          11
         ],
         "yaxis": "y"
        },
        {
         "hovertemplate": "<b>%{hovertext}</b><br><br>버스노선명=3422번(장지공영차고지~한티역)<br>일평균 승차 인원=%{x}<br>일평균 하차 인원=%{y}<extra></extra>",
         "hovertext": [
          "3422번(장지공영차고지~한티역)"
         ],
         "legendgroup": "3422번(장지공영차고지~한티역)",
         "marker": {
          "color": "#FFA15A",
          "symbol": "circle"
         },
         "mode": "markers",
         "name": "3422번(장지공영차고지~한티역)",
         "orientation": "v",
         "showlegend": true,
         "type": "scatter",
         "x": [
          33
         ],
         "xaxis": "x",
         "y": [
          34
         ],
         "yaxis": "y"
        },
        {
         "hovertemplate": "<b>%{hovertext}</b><br><br>버스노선명=4212번(사당동~중곡역)<br>일평균 승차 인원=%{x}<br>일평균 하차 인원=%{y}<extra></extra>",
         "hovertext": [
          "4212번(사당동~중곡역)"
         ],
         "legendgroup": "4212번(사당동~중곡역)",
         "marker": {
          "color": "#19d3f3",
          "symbol": "circle"
         },
         "mode": "markers",
         "name": "4212번(사당동~중곡역)",
         "orientation": "v",
         "showlegend": true,
         "type": "scatter",
         "x": [
          514
         ],
         "xaxis": "x",
         "y": [
          634
         ],
         "yaxis": "y"
        },
        {
         "hovertemplate": "<b>%{hovertext}</b><br><br>버스노선명=4312번(개포동~가락1동주민센터)<br>일평균 승차 인원=%{x}<br>일평균 하차 인원=%{y}<extra></extra>",
         "hovertext": [
          "4312번(개포동~가락1동주민센터)"
         ],
         "legendgroup": "4312번(개포동~가락1동주민센터)",
         "marker": {
          "color": "#FF6692",
          "symbol": "circle"
         },
         "mode": "markers",
         "name": "4312번(개포동~가락1동주민센터)",
         "orientation": "v",
         "showlegend": true,
         "type": "scatter",
         "x": [
          165
         ],
         "xaxis": "x",
         "y": [
          164
         ],
         "yaxis": "y"
        },
        {
         "hovertemplate": "<b>%{hovertext}</b><br><br>버스노선명=5012번(가산동~용산역)<br>일평균 승차 인원=%{x}<br>일평균 하차 인원=%{y}<extra></extra>",
         "hovertext": [
          "5012번(가산동~용산역)"
         ],
         "legendgroup": "5012번(가산동~용산역)",
         "marker": {
          "color": "#B6E880",
          "symbol": "circle"
         },
         "mode": "markers",
         "name": "5012번(가산동~용산역)",
         "orientation": "v",
         "showlegend": true,
         "type": "scatter",
         "x": [
          70296
         ],
         "xaxis": "x",
         "y": [
          68779
         ],
         "yaxis": "y"
        },
        {
         "hovertemplate": "<b>%{hovertext}</b><br><br>버스노선명=5511번(신림2동차고지~중앙대학교)<br>일평균 승차 인원=%{x}<br>일평균 하차 인원=%{y}<extra></extra>",
         "hovertext": [
          "5511번(신림2동차고지~중앙대학교)"
         ],
         "legendgroup": "5511번(신림2동차고지~중앙대학교)",
         "marker": {
          "color": "#FF97FF",
          "symbol": "circle"
         },
         "mode": "markers",
         "name": "5511번(신림2동차고지~중앙대학교)",
         "orientation": "v",
         "showlegend": true,
         "type": "scatter",
         "x": [
          303
         ],
         "xaxis": "x",
         "y": [
          401
         ],
         "yaxis": "y"
        },
        {
         "hovertemplate": "<b>%{hovertext}</b><br><br>버스노선명=5513번(서울대~벽산블루밍아파트)<br>일평균 승차 인원=%{x}<br>일평균 하차 인원=%{y}<extra></extra>",
         "hovertext": [
          "5513번(서울대~벽산블루밍아파트)"
         ],
         "legendgroup": "5513번(서울대~벽산블루밍아파트)",
         "marker": {
          "color": "#FECB52",
          "symbol": "circle"
         },
         "mode": "markers",
         "name": "5513번(서울대~벽산블루밍아파트)",
         "orientation": "v",
         "showlegend": true,
         "type": "scatter",
         "x": [
          142
         ],
         "xaxis": "x",
         "y": [
          222
         ],
         "yaxis": "y"
        },
        {
         "hovertemplate": "<b>%{hovertext}</b><br><br>버스노선명=5516번(신림2동차고지~노량진)<br>일평균 승차 인원=%{x}<br>일평균 하차 인원=%{y}<extra></extra>",
         "hovertext": [
          "5516번(신림2동차고지~노량진)"
         ],
         "legendgroup": "5516번(신림2동차고지~노량진)",
         "marker": {
          "color": "#636efa",
          "symbol": "circle"
         },
         "mode": "markers",
         "name": "5516번(신림2동차고지~노량진)",
         "orientation": "v",
         "showlegend": true,
         "type": "scatter",
         "x": [
          335
         ],
         "xaxis": "x",
         "y": [
          445
         ],
         "yaxis": "y"
        },
        {
         "hovertemplate": "<b>%{hovertext}</b><br><br>버스노선명=5517번(시흥2동벽산아파트~중앙대)<br>일평균 승차 인원=%{x}<br>일평균 하차 인원=%{y}<extra></extra>",
         "hovertext": [
          "5517번(시흥2동벽산아파트~중앙대)"
         ],
         "legendgroup": "5517번(시흥2동벽산아파트~중앙대)",
         "marker": {
          "color": "#EF553B",
          "symbol": "circle"
         },
         "mode": "markers",
         "name": "5517번(시흥2동벽산아파트~중앙대)",
         "orientation": "v",
         "showlegend": true,
         "type": "scatter",
         "x": [
          470
         ],
         "xaxis": "x",
         "y": [
          681
         ],
         "yaxis": "y"
        },
        {
         "hovertemplate": "<b>%{hovertext}</b><br><br>버스노선명=5519번(용천사~우방아파트)<br>일평균 승차 인원=%{x}<br>일평균 하차 인원=%{y}<extra></extra>",
         "hovertext": [
          "5519번(용천사~우방아파트)"
         ],
         "legendgroup": "5519번(용천사~우방아파트)",
         "marker": {
          "color": "#00cc96",
          "symbol": "circle"
         },
         "mode": "markers",
         "name": "5519번(용천사~우방아파트)",
         "orientation": "v",
         "showlegend": true,
         "type": "scatter",
         "x": [
          505
         ],
         "xaxis": "x",
         "y": [
          680
         ],
         "yaxis": "y"
        },
        {
         "hovertemplate": "<b>%{hovertext}</b><br><br>버스노선명=5524번(난곡차고지~중앙대학)<br>일평균 승차 인원=%{x}<br>일평균 하차 인원=%{y}<extra></extra>",
         "hovertext": [
          "5524번(난곡차고지~중앙대학)"
         ],
         "legendgroup": "5524번(난곡차고지~중앙대학)",
         "marker": {
          "color": "#ab63fa",
          "symbol": "circle"
         },
         "mode": "markers",
         "name": "5524번(난곡차고지~중앙대학)",
         "orientation": "v",
         "showlegend": true,
         "type": "scatter",
         "x": [
          348
         ],
         "xaxis": "x",
         "y": [
          437
         ],
         "yaxis": "y"
        },
        {
         "hovertemplate": "<b>%{hovertext}</b><br><br>버스노선명=5525번(시흥동~보라매공원)<br>일평균 승차 인원=%{x}<br>일평균 하차 인원=%{y}<extra></extra>",
         "hovertext": [
          "5525번(시흥동~보라매공원)"
         ],
         "legendgroup": "5525번(시흥동~보라매공원)",
         "marker": {
          "color": "#FFA15A",
          "symbol": "circle"
         },
         "mode": "markers",
         "name": "5525번(시흥동~보라매공원)",
         "orientation": "v",
         "showlegend": true,
         "type": "scatter",
         "x": [
          820
         ],
         "xaxis": "x",
         "y": [
          634
         ],
         "yaxis": "y"
        },
        {
         "hovertemplate": "<b>%{hovertext}</b><br><br>버스노선명=5528번(가산동~사당역)<br>일평균 승차 인원=%{x}<br>일평균 하차 인원=%{y}<extra></extra>",
         "hovertext": [
          "5528번(가산동~사당역)"
         ],
         "legendgroup": "5528번(가산동~사당역)",
         "marker": {
          "color": "#19d3f3",
          "symbol": "circle"
         },
         "mode": "markers",
         "name": "5528번(가산동~사당역)",
         "orientation": "v",
         "showlegend": true,
         "type": "scatter",
         "x": [
          5818
         ],
         "xaxis": "x",
         "y": [
          6523
         ],
         "yaxis": "y"
        },
        {
         "hovertemplate": "<b>%{hovertext}</b><br><br>버스노선명=5615번(난곡~여의도)<br>일평균 승차 인원=%{x}<br>일평균 하차 인원=%{y}<extra></extra>",
         "hovertext": [
          "5615번(난곡~여의도)"
         ],
         "legendgroup": "5615번(난곡~여의도)",
         "marker": {
          "color": "#FF6692",
          "symbol": "circle"
         },
         "mode": "markers",
         "name": "5615번(난곡~여의도)",
         "orientation": "v",
         "showlegend": true,
         "type": "scatter",
         "x": [
          1710
         ],
         "xaxis": "x",
         "y": [
          3225
         ],
         "yaxis": "y"
        },
        {
         "hovertemplate": "<b>%{hovertext}</b><br><br>버스노선명=5616번(가산동~영도중학교)<br>일평균 승차 인원=%{x}<br>일평균 하차 인원=%{y}<extra></extra>",
         "hovertext": [
          "5616번(가산동~영도중학교)"
         ],
         "legendgroup": "5616번(가산동~영도중학교)",
         "marker": {
          "color": "#B6E880",
          "symbol": "circle"
         },
         "mode": "markers",
         "name": "5616번(가산동~영도중학교)",
         "orientation": "v",
         "showlegend": true,
         "type": "scatter",
         "x": [
          11832
         ],
         "xaxis": "x",
         "y": [
          7072
         ],
         "yaxis": "y"
        },
        {
         "hovertemplate": "<b>%{hovertext}</b><br><br>버스노선명=5617번(시흥~구로디지털단지역)<br>일평균 승차 인원=%{x}<br>일평균 하차 인원=%{y}<extra></extra>",
         "hovertext": [
          "5617번(시흥~구로디지털단지역)"
         ],
         "legendgroup": "5617번(시흥~구로디지털단지역)",
         "marker": {
          "color": "#FF97FF",
          "symbol": "circle"
         },
         "mode": "markers",
         "name": "5617번(시흥~구로디지털단지역)",
         "orientation": "v",
         "showlegend": true,
         "type": "scatter",
         "x": [
          68
         ],
         "xaxis": "x",
         "y": [
          134
         ],
         "yaxis": "y"
        },
        {
         "hovertemplate": "<b>%{hovertext}</b><br><br>버스노선명=5618번(구로동~구로동)<br>일평균 승차 인원=%{x}<br>일평균 하차 인원=%{y}<extra></extra>",
         "hovertext": [
          "5618번(구로동~구로동)"
         ],
         "legendgroup": "5618번(구로동~구로동)",
         "marker": {
          "color": "#FECB52",
          "symbol": "circle"
         },
         "mode": "markers",
         "name": "5618번(구로동~구로동)",
         "orientation": "v",
         "showlegend": true,
         "type": "scatter",
         "x": [
          1027
         ],
         "xaxis": "x",
         "y": [
          1958
         ],
         "yaxis": "y"
        },
        {
         "hovertemplate": "<b>%{hovertext}</b><br><br>버스노선명=5619번(시흥동~신도림역)<br>일평균 승차 인원=%{x}<br>일평균 하차 인원=%{y}<extra></extra>",
         "hovertext": [
          "5619번(시흥동~신도림역)"
         ],
         "legendgroup": "5619번(시흥동~신도림역)",
         "marker": {
          "color": "#636efa",
          "symbol": "circle"
         },
         "mode": "markers",
         "name": "5619번(시흥동~신도림역)",
         "orientation": "v",
         "showlegend": true,
         "type": "scatter",
         "x": [
          1289
         ],
         "xaxis": "x",
         "y": [
          1380
         ],
         "yaxis": "y"
        },
        {
         "hovertemplate": "<b>%{hovertext}</b><br><br>버스노선명=5620번(시흥동~선유도역)<br>일평균 승차 인원=%{x}<br>일평균 하차 인원=%{y}<extra></extra>",
         "hovertext": [
          "5620번(시흥동~선유도역)"
         ],
         "legendgroup": "5620번(시흥동~선유도역)",
         "marker": {
          "color": "#EF553B",
          "symbol": "circle"
         },
         "mode": "markers",
         "name": "5620번(시흥동~선유도역)",
         "orientation": "v",
         "showlegend": true,
         "type": "scatter",
         "x": [
          4293
         ],
         "xaxis": "x",
         "y": [
          4461
         ],
         "yaxis": "y"
        },
        {
         "hovertemplate": "<b>%{hovertext}</b><br><br>버스노선명=5621번(삼익아파트~구로공단역)<br>일평균 승차 인원=%{x}<br>일평균 하차 인원=%{y}<extra></extra>",
         "hovertext": [
          "5621번(삼익아파트~구로공단역)"
         ],
         "legendgroup": "5621번(삼익아파트~구로공단역)",
         "marker": {
          "color": "#00cc96",
          "symbol": "circle"
         },
         "mode": "markers",
         "name": "5621번(삼익아파트~구로공단역)",
         "orientation": "v",
         "showlegend": true,
         "type": "scatter",
         "x": [
          139
         ],
         "xaxis": "x",
         "y": [
          122
         ],
         "yaxis": "y"
        },
        {
         "hovertemplate": "<b>%{hovertext}</b><br><br>버스노선명=5712번(가산동~홍대입구역)<br>일평균 승차 인원=%{x}<br>일평균 하차 인원=%{y}<extra></extra>",
         "hovertext": [
          "5712번(가산동~홍대입구역)"
         ],
         "legendgroup": "5712번(가산동~홍대입구역)",
         "marker": {
          "color": "#ab63fa",
          "symbol": "circle"
         },
         "mode": "markers",
         "name": "5712번(가산동~홍대입구역)",
         "orientation": "v",
         "showlegend": true,
         "type": "scatter",
         "x": [
          23622
         ],
         "xaxis": "x",
         "y": [
          22774
         ],
         "yaxis": "y"
        },
        {
         "hovertemplate": "<b>%{hovertext}</b><br><br>버스노선명=6211번(신월동~상왕십리)<br>일평균 승차 인원=%{x}<br>일평균 하차 인원=%{y}<extra></extra>",
         "hovertext": [
          "6211번(신월동~상왕십리)"
         ],
         "legendgroup": "6211번(신월동~상왕십리)",
         "marker": {
          "color": "#FFA15A",
          "symbol": "circle"
         },
         "mode": "markers",
         "name": "6211번(신월동~상왕십리)",
         "orientation": "v",
         "showlegend": true,
         "type": "scatter",
         "x": [
          75492
         ],
         "xaxis": "x",
         "y": [
          68600
         ],
         "yaxis": "y"
        },
        {
         "hovertemplate": "<b>%{hovertext}</b><br><br>버스노선명=6411번(신정동~선릉역)<br>일평균 승차 인원=%{x}<br>일평균 하차 인원=%{y}<extra></extra>",
         "hovertext": [
          "6411번(신정동~선릉역)"
         ],
         "legendgroup": "6411번(신정동~선릉역)",
         "marker": {
          "color": "#19d3f3",
          "symbol": "circle"
         },
         "mode": "markers",
         "name": "6411번(신정동~선릉역)",
         "orientation": "v",
         "showlegend": true,
         "type": "scatter",
         "x": [
          2440
         ],
         "xaxis": "x",
         "y": [
          3082
         ],
         "yaxis": "y"
        },
        {
         "hovertemplate": "<b>%{hovertext}</b><br><br>버스노선명=6511번(신정동~서울대)<br>일평균 승차 인원=%{x}<br>일평균 하차 인원=%{y}<extra></extra>",
         "hovertext": [
          "6511번(신정동~서울대)"
         ],
         "legendgroup": "6511번(신정동~서울대)",
         "marker": {
          "color": "#FF6692",
          "symbol": "circle"
         },
         "mode": "markers",
         "name": "6511번(신정동~서울대)",
         "orientation": "v",
         "showlegend": true,
         "type": "scatter",
         "x": [
          1848
         ],
         "xaxis": "x",
         "y": [
          3011
         ],
         "yaxis": "y"
        },
        {
         "hovertemplate": "<b>%{hovertext}</b><br><br>버스노선명=6512번(구로동~서울대)<br>일평균 승차 인원=%{x}<br>일평균 하차 인원=%{y}<extra></extra>",
         "hovertext": [
          "6512번(구로동~서울대)"
         ],
         "legendgroup": "6512번(구로동~서울대)",
         "marker": {
          "color": "#B6E880",
          "symbol": "circle"
         },
         "mode": "markers",
         "name": "6512번(구로동~서울대)",
         "orientation": "v",
         "showlegend": true,
         "type": "scatter",
         "x": [
          2447
         ],
         "xaxis": "x",
         "y": [
          3081
         ],
         "yaxis": "y"
        },
        {
         "hovertemplate": "<b>%{hovertext}</b><br><br>버스노선명=6514번(양천공영차고지~서울대)<br>일평균 승차 인원=%{x}<br>일평균 하차 인원=%{y}<extra></extra>",
         "hovertext": [
          "6514번(양천공영차고지~서울대)"
         ],
         "legendgroup": "6514번(양천공영차고지~서울대)",
         "marker": {
          "color": "#FF97FF",
          "symbol": "circle"
         },
         "mode": "markers",
         "name": "6514번(양천공영차고지~서울대)",
         "orientation": "v",
         "showlegend": true,
         "type": "scatter",
         "x": [
          55328
         ],
         "xaxis": "x",
         "y": [
          54913
         ],
         "yaxis": "y"
        },
        {
         "hovertemplate": "<b>%{hovertext}</b><br><br>버스노선명=6617번(양천차고지~목동우성아파트)<br>일평균 승차 인원=%{x}<br>일평균 하차 인원=%{y}<extra></extra>",
         "hovertext": [
          "6617번(양천차고지~목동우성아파트)"
         ],
         "legendgroup": "6617번(양천차고지~목동우성아파트)",
         "marker": {
          "color": "#FECB52",
          "symbol": "circle"
         },
         "mode": "markers",
         "name": "6617번(양천차고지~목동우성아파트)",
         "orientation": "v",
         "showlegend": true,
         "type": "scatter",
         "x": [
          46641
         ],
         "xaxis": "x",
         "y": [
          48494
         ],
         "yaxis": "y"
        },
        {
         "hovertemplate": "<b>%{hovertext}</b><br><br>버스노선명=6620번(양천공용차고지~당산역)<br>일평균 승차 인원=%{x}<br>일평균 하차 인원=%{y}<extra></extra>",
         "hovertext": [
          "6620번(양천공용차고지~당산역)"
         ],
         "legendgroup": "6620번(양천공용차고지~당산역)",
         "marker": {
          "color": "#636efa",
          "symbol": "circle"
         },
         "mode": "markers",
         "name": "6620번(양천공용차고지~당산역)",
         "orientation": "v",
         "showlegend": true,
         "type": "scatter",
         "x": [
          7467
         ],
         "xaxis": "x",
         "y": [
          8177
         ],
         "yaxis": "y"
        },
        {
         "hovertemplate": "<b>%{hovertext}</b><br><br>버스노선명=6623번(양천공영차고지~여의도)<br>일평균 승차 인원=%{x}<br>일평균 하차 인원=%{y}<extra></extra>",
         "hovertext": [
          "6623번(양천공영차고지~여의도)"
         ],
         "legendgroup": "6623번(양천공영차고지~여의도)",
         "marker": {
          "color": "#EF553B",
          "symbol": "circle"
         },
         "mode": "markers",
         "name": "6623번(양천공영차고지~여의도)",
         "orientation": "v",
         "showlegend": true,
         "type": "scatter",
         "x": [
          10887
         ],
         "xaxis": "x",
         "y": [
          11326
         ],
         "yaxis": "y"
        },
        {
         "hovertemplate": "<b>%{hovertext}</b><br><br>버스노선명=6627번(양천공영차고지~월촌중학교)<br>일평균 승차 인원=%{x}<br>일평균 하차 인원=%{y}<extra></extra>",
         "hovertext": [
          "6627번(양천공영차고지~월촌중학교)"
         ],
         "legendgroup": "6627번(양천공영차고지~월촌중학교)",
         "marker": {
          "color": "#00cc96",
          "symbol": "circle"
         },
         "mode": "markers",
         "name": "6627번(양천공영차고지~월촌중학교)",
         "orientation": "v",
         "showlegend": true,
         "type": "scatter",
         "x": [
          85564
         ],
         "xaxis": "x",
         "y": [
          80529
         ],
         "yaxis": "y"
        },
        {
         "hovertemplate": "<b>%{hovertext}</b><br><br>버스노선명=6628번(외발산동~여의도)<br>일평균 승차 인원=%{x}<br>일평균 하차 인원=%{y}<extra></extra>",
         "hovertext": [
          "6628번(외발산동~여의도)"
         ],
         "legendgroup": "6628번(외발산동~여의도)",
         "marker": {
          "color": "#ab63fa",
          "symbol": "circle"
         },
         "mode": "markers",
         "name": "6628번(외발산동~여의도)",
         "orientation": "v",
         "showlegend": true,
         "type": "scatter",
         "x": [
          39557
         ],
         "xaxis": "x",
         "y": [
          36503
         ],
         "yaxis": "y"
        },
        {
         "hovertemplate": "<b>%{hovertext}</b><br><br>버스노선명=6629번(방화동~영등포)<br>일평균 승차 인원=%{x}<br>일평균 하차 인원=%{y}<extra></extra>",
         "hovertext": [
          "6629번(방화동~영등포)"
         ],
         "legendgroup": "6629번(방화동~영등포)",
         "marker": {
          "color": "#FFA15A",
          "symbol": "circle"
         },
         "mode": "markers",
         "name": "6629번(방화동~영등포)",
         "orientation": "v",
         "showlegend": true,
         "type": "scatter",
         "x": [
          26387
         ],
         "xaxis": "x",
         "y": [
          23427
         ],
         "yaxis": "y"
        },
        {
         "hovertemplate": "<b>%{hovertext}</b><br><br>버스노선명=6630번(외발산동~영등포시장)<br>일평균 승차 인원=%{x}<br>일평균 하차 인원=%{y}<extra></extra>",
         "hovertext": [
          "6630번(외발산동~영등포시장)"
         ],
         "legendgroup": "6630번(외발산동~영등포시장)",
         "marker": {
          "color": "#19d3f3",
          "symbol": "circle"
         },
         "mode": "markers",
         "name": "6630번(외발산동~영등포시장)",
         "orientation": "v",
         "showlegend": true,
         "type": "scatter",
         "x": [
          25473
         ],
         "xaxis": "x",
         "y": [
          21995
         ],
         "yaxis": "y"
        },
        {
         "hovertemplate": "<b>%{hovertext}</b><br><br>버스노선명=6631번(강서공영차고지~영등포역)<br>일평균 승차 인원=%{x}<br>일평균 하차 인원=%{y}<extra></extra>",
         "hovertext": [
          "6631번(강서공영차고지~영등포역)"
         ],
         "legendgroup": "6631번(강서공영차고지~영등포역)",
         "marker": {
          "color": "#FF6692",
          "symbol": "circle"
         },
         "mode": "markers",
         "name": "6631번(강서공영차고지~영등포역)",
         "orientation": "v",
         "showlegend": true,
         "type": "scatter",
         "x": [
          4822
         ],
         "xaxis": "x",
         "y": [
          5001
         ],
         "yaxis": "y"
        },
        {
         "hovertemplate": "<b>%{hovertext}</b><br><br>버스노선명=6632번(강서공영차고지~당산역)<br>일평균 승차 인원=%{x}<br>일평균 하차 인원=%{y}<extra></extra>",
         "hovertext": [
          "6632번(강서공영차고지~당산역)"
         ],
         "legendgroup": "6632번(강서공영차고지~당산역)",
         "marker": {
          "color": "#B6E880",
          "symbol": "circle"
         },
         "mode": "markers",
         "name": "6632번(강서공영차고지~당산역)",
         "orientation": "v",
         "showlegend": true,
         "type": "scatter",
         "x": [
          7619
         ],
         "xaxis": "x",
         "y": [
          7623
         ],
         "yaxis": "y"
        },
        {
         "hovertemplate": "<b>%{hovertext}</b><br><br>버스노선명=6712번(방화동~대흥사거리)<br>일평균 승차 인원=%{x}<br>일평균 하차 인원=%{y}<extra></extra>",
         "hovertext": [
          "6712번(방화동~대흥사거리)"
         ],
         "legendgroup": "6712번(방화동~대흥사거리)",
         "marker": {
          "color": "#FF97FF",
          "symbol": "circle"
         },
         "mode": "markers",
         "name": "6712번(방화동~대흥사거리)",
         "orientation": "v",
         "showlegend": true,
         "type": "scatter",
         "x": [
          3889
         ],
         "xaxis": "x",
         "y": [
          4011
         ],
         "yaxis": "y"
        },
        {
         "hovertemplate": "<b>%{hovertext}</b><br><br>버스노선명=6714번(양천공영차고지~이대부고)<br>일평균 승차 인원=%{x}<br>일평균 하차 인원=%{y}<extra></extra>",
         "hovertext": [
          "6714번(양천공영차고지~이대부고)"
         ],
         "legendgroup": "6714번(양천공영차고지~이대부고)",
         "marker": {
          "color": "#FECB52",
          "symbol": "circle"
         },
         "mode": "markers",
         "name": "6714번(양천공영차고지~이대부고)",
         "orientation": "v",
         "showlegend": true,
         "type": "scatter",
         "x": [
          47899
         ],
         "xaxis": "x",
         "y": [
          49390
         ],
         "yaxis": "y"
        },
        {
         "hovertemplate": "<b>%{hovertext}</b><br><br>버스노선명=6715번(신월동~상암동)<br>일평균 승차 인원=%{x}<br>일평균 하차 인원=%{y}<extra></extra>",
         "hovertext": [
          "6715번(신월동~상암동)"
         ],
         "legendgroup": "6715번(신월동~상암동)",
         "marker": {
          "color": "#636efa",
          "symbol": "circle"
         },
         "mode": "markers",
         "name": "6715번(신월동~상암동)",
         "orientation": "v",
         "showlegend": true,
         "type": "scatter",
         "x": [
          75053
         ],
         "xaxis": "x",
         "y": [
          69556
         ],
         "yaxis": "y"
        },
        {
         "hovertemplate": "<b>%{hovertext}</b><br><br>버스노선명=7011번(은평차고지~중구청)<br>일평균 승차 인원=%{x}<br>일평균 하차 인원=%{y}<extra></extra>",
         "hovertext": [
          "7011번(은평차고지~중구청)"
         ],
         "legendgroup": "7011번(은평차고지~중구청)",
         "marker": {
          "color": "#EF553B",
          "symbol": "circle"
         },
         "mode": "markers",
         "name": "7011번(은평차고지~중구청)",
         "orientation": "v",
         "showlegend": true,
         "type": "scatter",
         "x": [
          683
         ],
         "xaxis": "x",
         "y": [
          678
         ],
         "yaxis": "y"
        },
        {
         "hovertemplate": "<b>%{hovertext}</b><br><br>버스노선명=7018번(북가좌동~광교)<br>일평균 승차 인원=%{x}<br>일평균 하차 인원=%{y}<extra></extra>",
         "hovertext": [
          "7018번(북가좌동~광교)"
         ],
         "legendgroup": "7018번(북가좌동~광교)",
         "marker": {
          "color": "#00cc96",
          "symbol": "circle"
         },
         "mode": "markers",
         "name": "7018번(북가좌동~광교)",
         "orientation": "v",
         "showlegend": true,
         "type": "scatter",
         "x": [
          145
         ],
         "xaxis": "x",
         "y": [
          189
         ],
         "yaxis": "y"
        },
        {
         "hovertemplate": "<b>%{hovertext}</b><br><br>버스노선명=7019번(은평공영차고지~시청(서소문))<br>일평균 승차 인원=%{x}<br>일평균 하차 인원=%{y}<extra></extra>",
         "hovertext": [
          "7019번(은평공영차고지~시청(서소문))"
         ],
         "legendgroup": "7019번(은평공영차고지~시청(서소문))",
         "marker": {
          "color": "#ab63fa",
          "symbol": "circle"
         },
         "mode": "markers",
         "name": "7019번(은평공영차고지~시청(서소문))",
         "orientation": "v",
         "showlegend": true,
         "type": "scatter",
         "x": [
          783
         ],
         "xaxis": "x",
         "y": [
          894
         ],
         "yaxis": "y"
        },
        {
         "hovertemplate": "<b>%{hovertext}</b><br><br>버스노선명=7022번(구산동~서울역)<br>일평균 승차 인원=%{x}<br>일평균 하차 인원=%{y}<extra></extra>",
         "hovertext": [
          "7022번(구산동~서울역)"
         ],
         "legendgroup": "7022번(구산동~서울역)",
         "marker": {
          "color": "#FFA15A",
          "symbol": "circle"
         },
         "mode": "markers",
         "name": "7022번(구산동~서울역)",
         "orientation": "v",
         "showlegend": true,
         "type": "scatter",
         "x": [
          219
         ],
         "xaxis": "x",
         "y": [
          169
         ],
         "yaxis": "y"
        },
        {
         "hovertemplate": "<b>%{hovertext}</b><br><br>버스노선명=7211번(기자촌~신설동)<br>일평균 승차 인원=%{x}<br>일평균 하차 인원=%{y}<extra></extra>",
         "hovertext": [
          "7211번(기자촌~신설동)"
         ],
         "legendgroup": "7211번(기자촌~신설동)",
         "marker": {
          "color": "#19d3f3",
          "symbol": "circle"
         },
         "mode": "markers",
         "name": "7211번(기자촌~신설동)",
         "orientation": "v",
         "showlegend": true,
         "type": "scatter",
         "x": [
          290
         ],
         "xaxis": "x",
         "y": [
          316
         ],
         "yaxis": "y"
        },
        {
         "hovertemplate": "<b>%{hovertext}</b><br><br>버스노선명=7611번(은평차고지~여의도)<br>일평균 승차 인원=%{x}<br>일평균 하차 인원=%{y}<extra></extra>",
         "hovertext": [
          "7611번(은평차고지~여의도)"
         ],
         "legendgroup": "7611번(은평차고지~여의도)",
         "marker": {
          "color": "#FF6692",
          "symbol": "circle"
         },
         "mode": "markers",
         "name": "7611번(은평차고지~여의도)",
         "orientation": "v",
         "showlegend": true,
         "type": "scatter",
         "x": [
          1143
         ],
         "xaxis": "x",
         "y": [
          865
         ],
         "yaxis": "y"
        },
        {
         "hovertemplate": "<b>%{hovertext}</b><br><br>버스노선명=7612번(홍은동~영등포)<br>일평균 승차 인원=%{x}<br>일평균 하차 인원=%{y}<extra></extra>",
         "hovertext": [
          "7612번(홍은동~영등포)"
         ],
         "legendgroup": "7612번(홍은동~영등포)",
         "marker": {
          "color": "#B6E880",
          "symbol": "circle"
         },
         "mode": "markers",
         "name": "7612번(홍은동~영등포)",
         "orientation": "v",
         "showlegend": true,
         "type": "scatter",
         "x": [
          2278
         ],
         "xaxis": "x",
         "y": [
          2370
         ],
         "yaxis": "y"
        },
        {
         "hovertemplate": "<b>%{hovertext}</b><br><br>버스노선명=7613번(구산동~여의도)<br>일평균 승차 인원=%{x}<br>일평균 하차 인원=%{y}<extra></extra>",
         "hovertext": [
          "7613번(구산동~여의도)"
         ],
         "legendgroup": "7613번(구산동~여의도)",
         "marker": {
          "color": "#FF97FF",
          "symbol": "circle"
         },
         "mode": "markers",
         "name": "7613번(구산동~여의도)",
         "orientation": "v",
         "showlegend": true,
         "type": "scatter",
         "x": [
          309
         ],
         "xaxis": "x",
         "y": [
          511
         ],
         "yaxis": "y"
        },
        {
         "hovertemplate": "<b>%{hovertext}</b><br><br>버스노선명=7711번(덕은동~홍대입구)<br>일평균 승차 인원=%{x}<br>일평균 하차 인원=%{y}<extra></extra>",
         "hovertext": [
          "7711번(덕은동~홍대입구)"
         ],
         "legendgroup": "7711번(덕은동~홍대입구)",
         "marker": {
          "color": "#FECB52",
          "symbol": "circle"
         },
         "mode": "markers",
         "name": "7711번(덕은동~홍대입구)",
         "orientation": "v",
         "showlegend": true,
         "type": "scatter",
         "x": [
          773
         ],
         "xaxis": "x",
         "y": [
          1347
         ],
         "yaxis": "y"
        },
        {
         "hovertemplate": "<b>%{hovertext}</b><br><br>버스노선명=7713번(홍연2교~홍연2교)<br>일평균 승차 인원=%{x}<br>일평균 하차 인원=%{y}<extra></extra>",
         "hovertext": [
          "7713번(홍연2교~홍연2교)"
         ],
         "legendgroup": "7713번(홍연2교~홍연2교)",
         "marker": {
          "color": "#636efa",
          "symbol": "circle"
         },
         "mode": "markers",
         "name": "7713번(홍연2교~홍연2교)",
         "orientation": "v",
         "showlegend": true,
         "type": "scatter",
         "x": [
          789
         ],
         "xaxis": "x",
         "y": [
          272
         ],
         "yaxis": "y"
        },
        {
         "hovertemplate": "<b>%{hovertext}</b><br><br>버스노선명=7719번(북가좌동~녹번역)<br>일평균 승차 인원=%{x}<br>일평균 하차 인원=%{y}<extra></extra>",
         "hovertext": [
          "7719번(북가좌동~녹번역)"
         ],
         "legendgroup": "7719번(북가좌동~녹번역)",
         "marker": {
          "color": "#EF553B",
          "symbol": "circle"
         },
         "mode": "markers",
         "name": "7719번(북가좌동~녹번역)",
         "orientation": "v",
         "showlegend": true,
         "type": "scatter",
         "x": [
          37
         ],
         "xaxis": "x",
         "y": [
          30
         ],
         "yaxis": "y"
        },
        {
         "hovertemplate": "<b>%{hovertext}</b><br><br>버스노선명=7720번(구산동~신촌)<br>일평균 승차 인원=%{x}<br>일평균 하차 인원=%{y}<extra></extra>",
         "hovertext": [
          "7720번(구산동~신촌)"
         ],
         "legendgroup": "7720번(구산동~신촌)",
         "marker": {
          "color": "#00cc96",
          "symbol": "circle"
         },
         "mode": "markers",
         "name": "7720번(구산동~신촌)",
         "orientation": "v",
         "showlegend": true,
         "type": "scatter",
         "x": [
          129
         ],
         "xaxis": "x",
         "y": [
          104
         ],
         "yaxis": "y"
        },
        {
         "hovertemplate": "<b>%{hovertext}</b><br><br>버스노선명=7722번(진관공영차고지~녹번역)<br>일평균 승차 인원=%{x}<br>일평균 하차 인원=%{y}<extra></extra>",
         "hovertext": [
          "7722번(진관공영차고지~녹번역)"
         ],
         "legendgroup": "7722번(진관공영차고지~녹번역)",
         "marker": {
          "color": "#ab63fa",
          "symbol": "circle"
         },
         "mode": "markers",
         "name": "7722번(진관공영차고지~녹번역)",
         "orientation": "v",
         "showlegend": true,
         "type": "scatter",
         "x": [
          35
         ],
         "xaxis": "x",
         "y": [
          26
         ],
         "yaxis": "y"
        },
        {
         "hovertemplate": "<b>%{hovertext}</b><br><br>버스노선명=7723번(진관공영차고지~구파발역)<br>일평균 승차 인원=%{x}<br>일평균 하차 인원=%{y}<extra></extra>",
         "hovertext": [
          "7723번(진관공영차고지~구파발역)"
         ],
         "legendgroup": "7723번(진관공영차고지~구파발역)",
         "marker": {
          "color": "#FFA15A",
          "symbol": "circle"
         },
         "mode": "markers",
         "name": "7723번(진관공영차고지~구파발역)",
         "orientation": "v",
         "showlegend": true,
         "type": "scatter",
         "x": [
          23
         ],
         "xaxis": "x",
         "y": [
          15
         ],
         "yaxis": "y"
        },
        {
         "hovertemplate": "<b>%{hovertext}</b><br><br>버스노선명=7730번(은평공영차고지~이북오도청)<br>일평균 승차 인원=%{x}<br>일평균 하차 인원=%{y}<extra></extra>",
         "hovertext": [
          "7730번(은평공영차고지~이북오도청)"
         ],
         "legendgroup": "7730번(은평공영차고지~이북오도청)",
         "marker": {
          "color": "#19d3f3",
          "symbol": "circle"
         },
         "mode": "markers",
         "name": "7730번(은평공영차고지~이북오도청)",
         "orientation": "v",
         "showlegend": true,
         "type": "scatter",
         "x": [
          864
         ],
         "xaxis": "x",
         "y": [
          1032
         ],
         "yaxis": "y"
        },
        {
         "hovertemplate": "<b>%{hovertext}</b><br><br>버스노선명=710번(상암차고지~수유역)<br>일평균 승차 인원=%{x}<br>일평균 하차 인원=%{y}<extra></extra>",
         "hovertext": [
          "710번(상암차고지~수유역)"
         ],
         "legendgroup": "710번(상암차고지~수유역)",
         "marker": {
          "color": "#FF6692",
          "symbol": "circle"
         },
         "mode": "markers",
         "name": "710번(상암차고지~수유역)",
         "orientation": "v",
         "showlegend": true,
         "type": "scatter",
         "x": [
          1844
         ],
         "xaxis": "x",
         "y": [
          2050
         ],
         "yaxis": "y"
        },
        {
         "hovertemplate": "<b>%{hovertext}</b><br><br>버스노선명=1122번(상진운수차고지~원자력병원)<br>일평균 승차 인원=%{x}<br>일평균 하차 인원=%{y}<extra></extra>",
         "hovertext": [
          "1122번(상진운수차고지~원자력병원)"
         ],
         "legendgroup": "1122번(상진운수차고지~원자력병원)",
         "marker": {
          "color": "#B6E880",
          "symbol": "circle"
         },
         "mode": "markers",
         "name": "1122번(상진운수차고지~원자력병원)",
         "orientation": "v",
         "showlegend": true,
         "type": "scatter",
         "x": [
          2
         ],
         "xaxis": "x",
         "y": [
          9
         ],
         "yaxis": "y"
        },
        {
         "hovertemplate": "<b>%{hovertext}</b><br><br>버스노선명=7013A(은평차고지~남대문시장)<br>일평균 승차 인원=%{x}<br>일평균 하차 인원=%{y}<extra></extra>",
         "hovertext": [
          "7013A(은평차고지~남대문시장)"
         ],
         "legendgroup": "7013A(은평차고지~남대문시장)",
         "marker": {
          "color": "#FF97FF",
          "symbol": "circle"
         },
         "mode": "markers",
         "name": "7013A(은평차고지~남대문시장)",
         "orientation": "v",
         "showlegend": true,
         "type": "scatter",
         "x": [
          246
         ],
         "xaxis": "x",
         "y": [
          171
         ],
         "yaxis": "y"
        },
        {
         "hovertemplate": "<b>%{hovertext}</b><br><br>버스노선명=7013B(은평차고지~남대문시장)<br>일평균 승차 인원=%{x}<br>일평균 하차 인원=%{y}<extra></extra>",
         "hovertext": [
          "7013B(은평차고지~남대문시장)"
         ],
         "legendgroup": "7013B(은평차고지~남대문시장)",
         "marker": {
          "color": "#FECB52",
          "symbol": "circle"
         },
         "mode": "markers",
         "name": "7013B(은평차고지~남대문시장)",
         "orientation": "v",
         "showlegend": true,
         "type": "scatter",
         "x": [
          251
         ],
         "xaxis": "x",
         "y": [
          169
         ],
         "yaxis": "y"
        },
        {
         "hovertemplate": "<b>%{hovertext}</b><br><br>버스노선명=421번(염곡동~옥수동)<br>일평균 승차 인원=%{x}<br>일평균 하차 인원=%{y}<extra></extra>",
         "hovertext": [
          "421번(염곡동~옥수동)"
         ],
         "legendgroup": "421번(염곡동~옥수동)",
         "marker": {
          "color": "#636efa",
          "symbol": "circle"
         },
         "mode": "markers",
         "name": "421번(염곡동~옥수동)",
         "orientation": "v",
         "showlegend": true,
         "type": "scatter",
         "x": [
          292
         ],
         "xaxis": "x",
         "y": [
          328
         ],
         "yaxis": "y"
        },
        {
         "hovertemplate": "<b>%{hovertext}</b><br><br>버스노선명=405번(염곡동~시청광장)<br>일평균 승차 인원=%{x}<br>일평균 하차 인원=%{y}<extra></extra>",
         "hovertext": [
          "405번(염곡동~시청광장)"
         ],
         "legendgroup": "405번(염곡동~시청광장)",
         "marker": {
          "color": "#EF553B",
          "symbol": "circle"
         },
         "mode": "markers",
         "name": "405번(염곡동~시청광장)",
         "orientation": "v",
         "showlegend": true,
         "type": "scatter",
         "x": [
          113
         ],
         "xaxis": "x",
         "y": [
          112
         ],
         "yaxis": "y"
        },
        {
         "hovertemplate": "<b>%{hovertext}</b><br><br>버스노선명=4319번(전원마을~잠실역)<br>일평균 승차 인원=%{x}<br>일평균 하차 인원=%{y}<extra></extra>",
         "hovertext": [
          "4319번(전원마을~잠실역)"
         ],
         "legendgroup": "4319번(전원마을~잠실역)",
         "marker": {
          "color": "#00cc96",
          "symbol": "circle"
         },
         "mode": "markers",
         "name": "4319번(전원마을~잠실역)",
         "orientation": "v",
         "showlegend": true,
         "type": "scatter",
         "x": [
          84
         ],
         "xaxis": "x",
         "y": [
          84
         ],
         "yaxis": "y"
        },
        {
         "hovertemplate": "<b>%{hovertext}</b><br><br>버스노선명=502(월암공영차고지~한국은행신세계)<br>일평균 승차 인원=%{x}<br>일평균 하차 인원=%{y}<extra></extra>",
         "hovertext": [
          "502(월암공영차고지~한국은행신세계)"
         ],
         "legendgroup": "502(월암공영차고지~한국은행신세계)",
         "marker": {
          "color": "#ab63fa",
          "symbol": "circle"
         },
         "mode": "markers",
         "name": "502(월암공영차고지~한국은행신세계)",
         "orientation": "v",
         "showlegend": true,
         "type": "scatter",
         "x": [
          184
         ],
         "xaxis": "x",
         "y": [
          188
         ],
         "yaxis": "y"
        },
        {
         "hovertemplate": "<b>%{hovertext}</b><br><br>버스노선명=3011번(장지공영차고지~한남동)<br>일평균 승차 인원=%{x}<br>일평균 하차 인원=%{y}<extra></extra>",
         "hovertext": [
          "3011번(장지공영차고지~한남동)"
         ],
         "legendgroup": "3011번(장지공영차고지~한남동)",
         "marker": {
          "color": "#FFA15A",
          "symbol": "circle"
         },
         "mode": "markers",
         "name": "3011번(장지공영차고지~한남동)",
         "orientation": "v",
         "showlegend": true,
         "type": "scatter",
         "x": [
          228
         ],
         "xaxis": "x",
         "y": [
          234
         ],
         "yaxis": "y"
        },
        {
         "hovertemplate": "<b>%{hovertext}</b><br><br>버스노선명=672번(방화동~이대후문)<br>일평균 승차 인원=%{x}<br>일평균 하차 인원=%{y}<extra></extra>",
         "hovertext": [
          "672번(방화동~이대후문)"
         ],
         "legendgroup": "672번(방화동~이대후문)",
         "marker": {
          "color": "#19d3f3",
          "symbol": "circle"
         },
         "mode": "markers",
         "name": "672번(방화동~이대후문)",
         "orientation": "v",
         "showlegend": true,
         "type": "scatter",
         "x": [
          3032
         ],
         "xaxis": "x",
         "y": [
          2757
         ],
         "yaxis": "y"
        },
        {
         "hovertemplate": "<b>%{hovertext}</b><br><br>버스노선명=653(외발산동~가산디지털단지역)<br>일평균 승차 인원=%{x}<br>일평균 하차 인원=%{y}<extra></extra>",
         "hovertext": [
          "653(외발산동~가산디지털단지역)"
         ],
         "legendgroup": "653(외발산동~가산디지털단지역)",
         "marker": {
          "color": "#FF6692",
          "symbol": "circle"
         },
         "mode": "markers",
         "name": "653(외발산동~가산디지털단지역)",
         "orientation": "v",
         "showlegend": true,
         "type": "scatter",
         "x": [
          151998
         ],
         "xaxis": "x",
         "y": [
          135952
         ],
         "yaxis": "y"
        },
        {
         "hovertemplate": "<b>%{hovertext}</b><br><br>버스노선명=3318번(강동차고지~미사강변도시~마천동)<br>일평균 승차 인원=%{x}<br>일평균 하차 인원=%{y}<extra></extra>",
         "hovertext": [
          "3318번(강동차고지~미사강변도시~마천동)"
         ],
         "legendgroup": "3318번(강동차고지~미사강변도시~마천동)",
         "marker": {
          "color": "#B6E880",
          "symbol": "circle"
         },
         "mode": "markers",
         "name": "3318번(강동차고지~미사강변도시~마천동)",
         "orientation": "v",
         "showlegend": true,
         "type": "scatter",
         "x": [
          30
         ],
         "xaxis": "x",
         "y": [
          44
         ],
         "yaxis": "y"
        },
        {
         "hovertemplate": "<b>%{hovertext}</b><br><br>버스노선명=333번(송파차고지~올림픽공원)<br>일평균 승차 인원=%{x}<br>일평균 하차 인원=%{y}<extra></extra>",
         "hovertext": [
          "333번(송파차고지~올림픽공원)"
         ],
         "legendgroup": "333번(송파차고지~올림픽공원)",
         "marker": {
          "color": "#FF97FF",
          "symbol": "circle"
         },
         "mode": "markers",
         "name": "333번(송파차고지~올림픽공원)",
         "orientation": "v",
         "showlegend": true,
         "type": "scatter",
         "x": [
          44
         ],
         "xaxis": "x",
         "y": [
          50
         ],
         "yaxis": "y"
        },
        {
         "hovertemplate": "<b>%{hovertext}</b><br><br>버스노선명=3319(장지공영차고지~잠실역)<br>일평균 승차 인원=%{x}<br>일평균 하차 인원=%{y}<extra></extra>",
         "hovertext": [
          "3319(장지공영차고지~잠실역)"
         ],
         "legendgroup": "3319(장지공영차고지~잠실역)",
         "marker": {
          "color": "#FECB52",
          "symbol": "circle"
         },
         "mode": "markers",
         "name": "3319(장지공영차고지~잠실역)",
         "orientation": "v",
         "showlegend": true,
         "type": "scatter",
         "x": [
          9
         ],
         "xaxis": "x",
         "y": [
          6
         ],
         "yaxis": "y"
        },
        {
         "hovertemplate": "<b>%{hovertext}</b><br><br>버스노선명=7212번(은평차고지~극동그린아파트앞)<br>일평균 승차 인원=%{x}<br>일평균 하차 인원=%{y}<extra></extra>",
         "hovertext": [
          "7212번(은평차고지~극동그린아파트앞)"
         ],
         "legendgroup": "7212번(은평차고지~극동그린아파트앞)",
         "marker": {
          "color": "#636efa",
          "symbol": "circle"
         },
         "mode": "markers",
         "name": "7212번(은평차고지~극동그린아파트앞)",
         "orientation": "v",
         "showlegend": true,
         "type": "scatter",
         "x": [
          258
         ],
         "xaxis": "x",
         "y": [
          240
         ],
         "yaxis": "y"
        },
        {
         "hovertemplate": "<b>%{hovertext}</b><br><br>버스노선명=2016번(중랑차고지~이촌2동)<br>일평균 승차 인원=%{x}<br>일평균 하차 인원=%{y}<extra></extra>",
         "hovertext": [
          "2016번(중랑차고지~이촌2동)"
         ],
         "legendgroup": "2016번(중랑차고지~이촌2동)",
         "marker": {
          "color": "#EF553B",
          "symbol": "circle"
         },
         "mode": "markers",
         "name": "2016번(중랑차고지~이촌2동)",
         "orientation": "v",
         "showlegend": true,
         "type": "scatter",
         "x": [
          190
         ],
         "xaxis": "x",
         "y": [
          214
         ],
         "yaxis": "y"
        },
        {
         "hovertemplate": "<b>%{hovertext}</b><br><br>버스노선명=662번(외발산동~여의나루역)<br>일평균 승차 인원=%{x}<br>일평균 하차 인원=%{y}<extra></extra>",
         "hovertext": [
          "662번(외발산동~여의나루역)"
         ],
         "legendgroup": "662번(외발산동~여의나루역)",
         "marker": {
          "color": "#00cc96",
          "symbol": "circle"
         },
         "mode": "markers",
         "name": "662번(외발산동~여의나루역)",
         "orientation": "v",
         "showlegend": true,
         "type": "scatter",
         "x": [
          70899
         ],
         "xaxis": "x",
         "y": [
          70996
         ],
         "yaxis": "y"
        },
        {
         "hovertemplate": "<b>%{hovertext}</b><br><br>버스노선명=350번(송파공영차고지~노들역)<br>일평균 승차 인원=%{x}<br>일평균 하차 인원=%{y}<extra></extra>",
         "hovertext": [
          "350번(송파공영차고지~노들역)"
         ],
         "legendgroup": "350번(송파공영차고지~노들역)",
         "marker": {
          "color": "#ab63fa",
          "symbol": "circle"
         },
         "mode": "markers",
         "name": "350번(송파공영차고지~노들역)",
         "orientation": "v",
         "showlegend": true,
         "type": "scatter",
         "x": [
          223
         ],
         "xaxis": "x",
         "y": [
          239
         ],
         "yaxis": "y"
        },
        {
         "hovertemplate": "<b>%{hovertext}</b><br><br>버스노선명=N13번(상계동차고지~송파공영차고지)<br>일평균 승차 인원=%{x}<br>일평균 하차 인원=%{y}<extra></extra>",
         "hovertext": [
          "N13번(상계동차고지~송파공영차고지)"
         ],
         "legendgroup": "N13번(상계동차고지~송파공영차고지)",
         "marker": {
          "color": "#FFA15A",
          "symbol": "circle"
         },
         "mode": "markers",
         "name": "N13번(상계동차고지~송파공영차고지)",
         "orientation": "v",
         "showlegend": true,
         "type": "scatter",
         "x": [
          252
         ],
         "xaxis": "x",
         "y": [
          259
         ],
         "yaxis": "y"
        },
        {
         "hovertemplate": "<b>%{hovertext}</b><br><br>버스노선명=N13번(송파공영차고지~상계동차고지)<br>일평균 승차 인원=%{x}<br>일평균 하차 인원=%{y}<extra></extra>",
         "hovertext": [
          "N13번(송파공영차고지~상계동차고지)"
         ],
         "legendgroup": "N13번(송파공영차고지~상계동차고지)",
         "marker": {
          "color": "#19d3f3",
          "symbol": "circle"
         },
         "mode": "markers",
         "name": "N13번(송파공영차고지~상계동차고지)",
         "orientation": "v",
         "showlegend": true,
         "type": "scatter",
         "x": [
          252
         ],
         "xaxis": "x",
         "y": [
          259
         ],
         "yaxis": "y"
        },
        {
         "hovertemplate": "<b>%{hovertext}</b><br><br>버스노선명=N16번(도봉산공영차고지~온수동차고지)<br>일평균 승차 인원=%{x}<br>일평균 하차 인원=%{y}<extra></extra>",
         "hovertext": [
          "N16번(도봉산공영차고지~온수동차고지)"
         ],
         "legendgroup": "N16번(도봉산공영차고지~온수동차고지)",
         "marker": {
          "color": "#FF6692",
          "symbol": "circle"
         },
         "mode": "markers",
         "name": "N16번(도봉산공영차고지~온수동차고지)",
         "orientation": "v",
         "showlegend": true,
         "type": "scatter",
         "x": [
          4940
         ],
         "xaxis": "x",
         "y": [
          6880
         ],
         "yaxis": "y"
        },
        {
         "hovertemplate": "<b>%{hovertext}</b><br><br>버스노선명=N16번(온수동차고지~도봉산공영차고지)<br>일평균 승차 인원=%{x}<br>일평균 하차 인원=%{y}<extra></extra>",
         "hovertext": [
          "N16번(온수동차고지~도봉산공영차고지)"
         ],
         "legendgroup": "N16번(온수동차고지~도봉산공영차고지)",
         "marker": {
          "color": "#B6E880",
          "symbol": "circle"
         },
         "mode": "markers",
         "name": "N16번(온수동차고지~도봉산공영차고지)",
         "orientation": "v",
         "showlegend": true,
         "type": "scatter",
         "x": [
          2499
         ],
         "xaxis": "x",
         "y": [
          3513
         ],
         "yaxis": "y"
        },
        {
         "hovertemplate": "<b>%{hovertext}</b><br><br>버스노선명=N30(강동공영차고지~서울역환승센터)<br>일평균 승차 인원=%{x}<br>일평균 하차 인원=%{y}<extra></extra>",
         "hovertext": [
          "N30(강동공영차고지~서울역환승센터)"
         ],
         "legendgroup": "N30(강동공영차고지~서울역환승센터)",
         "marker": {
          "color": "#FF97FF",
          "symbol": "circle"
         },
         "mode": "markers",
         "name": "N30(강동공영차고지~서울역환승센터)",
         "orientation": "v",
         "showlegend": true,
         "type": "scatter",
         "x": [
          115
         ],
         "xaxis": "x",
         "y": [
          112
         ],
         "yaxis": "y"
        },
        {
         "hovertemplate": "<b>%{hovertext}</b><br><br>버스노선명=N61번(양천공영차고지~상계동차고지)<br>일평균 승차 인원=%{x}<br>일평균 하차 인원=%{y}<extra></extra>",
         "hovertext": [
          "N61번(양천공영차고지~상계동차고지)"
         ],
         "legendgroup": "N61번(양천공영차고지~상계동차고지)",
         "marker": {
          "color": "#FECB52",
          "symbol": "circle"
         },
         "mode": "markers",
         "name": "N61번(양천공영차고지~상계동차고지)",
         "orientation": "v",
         "showlegend": true,
         "type": "scatter",
         "x": [
          21108
         ],
         "xaxis": "x",
         "y": [
          22052
         ],
         "yaxis": "y"
        },
        {
         "hovertemplate": "<b>%{hovertext}</b><br><br>버스노선명=N61번(상계동차고지~양천공영차고지)<br>일평균 승차 인원=%{x}<br>일평균 하차 인원=%{y}<extra></extra>",
         "hovertext": [
          "N61번(상계동차고지~양천공영차고지)"
         ],
         "legendgroup": "N61번(상계동차고지~양천공영차고지)",
         "marker": {
          "color": "#636efa",
          "symbol": "circle"
         },
         "mode": "markers",
         "name": "N61번(상계동차고지~양천공영차고지)",
         "orientation": "v",
         "showlegend": true,
         "type": "scatter",
         "x": [
          10458
         ],
         "xaxis": "x",
         "y": [
          10853
         ],
         "yaxis": "y"
        },
        {
         "hovertemplate": "<b>%{hovertext}</b><br><br>버스노선명=N62번(양천공영차고지~면목동차고지)<br>일평균 승차 인원=%{x}<br>일평균 하차 인원=%{y}<extra></extra>",
         "hovertext": [
          "N62번(양천공영차고지~면목동차고지)"
         ],
         "legendgroup": "N62번(양천공영차고지~면목동차고지)",
         "marker": {
          "color": "#EF553B",
          "symbol": "circle"
         },
         "mode": "markers",
         "name": "N62번(양천공영차고지~면목동차고지)",
         "orientation": "v",
         "showlegend": true,
         "type": "scatter",
         "x": [
          71647
         ],
         "xaxis": "x",
         "y": [
          72591
         ],
         "yaxis": "y"
        },
        {
         "hovertemplate": "<b>%{hovertext}</b><br><br>버스노선명=N62번(면목동차고지~양천공영차고지)<br>일평균 승차 인원=%{x}<br>일평균 하차 인원=%{y}<extra></extra>",
         "hovertext": [
          "N62번(면목동차고지~양천공영차고지)"
         ],
         "legendgroup": "N62번(면목동차고지~양천공영차고지)",
         "marker": {
          "color": "#00cc96",
          "symbol": "circle"
         },
         "mode": "markers",
         "name": "N62번(면목동차고지~양천공영차고지)",
         "orientation": "v",
         "showlegend": true,
         "type": "scatter",
         "x": [
          71642
         ],
         "xaxis": "x",
         "y": [
          72419
         ],
         "yaxis": "y"
        },
        {
         "hovertemplate": "<b>%{hovertext}</b><br><br>버스노선명=6640A번(양천차고지~양천차고지)<br>일평균 승차 인원=%{x}<br>일평균 하차 인원=%{y}<extra></extra>",
         "hovertext": [
          "6640A번(양천차고지~양천차고지)"
         ],
         "legendgroup": "6640A번(양천차고지~양천차고지)",
         "marker": {
          "color": "#ab63fa",
          "symbol": "circle"
         },
         "mode": "markers",
         "name": "6640A번(양천차고지~양천차고지)",
         "orientation": "v",
         "showlegend": true,
         "type": "scatter",
         "x": [
          2188
         ],
         "xaxis": "x",
         "y": [
          6476
         ],
         "yaxis": "y"
        },
        {
         "hovertemplate": "<b>%{hovertext}</b><br><br>버스노선명=6640B번(양천차고지~양천차고지)<br>일평균 승차 인원=%{x}<br>일평균 하차 인원=%{y}<extra></extra>",
         "hovertext": [
          "6640B번(양천차고지~양천차고지)"
         ],
         "legendgroup": "6640B번(양천차고지~양천차고지)",
         "marker": {
          "color": "#FFA15A",
          "symbol": "circle"
         },
         "mode": "markers",
         "name": "6640B번(양천차고지~양천차고지)",
         "orientation": "v",
         "showlegend": true,
         "type": "scatter",
         "x": [
          5571
         ],
         "xaxis": "x",
         "y": [
          5485
         ],
         "yaxis": "y"
        },
        {
         "hovertemplate": "<b>%{hovertext}</b><br><br>버스노선명=463(염곡동~국회의사당)<br>일평균 승차 인원=%{x}<br>일평균 하차 인원=%{y}<extra></extra>",
         "hovertext": [
          "463(염곡동~국회의사당)"
         ],
         "legendgroup": "463(염곡동~국회의사당)",
         "marker": {
          "color": "#19d3f3",
          "symbol": "circle"
         },
         "mode": "markers",
         "name": "463(염곡동~국회의사당)",
         "orientation": "v",
         "showlegend": true,
         "type": "scatter",
         "x": [
          373
         ],
         "xaxis": "x",
         "y": [
          255
         ],
         "yaxis": "y"
        },
        {
         "hovertemplate": "<b>%{hovertext}</b><br><br>버스노선명=N15번(남태령역~우이동도선사입구)<br>일평균 승차 인원=%{x}<br>일평균 하차 인원=%{y}<extra></extra>",
         "hovertext": [
          "N15번(남태령역~우이동도선사입구)"
         ],
         "legendgroup": "N15번(남태령역~우이동도선사입구)",
         "marker": {
          "color": "#FF6692",
          "symbol": "circle"
         },
         "mode": "markers",
         "name": "N15번(남태령역~우이동도선사입구)",
         "orientation": "v",
         "showlegend": true,
         "type": "scatter",
         "x": [
          1249
         ],
         "xaxis": "x",
         "y": [
          764
         ],
         "yaxis": "y"
        },
        {
         "hovertemplate": "<b>%{hovertext}</b><br><br>버스노선명=N15번(우이동성원아파트~남태령역)<br>일평균 승차 인원=%{x}<br>일평균 하차 인원=%{y}<extra></extra>",
         "hovertext": [
          "N15번(우이동성원아파트~남태령역)"
         ],
         "legendgroup": "N15번(우이동성원아파트~남태령역)",
         "marker": {
          "color": "#B6E880",
          "symbol": "circle"
         },
         "mode": "markers",
         "name": "N15번(우이동성원아파트~남태령역)",
         "orientation": "v",
         "showlegend": true,
         "type": "scatter",
         "x": [
          1248
         ],
         "xaxis": "x",
         "y": [
          764
         ],
         "yaxis": "y"
        },
        {
         "hovertemplate": "<b>%{hovertext}</b><br><br>버스노선명=2312번(강동공영차고지~중랑공영차고지)<br>일평균 승차 인원=%{x}<br>일평균 하차 인원=%{y}<extra></extra>",
         "hovertext": [
          "2312번(강동공영차고지~중랑공영차고지)"
         ],
         "legendgroup": "2312번(강동공영차고지~중랑공영차고지)",
         "marker": {
          "color": "#FF97FF",
          "symbol": "circle"
         },
         "mode": "markers",
         "name": "2312번(강동공영차고지~중랑공영차고지)",
         "orientation": "v",
         "showlegend": true,
         "type": "scatter",
         "x": [
          13
         ],
         "xaxis": "x",
         "y": [
          15
         ],
         "yaxis": "y"
        },
        {
         "hovertemplate": "<b>%{hovertext}</b><br><br>버스노선명=2312번(중랑공영차고지~강동공영차고지)<br>일평균 승차 인원=%{x}<br>일평균 하차 인원=%{y}<extra></extra>",
         "hovertext": [
          "2312번(중랑공영차고지~강동공영차고지)"
         ],
         "legendgroup": "2312번(중랑공영차고지~강동공영차고지)",
         "marker": {
          "color": "#FECB52",
          "symbol": "circle"
         },
         "mode": "markers",
         "name": "2312번(중랑공영차고지~강동공영차고지)",
         "orientation": "v",
         "showlegend": true,
         "type": "scatter",
         "x": [
          26
         ],
         "xaxis": "x",
         "y": [
          30
         ],
         "yaxis": "y"
        },
        {
         "hovertemplate": "<b>%{hovertext}</b><br><br>버스노선명=8777번(난지한강공원~월드컵경기장남측)<br>일평균 승차 인원=%{x}<br>일평균 하차 인원=%{y}<extra></extra>",
         "hovertext": [
          "8777번(난지한강공원~월드컵경기장남측)"
         ],
         "legendgroup": "8777번(난지한강공원~월드컵경기장남측)",
         "marker": {
          "color": "#636efa",
          "symbol": "circle"
         },
         "mode": "markers",
         "name": "8777번(난지한강공원~월드컵경기장남측)",
         "orientation": "v",
         "showlegend": true,
         "type": "scatter",
         "x": [
          38
         ],
         "xaxis": "x",
         "y": [
          114
         ],
         "yaxis": "y"
        },
        {
         "hovertemplate": "<b>%{hovertext}</b><br><br>버스노선명=654번(방화동~노들역)<br>일평균 승차 인원=%{x}<br>일평균 하차 인원=%{y}<extra></extra>",
         "hovertext": [
          "654번(방화동~노들역)"
         ],
         "legendgroup": "654번(방화동~노들역)",
         "marker": {
          "color": "#EF553B",
          "symbol": "circle"
         },
         "mode": "markers",
         "name": "654번(방화동~노들역)",
         "orientation": "v",
         "showlegend": true,
         "type": "scatter",
         "x": [
          7644
         ],
         "xaxis": "x",
         "y": [
          7379
         ],
         "yaxis": "y"
        },
        {
         "hovertemplate": "<b>%{hovertext}</b><br><br>버스노선명=342번(강동차고지~압구정로데오역)<br>일평균 승차 인원=%{x}<br>일평균 하차 인원=%{y}<extra></extra>",
         "hovertext": [
          "342번(강동차고지~압구정로데오역)"
         ],
         "legendgroup": "342번(강동차고지~압구정로데오역)",
         "marker": {
          "color": "#00cc96",
          "symbol": "circle"
         },
         "mode": "markers",
         "name": "342번(강동차고지~압구정로데오역)",
         "orientation": "v",
         "showlegend": true,
         "type": "scatter",
         "x": [
          59
         ],
         "xaxis": "x",
         "y": [
          44
         ],
         "yaxis": "y"
        },
        {
         "hovertemplate": "<b>%{hovertext}</b><br><br>버스노선명=674번(신월동기점~연세대)<br>일평균 승차 인원=%{x}<br>일평균 하차 인원=%{y}<extra></extra>",
         "hovertext": [
          "674번(신월동기점~연세대)"
         ],
         "legendgroup": "674번(신월동기점~연세대)",
         "marker": {
          "color": "#ab63fa",
          "symbol": "circle"
         },
         "mode": "markers",
         "name": "674번(신월동기점~연세대)",
         "orientation": "v",
         "showlegend": true,
         "type": "scatter",
         "x": [
          12706
         ],
         "xaxis": "x",
         "y": [
          10902
         ],
         "yaxis": "y"
        },
        {
         "hovertemplate": "<b>%{hovertext}</b><br><br>버스노선명=173번(월계동~연세대)<br>일평균 승차 인원=%{x}<br>일평균 하차 인원=%{y}<extra></extra>",
         "hovertext": [
          "173번(월계동~연세대)"
         ],
         "legendgroup": "173번(월계동~연세대)",
         "marker": {
          "color": "#FFA15A",
          "symbol": "circle"
         },
         "mode": "markers",
         "name": "173번(월계동~연세대)",
         "orientation": "v",
         "showlegend": true,
         "type": "scatter",
         "x": [
          220
         ],
         "xaxis": "x",
         "y": [
          159
         ],
         "yaxis": "y"
        },
        {
         "hovertemplate": "<b>%{hovertext}</b><br><br>버스노선명=8771번(구산중학교~녹번역)<br>일평균 승차 인원=%{x}<br>일평균 하차 인원=%{y}<extra></extra>",
         "hovertext": [
          "8771번(구산중학교~녹번역)"
         ],
         "legendgroup": "8771번(구산중학교~녹번역)",
         "marker": {
          "color": "#19d3f3",
          "symbol": "circle"
         },
         "mode": "markers",
         "name": "8771번(구산중학교~녹번역)",
         "orientation": "v",
         "showlegend": true,
         "type": "scatter",
         "x": [
          20
         ],
         "xaxis": "x",
         "y": [
          18
         ],
         "yaxis": "y"
        },
        {
         "hovertemplate": "<b>%{hovertext}</b><br><br>버스노선명=8551번(봉천역~노량진역)<br>일평균 승차 인원=%{x}<br>일평균 하차 인원=%{y}<extra></extra>",
         "hovertext": [
          "8551번(봉천역~노량진역)"
         ],
         "legendgroup": "8551번(봉천역~노량진역)",
         "marker": {
          "color": "#FF6692",
          "symbol": "circle"
         },
         "mode": "markers",
         "name": "8551번(봉천역~노량진역)",
         "orientation": "v",
         "showlegend": true,
         "type": "scatter",
         "x": [
          531
         ],
         "xaxis": "x",
         "y": [
          237
         ],
         "yaxis": "y"
        },
        {
         "hovertemplate": "<b>%{hovertext}</b><br><br>버스노선명=8331번(마천사거리~잠실역)<br>일평균 승차 인원=%{x}<br>일평균 하차 인원=%{y}<extra></extra>",
         "hovertext": [
          "8331번(마천사거리~잠실역)"
         ],
         "legendgroup": "8331번(마천사거리~잠실역)",
         "marker": {
          "color": "#B6E880",
          "symbol": "circle"
         },
         "mode": "markers",
         "name": "8331번(마천사거리~잠실역)",
         "orientation": "v",
         "showlegend": true,
         "type": "scatter",
         "x": [
          14
         ],
         "xaxis": "x",
         "y": [
          null
         ],
         "yaxis": "y"
        },
        {
         "hovertemplate": "<b>%{hovertext}</b><br><br>버스노선명=7734번(진관공영차고지~홍대입구역)<br>일평균 승차 인원=%{x}<br>일평균 하차 인원=%{y}<extra></extra>",
         "hovertext": [
          "7734번(진관공영차고지~홍대입구역)"
         ],
         "legendgroup": "7734번(진관공영차고지~홍대입구역)",
         "marker": {
          "color": "#FF97FF",
          "symbol": "circle"
         },
         "mode": "markers",
         "name": "7734번(진관공영차고지~홍대입구역)",
         "orientation": "v",
         "showlegend": true,
         "type": "scatter",
         "x": [
          1105
         ],
         "xaxis": "x",
         "y": [
          760
         ],
         "yaxis": "y"
        },
        {
         "hovertemplate": "<b>%{hovertext}</b><br><br>버스노선명=773번(교하운정~불광역)<br>일평균 승차 인원=%{x}<br>일평균 하차 인원=%{y}<extra></extra>",
         "hovertext": [
          "773번(교하운정~불광역)"
         ],
         "legendgroup": "773번(교하운정~불광역)",
         "marker": {
          "color": "#FECB52",
          "symbol": "circle"
         },
         "mode": "markers",
         "name": "773번(교하운정~불광역)",
         "orientation": "v",
         "showlegend": true,
         "type": "scatter",
         "x": [
          30
         ],
         "xaxis": "x",
         "y": [
          19
         ],
         "yaxis": "y"
        },
        {
         "hovertemplate": "<b>%{hovertext}</b><br><br>버스노선명=774번(구파발역~파주읍)<br>일평균 승차 인원=%{x}<br>일평균 하차 인원=%{y}<extra></extra>",
         "hovertext": [
          "774번(구파발역~파주읍)"
         ],
         "legendgroup": "774번(구파발역~파주읍)",
         "marker": {
          "color": "#636efa",
          "symbol": "circle"
         },
         "mode": "markers",
         "name": "774번(구파발역~파주읍)",
         "orientation": "v",
         "showlegend": true,
         "type": "scatter",
         "x": [
          14
         ],
         "xaxis": "x",
         "y": [
          15
         ],
         "yaxis": "y"
        },
        {
         "hovertemplate": "<b>%{hovertext}</b><br><br>버스노선명=761번(진관차고지~영등포역)<br>일평균 승차 인원=%{x}<br>일평균 하차 인원=%{y}<extra></extra>",
         "hovertext": [
          "761번(진관차고지~영등포역)"
         ],
         "legendgroup": "761번(진관차고지~영등포역)",
         "marker": {
          "color": "#EF553B",
          "symbol": "circle"
         },
         "mode": "markers",
         "name": "761번(진관차고지~영등포역)",
         "orientation": "v",
         "showlegend": true,
         "type": "scatter",
         "x": [
          3075
         ],
         "xaxis": "x",
         "y": [
          2672
         ],
         "yaxis": "y"
        },
        {
         "hovertemplate": "<b>%{hovertext}</b><br><br>버스노선명=6615번(양천공영차고지~천왕역)<br>일평균 승차 인원=%{x}<br>일평균 하차 인원=%{y}<extra></extra>",
         "hovertext": [
          "6615번(양천공영차고지~천왕역)"
         ],
         "legendgroup": "6615번(양천공영차고지~천왕역)",
         "marker": {
          "color": "#00cc96",
          "symbol": "circle"
         },
         "mode": "markers",
         "name": "6615번(양천공영차고지~천왕역)",
         "orientation": "v",
         "showlegend": true,
         "type": "scatter",
         "x": [
          562
         ],
         "xaxis": "x",
         "y": [
          828
         ],
         "yaxis": "y"
        },
        {
         "hovertemplate": "<b>%{hovertext}</b><br><br>버스노선명=6516번(양천차고지~박미고개)<br>일평균 승차 인원=%{x}<br>일평균 하차 인원=%{y}<extra></extra>",
         "hovertext": [
          "6516번(양천차고지~박미고개)"
         ],
         "legendgroup": "6516번(양천차고지~박미고개)",
         "marker": {
          "color": "#ab63fa",
          "symbol": "circle"
         },
         "mode": "markers",
         "name": "6516번(양천차고지~박미고개)",
         "orientation": "v",
         "showlegend": true,
         "type": "scatter",
         "x": [
          2140
         ],
         "xaxis": "x",
         "y": [
          3352
         ],
         "yaxis": "y"
        },
        {
         "hovertemplate": "<b>%{hovertext}</b><br><br>버스노선명=3321번(강동차고지~강동구청)<br>일평균 승차 인원=%{x}<br>일평균 하차 인원=%{y}<extra></extra>",
         "hovertext": [
          "3321번(강동차고지~강동구청)"
         ],
         "legendgroup": "3321번(강동차고지~강동구청)",
         "marker": {
          "color": "#FFA15A",
          "symbol": "circle"
         },
         "mode": "markers",
         "name": "3321번(강동차고지~강동구청)",
         "orientation": "v",
         "showlegend": true,
         "type": "scatter",
         "x": [
          6
         ],
         "xaxis": "x",
         "y": [
          18
         ],
         "yaxis": "y"
        },
        {
         "hovertemplate": "<b>%{hovertext}</b><br><br>버스노선명=121번(화계사~서울숲)<br>일평균 승차 인원=%{x}<br>일평균 하차 인원=%{y}<extra></extra>",
         "hovertext": [
          "121번(화계사~서울숲)"
         ],
         "legendgroup": "121번(화계사~서울숲)",
         "marker": {
          "color": "#19d3f3",
          "symbol": "circle"
         },
         "mode": "markers",
         "name": "121번(화계사~서울숲)",
         "orientation": "v",
         "showlegend": true,
         "type": "scatter",
         "x": [
          72
         ],
         "xaxis": "x",
         "y": [
          65
         ],
         "yaxis": "y"
        },
        {
         "hovertemplate": "<b>%{hovertext}</b><br><br>버스노선명=4211(염곡동~한양대동문앞)<br>일평균 승차 인원=%{x}<br>일평균 하차 인원=%{y}<extra></extra>",
         "hovertext": [
          "4211(염곡동~한양대동문앞)"
         ],
         "legendgroup": "4211(염곡동~한양대동문앞)",
         "marker": {
          "color": "#FF6692",
          "symbol": "circle"
         },
         "mode": "markers",
         "name": "4211(염곡동~한양대동문앞)",
         "orientation": "v",
         "showlegend": true,
         "type": "scatter",
         "x": [
          63
         ],
         "xaxis": "x",
         "y": [
          79
         ],
         "yaxis": "y"
        },
        {
         "hovertemplate": "<b>%{hovertext}</b><br><br>버스노선명=242번(중랑공영차고지~개포시영아파트)<br>일평균 승차 인원=%{x}<br>일평균 하차 인원=%{y}<extra></extra>",
         "hovertext": [
          "242번(중랑공영차고지~개포시영아파트)"
         ],
         "legendgroup": "242번(중랑공영차고지~개포시영아파트)",
         "marker": {
          "color": "#B6E880",
          "symbol": "circle"
         },
         "mode": "markers",
         "name": "242번(중랑공영차고지~개포시영아파트)",
         "orientation": "v",
         "showlegend": true,
         "type": "scatter",
         "x": [
          49
         ],
         "xaxis": "x",
         "y": [
          76
         ],
         "yaxis": "y"
        },
        {
         "hovertemplate": "<b>%{hovertext}</b><br><br>버스노선명=3322번(송파차고지~잠실종합운동장)<br>일평균 승차 인원=%{x}<br>일평균 하차 인원=%{y}<extra></extra>",
         "hovertext": [
          "3322번(송파차고지~잠실종합운동장)"
         ],
         "legendgroup": "3322번(송파차고지~잠실종합운동장)",
         "marker": {
          "color": "#FF97FF",
          "symbol": "circle"
         },
         "mode": "markers",
         "name": "3322번(송파차고지~잠실종합운동장)",
         "orientation": "v",
         "showlegend": true,
         "type": "scatter",
         "x": [
          7
         ],
         "xaxis": "x",
         "y": [
          11
         ],
         "yaxis": "y"
        },
        {
         "hovertemplate": "<b>%{hovertext}</b><br><br>버스노선명=3426번(서울버스종점~청담동)<br>일평균 승차 인원=%{x}<br>일평균 하차 인원=%{y}<extra></extra>",
         "hovertext": [
          "3426번(서울버스종점~청담동)"
         ],
         "legendgroup": "3426번(서울버스종점~청담동)",
         "marker": {
          "color": "#FECB52",
          "symbol": "circle"
         },
         "mode": "markers",
         "name": "3426번(서울버스종점~청담동)",
         "orientation": "v",
         "showlegend": true,
         "type": "scatter",
         "x": [
          37
         ],
         "xaxis": "x",
         "y": [
          36
         ],
         "yaxis": "y"
        },
        {
         "hovertemplate": "<b>%{hovertext}</b><br><br>버스노선명=4435번(개포동차고지~서초역)<br>일평균 승차 인원=%{x}<br>일평균 하차 인원=%{y}<extra></extra>",
         "hovertext": [
          "4435번(개포동차고지~서초역)"
         ],
         "legendgroup": "4435번(개포동차고지~서초역)",
         "marker": {
          "color": "#636efa",
          "symbol": "circle"
         },
         "mode": "markers",
         "name": "4435번(개포동차고지~서초역)",
         "orientation": "v",
         "showlegend": true,
         "type": "scatter",
         "x": [
          45
         ],
         "xaxis": "x",
         "y": [
          38
         ],
         "yaxis": "y"
        },
        {
         "hovertemplate": "<b>%{hovertext}</b><br><br>버스노선명=은평08-1(백련산힐스테이트3차~새절역)<br>일평균 승차 인원=%{x}<br>일평균 하차 인원=%{y}<extra></extra>",
         "hovertext": [
          "은평08-1(백련산힐스테이트3차~새절역)"
         ],
         "legendgroup": "은평08-1(백련산힐스테이트3차~새절역)",
         "marker": {
          "color": "#EF553B",
          "symbol": "circle"
         },
         "mode": "markers",
         "name": "은평08-1(백련산힐스테이트3차~새절역)",
         "orientation": "v",
         "showlegend": true,
         "type": "scatter",
         "x": [
          8
         ],
         "xaxis": "x",
         "y": [
          8
         ],
         "yaxis": "y"
        },
        {
         "hovertemplate": "<b>%{hovertext}</b><br><br>버스노선명=은평08-2(백련산힐스테이트3차~새절역)<br>일평균 승차 인원=%{x}<br>일평균 하차 인원=%{y}<extra></extra>",
         "hovertext": [
          "은평08-2(백련산힐스테이트3차~새절역)"
         ],
         "legendgroup": "은평08-2(백련산힐스테이트3차~새절역)",
         "marker": {
          "color": "#00cc96",
          "symbol": "circle"
         },
         "mode": "markers",
         "name": "은평08-2(백련산힐스테이트3차~새절역)",
         "orientation": "v",
         "showlegend": true,
         "type": "scatter",
         "x": [
          9
         ],
         "xaxis": "x",
         "y": [
          10
         ],
         "yaxis": "y"
        },
        {
         "hovertemplate": "<b>%{hovertext}</b><br><br>버스노선명=452번(송파차고지~중대병원)<br>일평균 승차 인원=%{x}<br>일평균 하차 인원=%{y}<extra></extra>",
         "hovertext": [
          "452번(송파차고지~중대병원)"
         ],
         "legendgroup": "452번(송파차고지~중대병원)",
         "marker": {
          "color": "#ab63fa",
          "symbol": "circle"
         },
         "mode": "markers",
         "name": "452번(송파차고지~중대병원)",
         "orientation": "v",
         "showlegend": true,
         "type": "scatter",
         "x": [
          207
         ],
         "xaxis": "x",
         "y": [
          320
         ],
         "yaxis": "y"
        },
        {
         "hovertemplate": "<b>%{hovertext}</b><br><br>버스노선명=8221번(장안2동주민센터~답십리역)<br>일평균 승차 인원=%{x}<br>일평균 하차 인원=%{y}<extra></extra>",
         "hovertext": [
          "8221번(장안2동주민센터~답십리역)"
         ],
         "legendgroup": "8221번(장안2동주민센터~답십리역)",
         "marker": {
          "color": "#FFA15A",
          "symbol": "circle"
         },
         "mode": "markers",
         "name": "8221번(장안2동주민센터~답십리역)",
         "orientation": "v",
         "showlegend": true,
         "type": "scatter",
         "x": [
          112
         ],
         "xaxis": "x",
         "y": [
          null
         ],
         "yaxis": "y"
        },
        {
         "hovertemplate": "<b>%{hovertext}</b><br><br>버스노선명=8441번(은곡마을.LH이편한세상~수서역)<br>일평균 승차 인원=%{x}<br>일평균 하차 인원=%{y}<extra></extra>",
         "hovertext": [
          "8441번(은곡마을.LH이편한세상~수서역)"
         ],
         "legendgroup": "8441번(은곡마을.LH이편한세상~수서역)",
         "marker": {
          "color": "#19d3f3",
          "symbol": "circle"
         },
         "mode": "markers",
         "name": "8441번(은곡마을.LH이편한세상~수서역)",
         "orientation": "v",
         "showlegend": true,
         "type": "scatter",
         "x": [
          14
         ],
         "xaxis": "x",
         "y": [
          null
         ],
         "yaxis": "y"
        },
        {
         "hovertemplate": "<b>%{hovertext}</b><br><br>버스노선명=8552번(신림복지관~신림역)<br>일평균 승차 인원=%{x}<br>일평균 하차 인원=%{y}<extra></extra>",
         "hovertext": [
          "8552번(신림복지관~신림역)"
         ],
         "legendgroup": "8552번(신림복지관~신림역)",
         "marker": {
          "color": "#FF6692",
          "symbol": "circle"
         },
         "mode": "markers",
         "name": "8552번(신림복지관~신림역)",
         "orientation": "v",
         "showlegend": true,
         "type": "scatter",
         "x": [
          210
         ],
         "xaxis": "x",
         "y": [
          1760
         ],
         "yaxis": "y"
        },
        {
         "hovertemplate": "<b>%{hovertext}</b><br><br>버스노선명=741번(진관차고지~헌인릉입구)<br>일평균 승차 인원=%{x}<br>일평균 하차 인원=%{y}<extra></extra>",
         "hovertext": [
          "741번(진관차고지~헌인릉입구)"
         ],
         "legendgroup": "741번(진관차고지~헌인릉입구)",
         "marker": {
          "color": "#B6E880",
          "symbol": "circle"
         },
         "mode": "markers",
         "name": "741번(진관차고지~헌인릉입구)",
         "orientation": "v",
         "showlegend": true,
         "type": "scatter",
         "x": [
          328
         ],
         "xaxis": "x",
         "y": [
          388
         ],
         "yaxis": "y"
        },
        {
         "hovertemplate": "<b>%{hovertext}</b><br><br>버스노선명=708번(진관차고지~서울역)<br>일평균 승차 인원=%{x}<br>일평균 하차 인원=%{y}<extra></extra>",
         "hovertext": [
          "708번(진관차고지~서울역)"
         ],
         "legendgroup": "708번(진관차고지~서울역)",
         "marker": {
          "color": "#FF97FF",
          "symbol": "circle"
         },
         "mode": "markers",
         "name": "708번(진관차고지~서울역)",
         "orientation": "v",
         "showlegend": true,
         "type": "scatter",
         "x": [
          212
         ],
         "xaxis": "x",
         "y": [
          66
         ],
         "yaxis": "y"
        },
        {
         "hovertemplate": "<b>%{hovertext}</b><br><br>버스노선명=8002번(상명대앞~경복궁역)<br>일평균 승차 인원=%{x}<br>일평균 하차 인원=%{y}<extra></extra>",
         "hovertext": [
          "8002번(상명대앞~경복궁역)"
         ],
         "legendgroup": "8002번(상명대앞~경복궁역)",
         "marker": {
          "color": "#FECB52",
          "symbol": "circle"
         },
         "mode": "markers",
         "name": "8002번(상명대앞~경복궁역)",
         "orientation": "v",
         "showlegend": true,
         "type": "scatter",
         "x": [
          78
         ],
         "xaxis": "x",
         "y": [
          28
         ],
         "yaxis": "y"
        },
        {
         "hovertemplate": "<b>%{hovertext}</b><br><br>버스노선명=8003번(평창동주민센터~평창동주민센터)<br>일평균 승차 인원=%{x}<br>일평균 하차 인원=%{y}<extra></extra>",
         "hovertext": [
          "8003번(평창동주민센터~평창동주민센터)"
         ],
         "legendgroup": "8003번(평창동주민센터~평창동주민센터)",
         "marker": {
          "color": "#636efa",
          "symbol": "circle"
         },
         "mode": "markers",
         "name": "8003번(평창동주민센터~평창동주민센터)",
         "orientation": "v",
         "showlegend": true,
         "type": "scatter",
         "x": [
          11
         ],
         "xaxis": "x",
         "y": [
          null
         ],
         "yaxis": "y"
        },
        {
         "hovertemplate": "<b>%{hovertext}</b><br><br>버스노선명=271번(용마문화복지센터~월드컵파크7단지)<br>일평균 승차 인원=%{x}<br>일평균 하차 인원=%{y}<extra></extra>",
         "hovertext": [
          "271번(용마문화복지센터~월드컵파크7단지)"
         ],
         "legendgroup": "271번(용마문화복지센터~월드컵파크7단지)",
         "marker": {
          "color": "#EF553B",
          "symbol": "circle"
         },
         "mode": "markers",
         "name": "271번(용마문화복지센터~월드컵파크7단지)",
         "orientation": "v",
         "showlegend": true,
         "type": "scatter",
         "x": [
          3102
         ],
         "xaxis": "x",
         "y": [
          2589
         ],
         "yaxis": "y"
        },
        {
         "hovertemplate": "<b>%{hovertext}</b><br><br>버스노선명=0411번(용산차고지~AT센터)<br>일평균 승차 인원=%{x}<br>일평균 하차 인원=%{y}<extra></extra>",
         "hovertext": [
          "0411번(용산차고지~AT센터)"
         ],
         "legendgroup": "0411번(용산차고지~AT센터)",
         "marker": {
          "color": "#00cc96",
          "symbol": "circle"
         },
         "mode": "markers",
         "name": "0411번(용산차고지~AT센터)",
         "orientation": "v",
         "showlegend": true,
         "type": "scatter",
         "x": [
          216
         ],
         "xaxis": "x",
         "y": [
          660
         ],
         "yaxis": "y"
        },
        {
         "hovertemplate": "<b>%{hovertext}</b><br><br>버스노선명=742번(구산동~상도동)<br>일평균 승차 인원=%{x}<br>일평균 하차 인원=%{y}<extra></extra>",
         "hovertext": [
          "742번(구산동~상도동)"
         ],
         "legendgroup": "742번(구산동~상도동)",
         "marker": {
          "color": "#ab63fa",
          "symbol": "circle"
         },
         "mode": "markers",
         "name": "742번(구산동~상도동)",
         "orientation": "v",
         "showlegend": true,
         "type": "scatter",
         "x": [
          1055
         ],
         "xaxis": "x",
         "y": [
          839
         ],
         "yaxis": "y"
        },
        {
         "hovertemplate": "<b>%{hovertext}</b><br><br>버스노선명=5634번(광명공영차고지~여의도)<br>일평균 승차 인원=%{x}<br>일평균 하차 인원=%{y}<extra></extra>",
         "hovertext": [
          "5634번(광명공영차고지~여의도)"
         ],
         "legendgroup": "5634번(광명공영차고지~여의도)",
         "marker": {
          "color": "#FFA15A",
          "symbol": "circle"
         },
         "mode": "markers",
         "name": "5634번(광명공영차고지~여의도)",
         "orientation": "v",
         "showlegend": true,
         "type": "scatter",
         "x": [
          341
         ],
         "xaxis": "x",
         "y": [
          434
         ],
         "yaxis": "y"
        },
        {
         "hovertemplate": "<b>%{hovertext}</b><br><br>버스노선명=N51번(시흥동차고지~하계동차고지)<br>일평균 승차 인원=%{x}<br>일평균 하차 인원=%{y}<extra></extra>",
         "hovertext": [
          "N51번(시흥동차고지~하계동차고지)"
         ],
         "legendgroup": "N51번(시흥동차고지~하계동차고지)",
         "marker": {
          "color": "#19d3f3",
          "symbol": "circle"
         },
         "mode": "markers",
         "name": "N51번(시흥동차고지~하계동차고지)",
         "orientation": "v",
         "showlegend": true,
         "type": "scatter",
         "x": [
          4334
         ],
         "xaxis": "x",
         "y": [
          3516
         ],
         "yaxis": "y"
        },
        {
         "hovertemplate": "<b>%{hovertext}</b><br><br>버스노선명=N51번(하계동차고지~시흥동차고지)<br>일평균 승차 인원=%{x}<br>일평균 하차 인원=%{y}<extra></extra>",
         "hovertext": [
          "N51번(하계동차고지~시흥동차고지)"
         ],
         "legendgroup": "N51번(하계동차고지~시흥동차고지)",
         "marker": {
          "color": "#FF6692",
          "symbol": "circle"
         },
         "mode": "markers",
         "name": "N51번(하계동차고지~시흥동차고지)",
         "orientation": "v",
         "showlegend": true,
         "type": "scatter",
         "x": [
          4334
         ],
         "xaxis": "x",
         "y": [
          3516
         ],
         "yaxis": "y"
        },
        {
         "hovertemplate": "<b>%{hovertext}</b><br><br>버스노선명=N64번(강서공영차고지~염곡공영차고지)<br>일평균 승차 인원=%{x}<br>일평균 하차 인원=%{y}<extra></extra>",
         "hovertext": [
          "N64번(강서공영차고지~염곡공영차고지)"
         ],
         "legendgroup": "N64번(강서공영차고지~염곡공영차고지)",
         "marker": {
          "color": "#B6E880",
          "symbol": "circle"
         },
         "mode": "markers",
         "name": "N64번(강서공영차고지~염곡공영차고지)",
         "orientation": "v",
         "showlegend": true,
         "type": "scatter",
         "x": [
          30762
         ],
         "xaxis": "x",
         "y": [
          27439
         ],
         "yaxis": "y"
        },
        {
         "hovertemplate": "<b>%{hovertext}</b><br><br>버스노선명=N64번(염곡공영차고지~강서공영차고지)<br>일평균 승차 인원=%{x}<br>일평균 하차 인원=%{y}<extra></extra>",
         "hovertext": [
          "N64번(염곡공영차고지~강서공영차고지)"
         ],
         "legendgroup": "N64번(염곡공영차고지~강서공영차고지)",
         "marker": {
          "color": "#FF97FF",
          "symbol": "circle"
         },
         "mode": "markers",
         "name": "N64번(염곡공영차고지~강서공영차고지)",
         "orientation": "v",
         "showlegend": true,
         "type": "scatter",
         "x": [
          30730
         ],
         "xaxis": "x",
         "y": [
          27439
         ],
         "yaxis": "y"
        },
        {
         "hovertemplate": "<b>%{hovertext}</b><br><br>버스노선명=N75번(진관공영차고지~신림2동차고지)<br>일평균 승차 인원=%{x}<br>일평균 하차 인원=%{y}<extra></extra>",
         "hovertext": [
          "N75번(진관공영차고지~신림2동차고지)"
         ],
         "legendgroup": "N75번(진관공영차고지~신림2동차고지)",
         "marker": {
          "color": "#FECB52",
          "symbol": "circle"
         },
         "mode": "markers",
         "name": "N75번(진관공영차고지~신림2동차고지)",
         "orientation": "v",
         "showlegend": true,
         "type": "scatter",
         "x": [
          2383
         ],
         "xaxis": "x",
         "y": [
          1809
         ],
         "yaxis": "y"
        },
        {
         "hovertemplate": "<b>%{hovertext}</b><br><br>버스노선명=N75번(신림2동차고지~진관공영차고지)<br>일평균 승차 인원=%{x}<br>일평균 하차 인원=%{y}<extra></extra>",
         "hovertext": [
          "N75번(신림2동차고지~진관공영차고지)"
         ],
         "legendgroup": "N75번(신림2동차고지~진관공영차고지)",
         "marker": {
          "color": "#636efa",
          "symbol": "circle"
         },
         "mode": "markers",
         "name": "N75번(신림2동차고지~진관공영차고지)",
         "orientation": "v",
         "showlegend": true,
         "type": "scatter",
         "x": [
          2383
         ],
         "xaxis": "x",
         "y": [
          1809
         ],
         "yaxis": "y"
        },
        {
         "hovertemplate": "<b>%{hovertext}</b><br><br>버스노선명=N31강동 (강동공영차고지~국민대)<br>일평균 승차 인원=%{x}<br>일평균 하차 인원=%{y}<extra></extra>",
         "hovertext": [
          "N31강동 (강동공영차고지~국민대)"
         ],
         "legendgroup": "N31강동 (강동공영차고지~국민대)",
         "marker": {
          "color": "#EF553B",
          "symbol": "circle"
         },
         "mode": "markers",
         "name": "N31강동 (강동공영차고지~국민대)",
         "orientation": "v",
         "showlegend": true,
         "type": "scatter",
         "x": [
          298
         ],
         "xaxis": "x",
         "y": [
          303
         ],
         "yaxis": "y"
        },
        {
         "hovertemplate": "<b>%{hovertext}</b><br><br>버스노선명=N31정릉 (국민대~강동공영차고지)<br>일평균 승차 인원=%{x}<br>일평균 하차 인원=%{y}<extra></extra>",
         "hovertext": [
          "N31정릉 (국민대~강동공영차고지)"
         ],
         "legendgroup": "N31정릉 (국민대~강동공영차고지)",
         "marker": {
          "color": "#00cc96",
          "symbol": "circle"
         },
         "mode": "markers",
         "name": "N31정릉 (국민대~강동공영차고지)",
         "orientation": "v",
         "showlegend": true,
         "type": "scatter",
         "x": [
          298
         ],
         "xaxis": "x",
         "y": [
          303
         ],
         "yaxis": "y"
        },
        {
         "hovertemplate": "<b>%{hovertext}</b><br><br>버스노선명=N72은평 (은평공영차고지~중랑공영차고지)<br>일평균 승차 인원=%{x}<br>일평균 하차 인원=%{y}<extra></extra>",
         "hovertext": [
          "N72은평 (은평공영차고지~중랑공영차고지)"
         ],
         "legendgroup": "N72은평 (은평공영차고지~중랑공영차고지)",
         "marker": {
          "color": "#ab63fa",
          "symbol": "circle"
         },
         "mode": "markers",
         "name": "N72은평 (은평공영차고지~중랑공영차고지)",
         "orientation": "v",
         "showlegend": true,
         "type": "scatter",
         "x": [
          5606
         ],
         "xaxis": "x",
         "y": [
          4524
         ],
         "yaxis": "y"
        },
        {
         "hovertemplate": "<b>%{hovertext}</b><br><br>버스노선명=N72중랑 (중랑공영차고지~은평공영차고지)<br>일평균 승차 인원=%{x}<br>일평균 하차 인원=%{y}<extra></extra>",
         "hovertext": [
          "N72중랑 (중랑공영차고지~은평공영차고지)"
         ],
         "legendgroup": "N72중랑 (중랑공영차고지~은평공영차고지)",
         "marker": {
          "color": "#FFA15A",
          "symbol": "circle"
         },
         "mode": "markers",
         "name": "N72중랑 (중랑공영차고지~은평공영차고지)",
         "orientation": "v",
         "showlegend": true,
         "type": "scatter",
         "x": [
          2799
         ],
         "xaxis": "x",
         "y": [
          2262
         ],
         "yaxis": "y"
        },
        {
         "hovertemplate": "<b>%{hovertext}</b><br><br>버스노선명=N73송파 (송파공영차고지~구산동차고지)<br>일평균 승차 인원=%{x}<br>일평균 하차 인원=%{y}<extra></extra>",
         "hovertext": [
          "N73송파 (송파공영차고지~구산동차고지)"
         ],
         "legendgroup": "N73송파 (송파공영차고지~구산동차고지)",
         "marker": {
          "color": "#19d3f3",
          "symbol": "circle"
         },
         "mode": "markers",
         "name": "N73송파 (송파공영차고지~구산동차고지)",
         "orientation": "v",
         "showlegend": true,
         "type": "scatter",
         "x": [
          2102
         ],
         "xaxis": "x",
         "y": [
          1463
         ],
         "yaxis": "y"
        },
        {
         "hovertemplate": "<b>%{hovertext}</b><br><br>버스노선명=N73구산 (구산동차고지~송파공영차고지)<br>일평균 승차 인원=%{x}<br>일평균 하차 인원=%{y}<extra></extra>",
         "hovertext": [
          "N73구산 (구산동차고지~송파공영차고지)"
         ],
         "legendgroup": "N73구산 (구산동차고지~송파공영차고지)",
         "marker": {
          "color": "#FF6692",
          "symbol": "circle"
         },
         "mode": "markers",
         "name": "N73구산 (구산동차고지~송파공영차고지)",
         "orientation": "v",
         "showlegend": true,
         "type": "scatter",
         "x": [
          2102
         ],
         "xaxis": "x",
         "y": [
          1463
         ],
         "yaxis": "y"
        },
        {
         "hovertemplate": "<b>%{hovertext}</b><br><br>버스노선명=5611번(가산디지털단지~우성아파트)<br>일평균 승차 인원=%{x}<br>일평균 하차 인원=%{y}<extra></extra>",
         "hovertext": [
          "5611번(가산디지털단지~우성아파트)"
         ],
         "legendgroup": "5611번(가산디지털단지~우성아파트)",
         "marker": {
          "color": "#B6E880",
          "symbol": "circle"
         },
         "mode": "markers",
         "name": "5611번(가산디지털단지~우성아파트)",
         "orientation": "v",
         "showlegend": true,
         "type": "scatter",
         "x": [
          168
         ],
         "xaxis": "x",
         "y": [
          420
         ],
         "yaxis": "y"
        },
        {
         "hovertemplate": "<b>%{hovertext}</b><br><br>버스노선명=8641번(구로동~개포동)<br>일평균 승차 인원=%{x}<br>일평균 하차 인원=%{y}<extra></extra>",
         "hovertext": [
          "8641번(구로동~개포동)"
         ],
         "legendgroup": "8641번(구로동~개포동)",
         "marker": {
          "color": "#FF97FF",
          "symbol": "circle"
         },
         "mode": "markers",
         "name": "8641번(구로동~개포동)",
         "orientation": "v",
         "showlegend": true,
         "type": "scatter",
         "x": [
          1428
         ],
         "xaxis": "x",
         "y": [
          1829
         ],
         "yaxis": "y"
        },
        {
         "hovertemplate": "<b>%{hovertext}</b><br><br>버스노선명=성북10(장위중학교~미아사거리역)<br>일평균 승차 인원=%{x}<br>일평균 하차 인원=%{y}<extra></extra>",
         "hovertext": [
          "성북10(장위중학교~미아사거리역)"
         ],
         "legendgroup": "성북10(장위중학교~미아사거리역)",
         "marker": {
          "color": "#FECB52",
          "symbol": "circle"
         },
         "mode": "markers",
         "name": "성북10(장위중학교~미아사거리역)",
         "orientation": "v",
         "showlegend": true,
         "type": "scatter",
         "x": [
          1
         ],
         "xaxis": "x",
         "y": [
          3
         ],
         "yaxis": "y"
        },
        {
         "hovertemplate": "<b>%{hovertext}</b><br><br>버스노선명=01A번(예장주차장~예장주차장)<br>일평균 승차 인원=%{x}<br>일평균 하차 인원=%{y}<extra></extra>",
         "hovertext": [
          "01A번(예장주차장~예장주차장)"
         ],
         "legendgroup": "01A번(예장주차장~예장주차장)",
         "marker": {
          "color": "#636efa",
          "symbol": "circle"
         },
         "mode": "markers",
         "name": "01A번(예장주차장~예장주차장)",
         "orientation": "v",
         "showlegend": true,
         "type": "scatter",
         "x": [
          31
         ],
         "xaxis": "x",
         "y": [
          47
         ],
         "yaxis": "y"
        },
        {
         "hovertemplate": "<b>%{hovertext}</b><br><br>버스노선명=01B번(예장주차장~예장주차장)<br>일평균 승차 인원=%{x}<br>일평균 하차 인원=%{y}<extra></extra>",
         "hovertext": [
          "01B번(예장주차장~예장주차장)"
         ],
         "legendgroup": "01B번(예장주차장~예장주차장)",
         "marker": {
          "color": "#EF553B",
          "symbol": "circle"
         },
         "mode": "markers",
         "name": "01B번(예장주차장~예장주차장)",
         "orientation": "v",
         "showlegend": true,
         "type": "scatter",
         "x": [
          9
         ],
         "xaxis": "x",
         "y": [
          15
         ],
         "yaxis": "y"
        },
        {
         "hovertemplate": "<b>%{hovertext}</b><br><br>버스노선명=마포13(신촌역~신촌역)<br>일평균 승차 인원=%{x}<br>일평균 하차 인원=%{y}<extra></extra>",
         "hovertext": [
          "마포13(신촌역~신촌역)"
         ],
         "legendgroup": "마포13(신촌역~신촌역)",
         "marker": {
          "color": "#00cc96",
          "symbol": "circle"
         },
         "mode": "markers",
         "name": "마포13(신촌역~신촌역)",
         "orientation": "v",
         "showlegend": true,
         "type": "scatter",
         "x": [
          null
         ],
         "xaxis": "x",
         "y": [
          5
         ],
         "yaxis": "y"
        },
        {
         "hovertemplate": "<b>%{hovertext}</b><br><br>버스노선명=은평03-1(연신내역~12번지건영아파트)<br>일평균 승차 인원=%{x}<br>일평균 하차 인원=%{y}<extra></extra>",
         "hovertext": [
          "은평03-1(연신내역~12번지건영아파트)"
         ],
         "legendgroup": "은평03-1(연신내역~12번지건영아파트)",
         "marker": {
          "color": "#ab63fa",
          "symbol": "circle"
         },
         "mode": "markers",
         "name": "은평03-1(연신내역~12번지건영아파트)",
         "orientation": "v",
         "showlegend": true,
         "type": "scatter",
         "x": [
          4
         ],
         "xaxis": "x",
         "y": [
          3
         ],
         "yaxis": "y"
        },
        {
         "hovertemplate": "<b>%{hovertext}</b><br><br>버스노선명=은평03-2(연신내역~신도고등학교)<br>일평균 승차 인원=%{x}<br>일평균 하차 인원=%{y}<extra></extra>",
         "hovertext": [
          "은평03-2(연신내역~신도고등학교)"
         ],
         "legendgroup": "은평03-2(연신내역~신도고등학교)",
         "marker": {
          "color": "#FFA15A",
          "symbol": "circle"
         },
         "mode": "markers",
         "name": "은평03-2(연신내역~신도고등학교)",
         "orientation": "v",
         "showlegend": true,
         "type": "scatter",
         "x": [
          1
         ],
         "xaxis": "x",
         "y": [
          1
         ],
         "yaxis": "y"
        },
        {
         "hovertemplate": "<b>%{hovertext}</b><br><br>버스노선명=강서07(생태공원~마곡역)<br>일평균 승차 인원=%{x}<br>일평균 하차 인원=%{y}<extra></extra>",
         "hovertext": [
          "강서07(생태공원~마곡역)"
         ],
         "legendgroup": "강서07(생태공원~마곡역)",
         "marker": {
          "color": "#19d3f3",
          "symbol": "circle"
         },
         "mode": "markers",
         "name": "강서07(생태공원~마곡역)",
         "orientation": "v",
         "showlegend": true,
         "type": "scatter",
         "x": [
          5
         ],
         "xaxis": "x",
         "y": [
          null
         ],
         "yaxis": "y"
        },
        {
         "hovertemplate": "<b>%{hovertext}</b><br><br>버스노선명=강남03(강남데시앙포레정문~은곡마을)<br>일평균 승차 인원=%{x}<br>일평균 하차 인원=%{y}<extra></extra>",
         "hovertext": [
          "강남03(강남데시앙포레정문~은곡마을)"
         ],
         "legendgroup": "강남03(강남데시앙포레정문~은곡마을)",
         "marker": {
          "color": "#FF6692",
          "symbol": "circle"
         },
         "mode": "markers",
         "name": "강남03(강남데시앙포레정문~은곡마을)",
         "orientation": "v",
         "showlegend": true,
         "type": "scatter",
         "x": [
          4
         ],
         "xaxis": "x",
         "y": [
          7
         ],
         "yaxis": "y"
        },
        {
         "hovertemplate": "<b>%{hovertext}</b><br><br>버스노선명=강남07(서울의료원강남분원~양재역)<br>일평균 승차 인원=%{x}<br>일평균 하차 인원=%{y}<extra></extra>",
         "hovertext": [
          "강남07(서울의료원강남분원~양재역)"
         ],
         "legendgroup": "강남07(서울의료원강남분원~양재역)",
         "marker": {
          "color": "#B6E880",
          "symbol": "circle"
         },
         "mode": "markers",
         "name": "강남07(서울의료원강남분원~양재역)",
         "orientation": "v",
         "showlegend": true,
         "type": "scatter",
         "x": [
          9
         ],
         "xaxis": "x",
         "y": [
          6
         ],
         "yaxis": "y"
        },
        {
         "hovertemplate": "<b>%{hovertext}</b><br><br>버스노선명=강남05(구룡마을~석촌역)<br>일평균 승차 인원=%{x}<br>일평균 하차 인원=%{y}<extra></extra>",
         "hovertext": [
          "강남05(구룡마을~석촌역)"
         ],
         "legendgroup": "강남05(구룡마을~석촌역)",
         "marker": {
          "color": "#FF97FF",
          "symbol": "circle"
         },
         "mode": "markers",
         "name": "강남05(구룡마을~석촌역)",
         "orientation": "v",
         "showlegend": true,
         "type": "scatter",
         "x": [
          1
         ],
         "xaxis": "x",
         "y": [
          2
         ],
         "yaxis": "y"
        },
        {
         "hovertemplate": "<b>%{hovertext}</b><br><br>버스노선명=강남06(세곡LH푸르지오아파트~코엑스)<br>일평균 승차 인원=%{x}<br>일평균 하차 인원=%{y}<extra></extra>",
         "hovertext": [
          "강남06(세곡LH푸르지오아파트~코엑스)"
         ],
         "legendgroup": "강남06(세곡LH푸르지오아파트~코엑스)",
         "marker": {
          "color": "#FECB52",
          "symbol": "circle"
         },
         "mode": "markers",
         "name": "강남06(세곡LH푸르지오아파트~코엑스)",
         "orientation": "v",
         "showlegend": true,
         "type": "scatter",
         "x": [
          11
         ],
         "xaxis": "x",
         "y": [
          4
         ],
         "yaxis": "y"
        },
        {
         "hovertemplate": "<b>%{hovertext}</b><br><br>버스노선명=강남01(일원동한솔아파트~코엑스)<br>일평균 승차 인원=%{x}<br>일평균 하차 인원=%{y}<extra></extra>",
         "hovertext": [
          "강남01(일원동한솔아파트~코엑스)"
         ],
         "legendgroup": "강남01(일원동한솔아파트~코엑스)",
         "marker": {
          "color": "#636efa",
          "symbol": "circle"
         },
         "mode": "markers",
         "name": "강남01(일원동한솔아파트~코엑스)",
         "orientation": "v",
         "showlegend": true,
         "type": "scatter",
         "x": [
          9
         ],
         "xaxis": "x",
         "y": [
          4
         ],
         "yaxis": "y"
        },
        {
         "hovertemplate": "<b>%{hovertext}</b><br><br>버스노선명=강남02(강남구민체육관~양재역)<br>일평균 승차 인원=%{x}<br>일평균 하차 인원=%{y}<extra></extra>",
         "hovertext": [
          "강남02(강남구민체육관~양재역)"
         ],
         "legendgroup": "강남02(강남구민체육관~양재역)",
         "marker": {
          "color": "#EF553B",
          "symbol": "circle"
         },
         "mode": "markers",
         "name": "강남02(강남구민체육관~양재역)",
         "orientation": "v",
         "showlegend": true,
         "type": "scatter",
         "x": [
          7
         ],
         "xaxis": "x",
         "y": [
          16
         ],
         "yaxis": "y"
        },
        {
         "hovertemplate": "<b>%{hovertext}</b><br><br>버스노선명=강동01(고덕비즈밸리지식산업센터~강변역)<br>일평균 승차 인원=%{x}<br>일평균 하차 인원=%{y}<extra></extra>",
         "hovertext": [
          "강동01(고덕비즈밸리지식산업센터~강변역)"
         ],
         "legendgroup": "강동01(고덕비즈밸리지식산업센터~강변역)",
         "marker": {
          "color": "#00cc96",
          "symbol": "circle"
         },
         "mode": "markers",
         "name": "강동01(고덕비즈밸리지식산업센터~강변역)",
         "orientation": "v",
         "showlegend": true,
         "type": "scatter",
         "x": [
          8
         ],
         "xaxis": "x",
         "y": [
          11
         ],
         "yaxis": "y"
        },
        {
         "hovertemplate": "<b>%{hovertext}</b><br><br>버스노선명=강동05(강동공영차고지~천호역)<br>일평균 승차 인원=%{x}<br>일평균 하차 인원=%{y}<extra></extra>",
         "hovertext": [
          "강동05(강동공영차고지~천호역)"
         ],
         "legendgroup": "강동05(강동공영차고지~천호역)",
         "marker": {
          "color": "#ab63fa",
          "symbol": "circle"
         },
         "mode": "markers",
         "name": "강동05(강동공영차고지~천호역)",
         "orientation": "v",
         "showlegend": true,
         "type": "scatter",
         "x": [
          2
         ],
         "xaxis": "x",
         "y": [
          1
         ],
         "yaxis": "y"
        },
        {
         "hovertemplate": "<b>%{hovertext}</b><br><br>버스노선명=강북01(아카데미하우스.통일교육원~수유역)<br>일평균 승차 인원=%{x}<br>일평균 하차 인원=%{y}<extra></extra>",
         "hovertext": [
          "강북01(아카데미하우스.통일교육원~수유역)"
         ],
         "legendgroup": "강북01(아카데미하우스.통일교육원~수유역)",
         "marker": {
          "color": "#FFA15A",
          "symbol": "circle"
         },
         "mode": "markers",
         "name": "강북01(아카데미하우스.통일교육원~수유역)",
         "orientation": "v",
         "showlegend": true,
         "type": "scatter",
         "x": [
          1
         ],
         "xaxis": "x",
         "y": [
          null
         ],
         "yaxis": "y"
        },
        {
         "hovertemplate": "<b>%{hovertext}</b><br><br>버스노선명=강북11(미아사거리~수유역)<br>일평균 승차 인원=%{x}<br>일평균 하차 인원=%{y}<extra></extra>",
         "hovertext": [
          "강북11(미아사거리~수유역)"
         ],
         "legendgroup": "강북11(미아사거리~수유역)",
         "marker": {
          "color": "#19d3f3",
          "symbol": "circle"
         },
         "mode": "markers",
         "name": "강북11(미아사거리~수유역)",
         "orientation": "v",
         "showlegend": true,
         "type": "scatter",
         "x": [
          1
         ],
         "xaxis": "x",
         "y": [
          null
         ],
         "yaxis": "y"
        },
        {
         "hovertemplate": "<b>%{hovertext}</b><br><br>버스노선명=강북10(솔샘터널~미아역)<br>일평균 승차 인원=%{x}<br>일평균 하차 인원=%{y}<extra></extra>",
         "hovertext": [
          "강북10(솔샘터널~미아역)"
         ],
         "legendgroup": "강북10(솔샘터널~미아역)",
         "marker": {
          "color": "#FF6692",
          "symbol": "circle"
         },
         "mode": "markers",
         "name": "강북10(솔샘터널~미아역)",
         "orientation": "v",
         "showlegend": true,
         "type": "scatter",
         "x": [
          1
         ],
         "xaxis": "x",
         "y": [
          null
         ],
         "yaxis": "y"
        },
        {
         "hovertemplate": "<b>%{hovertext}</b><br><br>버스노선명=강북02(본원정사~수유역)<br>일평균 승차 인원=%{x}<br>일평균 하차 인원=%{y}<extra></extra>",
         "hovertext": [
          "강북02(본원정사~수유역)"
         ],
         "legendgroup": "강북02(본원정사~수유역)",
         "marker": {
          "color": "#B6E880",
          "symbol": "circle"
         },
         "mode": "markers",
         "name": "강북02(본원정사~수유역)",
         "orientation": "v",
         "showlegend": true,
         "type": "scatter",
         "x": [
          4
         ],
         "xaxis": "x",
         "y": [
          1
         ],
         "yaxis": "y"
        },
        {
         "hovertemplate": "<b>%{hovertext}</b><br><br>버스노선명=강북03(빨래골~수유역)<br>일평균 승차 인원=%{x}<br>일평균 하차 인원=%{y}<extra></extra>",
         "hovertext": [
          "강북03(빨래골~수유역)"
         ],
         "legendgroup": "강북03(빨래골~수유역)",
         "marker": {
          "color": "#FF97FF",
          "symbol": "circle"
         },
         "mode": "markers",
         "name": "강북03(빨래골~수유역)",
         "orientation": "v",
         "showlegend": true,
         "type": "scatter",
         "x": [
          null
         ],
         "xaxis": "x",
         "y": [
          1
         ],
         "yaxis": "y"
        },
        {
         "hovertemplate": "<b>%{hovertext}</b><br><br>버스노선명=강북05(번동초등학교~한일아파트)<br>일평균 승차 인원=%{x}<br>일평균 하차 인원=%{y}<extra></extra>",
         "hovertext": [
          "강북05(번동초등학교~한일아파트)"
         ],
         "legendgroup": "강북05(번동초등학교~한일아파트)",
         "marker": {
          "color": "#FECB52",
          "symbol": "circle"
         },
         "mode": "markers",
         "name": "강북05(번동초등학교~한일아파트)",
         "orientation": "v",
         "showlegend": true,
         "type": "scatter",
         "x": [
          8
         ],
         "xaxis": "x",
         "y": [
          2
         ],
         "yaxis": "y"
        },
        {
         "hovertemplate": "<b>%{hovertext}</b><br><br>버스노선명=강북06(강북보건소~미아사거리역)<br>일평균 승차 인원=%{x}<br>일평균 하차 인원=%{y}<extra></extra>",
         "hovertext": [
          "강북06(강북보건소~미아사거리역)"
         ],
         "legendgroup": "강북06(강북보건소~미아사거리역)",
         "marker": {
          "color": "#636efa",
          "symbol": "circle"
         },
         "mode": "markers",
         "name": "강북06(강북보건소~미아사거리역)",
         "orientation": "v",
         "showlegend": true,
         "type": "scatter",
         "x": [
          1
         ],
         "xaxis": "x",
         "y": [
          4
         ],
         "yaxis": "y"
        },
        {
         "hovertemplate": "<b>%{hovertext}</b><br><br>버스노선명=강북12(삼각산119안전센터~현대백화점)<br>일평균 승차 인원=%{x}<br>일평균 하차 인원=%{y}<extra></extra>",
         "hovertext": [
          "강북12(삼각산119안전센터~현대백화점)"
         ],
         "legendgroup": "강북12(삼각산119안전센터~현대백화점)",
         "marker": {
          "color": "#EF553B",
          "symbol": "circle"
         },
         "mode": "markers",
         "name": "강북12(삼각산119안전센터~현대백화점)",
         "orientation": "v",
         "showlegend": true,
         "type": "scatter",
         "x": [
          1
         ],
         "xaxis": "x",
         "y": [
          1
         ],
         "yaxis": "y"
        },
        {
         "hovertemplate": "<b>%{hovertext}</b><br><br>버스노선명=강북09(미아사거리~수유역)<br>일평균 승차 인원=%{x}<br>일평균 하차 인원=%{y}<extra></extra>",
         "hovertext": [
          "강북09(미아사거리~수유역)"
         ],
         "legendgroup": "강북09(미아사거리~수유역)",
         "marker": {
          "color": "#00cc96",
          "symbol": "circle"
         },
         "mode": "markers",
         "name": "강북09(미아사거리~수유역)",
         "orientation": "v",
         "showlegend": true,
         "type": "scatter",
         "x": [
          1
         ],
         "xaxis": "x",
         "y": [
          null
         ],
         "yaxis": "y"
        },
        {
         "hovertemplate": "<b>%{hovertext}</b><br><br>버스노선명=강서01(약수터~등촌역)<br>일평균 승차 인원=%{x}<br>일평균 하차 인원=%{y}<extra></extra>",
         "hovertext": [
          "강서01(약수터~등촌역)"
         ],
         "legendgroup": "강서01(약수터~등촌역)",
         "marker": {
          "color": "#ab63fa",
          "symbol": "circle"
         },
         "mode": "markers",
         "name": "강서01(약수터~등촌역)",
         "orientation": "v",
         "showlegend": true,
         "type": "scatter",
         "x": [
          190
         ],
         "xaxis": "x",
         "y": [
          230
         ],
         "yaxis": "y"
        },
        {
         "hovertemplate": "<b>%{hovertext}</b><br><br>버스노선명=강서02(화곡동남부시장~하이웨이주유소)<br>일평균 승차 인원=%{x}<br>일평균 하차 인원=%{y}<extra></extra>",
         "hovertext": [
          "강서02(화곡동남부시장~하이웨이주유소)"
         ],
         "legendgroup": "강서02(화곡동남부시장~하이웨이주유소)",
         "marker": {
          "color": "#FFA15A",
          "symbol": "circle"
         },
         "mode": "markers",
         "name": "강서02(화곡동남부시장~하이웨이주유소)",
         "orientation": "v",
         "showlegend": true,
         "type": "scatter",
         "x": [
          438
         ],
         "xaxis": "x",
         "y": [
          558
         ],
         "yaxis": "y"
        },
        {
         "hovertemplate": "<b>%{hovertext}</b><br><br>버스노선명=강서03(약수터~한광고등학교)<br>일평균 승차 인원=%{x}<br>일평균 하차 인원=%{y}<extra></extra>",
         "hovertext": [
          "강서03(약수터~한광고등학교)"
         ],
         "legendgroup": "강서03(약수터~한광고등학교)",
         "marker": {
          "color": "#19d3f3",
          "symbol": "circle"
         },
         "mode": "markers",
         "name": "강서03(약수터~한광고등학교)",
         "orientation": "v",
         "showlegend": true,
         "type": "scatter",
         "x": [
          311
         ],
         "xaxis": "x",
         "y": [
          418
         ],
         "yaxis": "y"
        },
        {
         "hovertemplate": "<b>%{hovertext}</b><br><br>버스노선명=용산04(서울역서부~용문시장)<br>일평균 승차 인원=%{x}<br>일평균 하차 인원=%{y}<extra></extra>",
         "hovertext": [
          "용산04(서울역서부~용문시장)"
         ],
         "legendgroup": "용산04(서울역서부~용문시장)",
         "marker": {
          "color": "#FF6692",
          "symbol": "circle"
         },
         "mode": "markers",
         "name": "용산04(서울역서부~용문시장)",
         "orientation": "v",
         "showlegend": true,
         "type": "scatter",
         "x": [
          9
         ],
         "xaxis": "x",
         "y": [
          4
         ],
         "yaxis": "y"
        },
        {
         "hovertemplate": "<b>%{hovertext}</b><br><br>버스노선명=강서04(염창역~경복여고)<br>일평균 승차 인원=%{x}<br>일평균 하차 인원=%{y}<extra></extra>",
         "hovertext": [
          "강서04(염창역~경복여고)"
         ],
         "legendgroup": "강서04(염창역~경복여고)",
         "marker": {
          "color": "#B6E880",
          "symbol": "circle"
         },
         "mode": "markers",
         "name": "강서04(염창역~경복여고)",
         "orientation": "v",
         "showlegend": true,
         "type": "scatter",
         "x": [
          63
         ],
         "xaxis": "x",
         "y": [
          102
         ],
         "yaxis": "y"
        },
        {
         "hovertemplate": "<b>%{hovertext}</b><br><br>버스노선명=강서06(벽산아파트~수명산입구)<br>일평균 승차 인원=%{x}<br>일평균 하차 인원=%{y}<extra></extra>",
         "hovertext": [
          "강서06(벽산아파트~수명산입구)"
         ],
         "legendgroup": "강서06(벽산아파트~수명산입구)",
         "marker": {
          "color": "#FF97FF",
          "symbol": "circle"
         },
         "mode": "markers",
         "name": "강서06(벽산아파트~수명산입구)",
         "orientation": "v",
         "showlegend": true,
         "type": "scatter",
         "x": [
          4887
         ],
         "xaxis": "x",
         "y": [
          4718
         ],
         "yaxis": "y"
        },
        {
         "hovertemplate": "<b>%{hovertext}</b><br><br>버스노선명=관악01(봉천역~숭실대)<br>일평균 승차 인원=%{x}<br>일평균 하차 인원=%{y}<extra></extra>",
         "hovertext": [
          "관악01(봉천역~숭실대)"
         ],
         "legendgroup": "관악01(봉천역~숭실대)",
         "marker": {
          "color": "#FECB52",
          "symbol": "circle"
         },
         "mode": "markers",
         "name": "관악01(봉천역~숭실대)",
         "orientation": "v",
         "showlegend": true,
         "type": "scatter",
         "x": [
          23
         ],
         "xaxis": "x",
         "y": [
          22
         ],
         "yaxis": "y"
        },
        {
         "hovertemplate": "<b>%{hovertext}</b><br><br>버스노선명=관악10(아카시아마을.민방위교육장~신림역)<br>일평균 승차 인원=%{x}<br>일평균 하차 인원=%{y}<extra></extra>",
         "hovertext": [
          "관악10(아카시아마을.민방위교육장~신림역)"
         ],
         "legendgroup": "관악10(아카시아마을.민방위교육장~신림역)",
         "marker": {
          "color": "#636efa",
          "symbol": "circle"
         },
         "mode": "markers",
         "name": "관악10(아카시아마을.민방위교육장~신림역)",
         "orientation": "v",
         "showlegend": true,
         "type": "scatter",
         "x": [
          32
         ],
         "xaxis": "x",
         "y": [
          19
         ],
         "yaxis": "y"
        },
        {
         "hovertemplate": "<b>%{hovertext}</b><br><br>버스노선명=관악02(낙성대역~서울대신공학관)<br>일평균 승차 인원=%{x}<br>일평균 하차 인원=%{y}<extra></extra>",
         "hovertext": [
          "관악02(낙성대역~서울대신공학관)"
         ],
         "legendgroup": "관악02(낙성대역~서울대신공학관)",
         "marker": {
          "color": "#EF553B",
          "symbol": "circle"
         },
         "mode": "markers",
         "name": "관악02(낙성대역~서울대신공학관)",
         "orientation": "v",
         "showlegend": true,
         "type": "scatter",
         "x": [
          20
         ],
         "xaxis": "x",
         "y": [
          35
         ],
         "yaxis": "y"
        },
        {
         "hovertemplate": "<b>%{hovertext}</b><br><br>버스노선명=관악03(국사봉~신림역)<br>일평균 승차 인원=%{x}<br>일평균 하차 인원=%{y}<extra></extra>",
         "hovertext": [
          "관악03(국사봉~신림역)"
         ],
         "legendgroup": "관악03(국사봉~신림역)",
         "marker": {
          "color": "#00cc96",
          "symbol": "circle"
         },
         "mode": "markers",
         "name": "관악03(국사봉~신림역)",
         "orientation": "v",
         "showlegend": true,
         "type": "scatter",
         "x": [
          29
         ],
         "xaxis": "x",
         "y": [
          42
         ],
         "yaxis": "y"
        },
        {
         "hovertemplate": "<b>%{hovertext}</b><br><br>버스노선명=관악04(인헌동군인아파트~사랑의병원)<br>일평균 승차 인원=%{x}<br>일평균 하차 인원=%{y}<extra></extra>",
         "hovertext": [
          "관악04(인헌동군인아파트~사랑의병원)"
         ],
         "legendgroup": "관악04(인헌동군인아파트~사랑의병원)",
         "marker": {
          "color": "#ab63fa",
          "symbol": "circle"
         },
         "mode": "markers",
         "name": "관악04(인헌동군인아파트~사랑의병원)",
         "orientation": "v",
         "showlegend": true,
         "type": "scatter",
         "x": [
          2
         ],
         "xaxis": "x",
         "y": [
          4
         ],
         "yaxis": "y"
        },
        {
         "hovertemplate": "<b>%{hovertext}</b><br><br>버스노선명=관악05(신림2동현대아파트~신림역)<br>일평균 승차 인원=%{x}<br>일평균 하차 인원=%{y}<extra></extra>",
         "hovertext": [
          "관악05(신림2동현대아파트~신림역)"
         ],
         "legendgroup": "관악05(신림2동현대아파트~신림역)",
         "marker": {
          "color": "#FFA15A",
          "symbol": "circle"
         },
         "mode": "markers",
         "name": "관악05(신림2동현대아파트~신림역)",
         "orientation": "v",
         "showlegend": true,
         "type": "scatter",
         "x": [
          29
         ],
         "xaxis": "x",
         "y": [
          30
         ],
         "yaxis": "y"
        },
        {
         "hovertemplate": "<b>%{hovertext}</b><br><br>버스노선명=관악06(신림3동보명사~신대방역)<br>일평균 승차 인원=%{x}<br>일평균 하차 인원=%{y}<extra></extra>",
         "hovertext": [
          "관악06(신림3동보명사~신대방역)"
         ],
         "legendgroup": "관악06(신림3동보명사~신대방역)",
         "marker": {
          "color": "#19d3f3",
          "symbol": "circle"
         },
         "mode": "markers",
         "name": "관악06(신림3동보명사~신대방역)",
         "orientation": "v",
         "showlegend": true,
         "type": "scatter",
         "x": [
          32
         ],
         "xaxis": "x",
         "y": [
          26
         ],
         "yaxis": "y"
        },
        {
         "hovertemplate": "<b>%{hovertext}</b><br><br>버스노선명=관악07(청림동푸르지오아파트~서울대입구역)<br>일평균 승차 인원=%{x}<br>일평균 하차 인원=%{y}<extra></extra>",
         "hovertext": [
          "관악07(청림동푸르지오아파트~서울대입구역)"
         ],
         "legendgroup": "관악07(청림동푸르지오아파트~서울대입구역)",
         "marker": {
          "color": "#FF6692",
          "symbol": "circle"
         },
         "mode": "markers",
         "name": "관악07(청림동푸르지오아파트~서울대입구역)",
         "orientation": "v",
         "showlegend": true,
         "type": "scatter",
         "x": [
          8
         ],
         "xaxis": "x",
         "y": [
          10
         ],
         "yaxis": "y"
        },
        {
         "hovertemplate": "<b>%{hovertext}</b><br><br>버스노선명=관악08(난향동공영차고지~신림역)<br>일평균 승차 인원=%{x}<br>일평균 하차 인원=%{y}<extra></extra>",
         "hovertext": [
          "관악08(난향동공영차고지~신림역)"
         ],
         "legendgroup": "관악08(난향동공영차고지~신림역)",
         "marker": {
          "color": "#B6E880",
          "symbol": "circle"
         },
         "mode": "markers",
         "name": "관악08(난향동공영차고지~신림역)",
         "orientation": "v",
         "showlegend": true,
         "type": "scatter",
         "x": [
          96
         ],
         "xaxis": "x",
         "y": [
          56
         ],
         "yaxis": "y"
        },
        {
         "hovertemplate": "<b>%{hovertext}</b><br><br>버스노선명=광진02(긴고랑~군자역)<br>일평균 승차 인원=%{x}<br>일평균 하차 인원=%{y}<extra></extra>",
         "hovertext": [
          "광진02(긴고랑~군자역)"
         ],
         "legendgroup": "광진02(긴고랑~군자역)",
         "marker": {
          "color": "#FF97FF",
          "symbol": "circle"
         },
         "mode": "markers",
         "name": "광진02(긴고랑~군자역)",
         "orientation": "v",
         "showlegend": true,
         "type": "scatter",
         "x": [
          null
         ],
         "xaxis": "x",
         "y": [
          1
         ],
         "yaxis": "y"
        },
        {
         "hovertemplate": "<b>%{hovertext}</b><br><br>버스노선명=광진03(중곡119안전센터~강변역)<br>일평균 승차 인원=%{x}<br>일평균 하차 인원=%{y}<extra></extra>",
         "hovertext": [
          "광진03(중곡119안전센터~강변역)"
         ],
         "legendgroup": "광진03(중곡119안전센터~강변역)",
         "marker": {
          "color": "#FECB52",
          "symbol": "circle"
         },
         "mode": "markers",
         "name": "광진03(중곡119안전센터~강변역)",
         "orientation": "v",
         "showlegend": true,
         "type": "scatter",
         "x": [
          2
         ],
         "xaxis": "x",
         "y": [
          2
         ],
         "yaxis": "y"
        },
        {
         "hovertemplate": "<b>%{hovertext}</b><br><br>버스노선명=광진04(중곡아파트~강변역)<br>일평균 승차 인원=%{x}<br>일평균 하차 인원=%{y}<extra></extra>",
         "hovertext": [
          "광진04(중곡아파트~강변역)"
         ],
         "legendgroup": "광진04(중곡아파트~강변역)",
         "marker": {
          "color": "#636efa",
          "symbol": "circle"
         },
         "mode": "markers",
         "name": "광진04(중곡아파트~강변역)",
         "orientation": "v",
         "showlegend": true,
         "type": "scatter",
         "x": [
          2
         ],
         "xaxis": "x",
         "y": [
          2
         ],
         "yaxis": "y"
        },
        {
         "hovertemplate": "<b>%{hovertext}</b><br><br>버스노선명=구로10(대림역~중앙하이츠)<br>일평균 승차 인원=%{x}<br>일평균 하차 인원=%{y}<extra></extra>",
         "hovertext": [
          "구로10(대림역~중앙하이츠)"
         ],
         "legendgroup": "구로10(대림역~중앙하이츠)",
         "marker": {
          "color": "#EF553B",
          "symbol": "circle"
         },
         "mode": "markers",
         "name": "구로10(대림역~중앙하이츠)",
         "orientation": "v",
         "showlegend": true,
         "type": "scatter",
         "x": [
          136
         ],
         "xaxis": "x",
         "y": [
          155
         ],
         "yaxis": "y"
        },
        {
         "hovertemplate": "<b>%{hovertext}</b><br><br>버스노선명=구로05(오류중학교~개봉역)<br>일평균 승차 인원=%{x}<br>일평균 하차 인원=%{y}<extra></extra>",
         "hovertext": [
          "구로05(오류중학교~개봉역)"
         ],
         "legendgroup": "구로05(오류중학교~개봉역)",
         "marker": {
          "color": "#00cc96",
          "symbol": "circle"
         },
         "mode": "markers",
         "name": "구로05(오류중학교~개봉역)",
         "orientation": "v",
         "showlegend": true,
         "type": "scatter",
         "x": [
          83
         ],
         "xaxis": "x",
         "y": [
          115
         ],
         "yaxis": "y"
        },
        {
         "hovertemplate": "<b>%{hovertext}</b><br><br>버스노선명=구로07(오류동역~항동지구)<br>일평균 승차 인원=%{x}<br>일평균 하차 인원=%{y}<extra></extra>",
         "hovertext": [
          "구로07(오류동역~항동지구)"
         ],
         "legendgroup": "구로07(오류동역~항동지구)",
         "marker": {
          "color": "#ab63fa",
          "symbol": "circle"
         },
         "mode": "markers",
         "name": "구로07(오류동역~항동지구)",
         "orientation": "v",
         "showlegend": true,
         "type": "scatter",
         "x": [
          8
         ],
         "xaxis": "x",
         "y": [
          4
         ],
         "yaxis": "y"
        },
        {
         "hovertemplate": "<b>%{hovertext}</b><br><br>버스노선명=구로08(개봉역~오류1동주민센터)<br>일평균 승차 인원=%{x}<br>일평균 하차 인원=%{y}<extra></extra>",
         "hovertext": [
          "구로08(개봉역~오류1동주민센터)"
         ],
         "legendgroup": "구로08(개봉역~오류1동주민센터)",
         "marker": {
          "color": "#FFA15A",
          "symbol": "circle"
         },
         "mode": "markers",
         "name": "구로08(개봉역~오류1동주민센터)",
         "orientation": "v",
         "showlegend": true,
         "type": "scatter",
         "x": [
          94
         ],
         "xaxis": "x",
         "y": [
          138
         ],
         "yaxis": "y"
        },
        {
         "hovertemplate": "<b>%{hovertext}</b><br><br>버스노선명=구로09(동아아파트~구로디지털단지역)<br>일평균 승차 인원=%{x}<br>일평균 하차 인원=%{y}<extra></extra>",
         "hovertext": [
          "구로09(동아아파트~구로디지털단지역)"
         ],
         "legendgroup": "구로09(동아아파트~구로디지털단지역)",
         "marker": {
          "color": "#19d3f3",
          "symbol": "circle"
         },
         "mode": "markers",
         "name": "구로09(동아아파트~구로디지털단지역)",
         "orientation": "v",
         "showlegend": true,
         "type": "scatter",
         "x": [
          30
         ],
         "xaxis": "x",
         "y": [
          59
         ],
         "yaxis": "y"
        },
        {
         "hovertemplate": "<b>%{hovertext}</b><br><br>버스노선명=구로12(개봉역~거성아파트)<br>일평균 승차 인원=%{x}<br>일평균 하차 인원=%{y}<extra></extra>",
         "hovertext": [
          "구로12(개봉역~거성아파트)"
         ],
         "legendgroup": "구로12(개봉역~거성아파트)",
         "marker": {
          "color": "#FF6692",
          "symbol": "circle"
         },
         "mode": "markers",
         "name": "구로12(개봉역~거성아파트)",
         "orientation": "v",
         "showlegend": true,
         "type": "scatter",
         "x": [
          20
         ],
         "xaxis": "x",
         "y": [
          20
         ],
         "yaxis": "y"
        },
        {
         "hovertemplate": "<b>%{hovertext}</b><br><br>버스노선명=구로01(개봉역~금옥여고)<br>일평균 승차 인원=%{x}<br>일평균 하차 인원=%{y}<extra></extra>",
         "hovertext": [
          "구로01(개봉역~금옥여고)"
         ],
         "legendgroup": "구로01(개봉역~금옥여고)",
         "marker": {
          "color": "#B6E880",
          "symbol": "circle"
         },
         "mode": "markers",
         "name": "구로01(개봉역~금옥여고)",
         "orientation": "v",
         "showlegend": true,
         "type": "scatter",
         "x": [
          118
         ],
         "xaxis": "x",
         "y": [
          192
         ],
         "yaxis": "y"
        },
        {
         "hovertemplate": "<b>%{hovertext}</b><br><br>버스노선명=구로02(개봉역~개봉중학교)<br>일평균 승차 인원=%{x}<br>일평균 하차 인원=%{y}<extra></extra>",
         "hovertext": [
          "구로02(개봉역~개봉중학교)"
         ],
         "legendgroup": "구로02(개봉역~개봉중학교)",
         "marker": {
          "color": "#FF97FF",
          "symbol": "circle"
         },
         "mode": "markers",
         "name": "구로02(개봉역~개봉중학교)",
         "orientation": "v",
         "showlegend": true,
         "type": "scatter",
         "x": [
          42
         ],
         "xaxis": "x",
         "y": [
          47
         ],
         "yaxis": "y"
        },
        {
         "hovertemplate": "<b>%{hovertext}</b><br><br>버스노선명=구로03(개봉한진아파트~개봉역)<br>일평균 승차 인원=%{x}<br>일평균 하차 인원=%{y}<extra></extra>",
         "hovertext": [
          "구로03(개봉한진아파트~개봉역)"
         ],
         "legendgroup": "구로03(개봉한진아파트~개봉역)",
         "marker": {
          "color": "#FECB52",
          "symbol": "circle"
         },
         "mode": "markers",
         "name": "구로03(개봉한진아파트~개봉역)",
         "orientation": "v",
         "showlegend": true,
         "type": "scatter",
         "x": [
          160
         ],
         "xaxis": "x",
         "y": [
          109
         ],
         "yaxis": "y"
        },
        {
         "hovertemplate": "<b>%{hovertext}</b><br><br>버스노선명=구로04(천왕이펜하우스5단지입구~개봉역)<br>일평균 승차 인원=%{x}<br>일평균 하차 인원=%{y}<extra></extra>",
         "hovertext": [
          "구로04(천왕이펜하우스5단지입구~개봉역)"
         ],
         "legendgroup": "구로04(천왕이펜하우스5단지입구~개봉역)",
         "marker": {
          "color": "#636efa",
          "symbol": "circle"
         },
         "mode": "markers",
         "name": "구로04(천왕이펜하우스5단지입구~개봉역)",
         "orientation": "v",
         "showlegend": true,
         "type": "scatter",
         "x": [
          53
         ],
         "xaxis": "x",
         "y": [
          89
         ],
         "yaxis": "y"
        },
        {
         "hovertemplate": "<b>%{hovertext}</b><br><br>버스노선명=구로13(구로1동주민센터~구로중학교)<br>일평균 승차 인원=%{x}<br>일평균 하차 인원=%{y}<extra></extra>",
         "hovertext": [
          "구로13(구로1동주민센터~구로중학교)"
         ],
         "legendgroup": "구로13(구로1동주민센터~구로중학교)",
         "marker": {
          "color": "#EF553B",
          "symbol": "circle"
         },
         "mode": "markers",
         "name": "구로13(구로1동주민센터~구로중학교)",
         "orientation": "v",
         "showlegend": true,
         "type": "scatter",
         "x": [
          9
         ],
         "xaxis": "x",
         "y": [
          17
         ],
         "yaxis": "y"
        },
        {
         "hovertemplate": "<b>%{hovertext}</b><br><br>버스노선명=금천02(벽산3단지~안천중학교)<br>일평균 승차 인원=%{x}<br>일평균 하차 인원=%{y}<extra></extra>",
         "hovertext": [
          "금천02(벽산3단지~안천중학교)"
         ],
         "legendgroup": "금천02(벽산3단지~안천중학교)",
         "marker": {
          "color": "#00cc96",
          "symbol": "circle"
         },
         "mode": "markers",
         "name": "금천02(벽산3단지~안천중학교)",
         "orientation": "v",
         "showlegend": true,
         "type": "scatter",
         "x": [
          5
         ],
         "xaxis": "x",
         "y": [
          25
         ],
         "yaxis": "y"
        },
        {
         "hovertemplate": "<b>%{hovertext}</b><br><br>버스노선명=금천03(가산디지털단지역~구로디지털단지역)<br>일평균 승차 인원=%{x}<br>일평균 하차 인원=%{y}<extra></extra>",
         "hovertext": [
          "금천03(가산디지털단지역~구로디지털단지역)"
         ],
         "legendgroup": "금천03(가산디지털단지역~구로디지털단지역)",
         "marker": {
          "color": "#ab63fa",
          "symbol": "circle"
         },
         "mode": "markers",
         "name": "금천03(가산디지털단지역~구로디지털단지역)",
         "orientation": "v",
         "showlegend": true,
         "type": "scatter",
         "x": [
          34
         ],
         "xaxis": "x",
         "y": [
          68
         ],
         "yaxis": "y"
        },
        {
         "hovertemplate": "<b>%{hovertext}</b><br><br>버스노선명=금천04(성채안로입구삼거리~금천구청역)<br>일평균 승차 인원=%{x}<br>일평균 하차 인원=%{y}<extra></extra>",
         "hovertext": [
          "금천04(성채안로입구삼거리~금천구청역)"
         ],
         "legendgroup": "금천04(성채안로입구삼거리~금천구청역)",
         "marker": {
          "color": "#FFA15A",
          "symbol": "circle"
         },
         "mode": "markers",
         "name": "금천04(성채안로입구삼거리~금천구청역)",
         "orientation": "v",
         "showlegend": true,
         "type": "scatter",
         "x": [
          null
         ],
         "xaxis": "x",
         "y": [
          8
         ],
         "yaxis": "y"
        },
        {
         "hovertemplate": "<b>%{hovertext}</b><br><br>버스노선명=노원11(수락현대아파트~상계역)<br>일평균 승차 인원=%{x}<br>일평균 하차 인원=%{y}<extra></extra>",
         "hovertext": [
          "노원11(수락현대아파트~상계역)"
         ],
         "legendgroup": "노원11(수락현대아파트~상계역)",
         "marker": {
          "color": "#19d3f3",
          "symbol": "circle"
         },
         "mode": "markers",
         "name": "노원11(수락현대아파트~상계역)",
         "orientation": "v",
         "showlegend": true,
         "type": "scatter",
         "x": [
          2
         ],
         "xaxis": "x",
         "y": [
          null
         ],
         "yaxis": "y"
        },
        {
         "hovertemplate": "<b>%{hovertext}</b><br><br>버스노선명=노원02(수락리버시티아파트단지~노원구청)<br>일평균 승차 인원=%{x}<br>일평균 하차 인원=%{y}<extra></extra>",
         "hovertext": [
          "노원02(수락리버시티아파트단지~노원구청)"
         ],
         "legendgroup": "노원02(수락리버시티아파트단지~노원구청)",
         "marker": {
          "color": "#FF6692",
          "symbol": "circle"
         },
         "mode": "markers",
         "name": "노원02(수락리버시티아파트단지~노원구청)",
         "orientation": "v",
         "showlegend": true,
         "type": "scatter",
         "x": [
          2
         ],
         "xaxis": "x",
         "y": [
          2
         ],
         "yaxis": "y"
        },
        {
         "hovertemplate": "<b>%{hovertext}</b><br><br>버스노선명=노원03(석계역~하계역)<br>일평균 승차 인원=%{x}<br>일평균 하차 인원=%{y}<extra></extra>",
         "hovertext": [
          "노원03(석계역~하계역)"
         ],
         "legendgroup": "노원03(석계역~하계역)",
         "marker": {
          "color": "#B6E880",
          "symbol": "circle"
         },
         "mode": "markers",
         "name": "노원03(석계역~하계역)",
         "orientation": "v",
         "showlegend": true,
         "type": "scatter",
         "x": [
          3
         ],
         "xaxis": "x",
         "y": [
          1
         ],
         "yaxis": "y"
        },
        {
         "hovertemplate": "<b>%{hovertext}</b><br><br>버스노선명=노원04(석계역~공릉현대아파트)<br>일평균 승차 인원=%{x}<br>일평균 하차 인원=%{y}<extra></extra>",
         "hovertext": [
          "노원04(석계역~공릉현대아파트)"
         ],
         "legendgroup": "노원04(석계역~공릉현대아파트)",
         "marker": {
          "color": "#FF97FF",
          "symbol": "circle"
         },
         "mode": "markers",
         "name": "노원04(석계역~공릉현대아파트)",
         "orientation": "v",
         "showlegend": true,
         "type": "scatter",
         "x": [
          3
         ],
         "xaxis": "x",
         "y": [
          null
         ],
         "yaxis": "y"
        },
        {
         "hovertemplate": "<b>%{hovertext}</b><br><br>버스노선명=노원05(온곡초등학교~창동역)<br>일평균 승차 인원=%{x}<br>일평균 하차 인원=%{y}<extra></extra>",
         "hovertext": [
          "노원05(온곡초등학교~창동역)"
         ],
         "legendgroup": "노원05(온곡초등학교~창동역)",
         "marker": {
          "color": "#FECB52",
          "symbol": "circle"
         },
         "mode": "markers",
         "name": "노원05(온곡초등학교~창동역)",
         "orientation": "v",
         "showlegend": true,
         "type": "scatter",
         "x": [
          1
         ],
         "xaxis": "x",
         "y": [
          null
         ],
         "yaxis": "y"
        },
        {
         "hovertemplate": "<b>%{hovertext}</b><br><br>버스노선명=노원08(상계8동주민센터~창동역)<br>일평균 승차 인원=%{x}<br>일평균 하차 인원=%{y}<extra></extra>",
         "hovertext": [
          "노원08(상계8동주민센터~창동역)"
         ],
         "legendgroup": "노원08(상계8동주민센터~창동역)",
         "marker": {
          "color": "#636efa",
          "symbol": "circle"
         },
         "mode": "markers",
         "name": "노원08(상계8동주민센터~창동역)",
         "orientation": "v",
         "showlegend": true,
         "type": "scatter",
         "x": [
          1
         ],
         "xaxis": "x",
         "y": [
          2
         ],
         "yaxis": "y"
        },
        {
         "hovertemplate": "<b>%{hovertext}</b><br><br>버스노선명=노원09(서울특별시북부기술교육원~삼창아파트)<br>일평균 승차 인원=%{x}<br>일평균 하차 인원=%{y}<extra></extra>",
         "hovertext": [
          "노원09(서울특별시북부기술교육원~삼창아파트)"
         ],
         "legendgroup": "노원09(서울특별시북부기술교육원~삼창아파트)",
         "marker": {
          "color": "#EF553B",
          "symbol": "circle"
         },
         "mode": "markers",
         "name": "노원09(서울특별시북부기술교육원~삼창아파트)",
         "orientation": "v",
         "showlegend": true,
         "type": "scatter",
         "x": [
          null
         ],
         "xaxis": "x",
         "y": [
          2
         ],
         "yaxis": "y"
        },
        {
         "hovertemplate": "<b>%{hovertext}</b><br><br>버스노선명=도봉09(창동역~도봉산역)<br>일평균 승차 인원=%{x}<br>일평균 하차 인원=%{y}<extra></extra>",
         "hovertext": [
          "도봉09(창동역~도봉산역)"
         ],
         "legendgroup": "도봉09(창동역~도봉산역)",
         "marker": {
          "color": "#00cc96",
          "symbol": "circle"
         },
         "mode": "markers",
         "name": "도봉09(창동역~도봉산역)",
         "orientation": "v",
         "showlegend": true,
         "type": "scatter",
         "x": [
          null
         ],
         "xaxis": "x",
         "y": [
          2
         ],
         "yaxis": "y"
        },
        {
         "hovertemplate": "<b>%{hovertext}</b><br><br>버스노선명=도봉01(법종사~창동역)<br>일평균 승차 인원=%{x}<br>일평균 하차 인원=%{y}<extra></extra>",
         "hovertext": [
          "도봉01(법종사~창동역)"
         ],
         "legendgroup": "도봉01(법종사~창동역)",
         "marker": {
          "color": "#ab63fa",
          "symbol": "circle"
         },
         "mode": "markers",
         "name": "도봉01(법종사~창동역)",
         "orientation": "v",
         "showlegend": true,
         "type": "scatter",
         "x": [
          13
         ],
         "xaxis": "x",
         "y": [
          5
         ],
         "yaxis": "y"
        },
        {
         "hovertemplate": "<b>%{hovertext}</b><br><br>버스노선명=도봉02(우이동도선사입구~수유역)<br>일평균 승차 인원=%{x}<br>일평균 하차 인원=%{y}<extra></extra>",
         "hovertext": [
          "도봉02(우이동도선사입구~수유역)"
         ],
         "legendgroup": "도봉02(우이동도선사입구~수유역)",
         "marker": {
          "color": "#FFA15A",
          "symbol": "circle"
         },
         "mode": "markers",
         "name": "도봉02(우이동도선사입구~수유역)",
         "orientation": "v",
         "showlegend": true,
         "type": "scatter",
         "x": [
          13
         ],
         "xaxis": "x",
         "y": [
          5
         ],
         "yaxis": "y"
        },
        {
         "hovertemplate": "<b>%{hovertext}</b><br><br>버스노선명=영등포07(대방역~대영초중고교)<br>일평균 승차 인원=%{x}<br>일평균 하차 인원=%{y}<extra></extra>",
         "hovertext": [
          "영등포07(대방역~대영초중고교)"
         ],
         "legendgroup": "영등포07(대방역~대영초중고교)",
         "marker": {
          "color": "#19d3f3",
          "symbol": "circle"
         },
         "mode": "markers",
         "name": "영등포07(대방역~대영초중고교)",
         "orientation": "v",
         "showlegend": true,
         "type": "scatter",
         "x": [
          2
         ],
         "xaxis": "x",
         "y": [
          9
         ],
         "yaxis": "y"
        },
        {
         "hovertemplate": "<b>%{hovertext}</b><br><br>버스노선명=도봉03(꽃동네~수유역)<br>일평균 승차 인원=%{x}<br>일평균 하차 인원=%{y}<extra></extra>",
         "hovertext": [
          "도봉03(꽃동네~수유역)"
         ],
         "legendgroup": "도봉03(꽃동네~수유역)",
         "marker": {
          "color": "#FF6692",
          "symbol": "circle"
         },
         "mode": "markers",
         "name": "도봉03(꽃동네~수유역)",
         "orientation": "v",
         "showlegend": true,
         "type": "scatter",
         "x": [
          2
         ],
         "xaxis": "x",
         "y": [
          null
         ],
         "yaxis": "y"
        },
        {
         "hovertemplate": "<b>%{hovertext}</b><br><br>버스노선명=도봉05(한일병원~우이동도선사입구)<br>일평균 승차 인원=%{x}<br>일평균 하차 인원=%{y}<extra></extra>",
         "hovertext": [
          "도봉05(한일병원~우이동도선사입구)"
         ],
         "legendgroup": "도봉05(한일병원~우이동도선사입구)",
         "marker": {
          "color": "#B6E880",
          "symbol": "circle"
         },
         "mode": "markers",
         "name": "도봉05(한일병원~우이동도선사입구)",
         "orientation": "v",
         "showlegend": true,
         "type": "scatter",
         "x": [
          4
         ],
         "xaxis": "x",
         "y": [
          4
         ],
         "yaxis": "y"
        },
        {
         "hovertemplate": "<b>%{hovertext}</b><br><br>버스노선명=도봉06(한일병원~방학동벽산아파트)<br>일평균 승차 인원=%{x}<br>일평균 하차 인원=%{y}<extra></extra>",
         "hovertext": [
          "도봉06(한일병원~방학동벽산아파트)"
         ],
         "legendgroup": "도봉06(한일병원~방학동벽산아파트)",
         "marker": {
          "color": "#FF97FF",
          "symbol": "circle"
         },
         "mode": "markers",
         "name": "도봉06(한일병원~방학동벽산아파트)",
         "orientation": "v",
         "showlegend": true,
         "type": "scatter",
         "x": [
          5
         ],
         "xaxis": "x",
         "y": [
          6
         ],
         "yaxis": "y"
        },
        {
         "hovertemplate": "<b>%{hovertext}</b><br><br>버스노선명=도봉07(도봉여성센터~창2동건영아파트)<br>일평균 승차 인원=%{x}<br>일평균 하차 인원=%{y}<extra></extra>",
         "hovertext": [
          "도봉07(도봉여성센터~창2동건영아파트)"
         ],
         "legendgroup": "도봉07(도봉여성센터~창2동건영아파트)",
         "marker": {
          "color": "#FECB52",
          "symbol": "circle"
         },
         "mode": "markers",
         "name": "도봉07(도봉여성센터~창2동건영아파트)",
         "orientation": "v",
         "showlegend": true,
         "type": "scatter",
         "x": [
          5
         ],
         "xaxis": "x",
         "y": [
          4
         ],
         "yaxis": "y"
        },
        {
         "hovertemplate": "<b>%{hovertext}</b><br><br>버스노선명=동대문01(회기역~경희대)<br>일평균 승차 인원=%{x}<br>일평균 하차 인원=%{y}<extra></extra>",
         "hovertext": [
          "동대문01(회기역~경희대)"
         ],
         "legendgroup": "동대문01(회기역~경희대)",
         "marker": {
          "color": "#636efa",
          "symbol": "circle"
         },
         "mode": "markers",
         "name": "동대문01(회기역~경희대)",
         "orientation": "v",
         "showlegend": true,
         "type": "scatter",
         "x": [
          13
         ],
         "xaxis": "x",
         "y": [
          44
         ],
         "yaxis": "y"
        },
        {
         "hovertemplate": "<b>%{hovertext}</b><br><br>버스노선명=동대문02(회기역~외대)<br>일평균 승차 인원=%{x}<br>일평균 하차 인원=%{y}<extra></extra>",
         "hovertext": [
          "동대문02(회기역~외대)"
         ],
         "legendgroup": "동대문02(회기역~외대)",
         "marker": {
          "color": "#EF553B",
          "symbol": "circle"
         },
         "mode": "markers",
         "name": "동대문02(회기역~외대)",
         "orientation": "v",
         "showlegend": true,
         "type": "scatter",
         "x": [
          2
         ],
         "xaxis": "x",
         "y": [
          7
         ],
         "yaxis": "y"
        },
        {
         "hovertemplate": "<b>%{hovertext}</b><br><br>버스노선명=동작02(사자암~노량진역)<br>일평균 승차 인원=%{x}<br>일평균 하차 인원=%{y}<extra></extra>",
         "hovertext": [
          "동작02(사자암~노량진역)"
         ],
         "legendgroup": "동작02(사자암~노량진역)",
         "marker": {
          "color": "#00cc96",
          "symbol": "circle"
         },
         "mode": "markers",
         "name": "동작02(사자암~노량진역)",
         "orientation": "v",
         "showlegend": true,
         "type": "scatter",
         "x": [
          24
         ],
         "xaxis": "x",
         "y": [
          22
         ],
         "yaxis": "y"
        },
        {
         "hovertemplate": "<b>%{hovertext}</b><br><br>버스노선명=동작15(자이아파트~이수역)<br>일평균 승차 인원=%{x}<br>일평균 하차 인원=%{y}<extra></extra>",
         "hovertext": [
          "동작15(자이아파트~이수역)"
         ],
         "legendgroup": "동작15(자이아파트~이수역)",
         "marker": {
          "color": "#ab63fa",
          "symbol": "circle"
         },
         "mode": "markers",
         "name": "동작15(자이아파트~이수역)",
         "orientation": "v",
         "showlegend": true,
         "type": "scatter",
         "x": [
          null
         ],
         "xaxis": "x",
         "y": [
          2
         ],
         "yaxis": "y"
        },
        {
         "hovertemplate": "<b>%{hovertext}</b><br><br>버스노선명=동작07(삼성래미안.롯데캐슬~갯마을)<br>일평균 승차 인원=%{x}<br>일평균 하차 인원=%{y}<extra></extra>",
         "hovertext": [
          "동작07(삼성래미안.롯데캐슬~갯마을)"
         ],
         "legendgroup": "동작07(삼성래미안.롯데캐슬~갯마을)",
         "marker": {
          "color": "#FFA15A",
          "symbol": "circle"
         },
         "mode": "markers",
         "name": "동작07(삼성래미안.롯데캐슬~갯마을)",
         "orientation": "v",
         "showlegend": true,
         "type": "scatter",
         "x": [
          null
         ],
         "xaxis": "x",
         "y": [
          4
         ],
         "yaxis": "y"
        },
        {
         "hovertemplate": "<b>%{hovertext}</b><br><br>버스노선명=동작16(삼성래미안.롯데캐슬~사당역)<br>일평균 승차 인원=%{x}<br>일평균 하차 인원=%{y}<extra></extra>",
         "hovertext": [
          "동작16(삼성래미안.롯데캐슬~사당역)"
         ],
         "legendgroup": "동작16(삼성래미안.롯데캐슬~사당역)",
         "marker": {
          "color": "#19d3f3",
          "symbol": "circle"
         },
         "mode": "markers",
         "name": "동작16(삼성래미안.롯데캐슬~사당역)",
         "orientation": "v",
         "showlegend": true,
         "type": "scatter",
         "x": [
          null
         ],
         "xaxis": "x",
         "y": [
          4
         ],
         "yaxis": "y"
        },
        {
         "hovertemplate": "<b>%{hovertext}</b><br><br>버스노선명=동작17(극동아파트~이수힐스테이트.이수푸르지오)<br>일평균 승차 인원=%{x}<br>일평균 하차 인원=%{y}<extra></extra>",
         "hovertext": [
          "동작17(극동아파트~이수힐스테이트.이수푸르지오)"
         ],
         "legendgroup": "동작17(극동아파트~이수힐스테이트.이수푸르지오)",
         "marker": {
          "color": "#FF6692",
          "symbol": "circle"
         },
         "mode": "markers",
         "name": "동작17(극동아파트~이수힐스테이트.이수푸르지오)",
         "orientation": "v",
         "showlegend": true,
         "type": "scatter",
         "x": [
          1
         ],
         "xaxis": "x",
         "y": [
          6
         ],
         "yaxis": "y"
        },
        {
         "hovertemplate": "<b>%{hovertext}</b><br><br>버스노선명=동작18(극동아파트~사당역)<br>일평균 승차 인원=%{x}<br>일평균 하차 인원=%{y}<extra></extra>",
         "hovertext": [
          "동작18(극동아파트~사당역)"
         ],
         "legendgroup": "동작18(극동아파트~사당역)",
         "marker": {
          "color": "#B6E880",
          "symbol": "circle"
         },
         "mode": "markers",
         "name": "동작18(극동아파트~사당역)",
         "orientation": "v",
         "showlegend": true,
         "type": "scatter",
         "x": [
          1
         ],
         "xaxis": "x",
         "y": [
          5
         ],
         "yaxis": "y"
        },
        {
         "hovertemplate": "<b>%{hovertext}</b><br><br>버스노선명=동작09(사당대림아파트~사당역)<br>일평균 승차 인원=%{x}<br>일평균 하차 인원=%{y}<extra></extra>",
         "hovertext": [
          "동작09(사당대림아파트~사당역)"
         ],
         "legendgroup": "동작09(사당대림아파트~사당역)",
         "marker": {
          "color": "#FF97FF",
          "symbol": "circle"
         },
         "mode": "markers",
         "name": "동작09(사당대림아파트~사당역)",
         "orientation": "v",
         "showlegend": true,
         "type": "scatter",
         "x": [
          null
         ],
         "xaxis": "x",
         "y": [
          3
         ],
         "yaxis": "y"
        },
        {
         "hovertemplate": "<b>%{hovertext}</b><br><br>버스노선명=동작01(달마사~대방역)<br>일평균 승차 인원=%{x}<br>일평균 하차 인원=%{y}<extra></extra>",
         "hovertext": [
          "동작01(달마사~대방역)"
         ],
         "legendgroup": "동작01(달마사~대방역)",
         "marker": {
          "color": "#FECB52",
          "symbol": "circle"
         },
         "mode": "markers",
         "name": "동작01(달마사~대방역)",
         "orientation": "v",
         "showlegend": true,
         "type": "scatter",
         "x": [
          77
         ],
         "xaxis": "x",
         "y": [
          125
         ],
         "yaxis": "y"
        },
        {
         "hovertemplate": "<b>%{hovertext}</b><br><br>버스노선명=동작10(노들역~상도역)<br>일평균 승차 인원=%{x}<br>일평균 하차 인원=%{y}<extra></extra>",
         "hovertext": [
          "동작10(노들역~상도역)"
         ],
         "legendgroup": "동작10(노들역~상도역)",
         "marker": {
          "color": "#636efa",
          "symbol": "circle"
         },
         "mode": "markers",
         "name": "동작10(노들역~상도역)",
         "orientation": "v",
         "showlegend": true,
         "type": "scatter",
         "x": [
          42
         ],
         "xaxis": "x",
         "y": [
          92
         ],
         "yaxis": "y"
        },
        {
         "hovertemplate": "<b>%{hovertext}</b><br><br>버스노선명=동작08(행복유치원~대방역)<br>일평균 승차 인원=%{x}<br>일평균 하차 인원=%{y}<extra></extra>",
         "hovertext": [
          "동작08(행복유치원~대방역)"
         ],
         "legendgroup": "동작08(행복유치원~대방역)",
         "marker": {
          "color": "#EF553B",
          "symbol": "circle"
         },
         "mode": "markers",
         "name": "동작08(행복유치원~대방역)",
         "orientation": "v",
         "showlegend": true,
         "type": "scatter",
         "x": [
          31
         ],
         "xaxis": "x",
         "y": [
          39
         ],
         "yaxis": "y"
        },
        {
         "hovertemplate": "<b>%{hovertext}</b><br><br>버스노선명=동작11(사자암~노량진역)<br>일평균 승차 인원=%{x}<br>일평균 하차 인원=%{y}<extra></extra>",
         "hovertext": [
          "동작11(사자암~노량진역)"
         ],
         "legendgroup": "동작11(사자암~노량진역)",
         "marker": {
          "color": "#00cc96",
          "symbol": "circle"
         },
         "mode": "markers",
         "name": "동작11(사자암~노량진역)",
         "orientation": "v",
         "showlegend": true,
         "type": "scatter",
         "x": [
          24
         ],
         "xaxis": "x",
         "y": [
          21
         ],
         "yaxis": "y"
        },
        {
         "hovertemplate": "<b>%{hovertext}</b><br><br>버스노선명=동작20(자이아파트~낙성대역)<br>일평균 승차 인원=%{x}<br>일평균 하차 인원=%{y}<extra></extra>",
         "hovertext": [
          "동작20(자이아파트~낙성대역)"
         ],
         "legendgroup": "동작20(자이아파트~낙성대역)",
         "marker": {
          "color": "#ab63fa",
          "symbol": "circle"
         },
         "mode": "markers",
         "name": "동작20(자이아파트~낙성대역)",
         "orientation": "v",
         "showlegend": true,
         "type": "scatter",
         "x": [
          null
         ],
         "xaxis": "x",
         "y": [
          5
         ],
         "yaxis": "y"
        },
        {
         "hovertemplate": "<b>%{hovertext}</b><br><br>버스노선명=동작03(신대방삼거리역~노들역)<br>일평균 승차 인원=%{x}<br>일평균 하차 인원=%{y}<extra></extra>",
         "hovertext": [
          "동작03(신대방삼거리역~노들역)"
         ],
         "legendgroup": "동작03(신대방삼거리역~노들역)",
         "marker": {
          "color": "#FFA15A",
          "symbol": "circle"
         },
         "mode": "markers",
         "name": "동작03(신대방삼거리역~노들역)",
         "orientation": "v",
         "showlegend": true,
         "type": "scatter",
         "x": [
          null
         ],
         "xaxis": "x",
         "y": [
          10
         ],
         "yaxis": "y"
        },
        {
         "hovertemplate": "<b>%{hovertext}</b><br><br>버스노선명=동작12(상도4동성문교회.상도어울마당~대방역)<br>일평균 승차 인원=%{x}<br>일평균 하차 인원=%{y}<extra></extra>",
         "hovertext": [
          "동작12(상도4동성문교회.상도어울마당~대방역)"
         ],
         "legendgroup": "동작12(상도4동성문교회.상도어울마당~대방역)",
         "marker": {
          "color": "#19d3f3",
          "symbol": "circle"
         },
         "mode": "markers",
         "name": "동작12(상도4동성문교회.상도어울마당~대방역)",
         "orientation": "v",
         "showlegend": true,
         "type": "scatter",
         "x": [
          10
         ],
         "xaxis": "x",
         "y": [
          25
         ],
         "yaxis": "y"
        },
        {
         "hovertemplate": "<b>%{hovertext}</b><br><br>버스노선명=동작13(봉천고개관악현대아파트~대방역)<br>일평균 승차 인원=%{x}<br>일평균 하차 인원=%{y}<extra></extra>",
         "hovertext": [
          "동작13(봉천고개관악현대아파트~대방역)"
         ],
         "legendgroup": "동작13(봉천고개관악현대아파트~대방역)",
         "marker": {
          "color": "#FF6692",
          "symbol": "circle"
         },
         "mode": "markers",
         "name": "동작13(봉천고개관악현대아파트~대방역)",
         "orientation": "v",
         "showlegend": true,
         "type": "scatter",
         "x": [
          18
         ],
         "xaxis": "x",
         "y": [
          27
         ],
         "yaxis": "y"
        },
        {
         "hovertemplate": "<b>%{hovertext}</b><br><br>버스노선명=동작05(대방역~신대방역)<br>일평균 승차 인원=%{x}<br>일평균 하차 인원=%{y}<extra></extra>",
         "hovertext": [
          "동작05(대방역~신대방역)"
         ],
         "legendgroup": "동작05(대방역~신대방역)",
         "marker": {
          "color": "#B6E880",
          "symbol": "circle"
         },
         "mode": "markers",
         "name": "동작05(대방역~신대방역)",
         "orientation": "v",
         "showlegend": true,
         "type": "scatter",
         "x": [
          5
         ],
         "xaxis": "x",
         "y": [
          11
         ],
         "yaxis": "y"
        },
        {
         "hovertemplate": "<b>%{hovertext}</b><br><br>버스노선명=동작06(이수역~사랑의병원)<br>일평균 승차 인원=%{x}<br>일평균 하차 인원=%{y}<extra></extra>",
         "hovertext": [
          "동작06(이수역~사랑의병원)"
         ],
         "legendgroup": "동작06(이수역~사랑의병원)",
         "marker": {
          "color": "#FF97FF",
          "symbol": "circle"
         },
         "mode": "markers",
         "name": "동작06(이수역~사랑의병원)",
         "orientation": "v",
         "showlegend": true,
         "type": "scatter",
         "x": [
          null
         ],
         "xaxis": "x",
         "y": [
          3
         ],
         "yaxis": "y"
        },
        {
         "hovertemplate": "<b>%{hovertext}</b><br><br>버스노선명=동작14(동양아파트~사랑의병원)<br>일평균 승차 인원=%{x}<br>일평균 하차 인원=%{y}<extra></extra>",
         "hovertext": [
          "동작14(동양아파트~사랑의병원)"
         ],
         "legendgroup": "동작14(동양아파트~사랑의병원)",
         "marker": {
          "color": "#FECB52",
          "symbol": "circle"
         },
         "mode": "markers",
         "name": "동작14(동양아파트~사랑의병원)",
         "orientation": "v",
         "showlegend": true,
         "type": "scatter",
         "x": [
          3
         ],
         "xaxis": "x",
         "y": [
          3
         ],
         "yaxis": "y"
        },
        {
         "hovertemplate": "<b>%{hovertext}</b><br><br>버스노선명=마포15(서부운전면허시험장~홍대입구역)<br>일평균 승차 인원=%{x}<br>일평균 하차 인원=%{y}<extra></extra>",
         "hovertext": [
          "마포15(서부운전면허시험장~홍대입구역)"
         ],
         "legendgroup": "마포15(서부운전면허시험장~홍대입구역)",
         "marker": {
          "color": "#636efa",
          "symbol": "circle"
         },
         "mode": "markers",
         "name": "마포15(서부운전면허시험장~홍대입구역)",
         "orientation": "v",
         "showlegend": true,
         "type": "scatter",
         "x": [
          10
         ],
         "xaxis": "x",
         "y": [
          8
         ],
         "yaxis": "y"
        },
        {
         "hovertemplate": "<b>%{hovertext}</b><br><br>버스노선명=마포07(양화진성지~현대백화점)<br>일평균 승차 인원=%{x}<br>일평균 하차 인원=%{y}<extra></extra>",
         "hovertext": [
          "마포07(양화진성지~현대백화점)"
         ],
         "legendgroup": "마포07(양화진성지~현대백화점)",
         "marker": {
          "color": "#EF553B",
          "symbol": "circle"
         },
         "mode": "markers",
         "name": "마포07(양화진성지~현대백화점)",
         "orientation": "v",
         "showlegend": true,
         "type": "scatter",
         "x": [
          2
         ],
         "xaxis": "x",
         "y": [
          1
         ],
         "yaxis": "y"
        },
        {
         "hovertemplate": "<b>%{hovertext}</b><br><br>버스노선명=마포08(서부운전면허시험장~신촌전철역)<br>일평균 승차 인원=%{x}<br>일평균 하차 인원=%{y}<extra></extra>",
         "hovertext": [
          "마포08(서부운전면허시험장~신촌전철역)"
         ],
         "legendgroup": "마포08(서부운전면허시험장~신촌전철역)",
         "marker": {
          "color": "#00cc96",
          "symbol": "circle"
         },
         "mode": "markers",
         "name": "마포08(서부운전면허시험장~신촌전철역)",
         "orientation": "v",
         "showlegend": true,
         "type": "scatter",
         "x": [
          15
         ],
         "xaxis": "x",
         "y": [
          12
         ],
         "yaxis": "y"
        },
        {
         "hovertemplate": "<b>%{hovertext}</b><br><br>버스노선명=마포16(망원동~홍대정문)<br>일평균 승차 인원=%{x}<br>일평균 하차 인원=%{y}<extra></extra>",
         "hovertext": [
          "마포16(망원동~홍대정문)"
         ],
         "legendgroup": "마포16(망원동~홍대정문)",
         "marker": {
          "color": "#ab63fa",
          "symbol": "circle"
         },
         "mode": "markers",
         "name": "마포16(망원동~홍대정문)",
         "orientation": "v",
         "showlegend": true,
         "type": "scatter",
         "x": [
          39
         ],
         "xaxis": "x",
         "y": [
          65
         ],
         "yaxis": "y"
        },
        {
         "hovertemplate": "<b>%{hovertext}</b><br><br>버스노선명=마포09(망원유수지~신촌전철역)<br>일평균 승차 인원=%{x}<br>일평균 하차 인원=%{y}<extra></extra>",
         "hovertext": [
          "마포09(망원유수지~신촌전철역)"
         ],
         "legendgroup": "마포09(망원유수지~신촌전철역)",
         "marker": {
          "color": "#FFA15A",
          "symbol": "circle"
         },
         "mode": "markers",
         "name": "마포09(망원유수지~신촌전철역)",
         "orientation": "v",
         "showlegend": true,
         "type": "scatter",
         "x": [
          23
         ],
         "xaxis": "x",
         "y": [
          10
         ],
         "yaxis": "y"
        },
        {
         "hovertemplate": "<b>%{hovertext}</b><br><br>버스노선명=마포10(신촌전철역~공덕역)<br>일평균 승차 인원=%{x}<br>일평균 하차 인원=%{y}<extra></extra>",
         "hovertext": [
          "마포10(신촌전철역~공덕역)"
         ],
         "legendgroup": "마포10(신촌전철역~공덕역)",
         "marker": {
          "color": "#19d3f3",
          "symbol": "circle"
         },
         "mode": "markers",
         "name": "마포10(신촌전철역~공덕역)",
         "orientation": "v",
         "showlegend": true,
         "type": "scatter",
         "x": [
          14
         ],
         "xaxis": "x",
         "y": [
          17
         ],
         "yaxis": "y"
        },
        {
         "hovertemplate": "<b>%{hovertext}</b><br><br>버스노선명=마포11(신촌전철역~마포역)<br>일평균 승차 인원=%{x}<br>일평균 하차 인원=%{y}<extra></extra>",
         "hovertext": [
          "마포11(신촌전철역~마포역)"
         ],
         "legendgroup": "마포11(신촌전철역~마포역)",
         "marker": {
          "color": "#FF6692",
          "symbol": "circle"
         },
         "mode": "markers",
         "name": "마포11(신촌전철역~마포역)",
         "orientation": "v",
         "showlegend": true,
         "type": "scatter",
         "x": [
          4
         ],
         "xaxis": "x",
         "y": [
          3
         ],
         "yaxis": "y"
        },
        {
         "hovertemplate": "<b>%{hovertext}</b><br><br>버스노선명=마포12(신촌전철역~마포역)<br>일평균 승차 인원=%{x}<br>일평균 하차 인원=%{y}<extra></extra>",
         "hovertext": [
          "마포12(신촌전철역~마포역)"
         ],
         "legendgroup": "마포12(신촌전철역~마포역)",
         "marker": {
          "color": "#B6E880",
          "symbol": "circle"
         },
         "mode": "markers",
         "name": "마포12(신촌전철역~마포역)",
         "orientation": "v",
         "showlegend": true,
         "type": "scatter",
         "x": [
          3
         ],
         "xaxis": "x",
         "y": [
          11
         ],
         "yaxis": "y"
        },
        {
         "hovertemplate": "<b>%{hovertext}</b><br><br>버스노선명=마포01(산천동리버힐삼성아파트~용문시장)<br>일평균 승차 인원=%{x}<br>일평균 하차 인원=%{y}<extra></extra>",
         "hovertext": [
          "마포01(산천동리버힐삼성아파트~용문시장)"
         ],
         "legendgroup": "마포01(산천동리버힐삼성아파트~용문시장)",
         "marker": {
          "color": "#FF97FF",
          "symbol": "circle"
         },
         "mode": "markers",
         "name": "마포01(산천동리버힐삼성아파트~용문시장)",
         "orientation": "v",
         "showlegend": true,
         "type": "scatter",
         "x": [
          19
         ],
         "xaxis": "x",
         "y": [
          14
         ],
         "yaxis": "y"
        },
        {
         "hovertemplate": "<b>%{hovertext}</b><br><br>버스노선명=마포17(공덕시장~효창공원앞역)<br>일평균 승차 인원=%{x}<br>일평균 하차 인원=%{y}<extra></extra>",
         "hovertext": [
          "마포17(공덕시장~효창공원앞역)"
         ],
         "legendgroup": "마포17(공덕시장~효창공원앞역)",
         "marker": {
          "color": "#FECB52",
          "symbol": "circle"
         },
         "mode": "markers",
         "name": "마포17(공덕시장~효창공원앞역)",
         "orientation": "v",
         "showlegend": true,
         "type": "scatter",
         "x": [
          8
         ],
         "xaxis": "x",
         "y": [
          29
         ],
         "yaxis": "y"
        },
        {
         "hovertemplate": "<b>%{hovertext}</b><br><br>버스노선명=마포02(청암대~공덕역)<br>일평균 승차 인원=%{x}<br>일평균 하차 인원=%{y}<extra></extra>",
         "hovertext": [
          "마포02(청암대~공덕역)"
         ],
         "legendgroup": "마포02(청암대~공덕역)",
         "marker": {
          "color": "#636efa",
          "symbol": "circle"
         },
         "mode": "markers",
         "name": "마포02(청암대~공덕역)",
         "orientation": "v",
         "showlegend": true,
         "type": "scatter",
         "x": [
          5
         ],
         "xaxis": "x",
         "y": [
          4
         ],
         "yaxis": "y"
        },
        {
         "hovertemplate": "<b>%{hovertext}</b><br><br>버스노선명=마포03(아현역~만리동고개)<br>일평균 승차 인원=%{x}<br>일평균 하차 인원=%{y}<extra></extra>",
         "hovertext": [
          "마포03(아현역~만리동고개)"
         ],
         "legendgroup": "마포03(아현역~만리동고개)",
         "marker": {
          "color": "#EF553B",
          "symbol": "circle"
         },
         "mode": "markers",
         "name": "마포03(아현역~만리동고개)",
         "orientation": "v",
         "showlegend": true,
         "type": "scatter",
         "x": [
          null
         ],
         "xaxis": "x",
         "y": [
          7
         ],
         "yaxis": "y"
        },
        {
         "hovertemplate": "<b>%{hovertext}</b><br><br>버스노선명=마포06(홍대입구역~남가좌동아이파크아파트)<br>일평균 승차 인원=%{x}<br>일평균 하차 인원=%{y}<extra></extra>",
         "hovertext": [
          "마포06(홍대입구역~남가좌동아이파크아파트)"
         ],
         "legendgroup": "마포06(홍대입구역~남가좌동아이파크아파트)",
         "marker": {
          "color": "#00cc96",
          "symbol": "circle"
         },
         "mode": "markers",
         "name": "마포06(홍대입구역~남가좌동아이파크아파트)",
         "orientation": "v",
         "showlegend": true,
         "type": "scatter",
         "x": [
          26
         ],
         "xaxis": "x",
         "y": [
          17
         ],
         "yaxis": "y"
        },
        {
         "hovertemplate": "<b>%{hovertext}</b><br><br>버스노선명=서대문01(삼성빌라~홍제삼거리)<br>일평균 승차 인원=%{x}<br>일평균 하차 인원=%{y}<extra></extra>",
         "hovertext": [
          "서대문01(삼성빌라~홍제삼거리)"
         ],
         "legendgroup": "서대문01(삼성빌라~홍제삼거리)",
         "marker": {
          "color": "#ab63fa",
          "symbol": "circle"
         },
         "mode": "markers",
         "name": "서대문01(삼성빌라~홍제삼거리)",
         "orientation": "v",
         "showlegend": true,
         "type": "scatter",
         "x": [
          3
         ],
         "xaxis": "x",
         "y": [
          1
         ],
         "yaxis": "y"
        },
        {
         "hovertemplate": "<b>%{hovertext}</b><br><br>버스노선명=서대문10(백련사~홍제역)<br>일평균 승차 인원=%{x}<br>일평균 하차 인원=%{y}<extra></extra>",
         "hovertext": [
          "서대문10(백련사~홍제역)"
         ],
         "legendgroup": "서대문10(백련사~홍제역)",
         "marker": {
          "color": "#FFA15A",
          "symbol": "circle"
         },
         "mode": "markers",
         "name": "서대문10(백련사~홍제역)",
         "orientation": "v",
         "showlegend": true,
         "type": "scatter",
         "x": [
          3
         ],
         "xaxis": "x",
         "y": [
          1
         ],
         "yaxis": "y"
        },
        {
         "hovertemplate": "<b>%{hovertext}</b><br><br>버스노선명=서대문11(홍은동국민주택~봉원사입구)<br>일평균 승차 인원=%{x}<br>일평균 하차 인원=%{y}<extra></extra>",
         "hovertext": [
          "서대문11(홍은동국민주택~봉원사입구)"
         ],
         "legendgroup": "서대문11(홍은동국민주택~봉원사입구)",
         "marker": {
          "color": "#19d3f3",
          "symbol": "circle"
         },
         "mode": "markers",
         "name": "서대문11(홍은동국민주택~봉원사입구)",
         "orientation": "v",
         "showlegend": true,
         "type": "scatter",
         "x": [
          9
         ],
         "xaxis": "x",
         "y": [
          8
         ],
         "yaxis": "y"
        },
        {
         "hovertemplate": "<b>%{hovertext}</b><br><br>버스노선명=서대문12(동원베네스트아파트~홍제역)<br>일평균 승차 인원=%{x}<br>일평균 하차 인원=%{y}<extra></extra>",
         "hovertext": [
          "서대문12(동원베네스트아파트~홍제역)"
         ],
         "legendgroup": "서대문12(동원베네스트아파트~홍제역)",
         "marker": {
          "color": "#FF6692",
          "symbol": "circle"
         },
         "mode": "markers",
         "name": "서대문12(동원베네스트아파트~홍제역)",
         "orientation": "v",
         "showlegend": true,
         "type": "scatter",
         "x": [
          1
         ],
         "xaxis": "x",
         "y": [
          3
         ],
         "yaxis": "y"
        },
        {
         "hovertemplate": "<b>%{hovertext}</b><br><br>버스노선명=서대문13(홍은동국민주택~홍제원현대아파트)<br>일평균 승차 인원=%{x}<br>일평균 하차 인원=%{y}<extra></extra>",
         "hovertext": [
          "서대문13(홍은동국민주택~홍제원현대아파트)"
         ],
         "legendgroup": "서대문13(홍은동국민주택~홍제원현대아파트)",
         "marker": {
          "color": "#B6E880",
          "symbol": "circle"
         },
         "mode": "markers",
         "name": "서대문13(홍은동국민주택~홍제원현대아파트)",
         "orientation": "v",
         "showlegend": true,
         "type": "scatter",
         "x": [
          8
         ],
         "xaxis": "x",
         "y": [
          8
         ],
         "yaxis": "y"
        },
        {
         "hovertemplate": "<b>%{hovertext}</b><br><br>버스노선명=서대문14(정원여중~홍제역)<br>일평균 승차 인원=%{x}<br>일평균 하차 인원=%{y}<extra></extra>",
         "hovertext": [
          "서대문14(정원여중~홍제역)"
         ],
         "legendgroup": "서대문14(정원여중~홍제역)",
         "marker": {
          "color": "#FF97FF",
          "symbol": "circle"
         },
         "mode": "markers",
         "name": "서대문14(정원여중~홍제역)",
         "orientation": "v",
         "showlegend": true,
         "type": "scatter",
         "x": [
          3
         ],
         "xaxis": "x",
         "y": [
          6
         ],
         "yaxis": "y"
        },
        {
         "hovertemplate": "<b>%{hovertext}</b><br><br>버스노선명=서대문03(홍은2동주민센터~신촌역)<br>일평균 승차 인원=%{x}<br>일평균 하차 인원=%{y}<extra></extra>",
         "hovertext": [
          "서대문03(홍은2동주민센터~신촌역)"
         ],
         "legendgroup": "서대문03(홍은2동주민센터~신촌역)",
         "marker": {
          "color": "#FECB52",
          "symbol": "circle"
         },
         "mode": "markers",
         "name": "서대문03(홍은2동주민센터~신촌역)",
         "orientation": "v",
         "showlegend": true,
         "type": "scatter",
         "x": [
          31
         ],
         "xaxis": "x",
         "y": [
          55
         ],
         "yaxis": "y"
        },
        {
         "hovertemplate": "<b>%{hovertext}</b><br><br>버스노선명=서대문04(궁동근린공원~신촌역)<br>일평균 승차 인원=%{x}<br>일평균 하차 인원=%{y}<extra></extra>",
         "hovertext": [
          "서대문04(궁동근린공원~신촌역)"
         ],
         "legendgroup": "서대문04(궁동근린공원~신촌역)",
         "marker": {
          "color": "#636efa",
          "symbol": "circle"
         },
         "mode": "markers",
         "name": "서대문04(궁동근린공원~신촌역)",
         "orientation": "v",
         "showlegend": true,
         "type": "scatter",
         "x": [
          11
         ],
         "xaxis": "x",
         "y": [
          31
         ],
         "yaxis": "y"
        },
        {
         "hovertemplate": "<b>%{hovertext}</b><br><br>버스노선명=서대문05(북아현삼거리~연세대학교)<br>일평균 승차 인원=%{x}<br>일평균 하차 인원=%{y}<extra></extra>",
         "hovertext": [
          "서대문05(북아현삼거리~연세대학교)"
         ],
         "legendgroup": "서대문05(북아현삼거리~연세대학교)",
         "marker": {
          "color": "#EF553B",
          "symbol": "circle"
         },
         "mode": "markers",
         "name": "서대문05(북아현삼거리~연세대학교)",
         "orientation": "v",
         "showlegend": true,
         "type": "scatter",
         "x": [
          18
         ],
         "xaxis": "x",
         "y": [
          25
         ],
         "yaxis": "y"
        },
        {
         "hovertemplate": "<b>%{hovertext}</b><br><br>버스노선명=서대문06(북아현두산아파트~청파동삼일교회)<br>일평균 승차 인원=%{x}<br>일평균 하차 인원=%{y}<extra></extra>",
         "hovertext": [
          "서대문06(북아현두산아파트~청파동삼일교회)"
         ],
         "legendgroup": "서대문06(북아현두산아파트~청파동삼일교회)",
         "marker": {
          "color": "#00cc96",
          "symbol": "circle"
         },
         "mode": "markers",
         "name": "서대문06(북아현두산아파트~청파동삼일교회)",
         "orientation": "v",
         "showlegend": true,
         "type": "scatter",
         "x": [
          1
         ],
         "xaxis": "x",
         "y": [
          3
         ],
         "yaxis": "y"
        },
        {
         "hovertemplate": "<b>%{hovertext}</b><br><br>버스노선명=서대문07(개미마을~홍제역)<br>일평균 승차 인원=%{x}<br>일평균 하차 인원=%{y}<extra></extra>",
         "hovertext": [
          "서대문07(개미마을~홍제역)"
         ],
         "legendgroup": "서대문07(개미마을~홍제역)",
         "marker": {
          "color": "#ab63fa",
          "symbol": "circle"
         },
         "mode": "markers",
         "name": "서대문07(개미마을~홍제역)",
         "orientation": "v",
         "showlegend": true,
         "type": "scatter",
         "x": [
          3
         ],
         "xaxis": "x",
         "y": [
          1
         ],
         "yaxis": "y"
        },
        {
         "hovertemplate": "<b>%{hovertext}</b><br><br>버스노선명=서대문08(상명대학교~홍제역)<br>일평균 승차 인원=%{x}<br>일평균 하차 인원=%{y}<extra></extra>",
         "hovertext": [
          "서대문08(상명대학교~홍제역)"
         ],
         "legendgroup": "서대문08(상명대학교~홍제역)",
         "marker": {
          "color": "#FFA15A",
          "symbol": "circle"
         },
         "mode": "markers",
         "name": "서대문08(상명대학교~홍제역)",
         "orientation": "v",
         "showlegend": true,
         "type": "scatter",
         "x": [
          2
         ],
         "xaxis": "x",
         "y": [
          6
         ],
         "yaxis": "y"
        },
        {
         "hovertemplate": "<b>%{hovertext}</b><br><br>버스노선명=서초10(서초구민체육센터~강남역)<br>일평균 승차 인원=%{x}<br>일평균 하차 인원=%{y}<extra></extra>",
         "hovertext": [
          "서초10(서초구민체육센터~강남역)"
         ],
         "legendgroup": "서초10(서초구민체육센터~강남역)",
         "marker": {
          "color": "#19d3f3",
          "symbol": "circle"
         },
         "mode": "markers",
         "name": "서초10(서초구민체육센터~강남역)",
         "orientation": "v",
         "showlegend": true,
         "type": "scatter",
         "x": [
          11
         ],
         "xaxis": "x",
         "y": [
          17
         ],
         "yaxis": "y"
        },
        {
         "hovertemplate": "<b>%{hovertext}</b><br><br>버스노선명=서초11(예술의전당~반포1동성당)<br>일평균 승차 인원=%{x}<br>일평균 하차 인원=%{y}<extra></extra>",
         "hovertext": [
          "서초11(예술의전당~반포1동성당)"
         ],
         "legendgroup": "서초11(예술의전당~반포1동성당)",
         "marker": {
          "color": "#FF6692",
          "symbol": "circle"
         },
         "mode": "markers",
         "name": "서초11(예술의전당~반포1동성당)",
         "orientation": "v",
         "showlegend": true,
         "type": "scatter",
         "x": [
          9
         ],
         "xaxis": "x",
         "y": [
          17
         ],
         "yaxis": "y"
        },
        {
         "hovertemplate": "<b>%{hovertext}</b><br><br>버스노선명=서초13(이수역~동덕여고)<br>일평균 승차 인원=%{x}<br>일평균 하차 인원=%{y}<extra></extra>",
         "hovertext": [
          "서초13(이수역~동덕여고)"
         ],
         "legendgroup": "서초13(이수역~동덕여고)",
         "marker": {
          "color": "#B6E880",
          "symbol": "circle"
         },
         "mode": "markers",
         "name": "서초13(이수역~동덕여고)",
         "orientation": "v",
         "showlegend": true,
         "type": "scatter",
         "x": [
          21
         ],
         "xaxis": "x",
         "y": [
          51
         ],
         "yaxis": "y"
        },
        {
         "hovertemplate": "<b>%{hovertext}</b><br><br>버스노선명=서초14(이수역~고속터미널)<br>일평균 승차 인원=%{x}<br>일평균 하차 인원=%{y}<extra></extra>",
         "hovertext": [
          "서초14(이수역~고속터미널)"
         ],
         "legendgroup": "서초14(이수역~고속터미널)",
         "marker": {
          "color": "#FF97FF",
          "symbol": "circle"
         },
         "mode": "markers",
         "name": "서초14(이수역~고속터미널)",
         "orientation": "v",
         "showlegend": true,
         "type": "scatter",
         "x": [
          1
         ],
         "xaxis": "x",
         "y": [
          16
         ],
         "yaxis": "y"
        },
        {
         "hovertemplate": "<b>%{hovertext}</b><br><br>버스노선명=서초15(롯데캐슬헤론아파트~사당역)<br>일평균 승차 인원=%{x}<br>일평균 하차 인원=%{y}<extra></extra>",
         "hovertext": [
          "서초15(롯데캐슬헤론아파트~사당역)"
         ],
         "legendgroup": "서초15(롯데캐슬헤론아파트~사당역)",
         "marker": {
          "color": "#FECB52",
          "symbol": "circle"
         },
         "mode": "markers",
         "name": "서초15(롯데캐슬헤론아파트~사당역)",
         "orientation": "v",
         "showlegend": true,
         "type": "scatter",
         "x": [
          10
         ],
         "xaxis": "x",
         "y": [
          48
         ],
         "yaxis": "y"
        },
        {
         "hovertemplate": "<b>%{hovertext}</b><br><br>버스노선명=서초16(정금마을~방배역)<br>일평균 승차 인원=%{x}<br>일평균 하차 인원=%{y}<extra></extra>",
         "hovertext": [
          "서초16(정금마을~방배역)"
         ],
         "legendgroup": "서초16(정금마을~방배역)",
         "marker": {
          "color": "#636efa",
          "symbol": "circle"
         },
         "mode": "markers",
         "name": "서초16(정금마을~방배역)",
         "orientation": "v",
         "showlegend": true,
         "type": "scatter",
         "x": [
          null
         ],
         "xaxis": "x",
         "y": [
          8
         ],
         "yaxis": "y"
        },
        {
         "hovertemplate": "<b>%{hovertext}</b><br><br>버스노선명=서초17(사당역~서초구청)<br>일평균 승차 인원=%{x}<br>일평균 하차 인원=%{y}<extra></extra>",
         "hovertext": [
          "서초17(사당역~서초구청)"
         ],
         "legendgroup": "서초17(사당역~서초구청)",
         "marker": {
          "color": "#EF553B",
          "symbol": "circle"
         },
         "mode": "markers",
         "name": "서초17(사당역~서초구청)",
         "orientation": "v",
         "showlegend": true,
         "type": "scatter",
         "x": [
          9
         ],
         "xaxis": "x",
         "y": [
          46
         ],
         "yaxis": "y"
        },
        {
         "hovertemplate": "<b>%{hovertext}</b><br><br>버스노선명=서초02(교대역~서울고등학교)<br>일평균 승차 인원=%{x}<br>일평균 하차 인원=%{y}<extra></extra>",
         "hovertext": [
          "서초02(교대역~서울고등학교)"
         ],
         "legendgroup": "서초02(교대역~서울고등학교)",
         "marker": {
          "color": "#00cc96",
          "symbol": "circle"
         },
         "mode": "markers",
         "name": "서초02(교대역~서울고등학교)",
         "orientation": "v",
         "showlegend": true,
         "type": "scatter",
         "x": [
          14
         ],
         "xaxis": "x",
         "y": [
          52
         ],
         "yaxis": "y"
        },
        {
         "hovertemplate": "<b>%{hovertext}</b><br><br>버스노선명=서초20(서초더샵포레아파트~양재역)<br>일평균 승차 인원=%{x}<br>일평균 하차 인원=%{y}<extra></extra>",
         "hovertext": [
          "서초20(서초더샵포레아파트~양재역)"
         ],
         "legendgroup": "서초20(서초더샵포레아파트~양재역)",
         "marker": {
          "color": "#ab63fa",
          "symbol": "circle"
         },
         "mode": "markers",
         "name": "서초20(서초더샵포레아파트~양재역)",
         "orientation": "v",
         "showlegend": true,
         "type": "scatter",
         "x": [
          5
         ],
         "xaxis": "x",
         "y": [
          4
         ],
         "yaxis": "y"
        },
        {
         "hovertemplate": "<b>%{hovertext}</b><br><br>버스노선명=서초21(한국소비자원~서초구민체육센터)<br>일평균 승차 인원=%{x}<br>일평균 하차 인원=%{y}<extra></extra>",
         "hovertext": [
          "서초21(한국소비자원~서초구민체육센터)"
         ],
         "legendgroup": "서초21(한국소비자원~서초구민체육센터)",
         "marker": {
          "color": "#FFA15A",
          "symbol": "circle"
         },
         "mode": "markers",
         "name": "서초21(한국소비자원~서초구민체육센터)",
         "orientation": "v",
         "showlegend": true,
         "type": "scatter",
         "x": [
          23
         ],
         "xaxis": "x",
         "y": [
          35
         ],
         "yaxis": "y"
        },
        {
         "hovertemplate": "<b>%{hovertext}</b><br><br>버스노선명=서초03(교대역~신사역)<br>일평균 승차 인원=%{x}<br>일평균 하차 인원=%{y}<extra></extra>",
         "hovertext": [
          "서초03(교대역~신사역)"
         ],
         "legendgroup": "서초03(교대역~신사역)",
         "marker": {
          "color": "#19d3f3",
          "symbol": "circle"
         },
         "mode": "markers",
         "name": "서초03(교대역~신사역)",
         "orientation": "v",
         "showlegend": true,
         "type": "scatter",
         "x": [
          8
         ],
         "xaxis": "x",
         "y": [
          11
         ],
         "yaxis": "y"
        },
        {
         "hovertemplate": "<b>%{hovertext}</b><br><br>버스노선명=서초05(정금마을~세탁소)<br>일평균 승차 인원=%{x}<br>일평균 하차 인원=%{y}<extra></extra>",
         "hovertext": [
          "서초05(정금마을~세탁소)"
         ],
         "legendgroup": "서초05(정금마을~세탁소)",
         "marker": {
          "color": "#FF6692",
          "symbol": "circle"
         },
         "mode": "markers",
         "name": "서초05(정금마을~세탁소)",
         "orientation": "v",
         "showlegend": true,
         "type": "scatter",
         "x": [
          null
         ],
         "xaxis": "x",
         "y": [
          2
         ],
         "yaxis": "y"
        },
        {
         "hovertemplate": "<b>%{hovertext}</b><br><br>버스노선명=서초07(내방역~임광아파트)<br>일평균 승차 인원=%{x}<br>일평균 하차 인원=%{y}<extra></extra>",
         "hovertext": [
          "서초07(내방역~임광아파트)"
         ],
         "legendgroup": "서초07(내방역~임광아파트)",
         "marker": {
          "color": "#B6E880",
          "symbol": "circle"
         },
         "mode": "markers",
         "name": "서초07(내방역~임광아파트)",
         "orientation": "v",
         "showlegend": true,
         "type": "scatter",
         "x": [
          5
         ],
         "xaxis": "x",
         "y": [
          16
         ],
         "yaxis": "y"
        },
        {
         "hovertemplate": "<b>%{hovertext}</b><br><br>버스노선명=서초08(서울추모공원~양재역)<br>일평균 승차 인원=%{x}<br>일평균 하차 인원=%{y}<extra></extra>",
         "hovertext": [
          "서초08(서울추모공원~양재역)"
         ],
         "legendgroup": "서초08(서울추모공원~양재역)",
         "marker": {
          "color": "#FF97FF",
          "symbol": "circle"
         },
         "mode": "markers",
         "name": "서초08(서울추모공원~양재역)",
         "orientation": "v",
         "showlegend": true,
         "type": "scatter",
         "x": [
          9
         ],
         "xaxis": "x",
         "y": [
          9
         ],
         "yaxis": "y"
        },
        {
         "hovertemplate": "<b>%{hovertext}</b><br><br>버스노선명=서초09(헌인가구단지~강남역)<br>일평균 승차 인원=%{x}<br>일평균 하차 인원=%{y}<extra></extra>",
         "hovertext": [
          "서초09(헌인가구단지~강남역)"
         ],
         "legendgroup": "서초09(헌인가구단지~강남역)",
         "marker": {
          "color": "#FECB52",
          "symbol": "circle"
         },
         "mode": "markers",
         "name": "서초09(헌인가구단지~강남역)",
         "orientation": "v",
         "showlegend": true,
         "type": "scatter",
         "x": [
          26
         ],
         "xaxis": "x",
         "y": [
          34
         ],
         "yaxis": "y"
        },
        {
         "hovertemplate": "<b>%{hovertext}</b><br><br>버스노선명=성동01(옥수역~신당역)<br>일평균 승차 인원=%{x}<br>일평균 하차 인원=%{y}<extra></extra>",
         "hovertext": [
          "성동01(옥수역~신당역)"
         ],
         "legendgroup": "성동01(옥수역~신당역)",
         "marker": {
          "color": "#636efa",
          "symbol": "circle"
         },
         "mode": "markers",
         "name": "성동01(옥수역~신당역)",
         "orientation": "v",
         "showlegend": true,
         "type": "scatter",
         "x": [
          4
         ],
         "xaxis": "x",
         "y": [
          5
         ],
         "yaxis": "y"
        },
        {
         "hovertemplate": "<b>%{hovertext}</b><br><br>버스노선명=성동02(청계현대아파트~논골입구)<br>일평균 승차 인원=%{x}<br>일평균 하차 인원=%{y}<extra></extra>",
         "hovertext": [
          "성동02(청계현대아파트~논골입구)"
         ],
         "legendgroup": "성동02(청계현대아파트~논골입구)",
         "marker": {
          "color": "#EF553B",
          "symbol": "circle"
         },
         "mode": "markers",
         "name": "성동02(청계현대아파트~논골입구)",
         "orientation": "v",
         "showlegend": true,
         "type": "scatter",
         "x": [
          2
         ],
         "xaxis": "x",
         "y": [
          3
         ],
         "yaxis": "y"
        },
        {
         "hovertemplate": "<b>%{hovertext}</b><br><br>버스노선명=성동05(응봉근린공원~약수역)<br>일평균 승차 인원=%{x}<br>일평균 하차 인원=%{y}<extra></extra>",
         "hovertext": [
          "성동05(응봉근린공원~약수역)"
         ],
         "legendgroup": "성동05(응봉근린공원~약수역)",
         "marker": {
          "color": "#00cc96",
          "symbol": "circle"
         },
         "mode": "markers",
         "name": "성동05(응봉근린공원~약수역)",
         "orientation": "v",
         "showlegend": true,
         "type": "scatter",
         "x": [
          2
         ],
         "xaxis": "x",
         "y": [
          7
         ],
         "yaxis": "y"
        },
        {
         "hovertemplate": "<b>%{hovertext}</b><br><br>버스노선명=성동09(극동아파트5동~옥수역)<br>일평균 승차 인원=%{x}<br>일평균 하차 인원=%{y}<extra></extra>",
         "hovertext": [
          "성동09(극동아파트5동~옥수역)"
         ],
         "legendgroup": "성동09(극동아파트5동~옥수역)",
         "marker": {
          "color": "#ab63fa",
          "symbol": "circle"
         },
         "mode": "markers",
         "name": "성동09(극동아파트5동~옥수역)",
         "orientation": "v",
         "showlegend": true,
         "type": "scatter",
         "x": [
          null
         ],
         "xaxis": "x",
         "y": [
          4
         ],
         "yaxis": "y"
        },
        {
         "hovertemplate": "<b>%{hovertext}</b><br><br>버스노선명=성동08(금호역~성동구도시관리공단)<br>일평균 승차 인원=%{x}<br>일평균 하차 인원=%{y}<extra></extra>",
         "hovertext": [
          "성동08(금호역~성동구도시관리공단)"
         ],
         "legendgroup": "성동08(금호역~성동구도시관리공단)",
         "marker": {
          "color": "#FFA15A",
          "symbol": "circle"
         },
         "mode": "markers",
         "name": "성동08(금호역~성동구도시관리공단)",
         "orientation": "v",
         "showlegend": true,
         "type": "scatter",
         "x": [
          7
         ],
         "xaxis": "x",
         "y": [
          7
         ],
         "yaxis": "y"
        },
        {
         "hovertemplate": "<b>%{hovertext}</b><br><br>버스노선명=성동10(경동초등학교~송정동서울숲아이파크아파트)<br>일평균 승차 인원=%{x}<br>일평균 하차 인원=%{y}<extra></extra>",
         "hovertext": [
          "성동10(경동초등학교~송정동서울숲아이파크아파트)"
         ],
         "legendgroup": "성동10(경동초등학교~송정동서울숲아이파크아파트)",
         "marker": {
          "color": "#19d3f3",
          "symbol": "circle"
         },
         "mode": "markers",
         "name": "성동10(경동초등학교~송정동서울숲아이파크아파트)",
         "orientation": "v",
         "showlegend": true,
         "type": "scatter",
         "x": [
          2
         ],
         "xaxis": "x",
         "y": [
          5
         ],
         "yaxis": "y"
        },
        {
         "hovertemplate": "<b>%{hovertext}</b><br><br>버스노선명=성북01(성북구민회관~삼선동주민센터)<br>일평균 승차 인원=%{x}<br>일평균 하차 인원=%{y}<extra></extra>",
         "hovertext": [
          "성북01(성북구민회관~삼선동주민센터)"
         ],
         "legendgroup": "성북01(성북구민회관~삼선동주민센터)",
         "marker": {
          "color": "#FF6692",
          "symbol": "circle"
         },
         "mode": "markers",
         "name": "성북01(성북구민회관~삼선동주민센터)",
         "orientation": "v",
         "showlegend": true,
         "type": "scatter",
         "x": [
          11
         ],
         "xaxis": "x",
         "y": [
          12
         ],
         "yaxis": "y"
        },
        {
         "hovertemplate": "<b>%{hovertext}</b><br><br>버스노선명=성북08(신안아파트.길음초등학교~길음역)<br>일평균 승차 인원=%{x}<br>일평균 하차 인원=%{y}<extra></extra>",
         "hovertext": [
          "성북08(신안아파트.길음초등학교~길음역)"
         ],
         "legendgroup": "성북08(신안아파트.길음초등학교~길음역)",
         "marker": {
          "color": "#B6E880",
          "symbol": "circle"
         },
         "mode": "markers",
         "name": "성북08(신안아파트.길음초등학교~길음역)",
         "orientation": "v",
         "showlegend": true,
         "type": "scatter",
         "x": [
          5
         ],
         "xaxis": "x",
         "y": [
          5
         ],
         "yaxis": "y"
        },
        {
         "hovertemplate": "<b>%{hovertext}</b><br><br>버스노선명=성북09(신안아파트.길음초등학교~미아사거리역)<br>일평균 승차 인원=%{x}<br>일평균 하차 인원=%{y}<extra></extra>",
         "hovertext": [
          "성북09(신안아파트.길음초등학교~미아사거리역)"
         ],
         "legendgroup": "성북09(신안아파트.길음초등학교~미아사거리역)",
         "marker": {
          "color": "#FF97FF",
          "symbol": "circle"
         },
         "mode": "markers",
         "name": "성북09(신안아파트.길음초등학교~미아사거리역)",
         "orientation": "v",
         "showlegend": true,
         "type": "scatter",
         "x": [
          6
         ],
         "xaxis": "x",
         "y": [
          5
         ],
         "yaxis": "y"
        },
        {
         "hovertemplate": "<b>%{hovertext}</b><br><br>버스노선명=성북15(고려아파트~한미약국)<br>일평균 승차 인원=%{x}<br>일평균 하차 인원=%{y}<extra></extra>",
         "hovertext": [
          "성북15(고려아파트~한미약국)"
         ],
         "legendgroup": "성북15(고려아파트~한미약국)",
         "marker": {
          "color": "#FECB52",
          "symbol": "circle"
         },
         "mode": "markers",
         "name": "성북15(고려아파트~한미약국)",
         "orientation": "v",
         "showlegend": true,
         "type": "scatter",
         "x": [
          null
         ],
         "xaxis": "x",
         "y": [
          1
         ],
         "yaxis": "y"
        },
        {
         "hovertemplate": "<b>%{hovertext}</b><br><br>버스노선명=성북12(월곡중학교~성북레포츠타운)<br>일평균 승차 인원=%{x}<br>일평균 하차 인원=%{y}<extra></extra>",
         "hovertext": [
          "성북12(월곡중학교~성북레포츠타운)"
         ],
         "legendgroup": "성북12(월곡중학교~성북레포츠타운)",
         "marker": {
          "color": "#636efa",
          "symbol": "circle"
         },
         "mode": "markers",
         "name": "성북12(월곡중학교~성북레포츠타운)",
         "orientation": "v",
         "showlegend": true,
         "type": "scatter",
         "x": [
          null
         ],
         "xaxis": "x",
         "y": [
          1
         ],
         "yaxis": "y"
        },
        {
         "hovertemplate": "<b>%{hovertext}</b><br><br>버스노선명=성북13(동방주택~석계역)<br>일평균 승차 인원=%{x}<br>일평균 하차 인원=%{y}<extra></extra>",
         "hovertext": [
          "성북13(동방주택~석계역)"
         ],
         "legendgroup": "성북13(동방주택~석계역)",
         "marker": {
          "color": "#EF553B",
          "symbol": "circle"
         },
         "mode": "markers",
         "name": "성북13(동방주택~석계역)",
         "orientation": "v",
         "showlegend": true,
         "type": "scatter",
         "x": [
          null
         ],
         "xaxis": "x",
         "y": [
          2
         ],
         "yaxis": "y"
        },
        {
         "hovertemplate": "<b>%{hovertext}</b><br><br>버스노선명=성북03(삼선푸르지오아파트~북정경로당)<br>일평균 승차 인원=%{x}<br>일평균 하차 인원=%{y}<extra></extra>",
         "hovertext": [
          "성북03(삼선푸르지오아파트~북정경로당)"
         ],
         "legendgroup": "성북03(삼선푸르지오아파트~북정경로당)",
         "marker": {
          "color": "#00cc96",
          "symbol": "circle"
         },
         "mode": "markers",
         "name": "성북03(삼선푸르지오아파트~북정경로당)",
         "orientation": "v",
         "showlegend": true,
         "type": "scatter",
         "x": [
          6
         ],
         "xaxis": "x",
         "y": [
          6
         ],
         "yaxis": "y"
        },
        {
         "hovertemplate": "<b>%{hovertext}</b><br><br>버스노선명=성북02(한성대학교~우리옛돌박물관)<br>일평균 승차 인원=%{x}<br>일평균 하차 인원=%{y}<extra></extra>",
         "hovertext": [
          "성북02(한성대학교~우리옛돌박물관)"
         ],
         "legendgroup": "성북02(한성대학교~우리옛돌박물관)",
         "marker": {
          "color": "#ab63fa",
          "symbol": "circle"
         },
         "mode": "markers",
         "name": "성북02(한성대학교~우리옛돌박물관)",
         "orientation": "v",
         "showlegend": true,
         "type": "scatter",
         "x": [
          16
         ],
         "xaxis": "x",
         "y": [
          40
         ],
         "yaxis": "y"
        },
        {
         "hovertemplate": "<b>%{hovertext}</b><br><br>버스노선명=성북04(성신여대입구역~신설동역)<br>일평균 승차 인원=%{x}<br>일평균 하차 인원=%{y}<extra></extra>",
         "hovertext": [
          "성북04(성신여대입구역~신설동역)"
         ],
         "legendgroup": "성북04(성신여대입구역~신설동역)",
         "marker": {
          "color": "#FFA15A",
          "symbol": "circle"
         },
         "mode": "markers",
         "name": "성북04(성신여대입구역~신설동역)",
         "orientation": "v",
         "showlegend": true,
         "type": "scatter",
         "x": [
          null
         ],
         "xaxis": "x",
         "y": [
          3
         ],
         "yaxis": "y"
        },
        {
         "hovertemplate": "<b>%{hovertext}</b><br><br>버스노선명=성북07(정릉4동종점~길음역)<br>일평균 승차 인원=%{x}<br>일평균 하차 인원=%{y}<extra></extra>",
         "hovertext": [
          "성북07(정릉4동종점~길음역)"
         ],
         "legendgroup": "성북07(정릉4동종점~길음역)",
         "marker": {
          "color": "#19d3f3",
          "symbol": "circle"
         },
         "mode": "markers",
         "name": "성북07(정릉4동종점~길음역)",
         "orientation": "v",
         "showlegend": true,
         "type": "scatter",
         "x": [
          1
         ],
         "xaxis": "x",
         "y": [
          3
         ],
         "yaxis": "y"
        },
        {
         "hovertemplate": "<b>%{hovertext}</b><br><br>버스노선명=성북06(산림초소~길음역)<br>일평균 승차 인원=%{x}<br>일평균 하차 인원=%{y}<extra></extra>",
         "hovertext": [
          "성북06(산림초소~길음역)"
         ],
         "legendgroup": "성북06(산림초소~길음역)",
         "marker": {
          "color": "#FF6692",
          "symbol": "circle"
         },
         "mode": "markers",
         "name": "성북06(산림초소~길음역)",
         "orientation": "v",
         "showlegend": true,
         "type": "scatter",
         "x": [
          null
         ],
         "xaxis": "x",
         "y": [
          1
         ],
         "yaxis": "y"
        },
        {
         "hovertemplate": "<b>%{hovertext}</b><br><br>버스노선명=양천01(등촌역~당산역)<br>일평균 승차 인원=%{x}<br>일평균 하차 인원=%{y}<extra></extra>",
         "hovertext": [
          "양천01(등촌역~당산역)"
         ],
         "legendgroup": "양천01(등촌역~당산역)",
         "marker": {
          "color": "#B6E880",
          "symbol": "circle"
         },
         "mode": "markers",
         "name": "양천01(등촌역~당산역)",
         "orientation": "v",
         "showlegend": true,
         "type": "scatter",
         "x": [
          281
         ],
         "xaxis": "x",
         "y": [
          243
         ],
         "yaxis": "y"
        },
        {
         "hovertemplate": "<b>%{hovertext}</b><br><br>버스노선명=양천02(등촌역~오목교역)<br>일평균 승차 인원=%{x}<br>일평균 하차 인원=%{y}<extra></extra>",
         "hovertext": [
          "양천02(등촌역~오목교역)"
         ],
         "legendgroup": "양천02(등촌역~오목교역)",
         "marker": {
          "color": "#FF97FF",
          "symbol": "circle"
         },
         "mode": "markers",
         "name": "양천02(등촌역~오목교역)",
         "orientation": "v",
         "showlegend": true,
         "type": "scatter",
         "x": [
          281
         ],
         "xaxis": "x",
         "y": [
          244
         ],
         "yaxis": "y"
        },
        {
         "hovertemplate": "<b>%{hovertext}</b><br><br>버스노선명=양천03(신정이펜하우스1단지~목동역)<br>일평균 승차 인원=%{x}<br>일평균 하차 인원=%{y}<extra></extra>",
         "hovertext": [
          "양천03(신정이펜하우스1단지~목동역)"
         ],
         "legendgroup": "양천03(신정이펜하우스1단지~목동역)",
         "marker": {
          "color": "#FECB52",
          "symbol": "circle"
         },
         "mode": "markers",
         "name": "양천03(신정이펜하우스1단지~목동역)",
         "orientation": "v",
         "showlegend": true,
         "type": "scatter",
         "x": [
          15356
         ],
         "xaxis": "x",
         "y": [
          15820
         ],
         "yaxis": "y"
        },
        {
         "hovertemplate": "<b>%{hovertext}</b><br><br>버스노선명=동작05-1(대방역~신대방역)<br>일평균 승차 인원=%{x}<br>일평균 하차 인원=%{y}<extra></extra>",
         "hovertext": [
          "동작05-1(대방역~신대방역)"
         ],
         "legendgroup": "동작05-1(대방역~신대방역)",
         "marker": {
          "color": "#636efa",
          "symbol": "circle"
         },
         "mode": "markers",
         "name": "동작05-1(대방역~신대방역)",
         "orientation": "v",
         "showlegend": true,
         "type": "scatter",
         "x": [
          2
         ],
         "xaxis": "x",
         "y": [
          13
         ],
         "yaxis": "y"
        },
        {
         "hovertemplate": "<b>%{hovertext}</b><br><br>버스노선명=영등포02(한국수자원연구소~관악고등학교)<br>일평균 승차 인원=%{x}<br>일평균 하차 인원=%{y}<extra></extra>",
         "hovertext": [
          "영등포02(한국수자원연구소~관악고등학교)"
         ],
         "legendgroup": "영등포02(한국수자원연구소~관악고등학교)",
         "marker": {
          "color": "#EF553B",
          "symbol": "circle"
         },
         "mode": "markers",
         "name": "영등포02(한국수자원연구소~관악고등학교)",
         "orientation": "v",
         "showlegend": true,
         "type": "scatter",
         "x": [
          15
         ],
         "xaxis": "x",
         "y": [
          36
         ],
         "yaxis": "y"
        },
        {
         "hovertemplate": "<b>%{hovertext}</b><br><br>버스노선명=영등포04(대림역~영등포역)<br>일평균 승차 인원=%{x}<br>일평균 하차 인원=%{y}<extra></extra>",
         "hovertext": [
          "영등포04(대림역~영등포역)"
         ],
         "legendgroup": "영등포04(대림역~영등포역)",
         "marker": {
          "color": "#00cc96",
          "symbol": "circle"
         },
         "mode": "markers",
         "name": "영등포04(대림역~영등포역)",
         "orientation": "v",
         "showlegend": true,
         "type": "scatter",
         "x": [
          48
         ],
         "xaxis": "x",
         "y": [
          72
         ],
         "yaxis": "y"
        },
        {
         "hovertemplate": "<b>%{hovertext}</b><br><br>버스노선명=영등포01(신도림역~구로디지털단지역)<br>일평균 승차 인원=%{x}<br>일평균 하차 인원=%{y}<extra></extra>",
         "hovertext": [
          "영등포01(신도림역~구로디지털단지역)"
         ],
         "legendgroup": "영등포01(신도림역~구로디지털단지역)",
         "marker": {
          "color": "#ab63fa",
          "symbol": "circle"
         },
         "mode": "markers",
         "name": "영등포01(신도림역~구로디지털단지역)",
         "orientation": "v",
         "showlegend": true,
         "type": "scatter",
         "x": [
          54
         ],
         "xaxis": "x",
         "y": [
          96
         ],
         "yaxis": "y"
        },
        {
         "hovertemplate": "<b>%{hovertext}</b><br><br>버스노선명=용산01(순천향병원~크라운호텔)<br>일평균 승차 인원=%{x}<br>일평균 하차 인원=%{y}<extra></extra>",
         "hovertext": [
          "용산01(순천향병원~크라운호텔)"
         ],
         "legendgroup": "용산01(순천향병원~크라운호텔)",
         "marker": {
          "color": "#FFA15A",
          "symbol": "circle"
         },
         "mode": "markers",
         "name": "용산01(순천향병원~크라운호텔)",
         "orientation": "v",
         "showlegend": true,
         "type": "scatter",
         "x": [
          null
         ],
         "xaxis": "x",
         "y": [
          2
         ],
         "yaxis": "y"
        },
        {
         "hovertemplate": "<b>%{hovertext}</b><br><br>버스노선명=용산02(한신아파트~용산경찰서)<br>일평균 승차 인원=%{x}<br>일평균 하차 인원=%{y}<extra></extra>",
         "hovertext": [
          "용산02(한신아파트~용산경찰서)"
         ],
         "legendgroup": "용산02(한신아파트~용산경찰서)",
         "marker": {
          "color": "#19d3f3",
          "symbol": "circle"
         },
         "mode": "markers",
         "name": "용산02(한신아파트~용산경찰서)",
         "orientation": "v",
         "showlegend": true,
         "type": "scatter",
         "x": [
          32
         ],
         "xaxis": "x",
         "y": [
          40
         ],
         "yaxis": "y"
        },
        {
         "hovertemplate": "<b>%{hovertext}</b><br><br>버스노선명=용산03(하얏트호텔~용산전자상가)<br>일평균 승차 인원=%{x}<br>일평균 하차 인원=%{y}<extra></extra>",
         "hovertext": [
          "용산03(하얏트호텔~용산전자상가)"
         ],
         "legendgroup": "용산03(하얏트호텔~용산전자상가)",
         "marker": {
          "color": "#FF6692",
          "symbol": "circle"
         },
         "mode": "markers",
         "name": "용산03(하얏트호텔~용산전자상가)",
         "orientation": "v",
         "showlegend": true,
         "type": "scatter",
         "x": [
          20
         ],
         "xaxis": "x",
         "y": [
          31
         ],
         "yaxis": "y"
        },
        {
         "hovertemplate": "<b>%{hovertext}</b><br><br>버스노선명=은평02(상신초교.두산.한신아파트~불광역)<br>일평균 승차 인원=%{x}<br>일평균 하차 인원=%{y}<extra></extra>",
         "hovertext": [
          "은평02(상신초교.두산.한신아파트~불광역)"
         ],
         "legendgroup": "은평02(상신초교.두산.한신아파트~불광역)",
         "marker": {
          "color": "#B6E880",
          "symbol": "circle"
         },
         "mode": "markers",
         "name": "은평02(상신초교.두산.한신아파트~불광역)",
         "orientation": "v",
         "showlegend": true,
         "type": "scatter",
         "x": [
          2
         ],
         "xaxis": "x",
         "y": [
          2
         ],
         "yaxis": "y"
        },
        {
         "hovertemplate": "<b>%{hovertext}</b><br><br>버스노선명=은평04(경향파크아파트~불광역)<br>일평균 승차 인원=%{x}<br>일평균 하차 인원=%{y}<extra></extra>",
         "hovertext": [
          "은평04(경향파크아파트~불광역)"
         ],
         "legendgroup": "은평04(경향파크아파트~불광역)",
         "marker": {
          "color": "#FF97FF",
          "symbol": "circle"
         },
         "mode": "markers",
         "name": "은평04(경향파크아파트~불광역)",
         "orientation": "v",
         "showlegend": true,
         "type": "scatter",
         "x": [
          1
         ],
         "xaxis": "x",
         "y": [
          1
         ],
         "yaxis": "y"
        },
        {
         "hovertemplate": "<b>%{hovertext}</b><br><br>버스노선명=은평05(백련산힐스테이트3차~녹번역)<br>일평균 승차 인원=%{x}<br>일평균 하차 인원=%{y}<extra></extra>",
         "hovertext": [
          "은평05(백련산힐스테이트3차~녹번역)"
         ],
         "legendgroup": "은평05(백련산힐스테이트3차~녹번역)",
         "marker": {
          "color": "#FECB52",
          "symbol": "circle"
         },
         "mode": "markers",
         "name": "은평05(백련산힐스테이트3차~녹번역)",
         "orientation": "v",
         "showlegend": true,
         "type": "scatter",
         "x": [
          7
         ],
         "xaxis": "x",
         "y": [
          8
         ],
         "yaxis": "y"
        },
        {
         "hovertemplate": "<b>%{hovertext}</b><br><br>버스노선명=종로03(낙산공원~종로5가)<br>일평균 승차 인원=%{x}<br>일평균 하차 인원=%{y}<extra></extra>",
         "hovertext": [
          "종로03(낙산공원~종로5가)"
         ],
         "legendgroup": "종로03(낙산공원~종로5가)",
         "marker": {
          "color": "#636efa",
          "symbol": "circle"
         },
         "mode": "markers",
         "name": "종로03(낙산공원~종로5가)",
         "orientation": "v",
         "showlegend": true,
         "type": "scatter",
         "x": [
          4
         ],
         "xaxis": "x",
         "y": [
          17
         ],
         "yaxis": "y"
        },
        {
         "hovertemplate": "<b>%{hovertext}</b><br><br>버스노선명=종로11(삼청공원~서울역)<br>일평균 승차 인원=%{x}<br>일평균 하차 인원=%{y}<extra></extra>",
         "hovertext": [
          "종로11(삼청공원~서울역)"
         ],
         "legendgroup": "종로11(삼청공원~서울역)",
         "marker": {
          "color": "#EF553B",
          "symbol": "circle"
         },
         "mode": "markers",
         "name": "종로11(삼청공원~서울역)",
         "orientation": "v",
         "showlegend": true,
         "type": "scatter",
         "x": [
          37
         ],
         "xaxis": "x",
         "y": [
          31
         ],
         "yaxis": "y"
        },
        {
         "hovertemplate": "<b>%{hovertext}</b><br><br>버스노선명=종로13(평창파출소~부암동주민센터.무계원)<br>일평균 승차 인원=%{x}<br>일평균 하차 인원=%{y}<extra></extra>",
         "hovertext": [
          "종로13(평창파출소~부암동주민센터.무계원)"
         ],
         "legendgroup": "종로13(평창파출소~부암동주민센터.무계원)",
         "marker": {
          "color": "#00cc96",
          "symbol": "circle"
         },
         "mode": "markers",
         "name": "종로13(평창파출소~부암동주민센터.무계원)",
         "orientation": "v",
         "showlegend": true,
         "type": "scatter",
         "x": [
          null
         ],
         "xaxis": "x",
         "y": [
          6
         ],
         "yaxis": "y"
        },
        {
         "hovertemplate": "<b>%{hovertext}</b><br><br>버스노선명=종로01(원서동~종각)<br>일평균 승차 인원=%{x}<br>일평균 하차 인원=%{y}<extra></extra>",
         "hovertext": [
          "종로01(원서동~종각)"
         ],
         "legendgroup": "종로01(원서동~종각)",
         "marker": {
          "color": "#ab63fa",
          "symbol": "circle"
         },
         "mode": "markers",
         "name": "종로01(원서동~종각)",
         "orientation": "v",
         "showlegend": true,
         "type": "scatter",
         "x": [
          6
         ],
         "xaxis": "x",
         "y": [
          7
         ],
         "yaxis": "y"
        },
        {
         "hovertemplate": "<b>%{hovertext}</b><br><br>버스노선명=종로02(성균관대학교후문~종각)<br>일평균 승차 인원=%{x}<br>일평균 하차 인원=%{y}<extra></extra>",
         "hovertext": [
          "종로02(성균관대학교후문~종각)"
         ],
         "legendgroup": "종로02(성균관대학교후문~종각)",
         "marker": {
          "color": "#FFA15A",
          "symbol": "circle"
         },
         "mode": "markers",
         "name": "종로02(성균관대학교후문~종각)",
         "orientation": "v",
         "showlegend": true,
         "type": "scatter",
         "x": [
          7
         ],
         "xaxis": "x",
         "y": [
          17
         ],
         "yaxis": "y"
        },
        {
         "hovertemplate": "<b>%{hovertext}</b><br><br>버스노선명=종로12(서울대학교병원~종로3가)<br>일평균 승차 인원=%{x}<br>일평균 하차 인원=%{y}<extra></extra>",
         "hovertext": [
          "종로12(서울대학교병원~종로3가)"
         ],
         "legendgroup": "종로12(서울대학교병원~종로3가)",
         "marker": {
          "color": "#19d3f3",
          "symbol": "circle"
         },
         "mode": "markers",
         "name": "종로12(서울대학교병원~종로3가)",
         "orientation": "v",
         "showlegend": true,
         "type": "scatter",
         "x": [
          24
         ],
         "xaxis": "x",
         "y": [
          26
         ],
         "yaxis": "y"
        },
        {
         "hovertemplate": "<b>%{hovertext}</b><br><br>버스노선명=종로05(서대문역~배화여중고)<br>일평균 승차 인원=%{x}<br>일평균 하차 인원=%{y}<extra></extra>",
         "hovertext": [
          "종로05(서대문역~배화여중고)"
         ],
         "legendgroup": "종로05(서대문역~배화여중고)",
         "marker": {
          "color": "#FF6692",
          "symbol": "circle"
         },
         "mode": "markers",
         "name": "종로05(서대문역~배화여중고)",
         "orientation": "v",
         "showlegend": true,
         "type": "scatter",
         "x": [
          6
         ],
         "xaxis": "x",
         "y": [
          24
         ],
         "yaxis": "y"
        },
        {
         "hovertemplate": "<b>%{hovertext}</b><br><br>버스노선명=종로08(명륜3가~종로5가)<br>일평균 승차 인원=%{x}<br>일평균 하차 인원=%{y}<extra></extra>",
         "hovertext": [
          "종로08(명륜3가~종로5가)"
         ],
         "legendgroup": "종로08(명륜3가~종로5가)",
         "marker": {
          "color": "#B6E880",
          "symbol": "circle"
         },
         "mode": "markers",
         "name": "종로08(명륜3가~종로5가)",
         "orientation": "v",
         "showlegend": true,
         "type": "scatter",
         "x": [
          2
         ],
         "xaxis": "x",
         "y": [
          9
         ],
         "yaxis": "y"
        },
        {
         "hovertemplate": "<b>%{hovertext}</b><br><br>버스노선명=종로09(수성동계곡~숭례문)<br>일평균 승차 인원=%{x}<br>일평균 하차 인원=%{y}<extra></extra>",
         "hovertext": [
          "종로09(수성동계곡~숭례문)"
         ],
         "legendgroup": "종로09(수성동계곡~숭례문)",
         "marker": {
          "color": "#FF97FF",
          "symbol": "circle"
         },
         "mode": "markers",
         "name": "종로09(수성동계곡~숭례문)",
         "orientation": "v",
         "showlegend": true,
         "type": "scatter",
         "x": [
          12
         ],
         "xaxis": "x",
         "y": [
          19
         ],
         "yaxis": "y"
        },
        {
         "hovertemplate": "<b>%{hovertext}</b><br><br>버스노선명=중랑01(중화동동아약국~신이문역)<br>일평균 승차 인원=%{x}<br>일평균 하차 인원=%{y}<extra></extra>",
         "hovertext": [
          "중랑01(중화동동아약국~신이문역)"
         ],
         "legendgroup": "중랑01(중화동동아약국~신이문역)",
         "marker": {
          "color": "#FECB52",
          "symbol": "circle"
         },
         "mode": "markers",
         "name": "중랑01(중화동동아약국~신이문역)",
         "orientation": "v",
         "showlegend": true,
         "type": "scatter",
         "x": [
          null
         ],
         "xaxis": "x",
         "y": [
          1
         ],
         "yaxis": "y"
        },
        {
         "hovertemplate": "<b>%{hovertext}</b><br><br>버스노선명=중랑02(진로아파트~한신아파트)<br>일평균 승차 인원=%{x}<br>일평균 하차 인원=%{y}<extra></extra>",
         "hovertext": [
          "중랑02(진로아파트~한신아파트)"
         ],
         "legendgroup": "중랑02(진로아파트~한신아파트)",
         "marker": {
          "color": "#636efa",
          "symbol": "circle"
         },
         "mode": "markers",
         "name": "중랑02(진로아파트~한신아파트)",
         "orientation": "v",
         "showlegend": true,
         "type": "scatter",
         "x": [
          8
         ],
         "xaxis": "x",
         "y": [
          22
         ],
         "yaxis": "y"
        },
        {
         "hovertemplate": "<b>%{hovertext}</b><br><br>버스노선명=금천01(청.독산역~벽산아파트)<br>일평균 승차 인원=%{x}<br>일평균 하차 인원=%{y}<extra></extra>",
         "hovertext": [
          "금천01(청.독산역~벽산아파트)"
         ],
         "legendgroup": "금천01(청.독산역~벽산아파트)",
         "marker": {
          "color": "#EF553B",
          "symbol": "circle"
         },
         "mode": "markers",
         "name": "금천01(청.독산역~벽산아파트)",
         "orientation": "v",
         "showlegend": true,
         "type": "scatter",
         "x": [
          22
         ],
         "xaxis": "x",
         "y": [
          37
         ],
         "yaxis": "y"
        },
        {
         "hovertemplate": "<b>%{hovertext}</b><br><br>버스노선명=동대문03(서울가든아파트~회기역)<br>일평균 승차 인원=%{x}<br>일평균 하차 인원=%{y}<extra></extra>",
         "hovertext": [
          "동대문03(서울가든아파트~회기역)"
         ],
         "legendgroup": "동대문03(서울가든아파트~회기역)",
         "marker": {
          "color": "#00cc96",
          "symbol": "circle"
         },
         "mode": "markers",
         "name": "동대문03(서울가든아파트~회기역)",
         "orientation": "v",
         "showlegend": true,
         "type": "scatter",
         "x": [
          1
         ],
         "xaxis": "x",
         "y": [
          1
         ],
         "yaxis": "y"
        },
        {
         "hovertemplate": "<b>%{hovertext}</b><br><br>버스노선명=서대문09(가산빌라~홍제역)<br>일평균 승차 인원=%{x}<br>일평균 하차 인원=%{y}<extra></extra>",
         "hovertext": [
          "서대문09(가산빌라~홍제역)"
         ],
         "legendgroup": "서대문09(가산빌라~홍제역)",
         "marker": {
          "color": "#ab63fa",
          "symbol": "circle"
         },
         "mode": "markers",
         "name": "서대문09(가산빌라~홍제역)",
         "orientation": "v",
         "showlegend": true,
         "type": "scatter",
         "x": [
          1
         ],
         "xaxis": "x",
         "y": [
          null
         ],
         "yaxis": "y"
        },
        {
         "hovertemplate": "<b>%{hovertext}</b><br><br>버스노선명=서대문09(풍진베이스타운.안산자락길입구~홍제역)<br>일평균 승차 인원=%{x}<br>일평균 하차 인원=%{y}<extra></extra>",
         "hovertext": [
          "서대문09(풍진베이스타운.안산자락길입구~홍제역)"
         ],
         "legendgroup": "서대문09(풍진베이스타운.안산자락길입구~홍제역)",
         "marker": {
          "color": "#FFA15A",
          "symbol": "circle"
         },
         "mode": "markers",
         "name": "서대문09(풍진베이스타운.안산자락길입구~홍제역)",
         "orientation": "v",
         "showlegend": true,
         "type": "scatter",
         "x": [
          1
         ],
         "xaxis": "x",
         "y": [
          null
         ],
         "yaxis": "y"
        },
        {
         "hovertemplate": "<b>%{hovertext}</b><br><br>버스노선명=강남06-1(세곡리엔파크~수서역)<br>일평균 승차 인원=%{x}<br>일평균 하차 인원=%{y}<extra></extra>",
         "hovertext": [
          "강남06-1(세곡리엔파크~수서역)"
         ],
         "legendgroup": "강남06-1(세곡리엔파크~수서역)",
         "marker": {
          "color": "#19d3f3",
          "symbol": "circle"
         },
         "mode": "markers",
         "name": "강남06-1(세곡리엔파크~수서역)",
         "orientation": "v",
         "showlegend": true,
         "type": "scatter",
         "x": [
          3
         ],
         "xaxis": "x",
         "y": [
          1
         ],
         "yaxis": "y"
        },
        {
         "hovertemplate": "<b>%{hovertext}</b><br><br>버스노선명=노원13(석계역~서울과학기술대학교)<br>일평균 승차 인원=%{x}<br>일평균 하차 인원=%{y}<extra></extra>",
         "hovertext": [
          "노원13(석계역~서울과학기술대학교)"
         ],
         "legendgroup": "노원13(석계역~서울과학기술대학교)",
         "marker": {
          "color": "#FF6692",
          "symbol": "circle"
         },
         "mode": "markers",
         "name": "노원13(석계역~서울과학기술대학교)",
         "orientation": "v",
         "showlegend": true,
         "type": "scatter",
         "x": [
          7
         ],
         "xaxis": "x",
         "y": [
          2
         ],
         "yaxis": "y"
        },
        {
         "hovertemplate": "<b>%{hovertext}</b><br><br>버스노선명=동작21(달마사~상도역)<br>일평균 승차 인원=%{x}<br>일평균 하차 인원=%{y}<extra></extra>",
         "hovertext": [
          "동작21(달마사~상도역)"
         ],
         "legendgroup": "동작21(달마사~상도역)",
         "marker": {
          "color": "#B6E880",
          "symbol": "circle"
         },
         "mode": "markers",
         "name": "동작21(달마사~상도역)",
         "orientation": "v",
         "showlegend": true,
         "type": "scatter",
         "x": [
          43
         ],
         "xaxis": "x",
         "y": [
          96
         ],
         "yaxis": "y"
        },
        {
         "hovertemplate": "<b>%{hovertext}</b><br><br>버스노선명=서초22(남부터미널~국립국악원)<br>일평균 승차 인원=%{x}<br>일평균 하차 인원=%{y}<extra></extra>",
         "hovertext": [
          "서초22(남부터미널~국립국악원)"
         ],
         "legendgroup": "서초22(남부터미널~국립국악원)",
         "marker": {
          "color": "#FF97FF",
          "symbol": "circle"
         },
         "mode": "markers",
         "name": "서초22(남부터미널~국립국악원)",
         "orientation": "v",
         "showlegend": true,
         "type": "scatter",
         "x": [
          6
         ],
         "xaxis": "x",
         "y": [
          1
         ],
         "yaxis": "y"
        },
        {
         "hovertemplate": "<b>%{hovertext}</b><br><br>버스노선명=강남08(신사역~삼성역)<br>일평균 승차 인원=%{x}<br>일평균 하차 인원=%{y}<extra></extra>",
         "hovertext": [
          "강남08(신사역~삼성역)"
         ],
         "legendgroup": "강남08(신사역~삼성역)",
         "marker": {
          "color": "#FECB52",
          "symbol": "circle"
         },
         "mode": "markers",
         "name": "강남08(신사역~삼성역)",
         "orientation": "v",
         "showlegend": true,
         "type": "scatter",
         "x": [
          4
         ],
         "xaxis": "x",
         "y": [
          null
         ],
         "yaxis": "y"
        },
        {
         "hovertemplate": "<b>%{hovertext}</b><br><br>버스노선명=영등포09(신도림역~영등포역)<br>일평균 승차 인원=%{x}<br>일평균 하차 인원=%{y}<extra></extra>",
         "hovertext": [
          "영등포09(신도림역~영등포역)"
         ],
         "legendgroup": "영등포09(신도림역~영등포역)",
         "marker": {
          "color": "#636efa",
          "symbol": "circle"
         },
         "mode": "markers",
         "name": "영등포09(신도림역~영등포역)",
         "orientation": "v",
         "showlegend": true,
         "type": "scatter",
         "x": [
          48
         ],
         "xaxis": "x",
         "y": [
          52
         ],
         "yaxis": "y"
        },
        {
         "hovertemplate": "<b>%{hovertext}</b><br><br>버스노선명=양천04(신도림동아3차아파트~양천구청역)<br>일평균 승차 인원=%{x}<br>일평균 하차 인원=%{y}<extra></extra>",
         "hovertext": [
          "양천04(신도림동아3차아파트~양천구청역)"
         ],
         "legendgroup": "양천04(신도림동아3차아파트~양천구청역)",
         "marker": {
          "color": "#EF553B",
          "symbol": "circle"
         },
         "mode": "markers",
         "name": "양천04(신도림동아3차아파트~양천구청역)",
         "orientation": "v",
         "showlegend": true,
         "type": "scatter",
         "x": [
          1451
         ],
         "xaxis": "x",
         "y": [
          723
         ],
         "yaxis": "y"
        },
        {
         "hovertemplate": "<b>%{hovertext}</b><br><br>버스노선명=금천11(산기슭공원~석수역)<br>일평균 승차 인원=%{x}<br>일평균 하차 인원=%{y}<extra></extra>",
         "hovertext": [
          "금천11(산기슭공원~석수역)"
         ],
         "legendgroup": "금천11(산기슭공원~석수역)",
         "marker": {
          "color": "#00cc96",
          "symbol": "circle"
         },
         "mode": "markers",
         "name": "금천11(산기슭공원~석수역)",
         "orientation": "v",
         "showlegend": true,
         "type": "scatter",
         "x": [
          null
         ],
         "xaxis": "x",
         "y": [
          3
         ],
         "yaxis": "y"
        },
        {
         "hovertemplate": "<b>%{hovertext}</b><br><br>버스노선명=영등포10(대방역~여의도순복음교회)<br>일평균 승차 인원=%{x}<br>일평균 하차 인원=%{y}<extra></extra>",
         "hovertext": [
          "영등포10(대방역~여의도순복음교회)"
         ],
         "legendgroup": "영등포10(대방역~여의도순복음교회)",
         "marker": {
          "color": "#ab63fa",
          "symbol": "circle"
         },
         "mode": "markers",
         "name": "영등포10(대방역~여의도순복음교회)",
         "orientation": "v",
         "showlegend": true,
         "type": "scatter",
         "x": [
          13
         ],
         "xaxis": "x",
         "y": [
          34
         ],
         "yaxis": "y"
        },
        {
         "hovertemplate": "<b>%{hovertext}</b><br><br>버스노선명=영등포11(대방역~여의도중학교)<br>일평균 승차 인원=%{x}<br>일평균 하차 인원=%{y}<extra></extra>",
         "hovertext": [
          "영등포11(대방역~여의도중학교)"
         ],
         "legendgroup": "영등포11(대방역~여의도중학교)",
         "marker": {
          "color": "#FFA15A",
          "symbol": "circle"
         },
         "mode": "markers",
         "name": "영등포11(대방역~여의도중학교)",
         "orientation": "v",
         "showlegend": true,
         "type": "scatter",
         "x": [
          8
         ],
         "xaxis": "x",
         "y": [
          3
         ],
         "yaxis": "y"
        },
        {
         "hovertemplate": "<b>%{hovertext}</b><br><br>버스노선명=은평09(대림e편한세상아파트1단지~청구성심병원)<br>일평균 승차 인원=%{x}<br>일평균 하차 인원=%{y}<extra></extra>",
         "hovertext": [
          "은평09(대림e편한세상아파트1단지~청구성심병원)"
         ],
         "legendgroup": "은평09(대림e편한세상아파트1단지~청구성심병원)",
         "marker": {
          "color": "#19d3f3",
          "symbol": "circle"
         },
         "mode": "markers",
         "name": "은평09(대림e편한세상아파트1단지~청구성심병원)",
         "orientation": "v",
         "showlegend": true,
         "type": "scatter",
         "x": [
          1
         ],
         "xaxis": "x",
         "y": [
          null
         ],
         "yaxis": "y"
        },
        {
         "hovertemplate": "<b>%{hovertext}</b><br><br>버스노선명=마포18(상암월드컵파크6.7단지~디지털미디어시티역)<br>일평균 승차 인원=%{x}<br>일평균 하차 인원=%{y}<extra></extra>",
         "hovertext": [
          "마포18(상암월드컵파크6.7단지~디지털미디어시티역)"
         ],
         "legendgroup": "마포18(상암월드컵파크6.7단지~디지털미디어시티역)",
         "marker": {
          "color": "#FF6692",
          "symbol": "circle"
         },
         "mode": "markers",
         "name": "마포18(상암월드컵파크6.7단지~디지털미디어시티역)",
         "orientation": "v",
         "showlegend": true,
         "type": "scatter",
         "x": [
          1
         ],
         "xaxis": "x",
         "y": [
          5
         ],
         "yaxis": "y"
        },
        {
         "hovertemplate": "<b>%{hovertext}</b><br><br>버스노선명=관악11(봉천역~재넘이고개)<br>일평균 승차 인원=%{x}<br>일평균 하차 인원=%{y}<extra></extra>",
         "hovertext": [
          "관악11(봉천역~재넘이고개)"
         ],
         "legendgroup": "관악11(봉천역~재넘이고개)",
         "marker": {
          "color": "#B6E880",
          "symbol": "circle"
         },
         "mode": "markers",
         "name": "관악11(봉천역~재넘이고개)",
         "orientation": "v",
         "showlegend": true,
         "type": "scatter",
         "x": [
          1
         ],
         "xaxis": "x",
         "y": [
          3
         ],
         "yaxis": "y"
        },
        {
         "hovertemplate": "<b>%{hovertext}</b><br><br>버스노선명=영등포12(신도림역~당산역)<br>일평균 승차 인원=%{x}<br>일평균 하차 인원=%{y}<extra></extra>",
         "hovertext": [
          "영등포12(신도림역~당산역)"
         ],
         "legendgroup": "영등포12(신도림역~당산역)",
         "marker": {
          "color": "#FF97FF",
          "symbol": "circle"
         },
         "mode": "markers",
         "name": "영등포12(신도림역~당산역)",
         "orientation": "v",
         "showlegend": true,
         "type": "scatter",
         "x": [
          39
         ],
         "xaxis": "x",
         "y": [
          22
         ],
         "yaxis": "y"
        },
        {
         "hovertemplate": "<b>%{hovertext}</b><br><br>버스노선명=영등포13(대방천사거리~신도림역)<br>일평균 승차 인원=%{x}<br>일평균 하차 인원=%{y}<extra></extra>",
         "hovertext": [
          "영등포13(대방천사거리~신도림역)"
         ],
         "legendgroup": "영등포13(대방천사거리~신도림역)",
         "marker": {
          "color": "#FECB52",
          "symbol": "circle"
         },
         "mode": "markers",
         "name": "영등포13(대방천사거리~신도림역)",
         "orientation": "v",
         "showlegend": true,
         "type": "scatter",
         "x": [
          37
         ],
         "xaxis": "x",
         "y": [
          20
         ],
         "yaxis": "y"
        },
        {
         "hovertemplate": "<b>%{hovertext}</b><br><br>버스노선명=성북14-2(래미안장위퍼스트하이아파트~석계역)<br>일평균 승차 인원=%{x}<br>일평균 하차 인원=%{y}<extra></extra>",
         "hovertext": [
          "성북14-2(래미안장위퍼스트하이아파트~석계역)"
         ],
         "legendgroup": "성북14-2(래미안장위퍼스트하이아파트~석계역)",
         "marker": {
          "color": "#636efa",
          "symbol": "circle"
         },
         "mode": "markers",
         "name": "성북14-2(래미안장위퍼스트하이아파트~석계역)",
         "orientation": "v",
         "showlegend": true,
         "type": "scatter",
         "x": [
          1
         ],
         "xaxis": "x",
         "y": [
          null
         ],
         "yaxis": "y"
        },
        {
         "hovertemplate": "<b>%{hovertext}</b><br><br>버스노선명=금천01-1(가산디지털단지역~벽산아파트)<br>일평균 승차 인원=%{x}<br>일평균 하차 인원=%{y}<extra></extra>",
         "hovertext": [
          "금천01-1(가산디지털단지역~벽산아파트)"
         ],
         "legendgroup": "금천01-1(가산디지털단지역~벽산아파트)",
         "marker": {
          "color": "#EF553B",
          "symbol": "circle"
         },
         "mode": "markers",
         "name": "금천01-1(가산디지털단지역~벽산아파트)",
         "orientation": "v",
         "showlegend": true,
         "type": "scatter",
         "x": [
          22
         ],
         "xaxis": "x",
         "y": [
          37
         ],
         "yaxis": "y"
        },
        {
         "hovertemplate": "<b>%{hovertext}</b><br><br>버스노선명=강남06-2(세곡리엔파크~수서역)<br>일평균 승차 인원=%{x}<br>일평균 하차 인원=%{y}<extra></extra>",
         "hovertext": [
          "강남06-2(세곡리엔파크~수서역)"
         ],
         "legendgroup": "강남06-2(세곡리엔파크~수서역)",
         "marker": {
          "color": "#00cc96",
          "symbol": "circle"
         },
         "mode": "markers",
         "name": "강남06-2(세곡리엔파크~수서역)",
         "orientation": "v",
         "showlegend": true,
         "type": "scatter",
         "x": [
          2
         ],
         "xaxis": "x",
         "y": [
          1
         ],
         "yaxis": "y"
        },
        {
         "hovertemplate": "<b>%{hovertext}</b><br><br>버스노선명=성동03-1(신금호역~성동구도시관리공단)<br>일평균 승차 인원=%{x}<br>일평균 하차 인원=%{y}<extra></extra>",
         "hovertext": [
          "성동03-1(신금호역~성동구도시관리공단)"
         ],
         "legendgroup": "성동03-1(신금호역~성동구도시관리공단)",
         "marker": {
          "color": "#ab63fa",
          "symbol": "circle"
         },
         "mode": "markers",
         "name": "성동03-1(신금호역~성동구도시관리공단)",
         "orientation": "v",
         "showlegend": true,
         "type": "scatter",
         "x": [
          6
         ],
         "xaxis": "x",
         "y": [
          9
         ],
         "yaxis": "y"
        },
        {
         "hovertemplate": "<b>%{hovertext}</b><br><br>버스노선명=성동03-2(왕십리KCC스위첸아파트~한양대학교)<br>일평균 승차 인원=%{x}<br>일평균 하차 인원=%{y}<extra></extra>",
         "hovertext": [
          "성동03-2(왕십리KCC스위첸아파트~한양대학교)"
         ],
         "legendgroup": "성동03-2(왕십리KCC스위첸아파트~한양대학교)",
         "marker": {
          "color": "#FFA15A",
          "symbol": "circle"
         },
         "mode": "markers",
         "name": "성동03-2(왕십리KCC스위첸아파트~한양대학교)",
         "orientation": "v",
         "showlegend": true,
         "type": "scatter",
         "x": [
          6
         ],
         "xaxis": "x",
         "y": [
          14
         ],
         "yaxis": "y"
        },
        {
         "hovertemplate": "<b>%{hovertext}</b><br><br>버스노선명=마포18-1(상암월드컵파크6.7단지~디지털미디어시티역)<br>일평균 승차 인원=%{x}<br>일평균 하차 인원=%{y}<extra></extra>",
         "hovertext": [
          "마포18-1(상암월드컵파크6.7단지~디지털미디어시티역)"
         ],
         "legendgroup": "마포18-1(상암월드컵파크6.7단지~디지털미디어시티역)",
         "marker": {
          "color": "#19d3f3",
          "symbol": "circle"
         },
         "mode": "markers",
         "name": "마포18-1(상암월드컵파크6.7단지~디지털미디어시티역)",
         "orientation": "v",
         "showlegend": true,
         "type": "scatter",
         "x": [
          1
         ],
         "xaxis": "x",
         "y": [
          5
         ],
         "yaxis": "y"
        },
        {
         "hovertemplate": "<b>%{hovertext}</b><br><br>버스노선명=성동12(서울중구청소년센터~옥수역)<br>일평균 승차 인원=%{x}<br>일평균 하차 인원=%{y}<extra></extra>",
         "hovertext": [
          "성동12(서울중구청소년센터~옥수역)"
         ],
         "legendgroup": "성동12(서울중구청소년센터~옥수역)",
         "marker": {
          "color": "#FF6692",
          "symbol": "circle"
         },
         "mode": "markers",
         "name": "성동12(서울중구청소년센터~옥수역)",
         "orientation": "v",
         "showlegend": true,
         "type": "scatter",
         "x": [
          2
         ],
         "xaxis": "x",
         "y": [
          8
         ],
         "yaxis": "y"
        },
        {
         "hovertemplate": "<b>%{hovertext}</b><br><br>버스노선명=광진01(광진정보도서관~워커힐아파트)<br>일평균 승차 인원=%{x}<br>일평균 하차 인원=%{y}<extra></extra>",
         "hovertext": [
          "광진01(광진정보도서관~워커힐아파트)"
         ],
         "legendgroup": "광진01(광진정보도서관~워커힐아파트)",
         "marker": {
          "color": "#B6E880",
          "symbol": "circle"
         },
         "mode": "markers",
         "name": "광진01(광진정보도서관~워커힐아파트)",
         "orientation": "v",
         "showlegend": true,
         "type": "scatter",
         "x": [
          null
         ],
         "xaxis": "x",
         "y": [
          2
         ],
         "yaxis": "y"
        },
        {
         "hovertemplate": "<b>%{hovertext}</b><br><br>버스노선명=구로15(오류동역~서울남부교정시설)<br>일평균 승차 인원=%{x}<br>일평균 하차 인원=%{y}<extra></extra>",
         "hovertext": [
          "구로15(오류동역~서울남부교정시설)"
         ],
         "legendgroup": "구로15(오류동역~서울남부교정시설)",
         "marker": {
          "color": "#FF97FF",
          "symbol": "circle"
         },
         "mode": "markers",
         "name": "구로15(오류동역~서울남부교정시설)",
         "orientation": "v",
         "showlegend": true,
         "type": "scatter",
         "x": [
          6
         ],
         "xaxis": "x",
         "y": [
          15
         ],
         "yaxis": "y"
        },
        {
         "hovertemplate": "<b>%{hovertext}</b><br><br>버스노선명=서초18(선바위역~매헌초등학교)<br>일평균 승차 인원=%{x}<br>일평균 하차 인원=%{y}<extra></extra>",
         "hovertext": [
          "서초18(선바위역~매헌초등학교)"
         ],
         "legendgroup": "서초18(선바위역~매헌초등학교)",
         "marker": {
          "color": "#FECB52",
          "symbol": "circle"
         },
         "mode": "markers",
         "name": "서초18(선바위역~매헌초등학교)",
         "orientation": "v",
         "showlegend": true,
         "type": "scatter",
         "x": [
          92
         ],
         "xaxis": "x",
         "y": [
          124
         ],
         "yaxis": "y"
        },
        {
         "hovertemplate": "<b>%{hovertext}</b><br><br>버스노선명=영등포05(당산역~구로세무서)<br>일평균 승차 인원=%{x}<br>일평균 하차 인원=%{y}<extra></extra>",
         "hovertext": [
          "영등포05(당산역~구로세무서)"
         ],
         "legendgroup": "영등포05(당산역~구로세무서)",
         "marker": {
          "color": "#636efa",
          "symbol": "circle"
         },
         "mode": "markers",
         "name": "영등포05(당산역~구로세무서)",
         "orientation": "v",
         "showlegend": true,
         "type": "scatter",
         "x": [
          47
         ],
         "xaxis": "x",
         "y": [
          47
         ],
         "yaxis": "y"
        },
        {
         "hovertemplate": "<b>%{hovertext}</b><br><br>버스노선명=영등포08(영등포푸르지오~신도림역)<br>일평균 승차 인원=%{x}<br>일평균 하차 인원=%{y}<extra></extra>",
         "hovertext": [
          "영등포08(영등포푸르지오~신도림역)"
         ],
         "legendgroup": "영등포08(영등포푸르지오~신도림역)",
         "marker": {
          "color": "#EF553B",
          "symbol": "circle"
         },
         "mode": "markers",
         "name": "영등포08(영등포푸르지오~신도림역)",
         "orientation": "v",
         "showlegend": true,
         "type": "scatter",
         "x": [
          20
         ],
         "xaxis": "x",
         "y": [
          20
         ],
         "yaxis": "y"
        },
        {
         "hovertemplate": "<b>%{hovertext}</b><br><br>버스노선명=구로06(개봉역~센츄리아파트)<br>일평균 승차 인원=%{x}<br>일평균 하차 인원=%{y}<extra></extra>",
         "hovertext": [
          "구로06(개봉역~센츄리아파트)"
         ],
         "legendgroup": "구로06(개봉역~센츄리아파트)",
         "marker": {
          "color": "#00cc96",
          "symbol": "circle"
         },
         "mode": "markers",
         "name": "구로06(개봉역~센츄리아파트)",
         "orientation": "v",
         "showlegend": true,
         "type": "scatter",
         "x": [
          57
         ],
         "xaxis": "x",
         "y": [
          55
         ],
         "yaxis": "y"
        },
        {
         "hovertemplate": "<b>%{hovertext}</b><br><br>버스노선명=서초18-1(서초LH5단지~양재역)<br>일평균 승차 인원=%{x}<br>일평균 하차 인원=%{y}<extra></extra>",
         "hovertext": [
          "서초18-1(서초LH5단지~양재역)"
         ],
         "legendgroup": "서초18-1(서초LH5단지~양재역)",
         "marker": {
          "color": "#ab63fa",
          "symbol": "circle"
         },
         "mode": "markers",
         "name": "서초18-1(서초LH5단지~양재역)",
         "orientation": "v",
         "showlegend": true,
         "type": "scatter",
         "x": [
          50
         ],
         "xaxis": "x",
         "y": [
          70
         ],
         "yaxis": "y"
        },
        {
         "hovertemplate": "<b>%{hovertext}</b><br><br>버스노선명=구로11(대림역~개봉역)<br>일평균 승차 인원=%{x}<br>일평균 하차 인원=%{y}<extra></extra>",
         "hovertext": [
          "구로11(대림역~개봉역)"
         ],
         "legendgroup": "구로11(대림역~개봉역)",
         "marker": {
          "color": "#FFA15A",
          "symbol": "circle"
         },
         "mode": "markers",
         "name": "구로11(대림역~개봉역)",
         "orientation": "v",
         "showlegend": true,
         "type": "scatter",
         "x": [
          131
         ],
         "xaxis": "x",
         "y": [
          169
         ],
         "yaxis": "y"
        },
        {
         "hovertemplate": "<b>%{hovertext}</b><br><br>버스노선명=영등포03(당산현대아파트~영등포역)<br>일평균 승차 인원=%{x}<br>일평균 하차 인원=%{y}<extra></extra>",
         "hovertext": [
          "영등포03(당산현대아파트~영등포역)"
         ],
         "legendgroup": "영등포03(당산현대아파트~영등포역)",
         "marker": {
          "color": "#19d3f3",
          "symbol": "circle"
         },
         "mode": "markers",
         "name": "영등포03(당산현대아파트~영등포역)",
         "orientation": "v",
         "showlegend": true,
         "type": "scatter",
         "x": [
          25
         ],
         "xaxis": "x",
         "y": [
          32
         ],
         "yaxis": "y"
        },
        {
         "hovertemplate": "<b>%{hovertext}</b><br><br>버스노선명=6648(방화동~양천구청)<br>일평균 승차 인원=%{x}<br>일평균 하차 인원=%{y}<extra></extra>",
         "hovertext": [
          "6648(방화동~양천구청)"
         ],
         "legendgroup": "6648(방화동~양천구청)",
         "marker": {
          "color": "#FF6692",
          "symbol": "circle"
         },
         "mode": "markers",
         "name": "6648(방화동~양천구청)",
         "orientation": "v",
         "showlegend": true,
         "type": "scatter",
         "x": [
          51263
         ],
         "xaxis": "x",
         "y": [
          45662
         ],
         "yaxis": "y"
        },
        {
         "hovertemplate": "<b>%{hovertext}</b><br><br>버스노선명=1116번(국민대학교~미아삼거리역)<br>일평균 승차 인원=%{x}<br>일평균 하차 인원=%{y}<extra></extra>",
         "hovertext": [
          "1116번(국민대학교~미아삼거리역)"
         ],
         "legendgroup": "1116번(국민대학교~미아삼거리역)",
         "marker": {
          "color": "#B6E880",
          "symbol": "circle"
         },
         "mode": "markers",
         "name": "1116번(국민대학교~미아삼거리역)",
         "orientation": "v",
         "showlegend": true,
         "type": "scatter",
         "x": [
          2
         ],
         "xaxis": "x",
         "y": [
          68
         ],
         "yaxis": "y"
        },
        {
         "hovertemplate": "<b>%{hovertext}</b><br><br>버스노선명=1167번(우이동~은행사거리)<br>일평균 승차 인원=%{x}<br>일평균 하차 인원=%{y}<extra></extra>",
         "hovertext": [
          "1167번(우이동~은행사거리)"
         ],
         "legendgroup": "1167번(우이동~은행사거리)",
         "marker": {
          "color": "#FF97FF",
          "symbol": "circle"
         },
         "mode": "markers",
         "name": "1167번(우이동~은행사거리)",
         "orientation": "v",
         "showlegend": true,
         "type": "scatter",
         "x": [
          4
         ],
         "xaxis": "x",
         "y": [
          5
         ],
         "yaxis": "y"
        },
        {
         "hovertemplate": "<b>%{hovertext}</b><br><br>버스노선명=343번(송파차고지~수서역)<br>일평균 승차 인원=%{x}<br>일평균 하차 인원=%{y}<extra></extra>",
         "hovertext": [
          "343번(송파차고지~수서역)"
         ],
         "legendgroup": "343번(송파차고지~수서역)",
         "marker": {
          "color": "#FECB52",
          "symbol": "circle"
         },
         "mode": "markers",
         "name": "343번(송파차고지~수서역)",
         "orientation": "v",
         "showlegend": true,
         "type": "scatter",
         "x": [
          47
         ],
         "xaxis": "x",
         "y": [
          39
         ],
         "yaxis": "y"
        },
        {
         "hovertemplate": "<b>%{hovertext}</b><br><br>버스노선명=660번(온수동~가양역)<br>일평균 승차 인원=%{x}<br>일평균 하차 인원=%{y}<extra></extra>",
         "hovertext": [
          "660번(온수동~가양역)"
         ],
         "legendgroup": "660번(온수동~가양역)",
         "marker": {
          "color": "#636efa",
          "symbol": "circle"
         },
         "mode": "markers",
         "name": "660번(온수동~가양역)",
         "orientation": "v",
         "showlegend": true,
         "type": "scatter",
         "x": [
          10414
         ],
         "xaxis": "x",
         "y": [
          9034
         ],
         "yaxis": "y"
        },
        {
         "hovertemplate": "<b>%{hovertext}</b><br><br>버스노선명=345번(송파차고지~구반포역)<br>일평균 승차 인원=%{x}<br>일평균 하차 인원=%{y}<extra></extra>",
         "hovertext": [
          "345번(송파차고지~구반포역)"
         ],
         "legendgroup": "345번(송파차고지~구반포역)",
         "marker": {
          "color": "#EF553B",
          "symbol": "circle"
         },
         "mode": "markers",
         "name": "345번(송파차고지~구반포역)",
         "orientation": "v",
         "showlegend": true,
         "type": "scatter",
         "x": [
          446
         ],
         "xaxis": "x",
         "y": [
          355
         ],
         "yaxis": "y"
        },
        {
         "hovertemplate": "<b>%{hovertext}</b><br><br>버스노선명=361번(송파차고지~여의도)<br>일평균 승차 인원=%{x}<br>일평균 하차 인원=%{y}<extra></extra>",
         "hovertext": [
          "361번(송파차고지~여의도)"
         ],
         "legendgroup": "361번(송파차고지~여의도)",
         "marker": {
          "color": "#00cc96",
          "symbol": "circle"
         },
         "mode": "markers",
         "name": "361번(송파차고지~여의도)",
         "orientation": "v",
         "showlegend": true,
         "type": "scatter",
         "x": [
          607
         ],
         "xaxis": "x",
         "y": [
          718
         ],
         "yaxis": "y"
        },
        {
         "hovertemplate": "<b>%{hovertext}</b><br><br>버스노선명=3420번(복정역환승센터~구반포역)<br>일평균 승차 인원=%{x}<br>일평균 하차 인원=%{y}<extra></extra>",
         "hovertext": [
          "3420번(복정역환승센터~구반포역)"
         ],
         "legendgroup": "3420번(복정역환승센터~구반포역)",
         "marker": {
          "color": "#ab63fa",
          "symbol": "circle"
         },
         "mode": "markers",
         "name": "3420번(복정역환승센터~구반포역)",
         "orientation": "v",
         "showlegend": true,
         "type": "scatter",
         "x": [
          108
         ],
         "xaxis": "x",
         "y": [
          598
         ],
         "yaxis": "y"
        },
        {
         "hovertemplate": "<b>%{hovertext}</b><br><br>버스노선명=1112번(정릉4동~성북동)<br>일평균 승차 인원=%{x}<br>일평균 하차 인원=%{y}<extra></extra>",
         "hovertext": [
          "1112번(정릉4동~성북동)"
         ],
         "legendgroup": "1112번(정릉4동~성북동)",
         "marker": {
          "color": "#FFA15A",
          "symbol": "circle"
         },
         "mode": "markers",
         "name": "1112번(정릉4동~성북동)",
         "orientation": "v",
         "showlegend": true,
         "type": "scatter",
         "x": [
          24
         ],
         "xaxis": "x",
         "y": [
          35
         ],
         "yaxis": "y"
        },
        {
         "hovertemplate": "<b>%{hovertext}</b><br><br>버스노선명=6633번(강서공영차고지~여의도역)<br>일평균 승차 인원=%{x}<br>일평균 하차 인원=%{y}<extra></extra>",
         "hovertext": [
          "6633번(강서공영차고지~여의도역)"
         ],
         "legendgroup": "6633번(강서공영차고지~여의도역)",
         "marker": {
          "color": "#19d3f3",
          "symbol": "circle"
         },
         "mode": "markers",
         "name": "6633번(강서공영차고지~여의도역)",
         "orientation": "v",
         "showlegend": true,
         "type": "scatter",
         "x": [
          9701
         ],
         "xaxis": "x",
         "y": [
          8861
         ],
         "yaxis": "y"
        },
        {
         "hovertemplate": "<b>%{hovertext}</b><br><br>버스노선명=8111(북악중학교~국민대앞)<br>일평균 승차 인원=%{x}<br>일평균 하차 인원=%{y}<extra></extra>",
         "hovertext": [
          "8111(북악중학교~국민대앞)"
         ],
         "legendgroup": "8111(북악중학교~국민대앞)",
         "marker": {
          "color": "#FF6692",
          "symbol": "circle"
         },
         "mode": "markers",
         "name": "8111(북악중학교~국민대앞)",
         "orientation": "v",
         "showlegend": true,
         "type": "scatter",
         "x": [
          98
         ],
         "xaxis": "x",
         "y": [
          282
         ],
         "yaxis": "y"
        },
        {
         "hovertemplate": "<b>%{hovertext}</b><br><br>버스노선명=8332(강동리버스트상가~천일초교사거리)<br>일평균 승차 인원=%{x}<br>일평균 하차 인원=%{y}<extra></extra>",
         "hovertext": [
          "8332(강동리버스트상가~천일초교사거리)"
         ],
         "legendgroup": "8332(강동리버스트상가~천일초교사거리)",
         "marker": {
          "color": "#B6E880",
          "symbol": "circle"
         },
         "mode": "markers",
         "name": "8332(강동리버스트상가~천일초교사거리)",
         "orientation": "v",
         "showlegend": true,
         "type": "scatter",
         "x": [
          20
         ],
         "xaxis": "x",
         "y": [
          8
         ],
         "yaxis": "y"
        },
        {
         "hovertemplate": "<b>%{hovertext}</b><br><br>버스노선명=2115A번(중랑공영차고지~서경대입구)<br>일평균 승차 인원=%{x}<br>일평균 하차 인원=%{y}<extra></extra>",
         "hovertext": [
          "2115A번(중랑공영차고지~서경대입구)"
         ],
         "legendgroup": "2115A번(중랑공영차고지~서경대입구)",
         "marker": {
          "color": "#FF97FF",
          "symbol": "circle"
         },
         "mode": "markers",
         "name": "2115A번(중랑공영차고지~서경대입구)",
         "orientation": "v",
         "showlegend": true,
         "type": "scatter",
         "x": [
          66
         ],
         "xaxis": "x",
         "y": [
          68
         ],
         "yaxis": "y"
        },
        {
         "hovertemplate": "<b>%{hovertext}</b><br><br>버스노선명=2115B번(서경대입구~중랑공영차고지)<br>일평균 승차 인원=%{x}<br>일평균 하차 인원=%{y}<extra></extra>",
         "hovertext": [
          "2115B번(서경대입구~중랑공영차고지)"
         ],
         "legendgroup": "2115B번(서경대입구~중랑공영차고지)",
         "marker": {
          "color": "#FECB52",
          "symbol": "circle"
         },
         "mode": "markers",
         "name": "2115B번(서경대입구~중랑공영차고지)",
         "orientation": "v",
         "showlegend": true,
         "type": "scatter",
         "x": [
          66
         ],
         "xaxis": "x",
         "y": [
          68
         ],
         "yaxis": "y"
        },
        {
         "hovertemplate": "<b>%{hovertext}</b><br><br>버스노선명=8671번(문래동~아현초등학교)<br>일평균 승차 인원=%{x}<br>일평균 하차 인원=%{y}<extra></extra>",
         "hovertext": [
          "8671번(문래동~아현초등학교)"
         ],
         "legendgroup": "8671번(문래동~아현초등학교)",
         "marker": {
          "color": "#636efa",
          "symbol": "circle"
         },
         "mode": "markers",
         "name": "8671번(문래동~아현초등학교)",
         "orientation": "v",
         "showlegend": true,
         "type": "scatter",
         "x": [
          1326
         ],
         "xaxis": "x",
         "y": [
          2526
         ],
         "yaxis": "y"
        },
        {
         "hovertemplate": "<b>%{hovertext}</b><br><br>버스노선명=705번(진관공영차고지~롯데백화점)<br>일평균 승차 인원=%{x}<br>일평균 하차 인원=%{y}<extra></extra>",
         "hovertext": [
          "705번(진관공영차고지~롯데백화점)"
         ],
         "legendgroup": "705번(진관공영차고지~롯데백화점)",
         "marker": {
          "color": "#EF553B",
          "symbol": "circle"
         },
         "mode": "markers",
         "name": "705번(진관공영차고지~롯데백화점)",
         "orientation": "v",
         "showlegend": true,
         "type": "scatter",
         "x": [
          125
         ],
         "xaxis": "x",
         "y": [
          91
         ],
         "yaxis": "y"
        },
        {
         "hovertemplate": "<b>%{hovertext}</b><br><br>버스노선명=6645(가양9단지~강서공영차고지)<br>일평균 승차 인원=%{x}<br>일평균 하차 인원=%{y}<extra></extra>",
         "hovertext": [
          "6645(가양9단지~강서공영차고지)"
         ],
         "legendgroup": "6645(가양9단지~강서공영차고지)",
         "marker": {
          "color": "#00cc96",
          "symbol": "circle"
         },
         "mode": "markers",
         "name": "6645(가양9단지~강서공영차고지)",
         "orientation": "v",
         "showlegend": true,
         "type": "scatter",
         "x": [
          7920
         ],
         "xaxis": "x",
         "y": [
          4067
         ],
         "yaxis": "y"
        },
        {
         "hovertemplate": "<b>%{hovertext}</b><br><br>버스노선명=6642(가양9단지~강서공영차고지)<br>일평균 승차 인원=%{x}<br>일평균 하차 인원=%{y}<extra></extra>",
         "hovertext": [
          "6642(가양9단지~강서공영차고지)"
         ],
         "legendgroup": "6642(가양9단지~강서공영차고지)",
         "marker": {
          "color": "#ab63fa",
          "symbol": "circle"
         },
         "mode": "markers",
         "name": "6642(가양9단지~강서공영차고지)",
         "orientation": "v",
         "showlegend": true,
         "type": "scatter",
         "x": [
          4747
         ],
         "xaxis": "x",
         "y": [
          6551
         ],
         "yaxis": "y"
        },
        {
         "hovertemplate": "<b>%{hovertext}</b><br><br>버스노선명=6647(개화역환승센터~마곡나루역)<br>일평균 승차 인원=%{x}<br>일평균 하차 인원=%{y}<extra></extra>",
         "hovertext": [
          "6647(개화역환승센터~마곡나루역)"
         ],
         "legendgroup": "6647(개화역환승센터~마곡나루역)",
         "marker": {
          "color": "#FFA15A",
          "symbol": "circle"
         },
         "mode": "markers",
         "name": "6647(개화역환승센터~마곡나루역)",
         "orientation": "v",
         "showlegend": true,
         "type": "scatter",
         "x": [
          625
         ],
         "xaxis": "x",
         "y": [
          1722
         ],
         "yaxis": "y"
        },
        {
         "hovertemplate": "<b>%{hovertext}</b><br><br>버스노선명=7737번(수색은평공영차고지~파크빌아파트)<br>일평균 승차 인원=%{x}<br>일평균 하차 인원=%{y}<extra></extra>",
         "hovertext": [
          "7737번(수색은평공영차고지~파크빌아파트)"
         ],
         "legendgroup": "7737번(수색은평공영차고지~파크빌아파트)",
         "marker": {
          "color": "#19d3f3",
          "symbol": "circle"
         },
         "mode": "markers",
         "name": "7737번(수색은평공영차고지~파크빌아파트)",
         "orientation": "v",
         "showlegend": true,
         "type": "scatter",
         "x": [
          1036
         ],
         "xaxis": "x",
         "y": [
          1164
         ],
         "yaxis": "y"
        },
        {
         "hovertemplate": "<b>%{hovertext}</b><br><br>버스노선명=7024번(봉원사~서울역)<br>일평균 승차 인원=%{x}<br>일평균 하차 인원=%{y}<extra></extra>",
         "hovertext": [
          "7024번(봉원사~서울역)"
         ],
         "legendgroup": "7024번(봉원사~서울역)",
         "marker": {
          "color": "#FF6692",
          "symbol": "circle"
         },
         "mode": "markers",
         "name": "7024번(봉원사~서울역)",
         "orientation": "v",
         "showlegend": true,
         "type": "scatter",
         "x": [
          472
         ],
         "xaxis": "x",
         "y": [
          76
         ],
         "yaxis": "y"
        },
        {
         "hovertemplate": "<b>%{hovertext}</b><br><br>버스노선명=7738번(은평공영차고지~홍제역)<br>일평균 승차 인원=%{x}<br>일평균 하차 인원=%{y}<extra></extra>",
         "hovertext": [
          "7738번(은평공영차고지~홍제역)"
         ],
         "legendgroup": "7738번(은평공영차고지~홍제역)",
         "marker": {
          "color": "#B6E880",
          "symbol": "circle"
         },
         "mode": "markers",
         "name": "7738번(은평공영차고지~홍제역)",
         "orientation": "v",
         "showlegend": true,
         "type": "scatter",
         "x": [
          145
         ],
         "xaxis": "x",
         "y": [
          162
         ],
         "yaxis": "y"
        },
        {
         "hovertemplate": "<b>%{hovertext}</b><br><br>버스노선명=7739번(은평공영차고지~홍대입구역)<br>일평균 승차 인원=%{x}<br>일평균 하차 인원=%{y}<extra></extra>",
         "hovertext": [
          "7739번(은평공영차고지~홍대입구역)"
         ],
         "legendgroup": "7739번(은평공영차고지~홍대입구역)",
         "marker": {
          "color": "#FF97FF",
          "symbol": "circle"
         },
         "mode": "markers",
         "name": "7739번(은평공영차고지~홍대입구역)",
         "orientation": "v",
         "showlegend": true,
         "type": "scatter",
         "x": [
          989
         ],
         "xaxis": "x",
         "y": [
          662
         ],
         "yaxis": "y"
        },
        {
         "hovertemplate": "<b>%{hovertext}</b><br><br>버스노선명=1162번(성북구민회관~보문역)<br>일평균 승차 인원=%{x}<br>일평균 하차 인원=%{y}<extra></extra>",
         "hovertext": [
          "1162번(성북구민회관~보문역)"
         ],
         "legendgroup": "1162번(성북구민회관~보문역)",
         "marker": {
          "color": "#FECB52",
          "symbol": "circle"
         },
         "mode": "markers",
         "name": "1162번(성북구민회관~보문역)",
         "orientation": "v",
         "showlegend": true,
         "type": "scatter",
         "x": [
          12
         ],
         "xaxis": "x",
         "y": [
          8
         ],
         "yaxis": "y"
        },
        {
         "hovertemplate": "<b>%{hovertext}</b><br><br>버스노선명=1164번(서경대~길음역)<br>일평균 승차 인원=%{x}<br>일평균 하차 인원=%{y}<extra></extra>",
         "hovertext": [
          "1164번(서경대~길음역)"
         ],
         "legendgroup": "1164번(서경대~길음역)",
         "marker": {
          "color": "#636efa",
          "symbol": "circle"
         },
         "mode": "markers",
         "name": "1164번(서경대~길음역)",
         "orientation": "v",
         "showlegend": true,
         "type": "scatter",
         "x": [
          38
         ],
         "xaxis": "x",
         "y": [
          53
         ],
         "yaxis": "y"
        },
        {
         "hovertemplate": "<b>%{hovertext}</b><br><br>버스노선명=2113(중랑공영차고지~석계역)<br>일평균 승차 인원=%{x}<br>일평균 하차 인원=%{y}<extra></extra>",
         "hovertext": [
          "2113(중랑공영차고지~석계역)"
         ],
         "legendgroup": "2113(중랑공영차고지~석계역)",
         "marker": {
          "color": "#EF553B",
          "symbol": "circle"
         },
         "mode": "markers",
         "name": "2113(중랑공영차고지~석계역)",
         "orientation": "v",
         "showlegend": true,
         "type": "scatter",
         "x": [
          6
         ],
         "xaxis": "x",
         "y": [
          9
         ],
         "yaxis": "y"
        },
        {
         "hovertemplate": "<b>%{hovertext}</b><br><br>버스노선명=2114(중랑공영차고지~석계역)<br>일평균 승차 인원=%{x}<br>일평균 하차 인원=%{y}<extra></extra>",
         "hovertext": [
          "2114(중랑공영차고지~석계역)"
         ],
         "legendgroup": "2114(중랑공영차고지~석계역)",
         "marker": {
          "color": "#00cc96",
          "symbol": "circle"
         },
         "mode": "markers",
         "name": "2114(중랑공영차고지~석계역)",
         "orientation": "v",
         "showlegend": true,
         "type": "scatter",
         "x": [
          3
         ],
         "xaxis": "x",
         "y": [
          6
         ],
         "yaxis": "y"
        },
        {
         "hovertemplate": "<b>%{hovertext}</b><br><br>버스노선명=0017번(청암동~이촌동)<br>일평균 승차 인원=%{x}<br>일평균 하차 인원=%{y}<extra></extra>",
         "hovertext": [
          "0017번(청암동~이촌동)"
         ],
         "legendgroup": "0017번(청암동~이촌동)",
         "marker": {
          "color": "#ab63fa",
          "symbol": "circle"
         },
         "mode": "markers",
         "name": "0017번(청암동~이촌동)",
         "orientation": "v",
         "showlegend": true,
         "type": "scatter",
         "x": [
          8
         ],
         "xaxis": "x",
         "y": [
          60
         ],
         "yaxis": "y"
        },
        {
         "hovertemplate": "<b>%{hovertext}</b><br><br>버스노선명=1131번(중계본동~석계역)<br>일평균 승차 인원=%{x}<br>일평균 하차 인원=%{y}<extra></extra>",
         "hovertext": [
          "1131번(중계본동~석계역)"
         ],
         "legendgroup": "1131번(중계본동~석계역)",
         "marker": {
          "color": "#FFA15A",
          "symbol": "circle"
         },
         "mode": "markers",
         "name": "1131번(중계본동~석계역)",
         "orientation": "v",
         "showlegend": true,
         "type": "scatter",
         "x": [
          8
         ],
         "xaxis": "x",
         "y": [
          10
         ],
         "yaxis": "y"
        },
        {
         "hovertemplate": "<b>%{hovertext}</b><br><br>버스노선명=1141번(중계본동~석계역)<br>일평균 승차 인원=%{x}<br>일평균 하차 인원=%{y}<extra></extra>",
         "hovertext": [
          "1141번(중계본동~석계역)"
         ],
         "legendgroup": "1141번(중계본동~석계역)",
         "marker": {
          "color": "#19d3f3",
          "symbol": "circle"
         },
         "mode": "markers",
         "name": "1141번(중계본동~석계역)",
         "orientation": "v",
         "showlegend": true,
         "type": "scatter",
         "x": [
          4
         ],
         "xaxis": "x",
         "y": [
          18
         ],
         "yaxis": "y"
        },
        {
         "hovertemplate": "<b>%{hovertext}</b><br><br>버스노선명=1142번(중계본동~창동역)<br>일평균 승차 인원=%{x}<br>일평균 하차 인원=%{y}<extra></extra>",
         "hovertext": [
          "1142번(중계본동~창동역)"
         ],
         "legendgroup": "1142번(중계본동~창동역)",
         "marker": {
          "color": "#FF6692",
          "symbol": "circle"
         },
         "mode": "markers",
         "name": "1142번(중계본동~창동역)",
         "orientation": "v",
         "showlegend": true,
         "type": "scatter",
         "x": [
          6
         ],
         "xaxis": "x",
         "y": [
          8
         ],
         "yaxis": "y"
        },
        {
         "hovertemplate": "<b>%{hovertext}</b><br><br>버스노선명=7715번(은평차고지~연신내역)<br>일평균 승차 인원=%{x}<br>일평균 하차 인원=%{y}<extra></extra>",
         "hovertext": [
          "7715번(은평차고지~연신내역)"
         ],
         "legendgroup": "7715번(은평차고지~연신내역)",
         "marker": {
          "color": "#B6E880",
          "symbol": "circle"
         },
         "mode": "markers",
         "name": "7715번(은평차고지~연신내역)",
         "orientation": "v",
         "showlegend": true,
         "type": "scatter",
         "x": [
          623
         ],
         "xaxis": "x",
         "y": [
          933
         ],
         "yaxis": "y"
        },
        {
         "hovertemplate": "<b>%{hovertext}</b><br><br>버스노선명=6625번(문래동~화곡동)<br>일평균 승차 인원=%{x}<br>일평균 하차 인원=%{y}<extra></extra>",
         "hovertext": [
          "6625번(문래동~화곡동)"
         ],
         "legendgroup": "6625번(문래동~화곡동)",
         "marker": {
          "color": "#FF97FF",
          "symbol": "circle"
         },
         "mode": "markers",
         "name": "6625번(문래동~화곡동)",
         "orientation": "v",
         "showlegend": true,
         "type": "scatter",
         "x": [
          115965
         ],
         "xaxis": "x",
         "y": [
          111669
         ],
         "yaxis": "y"
        },
        {
         "hovertemplate": "<b>%{hovertext}</b><br><br>버스노선명=1143번(수락리버시티~봉화산역)<br>일평균 승차 인원=%{x}<br>일평균 하차 인원=%{y}<extra></extra>",
         "hovertext": [
          "1143번(수락리버시티~봉화산역)"
         ],
         "legendgroup": "1143번(수락리버시티~봉화산역)",
         "marker": {
          "color": "#FECB52",
          "symbol": "circle"
         },
         "mode": "markers",
         "name": "1143번(수락리버시티~봉화산역)",
         "orientation": "v",
         "showlegend": true,
         "type": "scatter",
         "x": [
          8
         ],
         "xaxis": "x",
         "y": [
          32
         ],
         "yaxis": "y"
        },
        {
         "hovertemplate": "<b>%{hovertext}</b><br><br>버스노선명=6624번(신월동~이대목동병원)<br>일평균 승차 인원=%{x}<br>일평균 하차 인원=%{y}<extra></extra>",
         "hovertext": [
          "6624번(신월동~이대목동병원)"
         ],
         "legendgroup": "6624번(신월동~이대목동병원)",
         "marker": {
          "color": "#636efa",
          "symbol": "circle"
         },
         "mode": "markers",
         "name": "6624번(신월동~이대목동병원)",
         "orientation": "v",
         "showlegend": true,
         "type": "scatter",
         "x": [
          76086
         ],
         "xaxis": "x",
         "y": [
          72429
         ],
         "yaxis": "y"
        },
        {
         "hovertemplate": "<b>%{hovertext}</b><br><br>버스노선명=2224번(성수동~강변역)<br>일평균 승차 인원=%{x}<br>일평균 하차 인원=%{y}<extra></extra>",
         "hovertext": [
          "2224번(성수동~강변역)"
         ],
         "legendgroup": "2224번(성수동~강변역)",
         "marker": {
          "color": "#EF553B",
          "symbol": "circle"
         },
         "mode": "markers",
         "name": "2224번(성수동~강변역)",
         "orientation": "v",
         "showlegend": true,
         "type": "scatter",
         "x": [
          22
         ],
         "xaxis": "x",
         "y": [
          18
         ],
         "yaxis": "y"
        },
        {
         "hovertemplate": "<b>%{hovertext}</b><br><br>버스노선명=6613(양천공영차고지~대림역)<br>일평균 승차 인원=%{x}<br>일평균 하차 인원=%{y}<extra></extra>",
         "hovertext": [
          "6613(양천공영차고지~대림역)"
         ],
         "legendgroup": "6613(양천공영차고지~대림역)",
         "marker": {
          "color": "#00cc96",
          "symbol": "circle"
         },
         "mode": "markers",
         "name": "6613(양천공영차고지~대림역)",
         "orientation": "v",
         "showlegend": true,
         "type": "scatter",
         "x": [
          2812
         ],
         "xaxis": "x",
         "y": [
          1635
         ],
         "yaxis": "y"
        },
        {
         "hovertemplate": "<b>%{hovertext}</b><br><br>버스노선명=6614(양천공영차고지~부천옥길지구)<br>일평균 승차 인원=%{x}<br>일평균 하차 인원=%{y}<extra></extra>",
         "hovertext": [
          "6614(양천공영차고지~부천옥길지구)"
         ],
         "legendgroup": "6614(양천공영차고지~부천옥길지구)",
         "marker": {
          "color": "#ab63fa",
          "symbol": "circle"
         },
         "mode": "markers",
         "name": "6614(양천공영차고지~부천옥길지구)",
         "orientation": "v",
         "showlegend": true,
         "type": "scatter",
         "x": [
          51362
         ],
         "xaxis": "x",
         "y": [
          52888
         ],
         "yaxis": "y"
        },
        {
         "hovertemplate": "<b>%{hovertext}</b><br><br>버스노선명=506번(신림동~종로1가)<br>일평균 승차 인원=%{x}<br>일평균 하차 인원=%{y}<extra></extra>",
         "hovertext": [
          "506번(신림동~종로1가)"
         ],
         "legendgroup": "506번(신림동~종로1가)",
         "marker": {
          "color": "#FFA15A",
          "symbol": "circle"
         },
         "mode": "markers",
         "name": "506번(신림동~종로1가)",
         "orientation": "v",
         "showlegend": true,
         "type": "scatter",
         "x": [
          1193
         ],
         "xaxis": "x",
         "y": [
          1479
         ],
         "yaxis": "y"
        },
        {
         "hovertemplate": "<b>%{hovertext}</b><br><br>버스노선명=금천08(난곡중학교~금천구청역)<br>일평균 승차 인원=%{x}<br>일평균 하차 인원=%{y}<extra></extra>",
         "hovertext": [
          "금천08(난곡중학교~금천구청역)"
         ],
         "legendgroup": "금천08(난곡중학교~금천구청역)",
         "marker": {
          "color": "#19d3f3",
          "symbol": "circle"
         },
         "mode": "markers",
         "name": "금천08(난곡중학교~금천구청역)",
         "orientation": "v",
         "showlegend": true,
         "type": "scatter",
         "x": [
          19
         ],
         "xaxis": "x",
         "y": [
          26
         ],
         "yaxis": "y"
        },
        {
         "hovertemplate": "<b>%{hovertext}</b><br><br>버스노선명=1114번(정릉~길음역)<br>일평균 승차 인원=%{x}<br>일평균 하차 인원=%{y}<extra></extra>",
         "hovertext": [
          "1114번(정릉~길음역)"
         ],
         "legendgroup": "1114번(정릉~길음역)",
         "marker": {
          "color": "#FF6692",
          "symbol": "circle"
         },
         "mode": "markers",
         "name": "1114번(정릉~길음역)",
         "orientation": "v",
         "showlegend": true,
         "type": "scatter",
         "x": [
          5
         ],
         "xaxis": "x",
         "y": [
          6
         ],
         "yaxis": "y"
        },
        {
         "hovertemplate": "<b>%{hovertext}</b><br><br>버스노선명=1127번(도봉동~도봉동)<br>일평균 승차 인원=%{x}<br>일평균 하차 인원=%{y}<extra></extra>",
         "hovertext": [
          "1127번(도봉동~도봉동)"
         ],
         "legendgroup": "1127번(도봉동~도봉동)",
         "marker": {
          "color": "#B6E880",
          "symbol": "circle"
         },
         "mode": "markers",
         "name": "1127번(도봉동~도봉동)",
         "orientation": "v",
         "showlegend": true,
         "type": "scatter",
         "x": [
          1
         ],
         "xaxis": "x",
         "y": [
          4
         ],
         "yaxis": "y"
        },
        {
         "hovertemplate": "<b>%{hovertext}</b><br><br>버스노선명=4432번(개포동~옛골)<br>일평균 승차 인원=%{x}<br>일평균 하차 인원=%{y}<extra></extra>",
         "hovertext": [
          "4432번(개포동~옛골)"
         ],
         "legendgroup": "4432번(개포동~옛골)",
         "marker": {
          "color": "#FF97FF",
          "symbol": "circle"
         },
         "mode": "markers",
         "name": "4432번(개포동~옛골)",
         "orientation": "v",
         "showlegend": true,
         "type": "scatter",
         "x": [
          52
         ],
         "xaxis": "x",
         "y": [
          72
         ],
         "yaxis": "y"
        },
        {
         "hovertemplate": "<b>%{hovertext}</b><br><br>버스노선명=강북08(두산위브아파트~현대백화점)<br>일평균 승차 인원=%{x}<br>일평균 하차 인원=%{y}<extra></extra>",
         "hovertext": [
          "강북08(두산위브아파트~현대백화점)"
         ],
         "legendgroup": "강북08(두산위브아파트~현대백화점)",
         "marker": {
          "color": "#FECB52",
          "symbol": "circle"
         },
         "mode": "markers",
         "name": "강북08(두산위브아파트~현대백화점)",
         "orientation": "v",
         "showlegend": true,
         "type": "scatter",
         "x": [
          null
         ],
         "xaxis": "x",
         "y": [
          2
         ],
         "yaxis": "y"
        },
        {
         "hovertemplate": "<b>%{hovertext}</b><br><br>버스노선명=마포05(홍대입구역~연남동주민센터)<br>일평균 승차 인원=%{x}<br>일평균 하차 인원=%{y}<extra></extra>",
         "hovertext": [
          "마포05(홍대입구역~연남동주민센터)"
         ],
         "legendgroup": "마포05(홍대입구역~연남동주민센터)",
         "marker": {
          "color": "#636efa",
          "symbol": "circle"
         },
         "mode": "markers",
         "name": "마포05(홍대입구역~연남동주민센터)",
         "orientation": "v",
         "showlegend": true,
         "type": "scatter",
         "x": [
          1
         ],
         "xaxis": "x",
         "y": [
          3
         ],
         "yaxis": "y"
        },
        {
         "hovertemplate": "<b>%{hovertext}</b><br><br>버스노선명=4433번(대치역~양재역)<br>일평균 승차 인원=%{x}<br>일평균 하차 인원=%{y}<extra></extra>",
         "hovertext": [
          "4433번(대치역~양재역)"
         ],
         "legendgroup": "4433번(대치역~양재역)",
         "marker": {
          "color": "#EF553B",
          "symbol": "circle"
         },
         "mode": "markers",
         "name": "4433번(대치역~양재역)",
         "orientation": "v",
         "showlegend": true,
         "type": "scatter",
         "x": [
          16
         ],
         "xaxis": "x",
         "y": [
          3
         ],
         "yaxis": "y"
        },
        {
         "hovertemplate": "<b>%{hovertext}</b><br><br>버스노선명=8146번(상계주공7단지~강남역)<br>일평균 승차 인원=%{x}<br>일평균 하차 인원=%{y}<extra></extra>",
         "hovertext": [
          "8146번(상계주공7단지~강남역)"
         ],
         "legendgroup": "8146번(상계주공7단지~강남역)",
         "marker": {
          "color": "#00cc96",
          "symbol": "circle"
         },
         "mode": "markers",
         "name": "8146번(상계주공7단지~강남역)",
         "orientation": "v",
         "showlegend": true,
         "type": "scatter",
         "x": [
          286
         ],
         "xaxis": "x",
         "y": [
          268
         ],
         "yaxis": "y"
        },
        {
         "hovertemplate": "<b>%{hovertext}</b><br><br>버스노선명=2236번(중랑차고지~신이문역)<br>일평균 승차 인원=%{x}<br>일평균 하차 인원=%{y}<extra></extra>",
         "hovertext": [
          "2236번(중랑차고지~신이문역)"
         ],
         "legendgroup": "2236번(중랑차고지~신이문역)",
         "marker": {
          "color": "#ab63fa",
          "symbol": "circle"
         },
         "mode": "markers",
         "name": "2236번(중랑차고지~신이문역)",
         "orientation": "v",
         "showlegend": true,
         "type": "scatter",
         "x": [
          10
         ],
         "xaxis": "x",
         "y": [
          14
         ],
         "yaxis": "y"
        },
        {
         "hovertemplate": "<b>%{hovertext}</b><br><br>버스노선명=148번(번동~방배동)<br>일평균 승차 인원=%{x}<br>일평균 하차 인원=%{y}<extra></extra>",
         "hovertext": [
          "148번(번동~방배동)"
         ],
         "legendgroup": "148번(번동~방배동)",
         "marker": {
          "color": "#FFA15A",
          "symbol": "circle"
         },
         "mode": "markers",
         "name": "148번(번동~방배동)",
         "orientation": "v",
         "showlegend": true,
         "type": "scatter",
         "x": [
          438
         ],
         "xaxis": "x",
         "y": [
          568
         ],
         "yaxis": "y"
        },
        {
         "hovertemplate": "<b>%{hovertext}</b><br><br>버스노선명=1226번(월곡중학교~경동시장)<br>일평균 승차 인원=%{x}<br>일평균 하차 인원=%{y}<extra></extra>",
         "hovertext": [
          "1226번(월곡중학교~경동시장)"
         ],
         "legendgroup": "1226번(월곡중학교~경동시장)",
         "marker": {
          "color": "#19d3f3",
          "symbol": "circle"
         },
         "mode": "markers",
         "name": "1226번(월곡중학교~경동시장)",
         "orientation": "v",
         "showlegend": true,
         "type": "scatter",
         "x": [
          9
         ],
         "xaxis": "x",
         "y": [
          null
         ],
         "yaxis": "y"
        },
        {
         "hovertemplate": "<b>%{hovertext}</b><br><br>버스노선명=273번(중랑차고지~동교동)<br>일평균 승차 인원=%{x}<br>일평균 하차 인원=%{y}<extra></extra>",
         "hovertext": [
          "273번(중랑차고지~동교동)"
         ],
         "legendgroup": "273번(중랑차고지~동교동)",
         "marker": {
          "color": "#FF6692",
          "symbol": "circle"
         },
         "mode": "markers",
         "name": "273번(중랑차고지~동교동)",
         "orientation": "v",
         "showlegend": true,
         "type": "scatter",
         "x": [
          812
         ],
         "xaxis": "x",
         "y": [
          1288
         ],
         "yaxis": "y"
        },
        {
         "hovertemplate": "<b>%{hovertext}</b><br><br>버스노선명=1165번(화계사~미아삼거리역)<br>일평균 승차 인원=%{x}<br>일평균 하차 인원=%{y}<extra></extra>",
         "hovertext": [
          "1165번(화계사~미아삼거리역)"
         ],
         "legendgroup": "1165번(화계사~미아삼거리역)",
         "marker": {
          "color": "#B6E880",
          "symbol": "circle"
         },
         "mode": "markers",
         "name": "1165번(화계사~미아삼거리역)",
         "orientation": "v",
         "showlegend": true,
         "type": "scatter",
         "x": [
          28
         ],
         "xaxis": "x",
         "y": [
          10
         ],
         "yaxis": "y"
        },
        {
         "hovertemplate": "<b>%{hovertext}</b><br><br>버스노선명=2416번(중랑공영차고지~삼성역)<br>일평균 승차 인원=%{x}<br>일평균 하차 인원=%{y}<extra></extra>",
         "hovertext": [
          "2416번(중랑공영차고지~삼성역)"
         ],
         "legendgroup": "2416번(중랑공영차고지~삼성역)",
         "marker": {
          "color": "#FF97FF",
          "symbol": "circle"
         },
         "mode": "markers",
         "name": "2416번(중랑공영차고지~삼성역)",
         "orientation": "v",
         "showlegend": true,
         "type": "scatter",
         "x": [
          58
         ],
         "xaxis": "x",
         "y": [
          66
         ],
         "yaxis": "y"
        },
        {
         "hovertemplate": "<b>%{hovertext}</b><br><br>버스노선명=163번(우이동~대방역)<br>일평균 승차 인원=%{x}<br>일평균 하차 인원=%{y}<extra></extra>",
         "hovertext": [
          "163번(우이동~대방역)"
         ],
         "legendgroup": "163번(우이동~대방역)",
         "marker": {
          "color": "#FECB52",
          "symbol": "circle"
         },
         "mode": "markers",
         "name": "163번(우이동~대방역)",
         "orientation": "v",
         "showlegend": true,
         "type": "scatter",
         "x": [
          345
         ],
         "xaxis": "x",
         "y": [
          564
         ],
         "yaxis": "y"
        },
        {
         "hovertemplate": "<b>%{hovertext}</b><br><br>버스노선명=202번(불암동~후암동)<br>일평균 승차 인원=%{x}<br>일평균 하차 인원=%{y}<extra></extra>",
         "hovertext": [
          "202번(불암동~후암동)"
         ],
         "legendgroup": "202번(불암동~후암동)",
         "marker": {
          "color": "#636efa",
          "symbol": "circle"
         },
         "mode": "markers",
         "name": "202번(불암동~후암동)",
         "orientation": "v",
         "showlegend": true,
         "type": "scatter",
         "x": [
          159
         ],
         "xaxis": "x",
         "y": [
          146
         ],
         "yaxis": "y"
        },
        {
         "hovertemplate": "<b>%{hovertext}</b><br><br>버스노선명=3323번(강동차고지~중앙보훈병원역)<br>일평균 승차 인원=%{x}<br>일평균 하차 인원=%{y}<extra></extra>",
         "hovertext": [
          "3323번(강동차고지~중앙보훈병원역)"
         ],
         "legendgroup": "3323번(강동차고지~중앙보훈병원역)",
         "marker": {
          "color": "#EF553B",
          "symbol": "circle"
         },
         "mode": "markers",
         "name": "3323번(강동차고지~중앙보훈병원역)",
         "orientation": "v",
         "showlegend": true,
         "type": "scatter",
         "x": [
          1
         ],
         "xaxis": "x",
         "y": [
          4
         ],
         "yaxis": "y"
        },
        {
         "hovertemplate": "<b>%{hovertext}</b><br><br>버스노선명=3214번(마천동~강변역)<br>일평균 승차 인원=%{x}<br>일평균 하차 인원=%{y}<extra></extra>",
         "hovertext": [
          "3214번(마천동~강변역)"
         ],
         "legendgroup": "3214번(마천동~강변역)",
         "marker": {
          "color": "#00cc96",
          "symbol": "circle"
         },
         "mode": "markers",
         "name": "3214번(마천동~강변역)",
         "orientation": "v",
         "showlegend": true,
         "type": "scatter",
         "x": [
          14
         ],
         "xaxis": "x",
         "y": [
          17
         ],
         "yaxis": "y"
        },
        {
         "hovertemplate": "<b>%{hovertext}</b><br><br>버스노선명=3316번(마천동~천호역)<br>일평균 승차 인원=%{x}<br>일평균 하차 인원=%{y}<extra></extra>",
         "hovertext": [
          "3316번(마천동~천호역)"
         ],
         "legendgroup": "3316번(마천동~천호역)",
         "marker": {
          "color": "#ab63fa",
          "symbol": "circle"
         },
         "mode": "markers",
         "name": "3316번(마천동~천호역)",
         "orientation": "v",
         "showlegend": true,
         "type": "scatter",
         "x": [
          6
         ],
         "xaxis": "x",
         "y": [
          8
         ],
         "yaxis": "y"
        },
        {
         "hovertemplate": "<b>%{hovertext}</b><br><br>버스노선명=3220번(오금동~청량리)<br>일평균 승차 인원=%{x}<br>일평균 하차 인원=%{y}<extra></extra>",
         "hovertext": [
          "3220번(오금동~청량리)"
         ],
         "legendgroup": "3220번(오금동~청량리)",
         "marker": {
          "color": "#FFA15A",
          "symbol": "circle"
         },
         "mode": "markers",
         "name": "3220번(오금동~청량리)",
         "orientation": "v",
         "showlegend": true,
         "type": "scatter",
         "x": [
          70
         ],
         "xaxis": "x",
         "y": [
          36
         ],
         "yaxis": "y"
        },
        {
         "hovertemplate": "<b>%{hovertext}</b><br><br>버스노선명=2415번(자양동~대치동)<br>일평균 승차 인원=%{x}<br>일평균 하차 인원=%{y}<extra></extra>",
         "hovertext": [
          "2415번(자양동~대치동)"
         ],
         "legendgroup": "2415번(자양동~대치동)",
         "marker": {
          "color": "#19d3f3",
          "symbol": "circle"
         },
         "mode": "markers",
         "name": "2415번(자양동~대치동)",
         "orientation": "v",
         "showlegend": true,
         "type": "scatter",
         "x": [
          28
         ],
         "xaxis": "x",
         "y": [
          34
         ],
         "yaxis": "y"
        },
        {
         "hovertemplate": "<b>%{hovertext}</b><br><br>버스노선명=2221번(자양동~신설동)<br>일평균 승차 인원=%{x}<br>일평균 하차 인원=%{y}<extra></extra>",
         "hovertext": [
          "2221번(자양동~신설동)"
         ],
         "legendgroup": "2221번(자양동~신설동)",
         "marker": {
          "color": "#FF6692",
          "symbol": "circle"
         },
         "mode": "markers",
         "name": "2221번(자양동~신설동)",
         "orientation": "v",
         "showlegend": true,
         "type": "scatter",
         "x": [
          34
         ],
         "xaxis": "x",
         "y": [
          42
         ],
         "yaxis": "y"
        },
        {
         "hovertemplate": "<b>%{hovertext}</b><br><br>버스노선명=3216번(오금동~경희의료원)<br>일평균 승차 인원=%{x}<br>일평균 하차 인원=%{y}<extra></extra>",
         "hovertext": [
          "3216번(오금동~경희의료원)"
         ],
         "legendgroup": "3216번(오금동~경희의료원)",
         "marker": {
          "color": "#B6E880",
          "symbol": "circle"
         },
         "mode": "markers",
         "name": "3216번(오금동~경희의료원)",
         "orientation": "v",
         "showlegend": true,
         "type": "scatter",
         "x": [
          66
         ],
         "xaxis": "x",
         "y": [
          57
         ],
         "yaxis": "y"
        },
        {
         "hovertemplate": "<b>%{hovertext}</b><br><br>버스노선명=320번(송파차고지~상봉터미널)<br>일평균 승차 인원=%{x}<br>일평균 하차 인원=%{y}<extra></extra>",
         "hovertext": [
          "320번(송파차고지~상봉터미널)"
         ],
         "legendgroup": "320번(송파차고지~상봉터미널)",
         "marker": {
          "color": "#FF97FF",
          "symbol": "circle"
         },
         "mode": "markers",
         "name": "320번(송파차고지~상봉터미널)",
         "orientation": "v",
         "showlegend": true,
         "type": "scatter",
         "x": [
          38
         ],
         "xaxis": "x",
         "y": [
          35
         ],
         "yaxis": "y"
        },
        {
         "hovertemplate": "<b>%{hovertext}</b><br><br>버스노선명=6716번(양천공영차고지~이대입구)<br>일평균 승차 인원=%{x}<br>일평균 하차 인원=%{y}<extra></extra>",
         "hovertext": [
          "6716번(양천공영차고지~이대입구)"
         ],
         "legendgroup": "6716번(양천공영차고지~이대입구)",
         "marker": {
          "color": "#FECB52",
          "symbol": "circle"
         },
         "mode": "markers",
         "name": "6716번(양천공영차고지~이대입구)",
         "orientation": "v",
         "showlegend": true,
         "type": "scatter",
         "x": [
          13345
         ],
         "xaxis": "x",
         "y": [
          17143
         ],
         "yaxis": "y"
        },
        {
         "hovertemplate": "<b>%{hovertext}</b><br><br>버스노선명=103번(삼화상운~서울역)<br>일평균 승차 인원=%{x}<br>일평균 하차 인원=%{y}<extra></extra>",
         "hovertext": [
          "103번(삼화상운~서울역)"
         ],
         "legendgroup": "103번(삼화상운~서울역)",
         "marker": {
          "color": "#636efa",
          "symbol": "circle"
         },
         "mode": "markers",
         "name": "103번(삼화상운~서울역)",
         "orientation": "v",
         "showlegend": true,
         "type": "scatter",
         "x": [
          223
         ],
         "xaxis": "x",
         "y": [
          159
         ],
         "yaxis": "y"
        },
        {
         "hovertemplate": "<b>%{hovertext}</b><br><br>버스노선명=120번(우이동~청량리)<br>일평균 승차 인원=%{x}<br>일평균 하차 인원=%{y}<extra></extra>",
         "hovertext": [
          "120번(우이동~청량리)"
         ],
         "legendgroup": "120번(우이동~청량리)",
         "marker": {
          "color": "#EF553B",
          "symbol": "circle"
         },
         "mode": "markers",
         "name": "120번(우이동~청량리)",
         "orientation": "v",
         "showlegend": true,
         "type": "scatter",
         "x": [
          43
         ],
         "xaxis": "x",
         "y": [
          34
         ],
         "yaxis": "y"
        },
        {
         "hovertemplate": "<b>%{hovertext}</b><br><br>버스노선명=금천05(독산한신아파트~가산디지털단지역)<br>일평균 승차 인원=%{x}<br>일평균 하차 인원=%{y}<extra></extra>",
         "hovertext": [
          "금천05(독산한신아파트~가산디지털단지역)"
         ],
         "legendgroup": "금천05(독산한신아파트~가산디지털단지역)",
         "marker": {
          "color": "#00cc96",
          "symbol": "circle"
         },
         "mode": "markers",
         "name": "금천05(독산한신아파트~가산디지털단지역)",
         "orientation": "v",
         "showlegend": true,
         "type": "scatter",
         "x": [
          94
         ],
         "xaxis": "x",
         "y": [
          133
         ],
         "yaxis": "y"
        },
        {
         "hovertemplate": "<b>%{hovertext}</b><br><br>버스노선명=금천06(시흥1동공영주차장~구로디지털단지역)<br>일평균 승차 인원=%{x}<br>일평균 하차 인원=%{y}<extra></extra>",
         "hovertext": [
          "금천06(시흥1동공영주차장~구로디지털단지역)"
         ],
         "legendgroup": "금천06(시흥1동공영주차장~구로디지털단지역)",
         "marker": {
          "color": "#ab63fa",
          "symbol": "circle"
         },
         "mode": "markers",
         "name": "금천06(시흥1동공영주차장~구로디지털단지역)",
         "orientation": "v",
         "showlegend": true,
         "type": "scatter",
         "x": [
          14
         ],
         "xaxis": "x",
         "y": [
          21
         ],
         "yaxis": "y"
        },
        {
         "hovertemplate": "<b>%{hovertext}</b><br><br>버스노선명=금천07(시흥1동공영주차장~구로디지털단지역)<br>일평균 승차 인원=%{x}<br>일평균 하차 인원=%{y}<extra></extra>",
         "hovertext": [
          "금천07(시흥1동공영주차장~구로디지털단지역)"
         ],
         "legendgroup": "금천07(시흥1동공영주차장~구로디지털단지역)",
         "marker": {
          "color": "#FFA15A",
          "symbol": "circle"
         },
         "mode": "markers",
         "name": "금천07(시흥1동공영주차장~구로디지털단지역)",
         "orientation": "v",
         "showlegend": true,
         "type": "scatter",
         "x": [
          21
         ],
         "xaxis": "x",
         "y": [
          52
         ],
         "yaxis": "y"
        },
        {
         "hovertemplate": "<b>%{hovertext}</b><br><br>버스노선명=강북04(영암마트~수유시장)<br>일평균 승차 인원=%{x}<br>일평균 하차 인원=%{y}<extra></extra>",
         "hovertext": [
          "강북04(영암마트~수유시장)"
         ],
         "legendgroup": "강북04(영암마트~수유시장)",
         "marker": {
          "color": "#19d3f3",
          "symbol": "circle"
         },
         "mode": "markers",
         "name": "강북04(영암마트~수유시장)",
         "orientation": "v",
         "showlegend": true,
         "type": "scatter",
         "x": [
          null
         ],
         "xaxis": "x",
         "y": [
          3
         ],
         "yaxis": "y"
        },
        {
         "hovertemplate": "<b>%{hovertext}</b><br><br>버스노선명=240번(중랑공영차고지~신사역사거리)<br>일평균 승차 인원=%{x}<br>일평균 하차 인원=%{y}<extra></extra>",
         "hovertext": [
          "240번(중랑공영차고지~신사역사거리)"
         ],
         "legendgroup": "240번(중랑공영차고지~신사역사거리)",
         "marker": {
          "color": "#FF6692",
          "symbol": "circle"
         },
         "mode": "markers",
         "name": "240번(중랑공영차고지~신사역사거리)",
         "orientation": "v",
         "showlegend": true,
         "type": "scatter",
         "x": [
          75
         ],
         "xaxis": "x",
         "y": [
          74
         ],
         "yaxis": "y"
        },
        {
         "hovertemplate": "<b>%{hovertext}</b><br><br>버스노선명=652번(신월동~금천우체국)<br>일평균 승차 인원=%{x}<br>일평균 하차 인원=%{y}<extra></extra>",
         "hovertext": [
          "652번(신월동~금천우체국)"
         ],
         "legendgroup": "652번(신월동~금천우체국)",
         "marker": {
          "color": "#B6E880",
          "symbol": "circle"
         },
         "mode": "markers",
         "name": "652번(신월동~금천우체국)",
         "orientation": "v",
         "showlegend": true,
         "type": "scatter",
         "x": [
          107110
         ],
         "xaxis": "x",
         "y": [
          99674
         ],
         "yaxis": "y"
        },
        {
         "hovertemplate": "<b>%{hovertext}</b><br><br>버스노선명=1227번(하계동~제기동)<br>일평균 승차 인원=%{x}<br>일평균 하차 인원=%{y}<extra></extra>",
         "hovertext": [
          "1227번(하계동~제기동)"
         ],
         "legendgroup": "1227번(하계동~제기동)",
         "marker": {
          "color": "#FF97FF",
          "symbol": "circle"
         },
         "mode": "markers",
         "name": "1227번(하계동~제기동)",
         "orientation": "v",
         "showlegend": true,
         "type": "scatter",
         "x": [
          40
         ],
         "xaxis": "x",
         "y": [
          27
         ],
         "yaxis": "y"
        },
        {
         "hovertemplate": "<b>%{hovertext}</b><br><br>버스노선명=3317(남한산성입구~잠실새내역)<br>일평균 승차 인원=%{x}<br>일평균 하차 인원=%{y}<extra></extra>",
         "hovertext": [
          "3317(남한산성입구~잠실새내역)"
         ],
         "legendgroup": "3317(남한산성입구~잠실새내역)",
         "marker": {
          "color": "#FECB52",
          "symbol": "circle"
         },
         "mode": "markers",
         "name": "3317(남한산성입구~잠실새내역)",
         "orientation": "v",
         "showlegend": true,
         "type": "scatter",
         "x": [
          19
         ],
         "xaxis": "x",
         "y": [
          22
         ],
         "yaxis": "y"
        },
        {
         "hovertemplate": "<b>%{hovertext}</b><br><br>버스노선명=성북20(고려대역~돈암시장)<br>일평균 승차 인원=%{x}<br>일평균 하차 인원=%{y}<extra></extra>",
         "hovertext": [
          "성북20(고려대역~돈암시장)"
         ],
         "legendgroup": "성북20(고려대역~돈암시장)",
         "marker": {
          "color": "#636efa",
          "symbol": "circle"
         },
         "mode": "markers",
         "name": "성북20(고려대역~돈암시장)",
         "orientation": "v",
         "showlegend": true,
         "type": "scatter",
         "x": [
          null
         ],
         "xaxis": "x",
         "y": [
          7
         ],
         "yaxis": "y"
        },
        {
         "hovertemplate": "<b>%{hovertext}</b><br><br>버스노선명=6657번(강서한강자이아파트~양천공영차고지)<br>일평균 승차 인원=%{x}<br>일평균 하차 인원=%{y}<extra></extra>",
         "hovertext": [
          "6657번(강서한강자이아파트~양천공영차고지)"
         ],
         "legendgroup": "6657번(강서한강자이아파트~양천공영차고지)",
         "marker": {
          "color": "#EF553B",
          "symbol": "circle"
         },
         "mode": "markers",
         "name": "6657번(강서한강자이아파트~양천공영차고지)",
         "orientation": "v",
         "showlegend": true,
         "type": "scatter",
         "x": [
          14630
         ],
         "xaxis": "x",
         "y": [
          15834
         ],
         "yaxis": "y"
        },
        {
         "hovertemplate": "<b>%{hovertext}</b><br><br>버스노선명=구로14(천왕이펜하우스5단지입구~온수역)<br>일평균 승차 인원=%{x}<br>일평균 하차 인원=%{y}<extra></extra>",
         "hovertext": [
          "구로14(천왕이펜하우스5단지입구~온수역)"
         ],
         "legendgroup": "구로14(천왕이펜하우스5단지입구~온수역)",
         "marker": {
          "color": "#00cc96",
          "symbol": "circle"
         },
         "mode": "markers",
         "name": "구로14(천왕이펜하우스5단지입구~온수역)",
         "orientation": "v",
         "showlegend": true,
         "type": "scatter",
         "x": [
          8
         ],
         "xaxis": "x",
         "y": [
          21
         ],
         "yaxis": "y"
        },
        {
         "hovertemplate": "<b>%{hovertext}</b><br><br>버스노선명=5522번(A,난곡방향,난곡~난곡)<br>일평균 승차 인원=%{x}<br>일평균 하차 인원=%{y}<extra></extra>",
         "hovertext": [
          "5522번(A,난곡방향,난곡~난곡)"
         ],
         "legendgroup": "5522번(A,난곡방향,난곡~난곡)",
         "marker": {
          "color": "#ab63fa",
          "symbol": "circle"
         },
         "mode": "markers",
         "name": "5522번(A,난곡방향,난곡~난곡)",
         "orientation": "v",
         "showlegend": true,
         "type": "scatter",
         "x": [
          155
         ],
         "xaxis": "x",
         "y": [
          1067
         ],
         "yaxis": "y"
        },
        {
         "hovertemplate": "<b>%{hovertext}</b><br><br>버스노선명=5522번(B,호암방향,난곡~난곡)<br>일평균 승차 인원=%{x}<br>일평균 하차 인원=%{y}<extra></extra>",
         "hovertext": [
          "5522번(B,호암방향,난곡~난곡)"
         ],
         "legendgroup": "5522번(B,호암방향,난곡~난곡)",
         "marker": {
          "color": "#FFA15A",
          "symbol": "circle"
         },
         "mode": "markers",
         "name": "5522번(B,호암방향,난곡~난곡)",
         "orientation": "v",
         "showlegend": true,
         "type": "scatter",
         "x": [
          468
         ],
         "xaxis": "x",
         "y": [
          364
         ],
         "yaxis": "y"
        },
        {
         "hovertemplate": "<b>%{hovertext}</b><br><br>버스노선명=5537번(시흥동~가산디지털단지역)<br>일평균 승차 인원=%{x}<br>일평균 하차 인원=%{y}<extra></extra>",
         "hovertext": [
          "5537번(시흥동~가산디지털단지역)"
         ],
         "legendgroup": "5537번(시흥동~가산디지털단지역)",
         "marker": {
          "color": "#19d3f3",
          "symbol": "circle"
         },
         "mode": "markers",
         "name": "5537번(시흥동~가산디지털단지역)",
         "orientation": "v",
         "showlegend": true,
         "type": "scatter",
         "x": [
          175
         ],
         "xaxis": "x",
         "y": [
          135
         ],
         "yaxis": "y"
        },
        {
         "hovertemplate": "<b>%{hovertext}</b><br><br>버스노선명=5523번(보성운수기종점~서울대입구역)<br>일평균 승차 인원=%{x}<br>일평균 하차 인원=%{y}<extra></extra>",
         "hovertext": [
          "5523번(보성운수기종점~서울대입구역)"
         ],
         "legendgroup": "5523번(보성운수기종점~서울대입구역)",
         "marker": {
          "color": "#FF6692",
          "symbol": "circle"
         },
         "mode": "markers",
         "name": "5523번(보성운수기종점~서울대입구역)",
         "orientation": "v",
         "showlegend": true,
         "type": "scatter",
         "x": [
          253
         ],
         "xaxis": "x",
         "y": [
          1083
         ],
         "yaxis": "y"
        },
        {
         "hovertemplate": "<b>%{hovertext}</b><br><br>버스노선명=241번(중랑차고지~논현역)<br>일평균 승차 인원=%{x}<br>일평균 하차 인원=%{y}<extra></extra>",
         "hovertext": [
          "241번(중랑차고지~논현역)"
         ],
         "legendgroup": "241번(중랑차고지~논현역)",
         "marker": {
          "color": "#B6E880",
          "symbol": "circle"
         },
         "mode": "markers",
         "name": "241번(중랑차고지~논현역)",
         "orientation": "v",
         "showlegend": true,
         "type": "scatter",
         "x": [
          74
         ],
         "xaxis": "x",
         "y": [
          95
         ],
         "yaxis": "y"
        },
        {
         "hovertemplate": "<b>%{hovertext}</b><br><br>버스노선명=강서05(강서농수산물도매시장~발산역)<br>일평균 승차 인원=%{x}<br>일평균 하차 인원=%{y}<extra></extra>",
         "hovertext": [
          "강서05(강서농수산물도매시장~발산역)"
         ],
         "legendgroup": "강서05(강서농수산물도매시장~발산역)",
         "marker": {
          "color": "#FF97FF",
          "symbol": "circle"
         },
         "mode": "markers",
         "name": "강서05(강서농수산물도매시장~발산역)",
         "orientation": "v",
         "showlegend": true,
         "type": "scatter",
         "x": [
          676
         ],
         "xaxis": "x",
         "y": [
          742
         ],
         "yaxis": "y"
        },
        {
         "hovertemplate": "<b>%{hovertext}</b><br><br>버스노선명=성북21(고려대역~길음역)<br>일평균 승차 인원=%{x}<br>일평균 하차 인원=%{y}<extra></extra>",
         "hovertext": [
          "성북21(고려대역~길음역)"
         ],
         "legendgroup": "성북21(고려대역~길음역)",
         "marker": {
          "color": "#FECB52",
          "symbol": "circle"
         },
         "mode": "markers",
         "name": "성북21(고려대역~길음역)",
         "orientation": "v",
         "showlegend": true,
         "type": "scatter",
         "x": [
          null
         ],
         "xaxis": "x",
         "y": [
          3
         ],
         "yaxis": "y"
        },
        {
         "hovertemplate": "<b>%{hovertext}</b><br><br>버스노선명=4318번(사당동출발.사당동~풍납동)<br>일평균 승차 인원=%{x}<br>일평균 하차 인원=%{y}<extra></extra>",
         "hovertext": [
          "4318번(사당동출발.사당동~풍납동)"
         ],
         "legendgroup": "4318번(사당동출발.사당동~풍납동)",
         "marker": {
          "color": "#636efa",
          "symbol": "circle"
         },
         "mode": "markers",
         "name": "4318번(사당동출발.사당동~풍납동)",
         "orientation": "v",
         "showlegend": true,
         "type": "scatter",
         "x": [
          489
         ],
         "xaxis": "x",
         "y": [
          556
         ],
         "yaxis": "y"
        },
        {
         "hovertemplate": "<b>%{hovertext}</b><br><br>버스노선명=4318번(풍납동출발.풍납동~사당동)<br>일평균 승차 인원=%{x}<br>일평균 하차 인원=%{y}<extra></extra>",
         "hovertext": [
          "4318번(풍납동출발.풍납동~사당동)"
         ],
         "legendgroup": "4318번(풍납동출발.풍납동~사당동)",
         "marker": {
          "color": "#EF553B",
          "symbol": "circle"
         },
         "mode": "markers",
         "name": "4318번(풍납동출발.풍납동~사당동)",
         "orientation": "v",
         "showlegend": true,
         "type": "scatter",
         "x": [
          489
         ],
         "xaxis": "x",
         "y": [
          556
         ],
         "yaxis": "y"
        },
        {
         "hovertemplate": "<b>%{hovertext}</b><br><br>버스노선명=서대문02(서대문역.천연뜨란채아파트~서대문역)<br>일평균 승차 인원=%{x}<br>일평균 하차 인원=%{y}<extra></extra>",
         "hovertext": [
          "서대문02(서대문역.천연뜨란채아파트~서대문역)"
         ],
         "legendgroup": "서대문02(서대문역.천연뜨란채아파트~서대문역)",
         "marker": {
          "color": "#00cc96",
          "symbol": "circle"
         },
         "mode": "markers",
         "name": "서대문02(서대문역.천연뜨란채아파트~서대문역)",
         "orientation": "v",
         "showlegend": true,
         "type": "scatter",
         "x": [
          null
         ],
         "xaxis": "x",
         "y": [
          11
         ],
         "yaxis": "y"
        },
        {
         "hovertemplate": "<b>%{hovertext}</b><br><br>버스노선명=서대문02(독립문역.천연뜨란채아파트~독립문극동아파트)<br>일평균 승차 인원=%{x}<br>일평균 하차 인원=%{y}<extra></extra>",
         "hovertext": [
          "서대문02(독립문역.천연뜨란채아파트~독립문극동아파트)"
         ],
         "legendgroup": "서대문02(독립문역.천연뜨란채아파트~독립문극동아파트)",
         "marker": {
          "color": "#ab63fa",
          "symbol": "circle"
         },
         "mode": "markers",
         "name": "서대문02(독립문역.천연뜨란채아파트~독립문극동아파트)",
         "orientation": "v",
         "showlegend": true,
         "type": "scatter",
         "x": [
          6
         ],
         "xaxis": "x",
         "y": [
          13
         ],
         "yaxis": "y"
        },
        {
         "hovertemplate": "<b>%{hovertext}</b><br><br>버스노선명=동작19(사자암~동작우체국)<br>일평균 승차 인원=%{x}<br>일평균 하차 인원=%{y}<extra></extra>",
         "hovertext": [
          "동작19(사자암~동작우체국)"
         ],
         "legendgroup": "동작19(사자암~동작우체국)",
         "marker": {
          "color": "#FFA15A",
          "symbol": "circle"
         },
         "mode": "markers",
         "name": "동작19(사자암~동작우체국)",
         "orientation": "v",
         "showlegend": true,
         "type": "scatter",
         "x": [
          3
         ],
         "xaxis": "x",
         "y": [
          10
         ],
         "yaxis": "y"
        },
        {
         "hovertemplate": "<b>%{hovertext}</b><br><br>버스노선명=은평07(한국행정연구원~대조시장.NC백화점)<br>일평균 승차 인원=%{x}<br>일평균 하차 인원=%{y}<extra></extra>",
         "hovertext": [
          "은평07(한국행정연구원~대조시장.NC백화점)"
         ],
         "legendgroup": "은평07(한국행정연구원~대조시장.NC백화점)",
         "marker": {
          "color": "#19d3f3",
          "symbol": "circle"
         },
         "mode": "markers",
         "name": "은평07(한국행정연구원~대조시장.NC백화점)",
         "orientation": "v",
         "showlegend": true,
         "type": "scatter",
         "x": [
          1
         ],
         "xaxis": "x",
         "y": [
          1
         ],
         "yaxis": "y"
        },
        {
         "hovertemplate": "<b>%{hovertext}</b><br><br>버스노선명=강남10(개포4단지7단지~양재역)<br>일평균 승차 인원=%{x}<br>일평균 하차 인원=%{y}<extra></extra>",
         "hovertext": [
          "강남10(개포4단지7단지~양재역)"
         ],
         "legendgroup": "강남10(개포4단지7단지~양재역)",
         "marker": {
          "color": "#FF6692",
          "symbol": "circle"
         },
         "mode": "markers",
         "name": "강남10(개포4단지7단지~양재역)",
         "orientation": "v",
         "showlegend": true,
         "type": "scatter",
         "x": [
          19
         ],
         "xaxis": "x",
         "y": [
          23
         ],
         "yaxis": "y"
        },
        {
         "hovertemplate": "<b>%{hovertext}</b><br><br>버스노선명=은평10(숭실고등학교~상신초교.산새마을)<br>일평균 승차 인원=%{x}<br>일평균 하차 인원=%{y}<extra></extra>",
         "hovertext": [
          "은평10(숭실고등학교~상신초교.산새마을)"
         ],
         "legendgroup": "은평10(숭실고등학교~상신초교.산새마을)",
         "marker": {
          "color": "#B6E880",
          "symbol": "circle"
         },
         "mode": "markers",
         "name": "은평10(숭실고등학교~상신초교.산새마을)",
         "orientation": "v",
         "showlegend": true,
         "type": "scatter",
         "x": [
          3
         ],
         "xaxis": "x",
         "y": [
          1
         ],
         "yaxis": "y"
        },
        {
         "hovertemplate": "<b>%{hovertext}</b><br><br>버스노선명=금천11-1(산기슭공원~석수역)<br>일평균 승차 인원=%{x}<br>일평균 하차 인원=%{y}<extra></extra>",
         "hovertext": [
          "금천11-1(산기슭공원~석수역)"
         ],
         "legendgroup": "금천11-1(산기슭공원~석수역)",
         "marker": {
          "color": "#FF97FF",
          "symbol": "circle"
         },
         "mode": "markers",
         "name": "금천11-1(산기슭공원~석수역)",
         "orientation": "v",
         "showlegend": true,
         "type": "scatter",
         "x": [
          5
         ],
         "xaxis": "x",
         "y": [
          14
         ],
         "yaxis": "y"
        },
        {
         "hovertemplate": "<b>%{hovertext}</b><br><br>버스노선명=노원14(청백1단지아파트~세그루학원)<br>일평균 승차 인원=%{x}<br>일평균 하차 인원=%{y}<extra></extra>",
         "hovertext": [
          "노원14(청백1단지아파트~세그루학원)"
         ],
         "legendgroup": "노원14(청백1단지아파트~세그루학원)",
         "marker": {
          "color": "#FECB52",
          "symbol": "circle"
         },
         "mode": "markers",
         "name": "노원14(청백1단지아파트~세그루학원)",
         "orientation": "v",
         "showlegend": true,
         "type": "scatter",
         "x": [
          1
         ],
         "xaxis": "x",
         "y": [
          5
         ],
         "yaxis": "y"
        },
        {
         "hovertemplate": "<b>%{hovertext}</b><br><br>버스노선명=노원15(청백1단지아파트~덕성여자대학교)<br>일평균 승차 인원=%{x}<br>일평균 하차 인원=%{y}<extra></extra>",
         "hovertext": [
          "노원15(청백1단지아파트~덕성여자대학교)"
         ],
         "legendgroup": "노원15(청백1단지아파트~덕성여자대학교)",
         "marker": {
          "color": "#636efa",
          "symbol": "circle"
         },
         "mode": "markers",
         "name": "노원15(청백1단지아파트~덕성여자대학교)",
         "orientation": "v",
         "showlegend": true,
         "type": "scatter",
         "x": [
          1
         ],
         "xaxis": "x",
         "y": [
          2
         ],
         "yaxis": "y"
        },
        {
         "hovertemplate": "<b>%{hovertext}</b><br><br>버스노선명=강서05-1(다솔마을~마곡나루역)<br>일평균 승차 인원=%{x}<br>일평균 하차 인원=%{y}<extra></extra>",
         "hovertext": [
          "강서05-1(다솔마을~마곡나루역)"
         ],
         "legendgroup": "강서05-1(다솔마을~마곡나루역)",
         "marker": {
          "color": "#EF553B",
          "symbol": "circle"
         },
         "mode": "markers",
         "name": "강서05-1(다솔마을~마곡나루역)",
         "orientation": "v",
         "showlegend": true,
         "type": "scatter",
         "x": [
          3
         ],
         "xaxis": "x",
         "y": [
          3
         ],
         "yaxis": "y"
        },
        {
         "hovertemplate": "<b>%{hovertext}</b><br><br>버스노선명=성동13(옥수역~성수역)<br>일평균 승차 인원=%{x}<br>일평균 하차 인원=%{y}<extra></extra>",
         "hovertext": [
          "성동13(옥수역~성수역)"
         ],
         "legendgroup": "성동13(옥수역~성수역)",
         "marker": {
          "color": "#00cc96",
          "symbol": "circle"
         },
         "mode": "markers",
         "name": "성동13(옥수역~성수역)",
         "orientation": "v",
         "showlegend": true,
         "type": "scatter",
         "x": [
          null
         ],
         "xaxis": "x",
         "y": [
          1
         ],
         "yaxis": "y"
        },
        {
         "hovertemplate": "<b>%{hovertext}</b><br><br>버스노선명=270번(상암동차고지~망우리)<br>일평균 승차 인원=%{x}<br>일평균 하차 인원=%{y}<extra></extra>",
         "hovertext": [
          "270번(상암동차고지~망우리)"
         ],
         "legendgroup": "270번(상암동차고지~망우리)",
         "marker": {
          "color": "#ab63fa",
          "symbol": "circle"
         },
         "mode": "markers",
         "name": "270번(상암동차고지~망우리)",
         "orientation": "v",
         "showlegend": true,
         "type": "scatter",
         "x": [
          1232
         ],
         "xaxis": "x",
         "y": [
          1107
         ],
         "yaxis": "y"
        },
        {
         "hovertemplate": "<b>%{hovertext}</b><br><br>버스노선명=370번(강동공영차고지~충정로역)<br>일평균 승차 인원=%{x}<br>일평균 하차 인원=%{y}<extra></extra>",
         "hovertext": [
          "370번(강동공영차고지~충정로역)"
         ],
         "legendgroup": "370번(강동공영차고지~충정로역)",
         "marker": {
          "color": "#FFA15A",
          "symbol": "circle"
         },
         "mode": "markers",
         "name": "370번(강동공영차고지~충정로역)",
         "orientation": "v",
         "showlegend": true,
         "type": "scatter",
         "x": [
          446
         ],
         "xaxis": "x",
         "y": [
          414
         ],
         "yaxis": "y"
        },
        {
         "hovertemplate": "<b>%{hovertext}</b><br><br>버스노선명=470번(상암차고지~안골마을)<br>일평균 승차 인원=%{x}<br>일평균 하차 인원=%{y}<extra></extra>",
         "hovertext": [
          "470번(상암차고지~안골마을)"
         ],
         "legendgroup": "470번(상암차고지~안골마을)",
         "marker": {
          "color": "#19d3f3",
          "symbol": "circle"
         },
         "mode": "markers",
         "name": "470번(상암차고지~안골마을)",
         "orientation": "v",
         "showlegend": true,
         "type": "scatter",
         "x": [
          1760
         ],
         "xaxis": "x",
         "y": [
          1003
         ],
         "yaxis": "y"
        },
        {
         "hovertemplate": "<b>%{hovertext}</b><br><br>버스노선명=6515번(양천차고지~삼막사거리)<br>일평균 승차 인원=%{x}<br>일평균 하차 인원=%{y}<extra></extra>",
         "hovertext": [
          "6515번(양천차고지~삼막사거리)"
         ],
         "legendgroup": "6515번(양천차고지~삼막사거리)",
         "marker": {
          "color": "#FF6692",
          "symbol": "circle"
         },
         "mode": "markers",
         "name": "6515번(양천차고지~삼막사거리)",
         "orientation": "v",
         "showlegend": true,
         "type": "scatter",
         "x": [
          3606
         ],
         "xaxis": "x",
         "y": [
          4570
         ],
         "yaxis": "y"
        },
        {
         "hovertemplate": "<b>%{hovertext}</b><br><br>버스노선명=2412번(성수동~세곡동사거리)<br>일평균 승차 인원=%{x}<br>일평균 하차 인원=%{y}<extra></extra>",
         "hovertext": [
          "2412번(성수동~세곡동사거리)"
         ],
         "legendgroup": "2412번(성수동~세곡동사거리)",
         "marker": {
          "color": "#B6E880",
          "symbol": "circle"
         },
         "mode": "markers",
         "name": "2412번(성수동~세곡동사거리)",
         "orientation": "v",
         "showlegend": true,
         "type": "scatter",
         "x": [
          20
         ],
         "xaxis": "x",
         "y": [
          19
         ],
         "yaxis": "y"
        },
        {
         "hovertemplate": "<b>%{hovertext}</b><br><br>버스노선명=8112(온곡중학교~수락리버시티1단지정문)<br>일평균 승차 인원=%{x}<br>일평균 하차 인원=%{y}<extra></extra>",
         "hovertext": [
          "8112(온곡중학교~수락리버시티1단지정문)"
         ],
         "legendgroup": "8112(온곡중학교~수락리버시티1단지정문)",
         "marker": {
          "color": "#FF97FF",
          "symbol": "circle"
         },
         "mode": "markers",
         "name": "8112(온곡중학교~수락리버시티1단지정문)",
         "orientation": "v",
         "showlegend": true,
         "type": "scatter",
         "x": [
          4
         ],
         "xaxis": "x",
         "y": [
          2
         ],
         "yaxis": "y"
        },
        {
         "hovertemplate": "<b>%{hovertext}</b><br><br>버스노선명=서울07(양재역~성남시판교제2테크노밸리)<br>일평균 승차 인원=%{x}<br>일평균 하차 인원=%{y}<extra></extra>",
         "hovertext": [
          "서울07(양재역~성남시판교제2테크노밸리)"
         ],
         "legendgroup": "서울07(양재역~성남시판교제2테크노밸리)",
         "marker": {
          "color": "#FECB52",
          "symbol": "circle"
         },
         "mode": "markers",
         "name": "서울07(양재역~성남시판교제2테크노밸리)",
         "orientation": "v",
         "showlegend": true,
         "type": "scatter",
         "x": [
          null
         ],
         "xaxis": "x",
         "y": [
          42
         ],
         "yaxis": "y"
        },
        {
         "hovertemplate": "<b>%{hovertext}</b><br><br>버스노선명=107번(민락동차고지~동대문)<br>일평균 승차 인원=%{x}<br>일평균 하차 인원=%{y}<extra></extra>",
         "hovertext": [
          "107번(민락동차고지~동대문)"
         ],
         "legendgroup": "107번(민락동차고지~동대문)",
         "marker": {
          "color": "#636efa",
          "symbol": "circle"
         },
         "mode": "markers",
         "name": "107번(민락동차고지~동대문)",
         "orientation": "v",
         "showlegend": true,
         "type": "scatter",
         "x": [
          77
         ],
         "xaxis": "x",
         "y": [
          53
         ],
         "yaxis": "y"
        },
        {
         "hovertemplate": "<b>%{hovertext}</b><br><br>버스노선명=201번(구리~서울역)<br>일평균 승차 인원=%{x}<br>일평균 하차 인원=%{y}<extra></extra>",
         "hovertext": [
          "201번(구리~서울역)"
         ],
         "legendgroup": "201번(구리~서울역)",
         "marker": {
          "color": "#EF553B",
          "symbol": "circle"
         },
         "mode": "markers",
         "name": "201번(구리~서울역)",
         "orientation": "v",
         "showlegend": true,
         "type": "scatter",
         "x": [
          215
         ],
         "xaxis": "x",
         "y": [
          176
         ],
         "yaxis": "y"
        },
        {
         "hovertemplate": "<b>%{hovertext}</b><br><br>버스노선명=302번(성남~동대문)<br>일평균 승차 인원=%{x}<br>일평균 하차 인원=%{y}<extra></extra>",
         "hovertext": [
          "302번(성남~동대문)"
         ],
         "legendgroup": "302번(성남~동대문)",
         "marker": {
          "color": "#00cc96",
          "symbol": "circle"
         },
         "mode": "markers",
         "name": "302번(성남~동대문)",
         "orientation": "v",
         "showlegend": true,
         "type": "scatter",
         "x": [
          60
         ],
         "xaxis": "x",
         "y": [
          43
         ],
         "yaxis": "y"
        },
        {
         "hovertemplate": "<b>%{hovertext}</b><br><br>버스노선명=303번(성남~신설동)<br>일평균 승차 인원=%{x}<br>일평균 하차 인원=%{y}<extra></extra>",
         "hovertext": [
          "303번(성남~신설동)"
         ],
         "legendgroup": "303번(성남~신설동)",
         "marker": {
          "color": "#ab63fa",
          "symbol": "circle"
         },
         "mode": "markers",
         "name": "303번(성남~신설동)",
         "orientation": "v",
         "showlegend": true,
         "type": "scatter",
         "x": [
          31
         ],
         "xaxis": "x",
         "y": [
          38
         ],
         "yaxis": "y"
        },
        {
         "hovertemplate": "<b>%{hovertext}</b><br><br>버스노선명=500번(석수역~을지로입구)<br>일평균 승차 인원=%{x}<br>일평균 하차 인원=%{y}<extra></extra>",
         "hovertext": [
          "500번(석수역~을지로입구)"
         ],
         "legendgroup": "500번(석수역~을지로입구)",
         "marker": {
          "color": "#FFA15A",
          "symbol": "circle"
         },
         "mode": "markers",
         "name": "500번(석수역~을지로입구)",
         "orientation": "v",
         "showlegend": true,
         "type": "scatter",
         "x": [
          3814
         ],
         "xaxis": "x",
         "y": [
          2508
         ],
         "yaxis": "y"
        },
        {
         "hovertemplate": "<b>%{hovertext}</b><br><br>버스노선명=503번(광명공영차고지~서울역)<br>일평균 승차 인원=%{x}<br>일평균 하차 인원=%{y}<extra></extra>",
         "hovertext": [
          "503번(광명공영차고지~서울역)"
         ],
         "legendgroup": "503번(광명공영차고지~서울역)",
         "marker": {
          "color": "#19d3f3",
          "symbol": "circle"
         },
         "mode": "markers",
         "name": "503번(광명공영차고지~서울역)",
         "orientation": "v",
         "showlegend": true,
         "type": "scatter",
         "x": [
          1454
         ],
         "xaxis": "x",
         "y": [
          2534
         ],
         "yaxis": "y"
        },
        {
         "hovertemplate": "<b>%{hovertext}</b><br><br>버스노선명=504번(광명공영차고지~남대문)<br>일평균 승차 인원=%{x}<br>일평균 하차 인원=%{y}<extra></extra>",
         "hovertext": [
          "504번(광명공영차고지~남대문)"
         ],
         "legendgroup": "504번(광명공영차고지~남대문)",
         "marker": {
          "color": "#FF6692",
          "symbol": "circle"
         },
         "mode": "markers",
         "name": "504번(광명공영차고지~남대문)",
         "orientation": "v",
         "showlegend": true,
         "type": "scatter",
         "x": [
          1909
         ],
         "xaxis": "x",
         "y": [
          2007
         ],
         "yaxis": "y"
        },
        {
         "hovertemplate": "<b>%{hovertext}</b><br><br>버스노선명=505번(노온사동~서울역)<br>일평균 승차 인원=%{x}<br>일평균 하차 인원=%{y}<extra></extra>",
         "hovertext": [
          "505번(노온사동~서울역)"
         ],
         "legendgroup": "505번(노온사동~서울역)",
         "marker": {
          "color": "#B6E880",
          "symbol": "circle"
         },
         "mode": "markers",
         "name": "505번(노온사동~서울역)",
         "orientation": "v",
         "showlegend": true,
         "type": "scatter",
         "x": [
          515
         ],
         "xaxis": "x",
         "y": [
          564
         ],
         "yaxis": "y"
        },
        {
         "hovertemplate": "<b>%{hovertext}</b><br><br>버스노선명=702번(A,서오릉방향,서오릉~종로1가)<br>일평균 승차 인원=%{x}<br>일평균 하차 인원=%{y}<extra></extra>",
         "hovertext": [
          "702번(A,서오릉방향,서오릉~종로1가)"
         ],
         "legendgroup": "702번(A,서오릉방향,서오릉~종로1가)",
         "marker": {
          "color": "#FF97FF",
          "symbol": "circle"
         },
         "mode": "markers",
         "name": "702번(A,서오릉방향,서오릉~종로1가)",
         "orientation": "v",
         "showlegend": true,
         "type": "scatter",
         "x": [
          222
         ],
         "xaxis": "x",
         "y": [
          203
         ],
         "yaxis": "y"
        },
        {
         "hovertemplate": "<b>%{hovertext}</b><br><br>버스노선명=704번(북한산성~서울역)<br>일평균 승차 인원=%{x}<br>일평균 하차 인원=%{y}<extra></extra>",
         "hovertext": [
          "704번(북한산성~서울역)"
         ],
         "legendgroup": "704번(북한산성~서울역)",
         "marker": {
          "color": "#FECB52",
          "symbol": "circle"
         },
         "mode": "markers",
         "name": "704번(북한산성~서울역)",
         "orientation": "v",
         "showlegend": true,
         "type": "scatter",
         "x": [
          136
         ],
         "xaxis": "x",
         "y": [
          112
         ],
         "yaxis": "y"
        },
        {
         "hovertemplate": "<b>%{hovertext}</b><br><br>버스노선명=750B번(은평차고지~서울대)<br>일평균 승차 인원=%{x}<br>일평균 하차 인원=%{y}<extra></extra>",
         "hovertext": [
          "750B번(은평차고지~서울대)"
         ],
         "legendgroup": "750B번(은평차고지~서울대)",
         "marker": {
          "color": "#636efa",
          "symbol": "circle"
         },
         "mode": "markers",
         "name": "750B번(은평차고지~서울대)",
         "orientation": "v",
         "showlegend": true,
         "type": "scatter",
         "x": [
          995
         ],
         "xaxis": "x",
         "y": [
          887
         ],
         "yaxis": "y"
        },
        {
         "hovertemplate": "<b>%{hovertext}</b><br><br>버스노선명=1155번(남양주청학리~석계역)<br>일평균 승차 인원=%{x}<br>일평균 하차 인원=%{y}<extra></extra>",
         "hovertext": [
          "1155번(남양주청학리~석계역)"
         ],
         "legendgroup": "1155번(남양주청학리~석계역)",
         "marker": {
          "color": "#EF553B",
          "symbol": "circle"
         },
         "mode": "markers",
         "name": "1155번(남양주청학리~석계역)",
         "orientation": "v",
         "showlegend": true,
         "type": "scatter",
         "x": [
          19
         ],
         "xaxis": "x",
         "y": [
          11
         ],
         "yaxis": "y"
        },
        {
         "hovertemplate": "<b>%{hovertext}</b><br><br>버스노선명=2227번(중랑공영차고지~광장동)<br>일평균 승차 인원=%{x}<br>일평균 하차 인원=%{y}<extra></extra>",
         "hovertext": [
          "2227번(중랑공영차고지~광장동)"
         ],
         "legendgroup": "2227번(중랑공영차고지~광장동)",
         "marker": {
          "color": "#00cc96",
          "symbol": "circle"
         },
         "mode": "markers",
         "name": "2227번(중랑공영차고지~광장동)",
         "orientation": "v",
         "showlegend": true,
         "type": "scatter",
         "x": [
          24
         ],
         "xaxis": "x",
         "y": [
          24
         ],
         "yaxis": "y"
        },
        {
         "hovertemplate": "<b>%{hovertext}</b><br><br>버스노선명=5413번(시흥~고속터미널)<br>일평균 승차 인원=%{x}<br>일평균 하차 인원=%{y}<extra></extra>",
         "hovertext": [
          "5413번(시흥~고속터미널)"
         ],
         "legendgroup": "5413번(시흥~고속터미널)",
         "marker": {
          "color": "#ab63fa",
          "symbol": "circle"
         },
         "mode": "markers",
         "name": "5413번(시흥~고속터미널)",
         "orientation": "v",
         "showlegend": true,
         "type": "scatter",
         "x": [
          1724
         ],
         "xaxis": "x",
         "y": [
          1930
         ],
         "yaxis": "y"
        },
        {
         "hovertemplate": "<b>%{hovertext}</b><br><br>버스노선명=771(대화동~디지털미디어시티역)<br>일평균 승차 인원=%{x}<br>일평균 하차 인원=%{y}<extra></extra>",
         "hovertext": [
          "771(대화동~디지털미디어시티역)"
         ],
         "legendgroup": "771(대화동~디지털미디어시티역)",
         "marker": {
          "color": "#FFA15A",
          "symbol": "circle"
         },
         "mode": "markers",
         "name": "771(대화동~디지털미디어시티역)",
         "orientation": "v",
         "showlegend": true,
         "type": "scatter",
         "x": [
          723
         ],
         "xaxis": "x",
         "y": [
          948
         ],
         "yaxis": "y"
        },
        {
         "hovertemplate": "<b>%{hovertext}</b><br><br>버스노선명=740번(덕은동~삼성역)<br>일평균 승차 인원=%{x}<br>일평균 하차 인원=%{y}<extra></extra>",
         "hovertext": [
          "740번(덕은동~삼성역)"
         ],
         "legendgroup": "740번(덕은동~삼성역)",
         "marker": {
          "color": "#19d3f3",
          "symbol": "circle"
         },
         "mode": "markers",
         "name": "740번(덕은동~삼성역)",
         "orientation": "v",
         "showlegend": true,
         "type": "scatter",
         "x": [
          308
         ],
         "xaxis": "x",
         "y": [
          417
         ],
         "yaxis": "y"
        },
        {
         "hovertemplate": "<b>%{hovertext}</b><br><br>버스노선명=5530번(군포공영차고지~사당역)<br>일평균 승차 인원=%{x}<br>일평균 하차 인원=%{y}<extra></extra>",
         "hovertext": [
          "5530번(군포공영차고지~사당역)"
         ],
         "legendgroup": "5530번(군포공영차고지~사당역)",
         "marker": {
          "color": "#FF6692",
          "symbol": "circle"
         },
         "mode": "markers",
         "name": "5530번(군포공영차고지~사당역)",
         "orientation": "v",
         "showlegend": true,
         "type": "scatter",
         "x": [
          2036
         ],
         "xaxis": "x",
         "y": [
          1793
         ],
         "yaxis": "y"
        },
        {
         "hovertemplate": "<b>%{hovertext}</b><br><br>버스노선명=5531번(군포공영차고지~노량진)<br>일평균 승차 인원=%{x}<br>일평균 하차 인원=%{y}<extra></extra>",
         "hovertext": [
          "5531번(군포공영차고지~노량진)"
         ],
         "legendgroup": "5531번(군포공영차고지~노량진)",
         "marker": {
          "color": "#B6E880",
          "symbol": "circle"
         },
         "mode": "markers",
         "name": "5531번(군포공영차고지~노량진)",
         "orientation": "v",
         "showlegend": true,
         "type": "scatter",
         "x": [
          602
         ],
         "xaxis": "x",
         "y": [
          634
         ],
         "yaxis": "y"
        },
        {
         "hovertemplate": "<b>%{hovertext}</b><br><br>버스노선명=5535번(하안동~노량진)<br>일평균 승차 인원=%{x}<br>일평균 하차 인원=%{y}<extra></extra>",
         "hovertext": [
          "5535번(하안동~노량진)"
         ],
         "legendgroup": "5535번(하안동~노량진)",
         "marker": {
          "color": "#FF97FF",
          "symbol": "circle"
         },
         "mode": "markers",
         "name": "5535번(하안동~노량진)",
         "orientation": "v",
         "showlegend": true,
         "type": "scatter",
         "x": [
          1355
         ],
         "xaxis": "x",
         "y": [
          1042
         ],
         "yaxis": "y"
        },
        {
         "hovertemplate": "<b>%{hovertext}</b><br><br>버스노선명=5536번(하안동~중앙대)<br>일평균 승차 인원=%{x}<br>일평균 하차 인원=%{y}<extra></extra>",
         "hovertext": [
          "5536번(하안동~중앙대)"
         ],
         "legendgroup": "5536번(하안동~중앙대)",
         "marker": {
          "color": "#FECB52",
          "symbol": "circle"
         },
         "mode": "markers",
         "name": "5536번(하안동~중앙대)",
         "orientation": "v",
         "showlegend": true,
         "type": "scatter",
         "x": [
          385
         ],
         "xaxis": "x",
         "y": [
          683
         ],
         "yaxis": "y"
        },
        {
         "hovertemplate": "<b>%{hovertext}</b><br><br>버스노선명=5623번(군포 공영차고지~여의도)<br>일평균 승차 인원=%{x}<br>일평균 하차 인원=%{y}<extra></extra>",
         "hovertext": [
          "5623번(군포 공영차고지~여의도)"
         ],
         "legendgroup": "5623번(군포 공영차고지~여의도)",
         "marker": {
          "color": "#636efa",
          "symbol": "circle"
         },
         "mode": "markers",
         "name": "5623번(군포 공영차고지~여의도)",
         "orientation": "v",
         "showlegend": true,
         "type": "scatter",
         "x": [
          405
         ],
         "xaxis": "x",
         "y": [
          698
         ],
         "yaxis": "y"
        },
        {
         "hovertemplate": "<b>%{hovertext}</b><br><br>버스노선명=5625번(안양~영등포역(영등포시장))<br>일평균 승차 인원=%{x}<br>일평균 하차 인원=%{y}<extra></extra>",
         "hovertext": [
          "5625번(안양~영등포역(영등포시장))"
         ],
         "legendgroup": "5625번(안양~영등포역(영등포시장))",
         "marker": {
          "color": "#EF553B",
          "symbol": "circle"
         },
         "mode": "markers",
         "name": "5625번(안양~영등포역(영등포시장))",
         "orientation": "v",
         "showlegend": true,
         "type": "scatter",
         "x": [
          1233
         ],
         "xaxis": "x",
         "y": [
          821
         ],
         "yaxis": "y"
        },
        {
         "hovertemplate": "<b>%{hovertext}</b><br><br>버스노선명=5626번(안양~온수동)<br>일평균 승차 인원=%{x}<br>일평균 하차 인원=%{y}<extra></extra>",
         "hovertext": [
          "5626번(안양~온수동)"
         ],
         "legendgroup": "5626번(안양~온수동)",
         "marker": {
          "color": "#00cc96",
          "symbol": "circle"
         },
         "mode": "markers",
         "name": "5626번(안양~온수동)",
         "orientation": "v",
         "showlegend": true,
         "type": "scatter",
         "x": [
          3578
         ],
         "xaxis": "x",
         "y": [
          3000
         ],
         "yaxis": "y"
        },
        {
         "hovertemplate": "<b>%{hovertext}</b><br><br>버스노선명=5627번(노온사동~구로디지털단지역)<br>일평균 승차 인원=%{x}<br>일평균 하차 인원=%{y}<extra></extra>",
         "hovertext": [
          "5627번(노온사동~구로디지털단지역)"
         ],
         "legendgroup": "5627번(노온사동~구로디지털단지역)",
         "marker": {
          "color": "#ab63fa",
          "symbol": "circle"
         },
         "mode": "markers",
         "name": "5627번(노온사동~구로디지털단지역)",
         "orientation": "v",
         "showlegend": true,
         "type": "scatter",
         "x": [
          110
         ],
         "xaxis": "x",
         "y": [
          177
         ],
         "yaxis": "y"
        },
        {
         "hovertemplate": "<b>%{hovertext}</b><br><br>버스노선명=5630번(광명공영차고지~목동역)<br>일평균 승차 인원=%{x}<br>일평균 하차 인원=%{y}<extra></extra>",
         "hovertext": [
          "5630번(광명공영차고지~목동역)"
         ],
         "legendgroup": "5630번(광명공영차고지~목동역)",
         "marker": {
          "color": "#FFA15A",
          "symbol": "circle"
         },
         "mode": "markers",
         "name": "5630번(광명공영차고지~목동역)",
         "orientation": "v",
         "showlegend": true,
         "type": "scatter",
         "x": [
          7749
         ],
         "xaxis": "x",
         "y": [
          5118
         ],
         "yaxis": "y"
        },
        {
         "hovertemplate": "<b>%{hovertext}</b><br><br>버스노선명=5713번(안양비산동차고지~신촌기차역)<br>일평균 승차 인원=%{x}<br>일평균 하차 인원=%{y}<extra></extra>",
         "hovertext": [
          "5713번(안양비산동차고지~신촌기차역)"
         ],
         "legendgroup": "5713번(안양비산동차고지~신촌기차역)",
         "marker": {
          "color": "#19d3f3",
          "symbol": "circle"
         },
         "mode": "markers",
         "name": "5713번(안양비산동차고지~신촌기차역)",
         "orientation": "v",
         "showlegend": true,
         "type": "scatter",
         "x": [
          597
         ],
         "xaxis": "x",
         "y": [
          938
         ],
         "yaxis": "y"
        },
        {
         "hovertemplate": "<b>%{hovertext}</b><br><br>버스노선명=5714번(광명공영차고지~이대입구)<br>일평균 승차 인원=%{x}<br>일평균 하차 인원=%{y}<extra></extra>",
         "hovertext": [
          "5714번(광명공영차고지~이대입구)"
         ],
         "legendgroup": "5714번(광명공영차고지~이대입구)",
         "marker": {
          "color": "#FF6692",
          "symbol": "circle"
         },
         "mode": "markers",
         "name": "5714번(광명공영차고지~이대입구)",
         "orientation": "v",
         "showlegend": true,
         "type": "scatter",
         "x": [
          4627
         ],
         "xaxis": "x",
         "y": [
          3972
         ],
         "yaxis": "y"
        },
        {
         "hovertemplate": "<b>%{hovertext}</b><br><br>버스노선명=6616(철산동~온수동)<br>일평균 승차 인원=%{x}<br>일평균 하차 인원=%{y}<extra></extra>",
         "hovertext": [
          "6616(철산동~온수동)"
         ],
         "legendgroup": "6616(철산동~온수동)",
         "marker": {
          "color": "#B6E880",
          "symbol": "circle"
         },
         "mode": "markers",
         "name": "6616(철산동~온수동)",
         "orientation": "v",
         "showlegend": true,
         "type": "scatter",
         "x": [
          1052
         ],
         "xaxis": "x",
         "y": [
          910
         ],
         "yaxis": "y"
        },
        {
         "hovertemplate": "<b>%{hovertext}</b><br><br>버스노선명=6637번(광명 노온사동~목동)<br>일평균 승차 인원=%{x}<br>일평균 하차 인원=%{y}<extra></extra>",
         "hovertext": [
          "6637번(광명 노온사동~목동)"
         ],
         "legendgroup": "6637번(광명 노온사동~목동)",
         "marker": {
          "color": "#FF97FF",
          "symbol": "circle"
         },
         "mode": "markers",
         "name": "6637번(광명 노온사동~목동)",
         "orientation": "v",
         "showlegend": true,
         "type": "scatter",
         "x": [
          6243
         ],
         "xaxis": "x",
         "y": [
          7834
         ],
         "yaxis": "y"
        },
        {
         "hovertemplate": "<b>%{hovertext}</b><br><br>버스노선명=6638번(철산동~오목교)<br>일평균 승차 인원=%{x}<br>일평균 하차 인원=%{y}<extra></extra>",
         "hovertext": [
          "6638번(철산동~오목교)"
         ],
         "legendgroup": "6638번(철산동~오목교)",
         "marker": {
          "color": "#FECB52",
          "symbol": "circle"
         },
         "mode": "markers",
         "name": "6638번(철산동~오목교)",
         "orientation": "v",
         "showlegend": true,
         "type": "scatter",
         "x": [
          5371
         ],
         "xaxis": "x",
         "y": [
          4432
         ],
         "yaxis": "y"
        },
        {
         "hovertemplate": "<b>%{hovertext}</b><br><br>버스노선명=673번(상동기점~이대부고)<br>일평균 승차 인원=%{x}<br>일평균 하차 인원=%{y}<extra></extra>",
         "hovertext": [
          "673번(상동기점~이대부고)"
         ],
         "legendgroup": "673번(상동기점~이대부고)",
         "marker": {
          "color": "#636efa",
          "symbol": "circle"
         },
         "mode": "markers",
         "name": "673번(상동기점~이대부고)",
         "orientation": "v",
         "showlegend": true,
         "type": "scatter",
         "x": [
          30015
         ],
         "xaxis": "x",
         "y": [
          25940
         ],
         "yaxis": "y"
        },
        {
         "hovertemplate": "<b>%{hovertext}</b><br><br>버스노선명=7016번(은평차고지~상명대)<br>일평균 승차 인원=%{x}<br>일평균 하차 인원=%{y}<extra></extra>",
         "hovertext": [
          "7016번(은평차고지~상명대)"
         ],
         "legendgroup": "7016번(은평차고지~상명대)",
         "marker": {
          "color": "#EF553B",
          "symbol": "circle"
         },
         "mode": "markers",
         "name": "7016번(은평차고지~상명대)",
         "orientation": "v",
         "showlegend": true,
         "type": "scatter",
         "x": [
          849
         ],
         "xaxis": "x",
         "y": [
          1364
         ],
         "yaxis": "y"
        },
        {
         "hovertemplate": "<b>%{hovertext}</b><br><br>버스노선명=7017번(은평공영차고지~롯데백화점)<br>일평균 승차 인원=%{x}<br>일평균 하차 인원=%{y}<extra></extra>",
         "hovertext": [
          "7017번(은평공영차고지~롯데백화점)"
         ],
         "legendgroup": "7017번(은평공영차고지~롯데백화점)",
         "marker": {
          "color": "#00cc96",
          "symbol": "circle"
         },
         "mode": "markers",
         "name": "7017번(은평공영차고지~롯데백화점)",
         "orientation": "v",
         "showlegend": true,
         "type": "scatter",
         "x": [
          466
         ],
         "xaxis": "x",
         "y": [
          429
         ],
         "yaxis": "y"
        },
        {
         "hovertemplate": "<b>%{hovertext}</b><br><br>버스노선명=7021번(은평공영차고지~롯데백화점)<br>일평균 승차 인원=%{x}<br>일평균 하차 인원=%{y}<extra></extra>",
         "hovertext": [
          "7021번(은평공영차고지~롯데백화점)"
         ],
         "legendgroup": "7021번(은평공영차고지~롯데백화점)",
         "marker": {
          "color": "#ab63fa",
          "symbol": "circle"
         },
         "mode": "markers",
         "name": "7021번(은평공영차고지~롯데백화점)",
         "orientation": "v",
         "showlegend": true,
         "type": "scatter",
         "x": [
          377
         ],
         "xaxis": "x",
         "y": [
          338
         ],
         "yaxis": "y"
        },
        {
         "hovertemplate": "<b>%{hovertext}</b><br><br>버스노선명=7726번(덕은동~모래내삼거리)<br>일평균 승차 인원=%{x}<br>일평균 하차 인원=%{y}<extra></extra>",
         "hovertext": [
          "7726번(덕은동~모래내삼거리)"
         ],
         "legendgroup": "7726번(덕은동~모래내삼거리)",
         "marker": {
          "color": "#FFA15A",
          "symbol": "circle"
         },
         "mode": "markers",
         "name": "7726번(덕은동~모래내삼거리)",
         "orientation": "v",
         "showlegend": true,
         "type": "scatter",
         "x": [
          107
         ],
         "xaxis": "x",
         "y": [
          86
         ],
         "yaxis": "y"
        },
        {
         "hovertemplate": "<b>%{hovertext}</b><br><br>버스노선명=7727번(설문동~신촌)<br>일평균 승차 인원=%{x}<br>일평균 하차 인원=%{y}<extra></extra>",
         "hovertext": [
          "7727번(설문동~신촌)"
         ],
         "legendgroup": "7727번(설문동~신촌)",
         "marker": {
          "color": "#19d3f3",
          "symbol": "circle"
         },
         "mode": "markers",
         "name": "7727번(설문동~신촌)",
         "orientation": "v",
         "showlegend": true,
         "type": "scatter",
         "x": [
          90
         ],
         "xaxis": "x",
         "y": [
          212
         ],
         "yaxis": "y"
        },
        {
         "hovertemplate": "<b>%{hovertext}</b><br><br>버스노선명=7728번(대화동~신촌)<br>일평균 승차 인원=%{x}<br>일평균 하차 인원=%{y}<extra></extra>",
         "hovertext": [
          "7728번(대화동~신촌)"
         ],
         "legendgroup": "7728번(대화동~신촌)",
         "marker": {
          "color": "#FF6692",
          "symbol": "circle"
         },
         "mode": "markers",
         "name": "7728번(대화동~신촌)",
         "orientation": "v",
         "showlegend": true,
         "type": "scatter",
         "x": [
          119
         ],
         "xaxis": "x",
         "y": [
          229
         ],
         "yaxis": "y"
        },
        {
         "hovertemplate": "<b>%{hovertext}</b><br><br>버스노선명=7025번(은평차고지~종로)<br>일평균 승차 인원=%{x}<br>일평균 하차 인원=%{y}<extra></extra>",
         "hovertext": [
          "7025번(은평차고지~종로)"
         ],
         "legendgroup": "7025번(은평차고지~종로)",
         "marker": {
          "color": "#B6E880",
          "symbol": "circle"
         },
         "mode": "markers",
         "name": "7025번(은평차고지~종로)",
         "orientation": "v",
         "showlegend": true,
         "type": "scatter",
         "x": [
          212
         ],
         "xaxis": "x",
         "y": [
          222
         ],
         "yaxis": "y"
        },
        {
         "hovertemplate": "<b>%{hovertext}</b><br><br>버스노선명=440번(송파공영차고지~압구정동)<br>일평균 승차 인원=%{x}<br>일평균 하차 인원=%{y}<extra></extra>",
         "hovertext": [
          "440번(송파공영차고지~압구정동)"
         ],
         "legendgroup": "440번(송파공영차고지~압구정동)",
         "marker": {
          "color": "#FF97FF",
          "symbol": "circle"
         },
         "mode": "markers",
         "name": "440번(송파공영차고지~압구정동)",
         "orientation": "v",
         "showlegend": true,
         "type": "scatter",
         "x": [
          162
         ],
         "xaxis": "x",
         "y": [
          238
         ],
         "yaxis": "y"
        },
        {
         "hovertemplate": "<b>%{hovertext}</b><br><br>버스노선명=441번(월암공영차고지~신사사거리)<br>일평균 승차 인원=%{x}<br>일평균 하차 인원=%{y}<extra></extra>",
         "hovertext": [
          "441번(월암공영차고지~신사사거리)"
         ],
         "legendgroup": "441번(월암공영차고지~신사사거리)",
         "marker": {
          "color": "#FECB52",
          "symbol": "circle"
         },
         "mode": "markers",
         "name": "441번(월암공영차고지~신사사거리)",
         "orientation": "v",
         "showlegend": true,
         "type": "scatter",
         "x": [
          157
         ],
         "xaxis": "x",
         "y": [
          204
         ],
         "yaxis": "y"
        },
        {
         "hovertemplate": "<b>%{hovertext}</b><br><br>버스노선명=541번(군포공영차고지~강남역)<br>일평균 승차 인원=%{x}<br>일평균 하차 인원=%{y}<extra></extra>",
         "hovertext": [
          "541번(군포공영차고지~강남역)"
         ],
         "legendgroup": "541번(군포공영차고지~강남역)",
         "marker": {
          "color": "#636efa",
          "symbol": "circle"
         },
         "mode": "markers",
         "name": "541번(군포공영차고지~강남역)",
         "orientation": "v",
         "showlegend": true,
         "type": "scatter",
         "x": [
          57
         ],
         "xaxis": "x",
         "y": [
          136
         ],
         "yaxis": "y"
        },
        {
         "hovertemplate": "<b>%{hovertext}</b><br><br>버스노선명=542번(군포버스공영차고지~신사역)<br>일평균 승차 인원=%{x}<br>일평균 하차 인원=%{y}<extra></extra>",
         "hovertext": [
          "542번(군포버스공영차고지~신사역)"
         ],
         "legendgroup": "542번(군포버스공영차고지~신사역)",
         "marker": {
          "color": "#EF553B",
          "symbol": "circle"
         },
         "mode": "markers",
         "name": "542번(군포버스공영차고지~신사역)",
         "orientation": "v",
         "showlegend": true,
         "type": "scatter",
         "x": [
          137
         ],
         "xaxis": "x",
         "y": [
          182
         ],
         "yaxis": "y"
        },
        {
         "hovertemplate": "<b>%{hovertext}</b><br><br>버스노선명=9409번(구미동차고지~신사역)<br>일평균 승차 인원=%{x}<br>일평균 하차 인원=%{y}<extra></extra>",
         "hovertext": [
          "9409번(구미동차고지~신사역)"
         ],
         "legendgroup": "9409번(구미동차고지~신사역)",
         "marker": {
          "color": "#00cc96",
          "symbol": "circle"
         },
         "mode": "markers",
         "name": "9409번(구미동차고지~신사역)",
         "orientation": "v",
         "showlegend": true,
         "type": "scatter",
         "x": [
          89
         ],
         "xaxis": "x",
         "y": [
          140
         ],
         "yaxis": "y"
        },
        {
         "hovertemplate": "<b>%{hovertext}</b><br><br>버스노선명=9401-1번(푸른마을~서울시중부기술교육원.블루스퀘어)<br>일평균 승차 인원=%{x}<br>일평균 하차 인원=%{y}<extra></extra>",
         "hovertext": [
          "9401-1번(푸른마을~서울시중부기술교육원.블루스퀘어)"
         ],
         "legendgroup": "9401-1번(푸른마을~서울시중부기술교육원.블루스퀘어)",
         "marker": {
          "color": "#ab63fa",
          "symbol": "circle"
         },
         "mode": "markers",
         "name": "9401-1번(푸른마을~서울시중부기술교육원.블루스퀘어)",
         "orientation": "v",
         "showlegend": true,
         "type": "scatter",
         "x": [
          22
         ],
         "xaxis": "x",
         "y": [
          14
         ],
         "yaxis": "y"
        },
        {
         "hovertemplate": "<b>%{hovertext}</b><br><br>버스노선명=703번(탄현역~숭례문)<br>일평균 승차 인원=%{x}<br>일평균 하차 인원=%{y}<extra></extra>",
         "hovertext": [
          "703번(탄현역~숭례문)"
         ],
         "legendgroup": "703번(탄현역~숭례문)",
         "marker": {
          "color": "#FFA15A",
          "symbol": "circle"
         },
         "mode": "markers",
         "name": "703번(탄현역~숭례문)",
         "orientation": "v",
         "showlegend": true,
         "type": "scatter",
         "x": [
          17
         ],
         "xaxis": "x",
         "y": [
          84
         ],
         "yaxis": "y"
        },
        {
         "hovertemplate": "<b>%{hovertext}</b><br><br>버스노선명=2212번(불암동~면목동(서일대))<br>일평균 승차 인원=%{x}<br>일평균 하차 인원=%{y}<extra></extra>",
         "hovertext": [
          "2212번(불암동~면목동(서일대))"
         ],
         "legendgroup": "2212번(불암동~면목동(서일대))",
         "marker": {
          "color": "#19d3f3",
          "symbol": "circle"
         },
         "mode": "markers",
         "name": "2212번(불암동~면목동(서일대))",
         "orientation": "v",
         "showlegend": true,
         "type": "scatter",
         "x": [
          49
         ],
         "xaxis": "x",
         "y": [
          33
         ],
         "yaxis": "y"
        },
        {
         "hovertemplate": "<b>%{hovertext}</b><br><br>버스노선명=422번(구미동차고지~중곡역)<br>일평균 승차 인원=%{x}<br>일평균 하차 인원=%{y}<extra></extra>",
         "hovertext": [
          "422번(구미동차고지~중곡역)"
         ],
         "legendgroup": "422번(구미동차고지~중곡역)",
         "marker": {
          "color": "#FF6692",
          "symbol": "circle"
         },
         "mode": "markers",
         "name": "422번(구미동차고지~중곡역)",
         "orientation": "v",
         "showlegend": true,
         "type": "scatter",
         "x": [
          23
         ],
         "xaxis": "x",
         "y": [
          42
         ],
         "yaxis": "y"
        },
        {
         "hovertemplate": "<b>%{hovertext}</b><br><br>버스노선명=707번(가좌동~서울역)<br>일평균 승차 인원=%{x}<br>일평균 하차 인원=%{y}<extra></extra>",
         "hovertext": [
          "707번(가좌동~서울역)"
         ],
         "legendgroup": "707번(가좌동~서울역)",
         "marker": {
          "color": "#B6E880",
          "symbol": "circle"
         },
         "mode": "markers",
         "name": "707번(가좌동~서울역)",
         "orientation": "v",
         "showlegend": true,
         "type": "scatter",
         "x": [
          156
         ],
         "xaxis": "x",
         "y": [
          117
         ],
         "yaxis": "y"
        },
        {
         "hovertemplate": "<b>%{hovertext}</b><br><br>버스노선명=9408번(구미동차고지~고속터미널)<br>일평균 승차 인원=%{x}<br>일평균 하차 인원=%{y}<extra></extra>",
         "hovertext": [
          "9408번(구미동차고지~고속터미널)"
         ],
         "legendgroup": "9408번(구미동차고지~고속터미널)",
         "marker": {
          "color": "#FF97FF",
          "symbol": "circle"
         },
         "mode": "markers",
         "name": "9408번(구미동차고지~고속터미널)",
         "orientation": "v",
         "showlegend": true,
         "type": "scatter",
         "x": [
          129
         ],
         "xaxis": "x",
         "y": [
          196
         ],
         "yaxis": "y"
        },
        {
         "hovertemplate": "<b>%{hovertext}</b><br><br>버스노선명=9707번(고양 가좌동~영등포역)<br>일평균 승차 인원=%{x}<br>일평균 하차 인원=%{y}<extra></extra>",
         "hovertext": [
          "9707번(고양 가좌동~영등포역)"
         ],
         "legendgroup": "9707번(고양 가좌동~영등포역)",
         "marker": {
          "color": "#FECB52",
          "symbol": "circle"
         },
         "mode": "markers",
         "name": "9707번(고양 가좌동~영등포역)",
         "orientation": "v",
         "showlegend": true,
         "type": "scatter",
         "x": [
          150
         ],
         "xaxis": "x",
         "y": [
          105
         ],
         "yaxis": "y"
        },
        {
         "hovertemplate": "<b>%{hovertext}</b><br><br>버스노선명=9711번(일산동부경찰서~양재역)<br>일평균 승차 인원=%{x}<br>일평균 하차 인원=%{y}<extra></extra>",
         "hovertext": [
          "9711번(일산동부경찰서~양재역)"
         ],
         "legendgroup": "9711번(일산동부경찰서~양재역)",
         "marker": {
          "color": "#636efa",
          "symbol": "circle"
         },
         "mode": "markers",
         "name": "9711번(일산동부경찰서~양재역)",
         "orientation": "v",
         "showlegend": true,
         "type": "scatter",
         "x": [
          909
         ],
         "xaxis": "x",
         "y": [
          1084
         ],
         "yaxis": "y"
        },
        {
         "hovertemplate": "<b>%{hovertext}</b><br><br>버스노선명=9401번(구미동~서울역)<br>일평균 승차 인원=%{x}<br>일평균 하차 인원=%{y}<extra></extra>",
         "hovertext": [
          "9401번(구미동~서울역)"
         ],
         "legendgroup": "9401번(구미동~서울역)",
         "marker": {
          "color": "#EF553B",
          "symbol": "circle"
         },
         "mode": "markers",
         "name": "9401번(구미동~서울역)",
         "orientation": "v",
         "showlegend": true,
         "type": "scatter",
         "x": [
          30
         ],
         "xaxis": "x",
         "y": [
          44
         ],
         "yaxis": "y"
        },
        {
         "hovertemplate": "<b>%{hovertext}</b><br><br>버스노선명=9404번(분당구미~신사역)<br>일평균 승차 인원=%{x}<br>일평균 하차 인원=%{y}<extra></extra>",
         "hovertext": [
          "9404번(분당구미~신사역)"
         ],
         "legendgroup": "9404번(분당구미~신사역)",
         "marker": {
          "color": "#00cc96",
          "symbol": "circle"
         },
         "mode": "markers",
         "name": "9404번(분당구미~신사역)",
         "orientation": "v",
         "showlegend": true,
         "type": "scatter",
         "x": [
          89
         ],
         "xaxis": "x",
         "y": [
          141
         ],
         "yaxis": "y"
        },
        {
         "hovertemplate": "<b>%{hovertext}</b><br><br>버스노선명=700번(대화동~서울역)<br>일평균 승차 인원=%{x}<br>일평균 하차 인원=%{y}<extra></extra>",
         "hovertext": [
          "700번(대화동~서울역)"
         ],
         "legendgroup": "700번(대화동~서울역)",
         "marker": {
          "color": "#ab63fa",
          "symbol": "circle"
         },
         "mode": "markers",
         "name": "700번(대화동~서울역)",
         "orientation": "v",
         "showlegend": true,
         "type": "scatter",
         "x": [
          501
         ],
         "xaxis": "x",
         "y": [
          753
         ],
         "yaxis": "y"
        },
        {
         "hovertemplate": "<b>%{hovertext}</b><br><br>버스노선명=N26번(중랑공영차고지~강서공영차고지)<br>일평균 승차 인원=%{x}<br>일평균 하차 인원=%{y}<extra></extra>",
         "hovertext": [
          "N26번(중랑공영차고지~강서공영차고지)"
         ],
         "legendgroup": "N26번(중랑공영차고지~강서공영차고지)",
         "marker": {
          "color": "#FFA15A",
          "symbol": "circle"
         },
         "mode": "markers",
         "name": "N26번(중랑공영차고지~강서공영차고지)",
         "orientation": "v",
         "showlegend": true,
         "type": "scatter",
         "x": [
          5844
         ],
         "xaxis": "x",
         "y": [
          4492
         ],
         "yaxis": "y"
        },
        {
         "hovertemplate": "<b>%{hovertext}</b><br><br>버스노선명=N26번(강서공영차고지~중랑공영차고지)<br>일평균 승차 인원=%{x}<br>일평균 하차 인원=%{y}<extra></extra>",
         "hovertext": [
          "N26번(강서공영차고지~중랑공영차고지)"
         ],
         "legendgroup": "N26번(강서공영차고지~중랑공영차고지)",
         "marker": {
          "color": "#19d3f3",
          "symbol": "circle"
         },
         "mode": "markers",
         "name": "N26번(강서공영차고지~중랑공영차고지)",
         "orientation": "v",
         "showlegend": true,
         "type": "scatter",
         "x": [
          5876
         ],
         "xaxis": "x",
         "y": [
          4492
         ],
         "yaxis": "y"
        },
        {
         "hovertemplate": "<b>%{hovertext}</b><br><br>버스노선명=N37번(송파공영차고지~진관공영차고지)<br>일평균 승차 인원=%{x}<br>일평균 하차 인원=%{y}<extra></extra>",
         "hovertext": [
          "N37번(송파공영차고지~진관공영차고지)"
         ],
         "legendgroup": "N37번(송파공영차고지~진관공영차고지)",
         "marker": {
          "color": "#FF6692",
          "symbol": "circle"
         },
         "mode": "markers",
         "name": "N37번(송파공영차고지~진관공영차고지)",
         "orientation": "v",
         "showlegend": true,
         "type": "scatter",
         "x": [
          283
         ],
         "xaxis": "x",
         "y": [
          324
         ],
         "yaxis": "y"
        },
        {
         "hovertemplate": "<b>%{hovertext}</b><br><br>버스노선명=N37번(진관공영차고지~송파공영차고지)<br>일평균 승차 인원=%{x}<br>일평균 하차 인원=%{y}<extra></extra>",
         "hovertext": [
          "N37번(진관공영차고지~송파공영차고지)"
         ],
         "legendgroup": "N37번(진관공영차고지~송파공영차고지)",
         "marker": {
          "color": "#B6E880",
          "symbol": "circle"
         },
         "mode": "markers",
         "name": "N37번(진관공영차고지~송파공영차고지)",
         "orientation": "v",
         "showlegend": true,
         "type": "scatter",
         "x": [
          283
         ],
         "xaxis": "x",
         "y": [
          324
         ],
         "yaxis": "y"
        },
        {
         "hovertemplate": "<b>%{hovertext}</b><br><br>버스노선명=111번(민락동차고지~동대문)<br>일평균 승차 인원=%{x}<br>일평균 하차 인원=%{y}<extra></extra>",
         "hovertext": [
          "111번(민락동차고지~동대문)"
         ],
         "legendgroup": "111번(민락동차고지~동대문)",
         "marker": {
          "color": "#FF97FF",
          "symbol": "circle"
         },
         "mode": "markers",
         "name": "111번(민락동차고지~동대문)",
         "orientation": "v",
         "showlegend": true,
         "type": "scatter",
         "x": [
          44
         ],
         "xaxis": "x",
         "y": [
          41
         ],
         "yaxis": "y"
        },
        {
         "hovertemplate": "<b>%{hovertext}</b><br><br>버스노선명=4425번(상대원차고지~삼성역)<br>일평균 승차 인원=%{x}<br>일평균 하차 인원=%{y}<extra></extra>",
         "hovertext": [
          "4425번(상대원차고지~삼성역)"
         ],
         "legendgroup": "4425번(상대원차고지~삼성역)",
         "marker": {
          "color": "#FECB52",
          "symbol": "circle"
         },
         "mode": "markers",
         "name": "4425번(상대원차고지~삼성역)",
         "orientation": "v",
         "showlegend": true,
         "type": "scatter",
         "x": [
          21
         ],
         "xaxis": "x",
         "y": [
          31
         ],
         "yaxis": "y"
        },
        {
         "hovertemplate": "<b>%{hovertext}</b><br><br>버스노선명=760번(대화동~영등포소방서.타임스퀘어)<br>일평균 승차 인원=%{x}<br>일평균 하차 인원=%{y}<extra></extra>",
         "hovertext": [
          "760번(대화동~영등포소방서.타임스퀘어)"
         ],
         "legendgroup": "760번(대화동~영등포소방서.타임스퀘어)",
         "marker": {
          "color": "#636efa",
          "symbol": "circle"
         },
         "mode": "markers",
         "name": "760번(대화동~영등포소방서.타임스퀘어)",
         "orientation": "v",
         "showlegend": true,
         "type": "scatter",
         "x": [
          1045
         ],
         "xaxis": "x",
         "y": [
          1846
         ],
         "yaxis": "y"
        },
        {
         "hovertemplate": "<b>%{hovertext}</b><br><br>버스노선명=6713번(철산동~홍대입구역)<br>일평균 승차 인원=%{x}<br>일평균 하차 인원=%{y}<extra></extra>",
         "hovertext": [
          "6713번(철산동~홍대입구역)"
         ],
         "legendgroup": "6713번(철산동~홍대입구역)",
         "marker": {
          "color": "#EF553B",
          "symbol": "circle"
         },
         "mode": "markers",
         "name": "6713번(철산동~홍대입구역)",
         "orientation": "v",
         "showlegend": true,
         "type": "scatter",
         "x": [
          2514
         ],
         "xaxis": "x",
         "y": [
          2703
         ],
         "yaxis": "y"
        },
        {
         "hovertemplate": "<b>%{hovertext}</b><br><br>버스노선명=서울01(강남역~화성시동탄)<br>일평균 승차 인원=%{x}<br>일평균 하차 인원=%{y}<extra></extra>",
         "hovertext": [
          "서울01(강남역~화성시동탄)"
         ],
         "legendgroup": "서울01(강남역~화성시동탄)",
         "marker": {
          "color": "#00cc96",
          "symbol": "circle"
         },
         "mode": "markers",
         "name": "서울01(강남역~화성시동탄)",
         "orientation": "v",
         "showlegend": true,
         "type": "scatter",
         "x": [
          15
         ],
         "xaxis": "x",
         "y": [
          2
         ],
         "yaxis": "y"
        },
        {
         "hovertemplate": "<b>%{hovertext}</b><br><br>버스노선명=서울02(김포시풍무동~김포공항역)<br>일평균 승차 인원=%{x}<br>일평균 하차 인원=%{y}<extra></extra>",
         "hovertext": [
          "서울02(김포시풍무동~김포공항역)"
         ],
         "legendgroup": "서울02(김포시풍무동~김포공항역)",
         "marker": {
          "color": "#ab63fa",
          "symbol": "circle"
         },
         "mode": "markers",
         "name": "서울02(김포시풍무동~김포공항역)",
         "orientation": "v",
         "showlegend": true,
         "type": "scatter",
         "x": [
          16
         ],
         "xaxis": "x",
         "y": [
          null
         ],
         "yaxis": "y"
        },
        {
         "hovertemplate": "<b>%{hovertext}</b><br><br>버스노선명=서울03(홍대입구역~파주시운정지구)<br>일평균 승차 인원=%{x}<br>일평균 하차 인원=%{y}<extra></extra>",
         "hovertext": [
          "서울03(홍대입구역~파주시운정지구)"
         ],
         "legendgroup": "서울03(홍대입구역~파주시운정지구)",
         "marker": {
          "color": "#FFA15A",
          "symbol": "circle"
         },
         "mode": "markers",
         "name": "서울03(홍대입구역~파주시운정지구)",
         "orientation": "v",
         "showlegend": true,
         "type": "scatter",
         "x": [
          null
         ],
         "xaxis": "x",
         "y": [
          2
         ],
         "yaxis": "y"
        },
        {
         "hovertemplate": "<b>%{hovertext}</b><br><br>버스노선명=서울04(고양시원흥지구~가양역)<br>일평균 승차 인원=%{x}<br>일평균 하차 인원=%{y}<extra></extra>",
         "hovertext": [
          "서울04(고양시원흥지구~가양역)"
         ],
         "legendgroup": "서울04(고양시원흥지구~가양역)",
         "marker": {
          "color": "#19d3f3",
          "symbol": "circle"
         },
         "mode": "markers",
         "name": "서울04(고양시원흥지구~가양역)",
         "orientation": "v",
         "showlegend": true,
         "type": "scatter",
         "x": [
          1398
         ],
         "xaxis": "x",
         "y": [
          5
         ],
         "yaxis": "y"
        },
        {
         "hovertemplate": "<b>%{hovertext}</b><br><br>버스노선명=서울06(강남역~광주시능평동)<br>일평균 승차 인원=%{x}<br>일평균 하차 인원=%{y}<extra></extra>",
         "hovertext": [
          "서울06(강남역~광주시능평동)"
         ],
         "legendgroup": "서울06(강남역~광주시능평동)",
         "marker": {
          "color": "#FF6692",
          "symbol": "circle"
         },
         "mode": "markers",
         "name": "서울06(강남역~광주시능평동)",
         "orientation": "v",
         "showlegend": true,
         "type": "scatter",
         "x": [
          10
         ],
         "xaxis": "x",
         "y": [
          1
         ],
         "yaxis": "y"
        },
        {
         "hovertemplate": "<b>%{hovertext}</b><br><br>버스노선명=8661(역곡역~천왕역4번출구)<br>일평균 승차 인원=%{x}<br>일평균 하차 인원=%{y}<extra></extra>",
         "hovertext": [
          "8661(역곡역~천왕역4번출구)"
         ],
         "legendgroup": "8661(역곡역~천왕역4번출구)",
         "marker": {
          "color": "#B6E880",
          "symbol": "circle"
         },
         "mode": "markers",
         "name": "8661(역곡역~천왕역4번출구)",
         "orientation": "v",
         "showlegend": true,
         "type": "scatter",
         "x": [
          15
         ],
         "xaxis": "x",
         "y": [
          74
         ],
         "yaxis": "y"
        },
        {
         "hovertemplate": "<b>%{hovertext}</b><br><br>버스노선명=서울08(고양시화정역~DMC역)<br>일평균 승차 인원=%{x}<br>일평균 하차 인원=%{y}<extra></extra>",
         "hovertext": [
          "서울08(고양시화정역~DMC역)"
         ],
         "legendgroup": "서울08(고양시화정역~DMC역)",
         "marker": {
          "color": "#FF97FF",
          "symbol": "circle"
         },
         "mode": "markers",
         "name": "서울08(고양시화정역~DMC역)",
         "orientation": "v",
         "showlegend": true,
         "type": "scatter",
         "x": [
          10
         ],
         "xaxis": "x",
         "y": [
          23
         ],
         "yaxis": "y"
        },
        {
         "hovertemplate": "<b>%{hovertext}</b><br><br>버스노선명=강동02(가래여울~암사동서원마을)<br>일평균 승차 인원=%{x}<br>일평균 하차 인원=%{y}<extra></extra>",
         "hovertext": [
          "강동02(가래여울~암사동서원마을)"
         ],
         "legendgroup": "강동02(가래여울~암사동서원마을)",
         "marker": {
          "color": "#FECB52",
          "symbol": "circle"
         },
         "mode": "markers",
         "name": "강동02(가래여울~암사동서원마을)",
         "orientation": "v",
         "showlegend": true,
         "type": "scatter",
         "x": [
          3
         ],
         "xaxis": "x",
         "y": [
          1
         ],
         "yaxis": "y"
        },
        {
         "hovertemplate": "<b>%{hovertext}</b><br><br>버스노선명=507번(석수역~동대문문화공원)<br>일평균 승차 인원=%{x}<br>일평균 하차 인원=%{y}<extra></extra>",
         "hovertext": [
          "507번(석수역~동대문문화공원)"
         ],
         "legendgroup": "507번(석수역~동대문문화공원)",
         "marker": {
          "color": "#636efa",
          "symbol": "circle"
         },
         "mode": "markers",
         "name": "507번(석수역~동대문문화공원)",
         "orientation": "v",
         "showlegend": true,
         "type": "scatter",
         "x": [
          866
         ],
         "xaxis": "x",
         "y": [
          1090
         ],
         "yaxis": "y"
        },
        {
         "hovertemplate": "<b>%{hovertext}</b><br><br>버스노선명=702번(B,용두초교방향,서오릉~종로1가)<br>일평균 승차 인원=%{x}<br>일평균 하차 인원=%{y}<extra></extra>",
         "hovertext": [
          "702번(B,용두초교방향,서오릉~종로1가)"
         ],
         "legendgroup": "702번(B,용두초교방향,서오릉~종로1가)",
         "marker": {
          "color": "#EF553B",
          "symbol": "circle"
         },
         "mode": "markers",
         "name": "702번(B,용두초교방향,서오릉~종로1가)",
         "orientation": "v",
         "showlegend": true,
         "type": "scatter",
         "x": [
          222
         ],
         "xaxis": "x",
         "y": [
          201
         ],
         "yaxis": "y"
        },
        {
         "hovertemplate": "<b>%{hovertext}</b><br><br>버스노선명=5633번(노온사동~순복음교회)<br>일평균 승차 인원=%{x}<br>일평균 하차 인원=%{y}<extra></extra>",
         "hovertext": [
          "5633번(노온사동~순복음교회)"
         ],
         "legendgroup": "5633번(노온사동~순복음교회)",
         "marker": {
          "color": "#00cc96",
          "symbol": "circle"
         },
         "mode": "markers",
         "name": "5633번(노온사동~순복음교회)",
         "orientation": "v",
         "showlegend": true,
         "type": "scatter",
         "x": [
          664
         ],
         "xaxis": "x",
         "y": [
          690
         ],
         "yaxis": "y"
        },
        {
         "hovertemplate": "<b>%{hovertext}</b><br><br>버스노선명=661번(부천상동~영등포역,신세계백화점)<br>일평균 승차 인원=%{x}<br>일평균 하차 인원=%{y}<extra></extra>",
         "hovertext": [
          "661번(부천상동~영등포역,신세계백화점)"
         ],
         "legendgroup": "661번(부천상동~영등포역,신세계백화점)",
         "marker": {
          "color": "#ab63fa",
          "symbol": "circle"
         },
         "mode": "markers",
         "name": "661번(부천상동~영등포역,신세계백화점)",
         "orientation": "v",
         "showlegend": true,
         "type": "scatter",
         "x": [
          27825
         ],
         "xaxis": "x",
         "y": [
          20910
         ],
         "yaxis": "y"
        },
        {
         "hovertemplate": "<b>%{hovertext}</b><br><br>버스노선명=540번(군포공영차고지~강남성모병원)<br>일평균 승차 인원=%{x}<br>일평균 하차 인원=%{y}<extra></extra>",
         "hovertext": [
          "540번(군포공영차고지~강남성모병원)"
         ],
         "legendgroup": "540번(군포공영차고지~강남성모병원)",
         "marker": {
          "color": "#FFA15A",
          "symbol": "circle"
         },
         "mode": "markers",
         "name": "540번(군포공영차고지~강남성모병원)",
         "orientation": "v",
         "showlegend": true,
         "type": "scatter",
         "x": [
          441
         ],
         "xaxis": "x",
         "y": [
          465
         ],
         "yaxis": "y"
        },
        {
         "hovertemplate": "<b>%{hovertext}</b><br><br>버스노선명=341번(강동공영차고지~우면동)<br>일평균 승차 인원=%{x}<br>일평균 하차 인원=%{y}<extra></extra>",
         "hovertext": [
          "341번(강동공영차고지~우면동)"
         ],
         "legendgroup": "341번(강동공영차고지~우면동)",
         "marker": {
          "color": "#19d3f3",
          "symbol": "circle"
         },
         "mode": "markers",
         "name": "341번(강동공영차고지~우면동)",
         "orientation": "v",
         "showlegend": true,
         "type": "scatter",
         "x": [
          115
         ],
         "xaxis": "x",
         "y": [
          164
         ],
         "yaxis": "y"
        },
        {
         "hovertemplate": "<b>%{hovertext}</b><br><br>버스노선명=721번(북가좌동~건대입구역)<br>일평균 승차 인원=%{x}<br>일평균 하차 인원=%{y}<extra></extra>",
         "hovertext": [
          "721번(북가좌동~건대입구역)"
         ],
         "legendgroup": "721번(북가좌동~건대입구역)",
         "marker": {
          "color": "#FF6692",
          "symbol": "circle"
         },
         "mode": "markers",
         "name": "721번(북가좌동~건대입구역)",
         "orientation": "v",
         "showlegend": true,
         "type": "scatter",
         "x": [
          1022
         ],
         "xaxis": "x",
         "y": [
          789
         ],
         "yaxis": "y"
        },
        {
         "hovertemplate": "<b>%{hovertext}</b><br><br>버스노선명=셔틀(성균관대~혜화역)<br>일평균 승차 인원=%{x}<br>일평균 하차 인원=%{y}<extra></extra>",
         "hovertext": [
          "셔틀(성균관대~혜화역)"
         ],
         "legendgroup": "셔틀(성균관대~혜화역)",
         "marker": {
          "color": "#B6E880",
          "symbol": "circle"
         },
         "mode": "markers",
         "name": "셔틀(성균관대~혜화역)",
         "orientation": "v",
         "showlegend": true,
         "type": "scatter",
         "x": [
          7
         ],
         "xaxis": "x",
         "y": [
          17
         ],
         "yaxis": "y"
        },
        {
         "hovertemplate": "<b>%{hovertext}</b><br><br>버스노선명=8772번(휴일,구파발~대서문입구)<br>일평균 승차 인원=%{x}<br>일평균 하차 인원=%{y}<extra></extra>",
         "hovertext": [
          "8772번(휴일,구파발~대서문입구)"
         ],
         "legendgroup": "8772번(휴일,구파발~대서문입구)",
         "marker": {
          "color": "#FF97FF",
          "symbol": "circle"
         },
         "mode": "markers",
         "name": "8772번(휴일,구파발~대서문입구)",
         "orientation": "v",
         "showlegend": true,
         "type": "scatter",
         "x": [
          21
         ],
         "xaxis": "x",
         "y": [
          19
         ],
         "yaxis": "y"
        },
        {
         "hovertemplate": "<b>%{hovertext}</b><br><br>버스노선명=8541번(호압사~강남역)<br>일평균 승차 인원=%{x}<br>일평균 하차 인원=%{y}<extra></extra>",
         "hovertext": [
          "8541번(호압사~강남역)"
         ],
         "legendgroup": "8541번(호압사~강남역)",
         "marker": {
          "color": "#FECB52",
          "symbol": "circle"
         },
         "mode": "markers",
         "name": "8541번(호압사~강남역)",
         "orientation": "v",
         "showlegend": true,
         "type": "scatter",
         "x": [
          618
         ],
         "xaxis": "x",
         "y": [
          663
         ],
         "yaxis": "y"
        },
        {
         "hovertemplate": "<b>%{hovertext}</b><br><br>버스노선명=8774번(구산동~서대문구청)<br>일평균 승차 인원=%{x}<br>일평균 하차 인원=%{y}<extra></extra>",
         "hovertext": [
          "8774번(구산동~서대문구청)"
         ],
         "legendgroup": "8774번(구산동~서대문구청)",
         "marker": {
          "color": "#636efa",
          "symbol": "circle"
         },
         "mode": "markers",
         "name": "8774번(구산동~서대문구청)",
         "orientation": "v",
         "showlegend": true,
         "type": "scatter",
         "x": [
          84
         ],
         "xaxis": "x",
         "y": [
          99
         ],
         "yaxis": "y"
        },
        {
         "hovertemplate": "<b>%{hovertext}</b><br><br>버스노선명=9714번(교하운정~서울역)<br>일평균 승차 인원=%{x}<br>일평균 하차 인원=%{y}<extra></extra>",
         "hovertext": [
          "9714번(교하운정~서울역)"
         ],
         "legendgroup": "9714번(교하운정~서울역)",
         "marker": {
          "color": "#EF553B",
          "symbol": "circle"
         },
         "mode": "markers",
         "name": "9714번(교하운정~서울역)",
         "orientation": "v",
         "showlegend": true,
         "type": "scatter",
         "x": [
          230
         ],
         "xaxis": "x",
         "y": [
          210
         ],
         "yaxis": "y"
        },
        {
         "hovertemplate": "<b>%{hovertext}</b><br><br>버스노선명=청와대A01(경복궁역~청와대)<br>일평균 승차 인원=%{x}<br>일평균 하차 인원=%{y}<extra></extra>",
         "hovertext": [
          "청와대A01(경복궁역~청와대)"
         ],
         "legendgroup": "청와대A01(경복궁역~청와대)",
         "marker": {
          "color": "#00cc96",
          "symbol": "circle"
         },
         "mode": "markers",
         "name": "청와대A01(경복궁역~청와대)",
         "orientation": "v",
         "showlegend": true,
         "type": "scatter",
         "x": [
          4
         ],
         "xaxis": "x",
         "y": [
          13
         ],
         "yaxis": "y"
        },
        {
         "hovertemplate": "<b>%{hovertext}</b><br><br>버스노선명=8101번(도봉보건소~서소문)<br>일평균 승차 인원=%{x}<br>일평균 하차 인원=%{y}<extra></extra>",
         "hovertext": [
          "8101번(도봉보건소~서소문)"
         ],
         "legendgroup": "8101번(도봉보건소~서소문)",
         "marker": {
          "color": "#ab63fa",
          "symbol": "circle"
         },
         "mode": "markers",
         "name": "8101번(도봉보건소~서소문)",
         "orientation": "v",
         "showlegend": true,
         "type": "scatter",
         "x": [
          1455
         ],
         "xaxis": "x",
         "y": [
          1235
         ],
         "yaxis": "y"
        },
        {
         "hovertemplate": "<b>%{hovertext}</b><br><br>버스노선명=8561번(신림동~여의도환승센터)<br>일평균 승차 인원=%{x}<br>일평균 하차 인원=%{y}<extra></extra>",
         "hovertext": [
          "8561번(신림동~여의도환승센터)"
         ],
         "legendgroup": "8561번(신림동~여의도환승센터)",
         "marker": {
          "color": "#FFA15A",
          "symbol": "circle"
         },
         "mode": "markers",
         "name": "8561번(신림동~여의도환승센터)",
         "orientation": "v",
         "showlegend": true,
         "type": "scatter",
         "x": [
          729
         ],
         "xaxis": "x",
         "y": [
          1641
         ],
         "yaxis": "y"
        },
        {
         "hovertemplate": "<b>%{hovertext}</b><br><br>버스노선명=8701번(은평뉴타운~서소문)<br>일평균 승차 인원=%{x}<br>일평균 하차 인원=%{y}<extra></extra>",
         "hovertext": [
          "8701번(은평뉴타운~서소문)"
         ],
         "legendgroup": "8701번(은평뉴타운~서소문)",
         "marker": {
          "color": "#19d3f3",
          "symbol": "circle"
         },
         "mode": "markers",
         "name": "8701번(은평뉴타운~서소문)",
         "orientation": "v",
         "showlegend": true,
         "type": "scatter",
         "x": [
          304
         ],
         "xaxis": "x",
         "y": [
          242
         ],
         "yaxis": "y"
        },
        {
         "hovertemplate": "<b>%{hovertext}</b><br><br>버스노선명=8773번(녹번역~홍대입구역)<br>일평균 승차 인원=%{x}<br>일평균 하차 인원=%{y}<extra></extra>",
         "hovertext": [
          "8773번(녹번역~홍대입구역)"
         ],
         "legendgroup": "8773번(녹번역~홍대입구역)",
         "marker": {
          "color": "#FF6692",
          "symbol": "circle"
         },
         "mode": "markers",
         "name": "8773번(녹번역~홍대입구역)",
         "orientation": "v",
         "showlegend": true,
         "type": "scatter",
         "x": [
          1078
         ],
         "xaxis": "x",
         "y": [
          746
         ],
         "yaxis": "y"
        },
        {
         "hovertemplate": "<b>%{hovertext}</b><br><br>버스노선명=8773번(홍대입구역~녹번역)<br>일평균 승차 인원=%{x}<br>일평균 하차 인원=%{y}<extra></extra>",
         "hovertext": [
          "8773번(홍대입구역~녹번역)"
         ],
         "legendgroup": "8773번(홍대입구역~녹번역)",
         "marker": {
          "color": "#B6E880",
          "symbol": "circle"
         },
         "mode": "markers",
         "name": "8773번(홍대입구역~녹번역)",
         "orientation": "v",
         "showlegend": true,
         "type": "scatter",
         "x": [
          1078
         ],
         "xaxis": "x",
         "y": [
          564
         ],
         "yaxis": "y"
        },
        {
         "hovertemplate": "<b>%{hovertext}</b><br><br>버스노선명=8762번(디지털미디어시티역~가양역.마포중고등학교)<br>일평균 승차 인원=%{x}<br>일평균 하차 인원=%{y}<extra></extra>",
         "hovertext": [
          "8762번(디지털미디어시티역~가양역.마포중고등학교)"
         ],
         "legendgroup": "8762번(디지털미디어시티역~가양역.마포중고등학교)",
         "marker": {
          "color": "#FF97FF",
          "symbol": "circle"
         },
         "mode": "markers",
         "name": "8762번(디지털미디어시티역~가양역.마포중고등학교)",
         "orientation": "v",
         "showlegend": true,
         "type": "scatter",
         "x": [
          4552
         ],
         "xaxis": "x",
         "y": [
          3524
         ],
         "yaxis": "y"
        },
        {
         "hovertemplate": "<b>%{hovertext}</b><br><br>버스노선명=심야A21(동대문역.흥인지문~합정역)<br>일평균 승차 인원=%{x}<br>일평균 하차 인원=%{y}<extra></extra>",
         "hovertext": [
          "심야A21(동대문역.흥인지문~합정역)"
         ],
         "legendgroup": "심야A21(동대문역.흥인지문~합정역)",
         "marker": {
          "color": "#FECB52",
          "symbol": "circle"
         },
         "mode": "markers",
         "name": "심야A21(동대문역.흥인지문~합정역)",
         "orientation": "v",
         "showlegend": true,
         "type": "scatter",
         "x": [
          2983
         ],
         "xaxis": "x",
         "y": [
          1984
         ],
         "yaxis": "y"
        },
        {
         "hovertemplate": "<b>%{hovertext}</b><br><br>버스노선명=심야A21(합정역~동대문역.흥인지문)<br>일평균 승차 인원=%{x}<br>일평균 하차 인원=%{y}<extra></extra>",
         "hovertext": [
          "심야A21(합정역~동대문역.흥인지문)"
         ],
         "legendgroup": "심야A21(합정역~동대문역.흥인지문)",
         "marker": {
          "color": "#636efa",
          "symbol": "circle"
         },
         "mode": "markers",
         "name": "심야A21(합정역~동대문역.흥인지문)",
         "orientation": "v",
         "showlegend": true,
         "type": "scatter",
         "x": [
          2983
         ],
         "xaxis": "x",
         "y": [
          1984
         ],
         "yaxis": "y"
        }
       ],
       "layout": {
        "legend": {
         "title": {
          "text": "버스노선명"
         },
         "tracegroupgap": 0
        },
        "template": {
         "data": {
          "bar": [
           {
            "error_x": {
             "color": "#2a3f5f"
            },
            "error_y": {
             "color": "#2a3f5f"
            },
            "marker": {
             "line": {
              "color": "#E5ECF6",
              "width": 0.5
             },
             "pattern": {
              "fillmode": "overlay",
              "size": 10,
              "solidity": 0.2
             }
            },
            "type": "bar"
           }
          ],
          "barpolar": [
           {
            "marker": {
             "line": {
              "color": "#E5ECF6",
              "width": 0.5
             },
             "pattern": {
              "fillmode": "overlay",
              "size": 10,
              "solidity": 0.2
             }
            },
            "type": "barpolar"
           }
          ],
          "carpet": [
           {
            "aaxis": {
             "endlinecolor": "#2a3f5f",
             "gridcolor": "white",
             "linecolor": "white",
             "minorgridcolor": "white",
             "startlinecolor": "#2a3f5f"
            },
            "baxis": {
             "endlinecolor": "#2a3f5f",
             "gridcolor": "white",
             "linecolor": "white",
             "minorgridcolor": "white",
             "startlinecolor": "#2a3f5f"
            },
            "type": "carpet"
           }
          ],
          "choropleth": [
           {
            "colorbar": {
             "outlinewidth": 0,
             "ticks": ""
            },
            "type": "choropleth"
           }
          ],
          "contour": [
           {
            "colorbar": {
             "outlinewidth": 0,
             "ticks": ""
            },
            "colorscale": [
             [
              0,
              "#0d0887"
             ],
             [
              0.1111111111111111,
              "#46039f"
             ],
             [
              0.2222222222222222,
              "#7201a8"
             ],
             [
              0.3333333333333333,
              "#9c179e"
             ],
             [
              0.4444444444444444,
              "#bd3786"
             ],
             [
              0.5555555555555556,
              "#d8576b"
             ],
             [
              0.6666666666666666,
              "#ed7953"
             ],
             [
              0.7777777777777778,
              "#fb9f3a"
             ],
             [
              0.8888888888888888,
              "#fdca26"
             ],
             [
              1,
              "#f0f921"
             ]
            ],
            "type": "contour"
           }
          ],
          "contourcarpet": [
           {
            "colorbar": {
             "outlinewidth": 0,
             "ticks": ""
            },
            "type": "contourcarpet"
           }
          ],
          "heatmap": [
           {
            "colorbar": {
             "outlinewidth": 0,
             "ticks": ""
            },
            "colorscale": [
             [
              0,
              "#0d0887"
             ],
             [
              0.1111111111111111,
              "#46039f"
             ],
             [
              0.2222222222222222,
              "#7201a8"
             ],
             [
              0.3333333333333333,
              "#9c179e"
             ],
             [
              0.4444444444444444,
              "#bd3786"
             ],
             [
              0.5555555555555556,
              "#d8576b"
             ],
             [
              0.6666666666666666,
              "#ed7953"
             ],
             [
              0.7777777777777778,
              "#fb9f3a"
             ],
             [
              0.8888888888888888,
              "#fdca26"
             ],
             [
              1,
              "#f0f921"
             ]
            ],
            "type": "heatmap"
           }
          ],
          "heatmapgl": [
           {
            "colorbar": {
             "outlinewidth": 0,
             "ticks": ""
            },
            "colorscale": [
             [
              0,
              "#0d0887"
             ],
             [
              0.1111111111111111,
              "#46039f"
             ],
             [
              0.2222222222222222,
              "#7201a8"
             ],
             [
              0.3333333333333333,
              "#9c179e"
             ],
             [
              0.4444444444444444,
              "#bd3786"
             ],
             [
              0.5555555555555556,
              "#d8576b"
             ],
             [
              0.6666666666666666,
              "#ed7953"
             ],
             [
              0.7777777777777778,
              "#fb9f3a"
             ],
             [
              0.8888888888888888,
              "#fdca26"
             ],
             [
              1,
              "#f0f921"
             ]
            ],
            "type": "heatmapgl"
           }
          ],
          "histogram": [
           {
            "marker": {
             "pattern": {
              "fillmode": "overlay",
              "size": 10,
              "solidity": 0.2
             }
            },
            "type": "histogram"
           }
          ],
          "histogram2d": [
           {
            "colorbar": {
             "outlinewidth": 0,
             "ticks": ""
            },
            "colorscale": [
             [
              0,
              "#0d0887"
             ],
             [
              0.1111111111111111,
              "#46039f"
             ],
             [
              0.2222222222222222,
              "#7201a8"
             ],
             [
              0.3333333333333333,
              "#9c179e"
             ],
             [
              0.4444444444444444,
              "#bd3786"
             ],
             [
              0.5555555555555556,
              "#d8576b"
             ],
             [
              0.6666666666666666,
              "#ed7953"
             ],
             [
              0.7777777777777778,
              "#fb9f3a"
             ],
             [
              0.8888888888888888,
              "#fdca26"
             ],
             [
              1,
              "#f0f921"
             ]
            ],
            "type": "histogram2d"
           }
          ],
          "histogram2dcontour": [
           {
            "colorbar": {
             "outlinewidth": 0,
             "ticks": ""
            },
            "colorscale": [
             [
              0,
              "#0d0887"
             ],
             [
              0.1111111111111111,
              "#46039f"
             ],
             [
              0.2222222222222222,
              "#7201a8"
             ],
             [
              0.3333333333333333,
              "#9c179e"
             ],
             [
              0.4444444444444444,
              "#bd3786"
             ],
             [
              0.5555555555555556,
              "#d8576b"
             ],
             [
              0.6666666666666666,
              "#ed7953"
             ],
             [
              0.7777777777777778,
              "#fb9f3a"
             ],
             [
              0.8888888888888888,
              "#fdca26"
             ],
             [
              1,
              "#f0f921"
             ]
            ],
            "type": "histogram2dcontour"
           }
          ],
          "mesh3d": [
           {
            "colorbar": {
             "outlinewidth": 0,
             "ticks": ""
            },
            "type": "mesh3d"
           }
          ],
          "parcoords": [
           {
            "line": {
             "colorbar": {
              "outlinewidth": 0,
              "ticks": ""
             }
            },
            "type": "parcoords"
           }
          ],
          "pie": [
           {
            "automargin": true,
            "type": "pie"
           }
          ],
          "scatter": [
           {
            "fillpattern": {
             "fillmode": "overlay",
             "size": 10,
             "solidity": 0.2
            },
            "type": "scatter"
           }
          ],
          "scatter3d": [
           {
            "line": {
             "colorbar": {
              "outlinewidth": 0,
              "ticks": ""
             }
            },
            "marker": {
             "colorbar": {
              "outlinewidth": 0,
              "ticks": ""
             }
            },
            "type": "scatter3d"
           }
          ],
          "scattercarpet": [
           {
            "marker": {
             "colorbar": {
              "outlinewidth": 0,
              "ticks": ""
             }
            },
            "type": "scattercarpet"
           }
          ],
          "scattergeo": [
           {
            "marker": {
             "colorbar": {
              "outlinewidth": 0,
              "ticks": ""
             }
            },
            "type": "scattergeo"
           }
          ],
          "scattergl": [
           {
            "marker": {
             "colorbar": {
              "outlinewidth": 0,
              "ticks": ""
             }
            },
            "type": "scattergl"
           }
          ],
          "scattermapbox": [
           {
            "marker": {
             "colorbar": {
              "outlinewidth": 0,
              "ticks": ""
             }
            },
            "type": "scattermapbox"
           }
          ],
          "scatterpolar": [
           {
            "marker": {
             "colorbar": {
              "outlinewidth": 0,
              "ticks": ""
             }
            },
            "type": "scatterpolar"
           }
          ],
          "scatterpolargl": [
           {
            "marker": {
             "colorbar": {
              "outlinewidth": 0,
              "ticks": ""
             }
            },
            "type": "scatterpolargl"
           }
          ],
          "scatterternary": [
           {
            "marker": {
             "colorbar": {
              "outlinewidth": 0,
              "ticks": ""
             }
            },
            "type": "scatterternary"
           }
          ],
          "surface": [
           {
            "colorbar": {
             "outlinewidth": 0,
             "ticks": ""
            },
            "colorscale": [
             [
              0,
              "#0d0887"
             ],
             [
              0.1111111111111111,
              "#46039f"
             ],
             [
              0.2222222222222222,
              "#7201a8"
             ],
             [
              0.3333333333333333,
              "#9c179e"
             ],
             [
              0.4444444444444444,
              "#bd3786"
             ],
             [
              0.5555555555555556,
              "#d8576b"
             ],
             [
              0.6666666666666666,
              "#ed7953"
             ],
             [
              0.7777777777777778,
              "#fb9f3a"
             ],
             [
              0.8888888888888888,
              "#fdca26"
             ],
             [
              1,
              "#f0f921"
             ]
            ],
            "type": "surface"
           }
          ],
          "table": [
           {
            "cells": {
             "fill": {
              "color": "#EBF0F8"
             },
             "line": {
              "color": "white"
             }
            },
            "header": {
             "fill": {
              "color": "#C8D4E3"
             },
             "line": {
              "color": "white"
             }
            },
            "type": "table"
           }
          ]
         },
         "layout": {
          "annotationdefaults": {
           "arrowcolor": "#2a3f5f",
           "arrowhead": 0,
           "arrowwidth": 1
          },
          "autotypenumbers": "strict",
          "coloraxis": {
           "colorbar": {
            "outlinewidth": 0,
            "ticks": ""
           }
          },
          "colorscale": {
           "diverging": [
            [
             0,
             "#8e0152"
            ],
            [
             0.1,
             "#c51b7d"
            ],
            [
             0.2,
             "#de77ae"
            ],
            [
             0.3,
             "#f1b6da"
            ],
            [
             0.4,
             "#fde0ef"
            ],
            [
             0.5,
             "#f7f7f7"
            ],
            [
             0.6,
             "#e6f5d0"
            ],
            [
             0.7,
             "#b8e186"
            ],
            [
             0.8,
             "#7fbc41"
            ],
            [
             0.9,
             "#4d9221"
            ],
            [
             1,
             "#276419"
            ]
           ],
           "sequential": [
            [
             0,
             "#0d0887"
            ],
            [
             0.1111111111111111,
             "#46039f"
            ],
            [
             0.2222222222222222,
             "#7201a8"
            ],
            [
             0.3333333333333333,
             "#9c179e"
            ],
            [
             0.4444444444444444,
             "#bd3786"
            ],
            [
             0.5555555555555556,
             "#d8576b"
            ],
            [
             0.6666666666666666,
             "#ed7953"
            ],
            [
             0.7777777777777778,
             "#fb9f3a"
            ],
            [
             0.8888888888888888,
             "#fdca26"
            ],
            [
             1,
             "#f0f921"
            ]
           ],
           "sequentialminus": [
            [
             0,
             "#0d0887"
            ],
            [
             0.1111111111111111,
             "#46039f"
            ],
            [
             0.2222222222222222,
             "#7201a8"
            ],
            [
             0.3333333333333333,
             "#9c179e"
            ],
            [
             0.4444444444444444,
             "#bd3786"
            ],
            [
             0.5555555555555556,
             "#d8576b"
            ],
            [
             0.6666666666666666,
             "#ed7953"
            ],
            [
             0.7777777777777778,
             "#fb9f3a"
            ],
            [
             0.8888888888888888,
             "#fdca26"
            ],
            [
             1,
             "#f0f921"
            ]
           ]
          },
          "colorway": [
           "#636efa",
           "#EF553B",
           "#00cc96",
           "#ab63fa",
           "#FFA15A",
           "#19d3f3",
           "#FF6692",
           "#B6E880",
           "#FF97FF",
           "#FECB52"
          ],
          "font": {
           "color": "#2a3f5f"
          },
          "geo": {
           "bgcolor": "white",
           "lakecolor": "white",
           "landcolor": "#E5ECF6",
           "showlakes": true,
           "showland": true,
           "subunitcolor": "white"
          },
          "hoverlabel": {
           "align": "left"
          },
          "hovermode": "closest",
          "mapbox": {
           "style": "light"
          },
          "paper_bgcolor": "white",
          "plot_bgcolor": "#E5ECF6",
          "polar": {
           "angularaxis": {
            "gridcolor": "white",
            "linecolor": "white",
            "ticks": ""
           },
           "bgcolor": "#E5ECF6",
           "radialaxis": {
            "gridcolor": "white",
            "linecolor": "white",
            "ticks": ""
           }
          },
          "scene": {
           "xaxis": {
            "backgroundcolor": "#E5ECF6",
            "gridcolor": "white",
            "gridwidth": 2,
            "linecolor": "white",
            "showbackground": true,
            "ticks": "",
            "zerolinecolor": "white"
           },
           "yaxis": {
            "backgroundcolor": "#E5ECF6",
            "gridcolor": "white",
            "gridwidth": 2,
            "linecolor": "white",
            "showbackground": true,
            "ticks": "",
            "zerolinecolor": "white"
           },
           "zaxis": {
            "backgroundcolor": "#E5ECF6",
            "gridcolor": "white",
            "gridwidth": 2,
            "linecolor": "white",
            "showbackground": true,
            "ticks": "",
            "zerolinecolor": "white"
           }
          },
          "shapedefaults": {
           "line": {
            "color": "#2a3f5f"
           }
          },
          "ternary": {
           "aaxis": {
            "gridcolor": "white",
            "linecolor": "white",
            "ticks": ""
           },
           "baxis": {
            "gridcolor": "white",
            "linecolor": "white",
            "ticks": ""
           },
           "bgcolor": "#E5ECF6",
           "caxis": {
            "gridcolor": "white",
            "linecolor": "white",
            "ticks": ""
           }
          },
          "title": {
           "x": 0.05
          },
          "xaxis": {
           "automargin": true,
           "gridcolor": "white",
           "linecolor": "white",
           "ticks": "",
           "title": {
            "standoff": 15
           },
           "zerolinecolor": "white",
           "zerolinewidth": 2
          },
          "yaxis": {
           "automargin": true,
           "gridcolor": "white",
           "linecolor": "white",
           "ticks": "",
           "title": {
            "standoff": 15
           },
           "zerolinecolor": "white",
           "zerolinewidth": 2
          }
         }
        },
        "title": {
         "text": "노선별 일평균 승하차 인원"
        },
        "xaxis": {
         "anchor": "y",
         "domain": [
          0,
          1
         ],
         "title": {
          "text": "일평균 승차 인원"
         }
        },
        "yaxis": {
         "anchor": "x",
         "domain": [
          0,
          1
         ],
         "title": {
          "text": "일평균 하차 인원"
         }
        }
       }
      }
     },
     "metadata": {},
     "output_type": "display_data"
    }
   ],
   "source": [
    "import pandas as pd\n",
    "import plotly.express as px\n",
    "\n",
    "# 데이터 로드\n",
    "file1_path = r'C:\\\\Users\\\\USER\\\\Desktop\\\\2025신월동\\\\data-20250122T010720Z-001\\\\data\\\\code\\\\bus.csv'\n",
    "file2_path = r'C:\\\\Users\\\\USER\\\\Desktop\\\\2025신월동\\\\data-20250122T010720Z-001\\\\data\\\\sinwol_bus.csv'\n",
    "\n",
    "# CSV 파일 읽기\n",
    "routes_df = pd.read_csv(file1_path)  # 노선 정보\n",
    "passenger_df = pd.read_csv(file2_path)  # 승객 수\n",
    "\n",
    "# 승차정류장ID에 대한 노선ID와 버스노선명을 가져옵니다.\n",
    "boarding_df = passenger_df.merge(routes_df[['정류장ID', '노선ID', '버스노선명']], \n",
    "                                   left_on='승차정류장ID', \n",
    "                                   right_on='정류장ID', \n",
    "                                   how='left')\n",
    "\n",
    "# 하차정류장ID에 대한 노선ID와 버스노선명을 가져옵니다.\n",
    "alighting_df = passenger_df.merge(routes_df[['정류장ID', '노선ID', '버스노선명']], \n",
    "                                    left_on='하차정류장ID', \n",
    "                                    right_on='정류장ID', \n",
    "                                    how='left', \n",
    "                                    suffixes=('_승차', '_하차'))\n",
    "\n",
    "# 승차일과 하차일을 datetime 형식으로 변환\n",
    "boarding_df['승차일'] = pd.to_datetime(boarding_df['승차일시']).dt.date\n",
    "alighting_df['하차일'] = pd.to_datetime(alighting_df['하차일시']).dt.date\n",
    "\n",
    "# 승차 인원 집계\n",
    "daily_boarding = boarding_df.groupby(['노선ID', '버스노선명', '승차일']).agg(\n",
    "    일일_승차인원=('승객수', 'sum')\n",
    ").reset_index()\n",
    "\n",
    "# 하차 인원 집계\n",
    "daily_alighting = alighting_df.groupby(['노선ID', '버스노선명', '하차일']).agg(\n",
    "    일일_하차인원=('승객수', 'sum')\n",
    ").reset_index()\n",
    "\n",
    "# 승차와 하차 데이터를 병합\n",
    "merged_passengers = pd.merge(daily_boarding, daily_alighting, \n",
    "                              left_on=['노선ID', '버스노선명', '승차일'], \n",
    "                              right_on=['노선ID', '버스노선명', '하차일'], \n",
    "                              how='outer')\n",
    "\n",
    "# 노선별 일평균 승하차 인원 계산\n",
    "average_passengers = merged_passengers.groupby(['노선ID', '버스노선명']).agg(\n",
    "    일평균_승차인원=('일일_승차인원', 'mean'),\n",
    "    일평균_하차인원=('일일_하차인원', 'mean')\n",
    ").reset_index()\n",
    "\n",
    "# Plotly scatter plot 생성\n",
    "fig = px.scatter(\n",
    "    average_passengers,\n",
    "    x='일평균_승차인원',\n",
    "    y='일평균_하차인원',\n",
    "    color='버스노선명',\n",
    "    title='노선별 일평균 승하차 인원',\n",
    "    labels={'일평균_승차인원': '일평균 승차 인원', '일평균_하차인원': '일평균 하차 인원'},\n",
    "    hover_name='버스노선명'\n",
    ")\n",
    "\n",
    "fig.show()"
   ]
  },
  {
   "cell_type": "code",
   "execution_count": 1,
   "metadata": {},
   "outputs": [
    {
     "data": {
      "application/vnd.plotly.v1+json": {
       "config": {
        "plotlyServerURL": "https://plot.ly"
       },
       "data": [
        {
         "alignmentgroup": "True",
         "hovertemplate": "정류장=%{x}<br>승차 인원=%{marker.color}<extra></extra>",
         "legendgroup": "",
         "marker": {
          "color": [
           13842,
           13755,
           12748,
           10903,
           9873,
           9822,
           8764,
           8440,
           8306,
           7182,
           6169,
           5972,
           5860,
           5432,
           5238,
           5224,
           5050,
           5009,
           4980,
           4695,
           4033,
           3991,
           3954,
           3553,
           3433,
           3339,
           3063,
           2585,
           2558,
           2406,
           2346,
           2288,
           2007,
           1806,
           1727,
           1689,
           1673,
           1557,
           1284,
           1051,
           775,
           604,
           538,
           506,
           473,
           456,
           403,
           272,
           263,
           218
          ],
          "coloraxis": "coloraxis",
          "pattern": {
           "shape": ""
          }
         },
         "name": "",
         "offsetgroup": "",
         "orientation": "v",
         "showlegend": false,
         "text": [
          13842,
          13755,
          12748,
          10903,
          9873,
          9822,
          8764,
          8440,
          8306,
          7182,
          6169,
          5972,
          5860,
          5432,
          5238,
          5224,
          5050,
          5009,
          4980,
          4695,
          4033,
          3991,
          3954,
          3553,
          3433,
          3339,
          3063,
          2585,
          2558,
          2406,
          2346,
          2288,
          2007,
          1806,
          1727,
          1689,
          1673,
          1557,
          1284,
          1051,
          775,
          604,
          538,
          506,
          473,
          456,
          403,
          272,
          263,
          218
         ],
         "textposition": "auto",
         "type": "bar",
         "x": [
          "강서초등학교",
          "신월2동주민센터입구",
          "신한은행신월동지점",
          "신월동우성상가",
          "신월5동주민센터.신월중학교",
          "서서울호수공원",
          "신곡시장.금빛새마을금고",
          "한빛종합사회복지관",
          "국민은행신월동지점",
          "강신중학교",
          "신화중학교",
          "신월3동주민센터.신월3동우체국",
          "동방아파트.신월종합사회복지관",
          "양강중학교",
          "국립과학수사연구소.고강동종점",
          "신월문화체육센터",
          "국립과학수사연구소입구",
          "과학수사연구소입구",
          "신월1동주민센터.신월보건지소",
          "신정네거리해누리분수광장",
          "양서중학교",
          "신월중학교입구",
          "신월시영아파트.강월초등학교",
          "서부여성발전센터",
          "가로공원공영주차장.신영시장",
          "신월시영아파트중문",
          "서울금융고등학교",
          "보람쉬움아파트",
          "강월초교사거리",
          "신월동남부주유소",
          "메디힐병원",
          "수명산입구",
          "경창빌딩",
          "동방아파트",
          "벽산.대주아파트",
          "금실어린이공원",
          "신월2동주민센터입구.경창전통시장",
          "보람쉬움아파트.신영시장",
          "신월2동우체국",
          "양원초교.광영여고",
          "신안파크아파트후문",
          "목동센트럴1단지",
          "가로공원공영주차장",
          "목동센트럴2단지",
          "광영고.신동아파밀리에아파트",
          "강서양천교육지원청",
          "거산아파트",
          "중부운수앞",
          "신곡시장",
          "목동센트럴2단지.이마트24"
         ],
         "xaxis": "x",
         "y": [
          13842,
          13755,
          12748,
          10903,
          9873,
          9822,
          8764,
          8440,
          8306,
          7182,
          6169,
          5972,
          5860,
          5432,
          5238,
          5224,
          5050,
          5009,
          4980,
          4695,
          4033,
          3991,
          3954,
          3553,
          3433,
          3339,
          3063,
          2585,
          2558,
          2406,
          2346,
          2288,
          2007,
          1806,
          1727,
          1689,
          1673,
          1557,
          1284,
          1051,
          775,
          604,
          538,
          506,
          473,
          456,
          403,
          272,
          263,
          218
         ],
         "yaxis": "y"
        }
       ],
       "layout": {
        "barmode": "relative",
        "coloraxis": {
         "colorbar": {
          "title": {
           "text": "승차 인원"
          }
         },
         "colorscale": [
          [
           0,
           "#0d0887"
          ],
          [
           0.1111111111111111,
           "#46039f"
          ],
          [
           0.2222222222222222,
           "#7201a8"
          ],
          [
           0.3333333333333333,
           "#9c179e"
          ],
          [
           0.4444444444444444,
           "#bd3786"
          ],
          [
           0.5555555555555556,
           "#d8576b"
          ],
          [
           0.6666666666666666,
           "#ed7953"
          ],
          [
           0.7777777777777778,
           "#fb9f3a"
          ],
          [
           0.8888888888888888,
           "#fdca26"
          ],
          [
           1,
           "#f0f921"
          ]
         ]
        },
        "legend": {
         "tracegroupgap": 0
        },
        "template": {
         "data": {
          "bar": [
           {
            "error_x": {
             "color": "#2a3f5f"
            },
            "error_y": {
             "color": "#2a3f5f"
            },
            "marker": {
             "line": {
              "color": "#E5ECF6",
              "width": 0.5
             },
             "pattern": {
              "fillmode": "overlay",
              "size": 10,
              "solidity": 0.2
             }
            },
            "type": "bar"
           }
          ],
          "barpolar": [
           {
            "marker": {
             "line": {
              "color": "#E5ECF6",
              "width": 0.5
             },
             "pattern": {
              "fillmode": "overlay",
              "size": 10,
              "solidity": 0.2
             }
            },
            "type": "barpolar"
           }
          ],
          "carpet": [
           {
            "aaxis": {
             "endlinecolor": "#2a3f5f",
             "gridcolor": "white",
             "linecolor": "white",
             "minorgridcolor": "white",
             "startlinecolor": "#2a3f5f"
            },
            "baxis": {
             "endlinecolor": "#2a3f5f",
             "gridcolor": "white",
             "linecolor": "white",
             "minorgridcolor": "white",
             "startlinecolor": "#2a3f5f"
            },
            "type": "carpet"
           }
          ],
          "choropleth": [
           {
            "colorbar": {
             "outlinewidth": 0,
             "ticks": ""
            },
            "type": "choropleth"
           }
          ],
          "contour": [
           {
            "colorbar": {
             "outlinewidth": 0,
             "ticks": ""
            },
            "colorscale": [
             [
              0,
              "#0d0887"
             ],
             [
              0.1111111111111111,
              "#46039f"
             ],
             [
              0.2222222222222222,
              "#7201a8"
             ],
             [
              0.3333333333333333,
              "#9c179e"
             ],
             [
              0.4444444444444444,
              "#bd3786"
             ],
             [
              0.5555555555555556,
              "#d8576b"
             ],
             [
              0.6666666666666666,
              "#ed7953"
             ],
             [
              0.7777777777777778,
              "#fb9f3a"
             ],
             [
              0.8888888888888888,
              "#fdca26"
             ],
             [
              1,
              "#f0f921"
             ]
            ],
            "type": "contour"
           }
          ],
          "contourcarpet": [
           {
            "colorbar": {
             "outlinewidth": 0,
             "ticks": ""
            },
            "type": "contourcarpet"
           }
          ],
          "heatmap": [
           {
            "colorbar": {
             "outlinewidth": 0,
             "ticks": ""
            },
            "colorscale": [
             [
              0,
              "#0d0887"
             ],
             [
              0.1111111111111111,
              "#46039f"
             ],
             [
              0.2222222222222222,
              "#7201a8"
             ],
             [
              0.3333333333333333,
              "#9c179e"
             ],
             [
              0.4444444444444444,
              "#bd3786"
             ],
             [
              0.5555555555555556,
              "#d8576b"
             ],
             [
              0.6666666666666666,
              "#ed7953"
             ],
             [
              0.7777777777777778,
              "#fb9f3a"
             ],
             [
              0.8888888888888888,
              "#fdca26"
             ],
             [
              1,
              "#f0f921"
             ]
            ],
            "type": "heatmap"
           }
          ],
          "heatmapgl": [
           {
            "colorbar": {
             "outlinewidth": 0,
             "ticks": ""
            },
            "colorscale": [
             [
              0,
              "#0d0887"
             ],
             [
              0.1111111111111111,
              "#46039f"
             ],
             [
              0.2222222222222222,
              "#7201a8"
             ],
             [
              0.3333333333333333,
              "#9c179e"
             ],
             [
              0.4444444444444444,
              "#bd3786"
             ],
             [
              0.5555555555555556,
              "#d8576b"
             ],
             [
              0.6666666666666666,
              "#ed7953"
             ],
             [
              0.7777777777777778,
              "#fb9f3a"
             ],
             [
              0.8888888888888888,
              "#fdca26"
             ],
             [
              1,
              "#f0f921"
             ]
            ],
            "type": "heatmapgl"
           }
          ],
          "histogram": [
           {
            "marker": {
             "pattern": {
              "fillmode": "overlay",
              "size": 10,
              "solidity": 0.2
             }
            },
            "type": "histogram"
           }
          ],
          "histogram2d": [
           {
            "colorbar": {
             "outlinewidth": 0,
             "ticks": ""
            },
            "colorscale": [
             [
              0,
              "#0d0887"
             ],
             [
              0.1111111111111111,
              "#46039f"
             ],
             [
              0.2222222222222222,
              "#7201a8"
             ],
             [
              0.3333333333333333,
              "#9c179e"
             ],
             [
              0.4444444444444444,
              "#bd3786"
             ],
             [
              0.5555555555555556,
              "#d8576b"
             ],
             [
              0.6666666666666666,
              "#ed7953"
             ],
             [
              0.7777777777777778,
              "#fb9f3a"
             ],
             [
              0.8888888888888888,
              "#fdca26"
             ],
             [
              1,
              "#f0f921"
             ]
            ],
            "type": "histogram2d"
           }
          ],
          "histogram2dcontour": [
           {
            "colorbar": {
             "outlinewidth": 0,
             "ticks": ""
            },
            "colorscale": [
             [
              0,
              "#0d0887"
             ],
             [
              0.1111111111111111,
              "#46039f"
             ],
             [
              0.2222222222222222,
              "#7201a8"
             ],
             [
              0.3333333333333333,
              "#9c179e"
             ],
             [
              0.4444444444444444,
              "#bd3786"
             ],
             [
              0.5555555555555556,
              "#d8576b"
             ],
             [
              0.6666666666666666,
              "#ed7953"
             ],
             [
              0.7777777777777778,
              "#fb9f3a"
             ],
             [
              0.8888888888888888,
              "#fdca26"
             ],
             [
              1,
              "#f0f921"
             ]
            ],
            "type": "histogram2dcontour"
           }
          ],
          "mesh3d": [
           {
            "colorbar": {
             "outlinewidth": 0,
             "ticks": ""
            },
            "type": "mesh3d"
           }
          ],
          "parcoords": [
           {
            "line": {
             "colorbar": {
              "outlinewidth": 0,
              "ticks": ""
             }
            },
            "type": "parcoords"
           }
          ],
          "pie": [
           {
            "automargin": true,
            "type": "pie"
           }
          ],
          "scatter": [
           {
            "fillpattern": {
             "fillmode": "overlay",
             "size": 10,
             "solidity": 0.2
            },
            "type": "scatter"
           }
          ],
          "scatter3d": [
           {
            "line": {
             "colorbar": {
              "outlinewidth": 0,
              "ticks": ""
             }
            },
            "marker": {
             "colorbar": {
              "outlinewidth": 0,
              "ticks": ""
             }
            },
            "type": "scatter3d"
           }
          ],
          "scattercarpet": [
           {
            "marker": {
             "colorbar": {
              "outlinewidth": 0,
              "ticks": ""
             }
            },
            "type": "scattercarpet"
           }
          ],
          "scattergeo": [
           {
            "marker": {
             "colorbar": {
              "outlinewidth": 0,
              "ticks": ""
             }
            },
            "type": "scattergeo"
           }
          ],
          "scattergl": [
           {
            "marker": {
             "colorbar": {
              "outlinewidth": 0,
              "ticks": ""
             }
            },
            "type": "scattergl"
           }
          ],
          "scattermapbox": [
           {
            "marker": {
             "colorbar": {
              "outlinewidth": 0,
              "ticks": ""
             }
            },
            "type": "scattermapbox"
           }
          ],
          "scatterpolar": [
           {
            "marker": {
             "colorbar": {
              "outlinewidth": 0,
              "ticks": ""
             }
            },
            "type": "scatterpolar"
           }
          ],
          "scatterpolargl": [
           {
            "marker": {
             "colorbar": {
              "outlinewidth": 0,
              "ticks": ""
             }
            },
            "type": "scatterpolargl"
           }
          ],
          "scatterternary": [
           {
            "marker": {
             "colorbar": {
              "outlinewidth": 0,
              "ticks": ""
             }
            },
            "type": "scatterternary"
           }
          ],
          "surface": [
           {
            "colorbar": {
             "outlinewidth": 0,
             "ticks": ""
            },
            "colorscale": [
             [
              0,
              "#0d0887"
             ],
             [
              0.1111111111111111,
              "#46039f"
             ],
             [
              0.2222222222222222,
              "#7201a8"
             ],
             [
              0.3333333333333333,
              "#9c179e"
             ],
             [
              0.4444444444444444,
              "#bd3786"
             ],
             [
              0.5555555555555556,
              "#d8576b"
             ],
             [
              0.6666666666666666,
              "#ed7953"
             ],
             [
              0.7777777777777778,
              "#fb9f3a"
             ],
             [
              0.8888888888888888,
              "#fdca26"
             ],
             [
              1,
              "#f0f921"
             ]
            ],
            "type": "surface"
           }
          ],
          "table": [
           {
            "cells": {
             "fill": {
              "color": "#EBF0F8"
             },
             "line": {
              "color": "white"
             }
            },
            "header": {
             "fill": {
              "color": "#C8D4E3"
             },
             "line": {
              "color": "white"
             }
            },
            "type": "table"
           }
          ]
         },
         "layout": {
          "annotationdefaults": {
           "arrowcolor": "#2a3f5f",
           "arrowhead": 0,
           "arrowwidth": 1
          },
          "autotypenumbers": "strict",
          "coloraxis": {
           "colorbar": {
            "outlinewidth": 0,
            "ticks": ""
           }
          },
          "colorscale": {
           "diverging": [
            [
             0,
             "#8e0152"
            ],
            [
             0.1,
             "#c51b7d"
            ],
            [
             0.2,
             "#de77ae"
            ],
            [
             0.3,
             "#f1b6da"
            ],
            [
             0.4,
             "#fde0ef"
            ],
            [
             0.5,
             "#f7f7f7"
            ],
            [
             0.6,
             "#e6f5d0"
            ],
            [
             0.7,
             "#b8e186"
            ],
            [
             0.8,
             "#7fbc41"
            ],
            [
             0.9,
             "#4d9221"
            ],
            [
             1,
             "#276419"
            ]
           ],
           "sequential": [
            [
             0,
             "#0d0887"
            ],
            [
             0.1111111111111111,
             "#46039f"
            ],
            [
             0.2222222222222222,
             "#7201a8"
            ],
            [
             0.3333333333333333,
             "#9c179e"
            ],
            [
             0.4444444444444444,
             "#bd3786"
            ],
            [
             0.5555555555555556,
             "#d8576b"
            ],
            [
             0.6666666666666666,
             "#ed7953"
            ],
            [
             0.7777777777777778,
             "#fb9f3a"
            ],
            [
             0.8888888888888888,
             "#fdca26"
            ],
            [
             1,
             "#f0f921"
            ]
           ],
           "sequentialminus": [
            [
             0,
             "#0d0887"
            ],
            [
             0.1111111111111111,
             "#46039f"
            ],
            [
             0.2222222222222222,
             "#7201a8"
            ],
            [
             0.3333333333333333,
             "#9c179e"
            ],
            [
             0.4444444444444444,
             "#bd3786"
            ],
            [
             0.5555555555555556,
             "#d8576b"
            ],
            [
             0.6666666666666666,
             "#ed7953"
            ],
            [
             0.7777777777777778,
             "#fb9f3a"
            ],
            [
             0.8888888888888888,
             "#fdca26"
            ],
            [
             1,
             "#f0f921"
            ]
           ]
          },
          "colorway": [
           "#636efa",
           "#EF553B",
           "#00cc96",
           "#ab63fa",
           "#FFA15A",
           "#19d3f3",
           "#FF6692",
           "#B6E880",
           "#FF97FF",
           "#FECB52"
          ],
          "font": {
           "color": "#2a3f5f"
          },
          "geo": {
           "bgcolor": "white",
           "lakecolor": "white",
           "landcolor": "#E5ECF6",
           "showlakes": true,
           "showland": true,
           "subunitcolor": "white"
          },
          "hoverlabel": {
           "align": "left"
          },
          "hovermode": "closest",
          "mapbox": {
           "style": "light"
          },
          "paper_bgcolor": "white",
          "plot_bgcolor": "#E5ECF6",
          "polar": {
           "angularaxis": {
            "gridcolor": "white",
            "linecolor": "white",
            "ticks": ""
           },
           "bgcolor": "#E5ECF6",
           "radialaxis": {
            "gridcolor": "white",
            "linecolor": "white",
            "ticks": ""
           }
          },
          "scene": {
           "xaxis": {
            "backgroundcolor": "#E5ECF6",
            "gridcolor": "white",
            "gridwidth": 2,
            "linecolor": "white",
            "showbackground": true,
            "ticks": "",
            "zerolinecolor": "white"
           },
           "yaxis": {
            "backgroundcolor": "#E5ECF6",
            "gridcolor": "white",
            "gridwidth": 2,
            "linecolor": "white",
            "showbackground": true,
            "ticks": "",
            "zerolinecolor": "white"
           },
           "zaxis": {
            "backgroundcolor": "#E5ECF6",
            "gridcolor": "white",
            "gridwidth": 2,
            "linecolor": "white",
            "showbackground": true,
            "ticks": "",
            "zerolinecolor": "white"
           }
          },
          "shapedefaults": {
           "line": {
            "color": "#2a3f5f"
           }
          },
          "ternary": {
           "aaxis": {
            "gridcolor": "white",
            "linecolor": "white",
            "ticks": ""
           },
           "baxis": {
            "gridcolor": "white",
            "linecolor": "white",
            "ticks": ""
           },
           "bgcolor": "#E5ECF6",
           "caxis": {
            "gridcolor": "white",
            "linecolor": "white",
            "ticks": ""
           }
          },
          "title": {
           "x": 0.05
          },
          "xaxis": {
           "automargin": true,
           "gridcolor": "white",
           "linecolor": "white",
           "ticks": "",
           "title": {
            "standoff": 15
           },
           "zerolinecolor": "white",
           "zerolinewidth": 2
          },
          "yaxis": {
           "automargin": true,
           "gridcolor": "white",
           "linecolor": "white",
           "ticks": "",
           "title": {
            "standoff": 15
           },
           "zerolinecolor": "white",
           "zerolinewidth": 2
          }
         }
        },
        "title": {
         "text": "정류장별 승차 인원"
        },
        "xaxis": {
         "anchor": "y",
         "domain": [
          0,
          1
         ],
         "title": {
          "text": "정류장"
         }
        },
        "yaxis": {
         "anchor": "x",
         "domain": [
          0,
          1
         ],
         "range": [
          0,
          25000
         ],
         "title": {
          "text": "승차 인원"
         }
        }
       }
      }
     },
     "metadata": {},
     "output_type": "display_data"
    }
   ],
   "source": [
    "import pandas as pd\n",
    "import plotly.express as px\n",
    "\n",
    "# 버스 데이터 읽기\n",
    "bus_data = pd.read_csv('C:\\\\Users\\\\USER\\\\Desktop\\\\2025신월동\\\\data-20250122T010720Z-001\\\\data\\\\sinwol_bus.csv')\n",
    "\n",
    "# 정류장 데이터 읽기 (정류장 ID와 이름이 포함된 파일)\n",
    "bus_stops_data = pd.read_csv('C:\\\\Users\\\\USER\\\\Desktop\\\\2025신월동\\\\data-20250122T010720Z-001\\\\data\\\\sinwol_busstops.csv')\n",
    "\n",
    "# 승차일시를 datetime 형식으로 변환\n",
    "bus_data['승차일시'] = pd.to_datetime(bus_data['승차일시'], format='%Y%m%d%H%M%S')\n",
    "\n",
    "# 정류장별 승차 인원수 집계\n",
    "boarding_counts = bus_data.groupby('승차정류장ID')['승객수'].sum().reset_index(name='승차인원수')\n",
    "\n",
    "# 정류장 ID와 이름 매핑\n",
    "# 정류장 ID를 인덱스로 설정하여 매핑\n",
    "bus_stops_mapping = bus_stops_data.set_index('정류장ID')['버스정류장명'].to_dict()\n",
    "\n",
    "# 정류장 ID에 이름 추가\n",
    "boarding_counts['버스정류장명'] = boarding_counts['승차정류장ID'].map(bus_stops_mapping)\n",
    "\n",
    "# 정류장명에 대해 총 승차 인원수 집계\n",
    "total_boarding_counts = boarding_counts.groupby('버스정류장명')['승차인원수'].sum().reset_index()\n",
    "\n",
    "# 승차 인원수에 따라 내림차순 정렬 (정류장명 기준)\n",
    "total_boarding_counts = total_boarding_counts.sort_values(by='승차인원수', ascending=False)\n",
    "\n",
    "# 시각화\n",
    "fig = px.bar(total_boarding_counts, \n",
    "             x='버스정류장명', \n",
    "             y='승차인원수', \n",
    "             title='정류장별 승차 인원',\n",
    "             labels={'버스정류장명': '정류장', '승차인원수': '승차 인원'},\n",
    "             color='승차인원수',  # 색상으로 승차 인원수 표현\n",
    "             text='승차인원수')  # 막대 위에 인원수 표시\n",
    "\n",
    "# y축 범위 조정 (20,000까지 표시)\n",
    "fig.update_yaxes(range=[0, 25000])  # y축 범위를 0에서 20,000으로 설정\n",
    "\n",
    "fig.show()"
   ]
  },
  {
   "cell_type": "code",
   "execution_count": 44,
   "metadata": {},
   "outputs": [
    {
     "data": {
      "application/vnd.plotly.v1+json": {
       "config": {
        "plotlyServerURL": "https://plot.ly"
       },
       "data": [
        {
         "alignmentgroup": "True",
         "hovertemplate": "정류장=%{x}<br>하차 인원=%{marker.color}<extra></extra>",
         "legendgroup": "",
         "marker": {
          "color": [
           13445,
           11248,
           10819,
           10383,
           9990,
           9206,
           8780,
           6341,
           5740,
           5620,
           5361,
           5165,
           5164,
           5146,
           5021,
           4882,
           4764,
           4627,
           4557,
           4518,
           4428,
           3969,
           3873,
           3764,
           3663,
           3257,
           3064,
           2785,
           2763,
           2726,
           2469,
           2268,
           2174,
           2119,
           2024,
           1776,
           1756,
           1662,
           1307,
           1253,
           1159,
           1019,
           978,
           883,
           809,
           659,
           621,
           427,
           426,
           88,
           9
          ],
          "coloraxis": "coloraxis",
          "pattern": {
           "shape": ""
          }
         },
         "name": "",
         "offsetgroup": "",
         "orientation": "v",
         "showlegend": false,
         "text": [
          13445,
          11248,
          10819,
          10383,
          9990,
          9206,
          8780,
          6341,
          5740,
          5620,
          5361,
          5165,
          5164,
          5146,
          5021,
          4882,
          4764,
          4627,
          4557,
          4518,
          4428,
          3969,
          3873,
          3764,
          3663,
          3257,
          3064,
          2785,
          2763,
          2726,
          2469,
          2268,
          2174,
          2119,
          2024,
          1776,
          1756,
          1662,
          1307,
          1253,
          1159,
          1019,
          978,
          883,
          809,
          659,
          621,
          427,
          426,
          88,
          9
         ],
         "textposition": "auto",
         "type": "bar",
         "x": [
          "양강중학교",
          "강서초등학교",
          "신곡시장.금빛새마을금고",
          "신월2동주민센터입구.경창전통시장",
          "서서울호수공원",
          "신한은행신월동지점",
          "신월동우성상가",
          "신월5동주민센터.신월중학교",
          "한빛종합사회복지관",
          "강신중학교",
          "신화중학교",
          "국립과학수사연구소.고강동종점",
          "신월문화체육센터",
          "동방아파트",
          "과학수사연구소입구",
          "국민은행신월동지점",
          "신월시영아파트.강월초등학교",
          "신월3동주민센터.신월3동우체국",
          "신월1동주민센터.신월보건지소",
          "메디힐병원",
          "서부여성발전센터",
          "신정네거리해누리분수광장",
          "국립과학수사연구소입구",
          "양서중학교",
          "신월중학교입구",
          "가로공원공영주차장",
          "신월동남부주유소",
          "신월시영아파트중문",
          "강월초교사거리",
          "금실어린이공원",
          "서울금융고등학교",
          "신월2동우체국",
          "수명산입구",
          "경창빌딩",
          "동방아파트.신월종합사회복지관",
          "보람쉬움아파트.신영시장",
          "벽산.대주아파트",
          "하나은행신월동지점",
          "신안파크아파트후문",
          "보람쉬움아파트",
          "신월2동주민센터입구",
          "목동센트럴1단지",
          "중부운수앞",
          "신곡시장",
          "목동센트럴2단지.이마트24",
          "양원초교.광영여고",
          "거산아파트",
          "가로공원공영주차장.신영시장",
          "광영고.신동아파밀리에아파트",
          "목동센트럴2단지",
          "강서양천교육지원청"
         ],
         "xaxis": "x",
         "y": [
          13445,
          11248,
          10819,
          10383,
          9990,
          9206,
          8780,
          6341,
          5740,
          5620,
          5361,
          5165,
          5164,
          5146,
          5021,
          4882,
          4764,
          4627,
          4557,
          4518,
          4428,
          3969,
          3873,
          3764,
          3663,
          3257,
          3064,
          2785,
          2763,
          2726,
          2469,
          2268,
          2174,
          2119,
          2024,
          1776,
          1756,
          1662,
          1307,
          1253,
          1159,
          1019,
          978,
          883,
          809,
          659,
          621,
          427,
          426,
          88,
          9
         ],
         "yaxis": "y"
        }
       ],
       "layout": {
        "barmode": "relative",
        "coloraxis": {
         "colorbar": {
          "title": {
           "text": "하차 인원"
          }
         },
         "colorscale": [
          [
           0,
           "#0d0887"
          ],
          [
           0.1111111111111111,
           "#46039f"
          ],
          [
           0.2222222222222222,
           "#7201a8"
          ],
          [
           0.3333333333333333,
           "#9c179e"
          ],
          [
           0.4444444444444444,
           "#bd3786"
          ],
          [
           0.5555555555555556,
           "#d8576b"
          ],
          [
           0.6666666666666666,
           "#ed7953"
          ],
          [
           0.7777777777777778,
           "#fb9f3a"
          ],
          [
           0.8888888888888888,
           "#fdca26"
          ],
          [
           1,
           "#f0f921"
          ]
         ]
        },
        "legend": {
         "tracegroupgap": 0
        },
        "template": {
         "data": {
          "bar": [
           {
            "error_x": {
             "color": "#2a3f5f"
            },
            "error_y": {
             "color": "#2a3f5f"
            },
            "marker": {
             "line": {
              "color": "#E5ECF6",
              "width": 0.5
             },
             "pattern": {
              "fillmode": "overlay",
              "size": 10,
              "solidity": 0.2
             }
            },
            "type": "bar"
           }
          ],
          "barpolar": [
           {
            "marker": {
             "line": {
              "color": "#E5ECF6",
              "width": 0.5
             },
             "pattern": {
              "fillmode": "overlay",
              "size": 10,
              "solidity": 0.2
             }
            },
            "type": "barpolar"
           }
          ],
          "carpet": [
           {
            "aaxis": {
             "endlinecolor": "#2a3f5f",
             "gridcolor": "white",
             "linecolor": "white",
             "minorgridcolor": "white",
             "startlinecolor": "#2a3f5f"
            },
            "baxis": {
             "endlinecolor": "#2a3f5f",
             "gridcolor": "white",
             "linecolor": "white",
             "minorgridcolor": "white",
             "startlinecolor": "#2a3f5f"
            },
            "type": "carpet"
           }
          ],
          "choropleth": [
           {
            "colorbar": {
             "outlinewidth": 0,
             "ticks": ""
            },
            "type": "choropleth"
           }
          ],
          "contour": [
           {
            "colorbar": {
             "outlinewidth": 0,
             "ticks": ""
            },
            "colorscale": [
             [
              0,
              "#0d0887"
             ],
             [
              0.1111111111111111,
              "#46039f"
             ],
             [
              0.2222222222222222,
              "#7201a8"
             ],
             [
              0.3333333333333333,
              "#9c179e"
             ],
             [
              0.4444444444444444,
              "#bd3786"
             ],
             [
              0.5555555555555556,
              "#d8576b"
             ],
             [
              0.6666666666666666,
              "#ed7953"
             ],
             [
              0.7777777777777778,
              "#fb9f3a"
             ],
             [
              0.8888888888888888,
              "#fdca26"
             ],
             [
              1,
              "#f0f921"
             ]
            ],
            "type": "contour"
           }
          ],
          "contourcarpet": [
           {
            "colorbar": {
             "outlinewidth": 0,
             "ticks": ""
            },
            "type": "contourcarpet"
           }
          ],
          "heatmap": [
           {
            "colorbar": {
             "outlinewidth": 0,
             "ticks": ""
            },
            "colorscale": [
             [
              0,
              "#0d0887"
             ],
             [
              0.1111111111111111,
              "#46039f"
             ],
             [
              0.2222222222222222,
              "#7201a8"
             ],
             [
              0.3333333333333333,
              "#9c179e"
             ],
             [
              0.4444444444444444,
              "#bd3786"
             ],
             [
              0.5555555555555556,
              "#d8576b"
             ],
             [
              0.6666666666666666,
              "#ed7953"
             ],
             [
              0.7777777777777778,
              "#fb9f3a"
             ],
             [
              0.8888888888888888,
              "#fdca26"
             ],
             [
              1,
              "#f0f921"
             ]
            ],
            "type": "heatmap"
           }
          ],
          "heatmapgl": [
           {
            "colorbar": {
             "outlinewidth": 0,
             "ticks": ""
            },
            "colorscale": [
             [
              0,
              "#0d0887"
             ],
             [
              0.1111111111111111,
              "#46039f"
             ],
             [
              0.2222222222222222,
              "#7201a8"
             ],
             [
              0.3333333333333333,
              "#9c179e"
             ],
             [
              0.4444444444444444,
              "#bd3786"
             ],
             [
              0.5555555555555556,
              "#d8576b"
             ],
             [
              0.6666666666666666,
              "#ed7953"
             ],
             [
              0.7777777777777778,
              "#fb9f3a"
             ],
             [
              0.8888888888888888,
              "#fdca26"
             ],
             [
              1,
              "#f0f921"
             ]
            ],
            "type": "heatmapgl"
           }
          ],
          "histogram": [
           {
            "marker": {
             "pattern": {
              "fillmode": "overlay",
              "size": 10,
              "solidity": 0.2
             }
            },
            "type": "histogram"
           }
          ],
          "histogram2d": [
           {
            "colorbar": {
             "outlinewidth": 0,
             "ticks": ""
            },
            "colorscale": [
             [
              0,
              "#0d0887"
             ],
             [
              0.1111111111111111,
              "#46039f"
             ],
             [
              0.2222222222222222,
              "#7201a8"
             ],
             [
              0.3333333333333333,
              "#9c179e"
             ],
             [
              0.4444444444444444,
              "#bd3786"
             ],
             [
              0.5555555555555556,
              "#d8576b"
             ],
             [
              0.6666666666666666,
              "#ed7953"
             ],
             [
              0.7777777777777778,
              "#fb9f3a"
             ],
             [
              0.8888888888888888,
              "#fdca26"
             ],
             [
              1,
              "#f0f921"
             ]
            ],
            "type": "histogram2d"
           }
          ],
          "histogram2dcontour": [
           {
            "colorbar": {
             "outlinewidth": 0,
             "ticks": ""
            },
            "colorscale": [
             [
              0,
              "#0d0887"
             ],
             [
              0.1111111111111111,
              "#46039f"
             ],
             [
              0.2222222222222222,
              "#7201a8"
             ],
             [
              0.3333333333333333,
              "#9c179e"
             ],
             [
              0.4444444444444444,
              "#bd3786"
             ],
             [
              0.5555555555555556,
              "#d8576b"
             ],
             [
              0.6666666666666666,
              "#ed7953"
             ],
             [
              0.7777777777777778,
              "#fb9f3a"
             ],
             [
              0.8888888888888888,
              "#fdca26"
             ],
             [
              1,
              "#f0f921"
             ]
            ],
            "type": "histogram2dcontour"
           }
          ],
          "mesh3d": [
           {
            "colorbar": {
             "outlinewidth": 0,
             "ticks": ""
            },
            "type": "mesh3d"
           }
          ],
          "parcoords": [
           {
            "line": {
             "colorbar": {
              "outlinewidth": 0,
              "ticks": ""
             }
            },
            "type": "parcoords"
           }
          ],
          "pie": [
           {
            "automargin": true,
            "type": "pie"
           }
          ],
          "scatter": [
           {
            "fillpattern": {
             "fillmode": "overlay",
             "size": 10,
             "solidity": 0.2
            },
            "type": "scatter"
           }
          ],
          "scatter3d": [
           {
            "line": {
             "colorbar": {
              "outlinewidth": 0,
              "ticks": ""
             }
            },
            "marker": {
             "colorbar": {
              "outlinewidth": 0,
              "ticks": ""
             }
            },
            "type": "scatter3d"
           }
          ],
          "scattercarpet": [
           {
            "marker": {
             "colorbar": {
              "outlinewidth": 0,
              "ticks": ""
             }
            },
            "type": "scattercarpet"
           }
          ],
          "scattergeo": [
           {
            "marker": {
             "colorbar": {
              "outlinewidth": 0,
              "ticks": ""
             }
            },
            "type": "scattergeo"
           }
          ],
          "scattergl": [
           {
            "marker": {
             "colorbar": {
              "outlinewidth": 0,
              "ticks": ""
             }
            },
            "type": "scattergl"
           }
          ],
          "scattermapbox": [
           {
            "marker": {
             "colorbar": {
              "outlinewidth": 0,
              "ticks": ""
             }
            },
            "type": "scattermapbox"
           }
          ],
          "scatterpolar": [
           {
            "marker": {
             "colorbar": {
              "outlinewidth": 0,
              "ticks": ""
             }
            },
            "type": "scatterpolar"
           }
          ],
          "scatterpolargl": [
           {
            "marker": {
             "colorbar": {
              "outlinewidth": 0,
              "ticks": ""
             }
            },
            "type": "scatterpolargl"
           }
          ],
          "scatterternary": [
           {
            "marker": {
             "colorbar": {
              "outlinewidth": 0,
              "ticks": ""
             }
            },
            "type": "scatterternary"
           }
          ],
          "surface": [
           {
            "colorbar": {
             "outlinewidth": 0,
             "ticks": ""
            },
            "colorscale": [
             [
              0,
              "#0d0887"
             ],
             [
              0.1111111111111111,
              "#46039f"
             ],
             [
              0.2222222222222222,
              "#7201a8"
             ],
             [
              0.3333333333333333,
              "#9c179e"
             ],
             [
              0.4444444444444444,
              "#bd3786"
             ],
             [
              0.5555555555555556,
              "#d8576b"
             ],
             [
              0.6666666666666666,
              "#ed7953"
             ],
             [
              0.7777777777777778,
              "#fb9f3a"
             ],
             [
              0.8888888888888888,
              "#fdca26"
             ],
             [
              1,
              "#f0f921"
             ]
            ],
            "type": "surface"
           }
          ],
          "table": [
           {
            "cells": {
             "fill": {
              "color": "#EBF0F8"
             },
             "line": {
              "color": "white"
             }
            },
            "header": {
             "fill": {
              "color": "#C8D4E3"
             },
             "line": {
              "color": "white"
             }
            },
            "type": "table"
           }
          ]
         },
         "layout": {
          "annotationdefaults": {
           "arrowcolor": "#2a3f5f",
           "arrowhead": 0,
           "arrowwidth": 1
          },
          "autotypenumbers": "strict",
          "coloraxis": {
           "colorbar": {
            "outlinewidth": 0,
            "ticks": ""
           }
          },
          "colorscale": {
           "diverging": [
            [
             0,
             "#8e0152"
            ],
            [
             0.1,
             "#c51b7d"
            ],
            [
             0.2,
             "#de77ae"
            ],
            [
             0.3,
             "#f1b6da"
            ],
            [
             0.4,
             "#fde0ef"
            ],
            [
             0.5,
             "#f7f7f7"
            ],
            [
             0.6,
             "#e6f5d0"
            ],
            [
             0.7,
             "#b8e186"
            ],
            [
             0.8,
             "#7fbc41"
            ],
            [
             0.9,
             "#4d9221"
            ],
            [
             1,
             "#276419"
            ]
           ],
           "sequential": [
            [
             0,
             "#0d0887"
            ],
            [
             0.1111111111111111,
             "#46039f"
            ],
            [
             0.2222222222222222,
             "#7201a8"
            ],
            [
             0.3333333333333333,
             "#9c179e"
            ],
            [
             0.4444444444444444,
             "#bd3786"
            ],
            [
             0.5555555555555556,
             "#d8576b"
            ],
            [
             0.6666666666666666,
             "#ed7953"
            ],
            [
             0.7777777777777778,
             "#fb9f3a"
            ],
            [
             0.8888888888888888,
             "#fdca26"
            ],
            [
             1,
             "#f0f921"
            ]
           ],
           "sequentialminus": [
            [
             0,
             "#0d0887"
            ],
            [
             0.1111111111111111,
             "#46039f"
            ],
            [
             0.2222222222222222,
             "#7201a8"
            ],
            [
             0.3333333333333333,
             "#9c179e"
            ],
            [
             0.4444444444444444,
             "#bd3786"
            ],
            [
             0.5555555555555556,
             "#d8576b"
            ],
            [
             0.6666666666666666,
             "#ed7953"
            ],
            [
             0.7777777777777778,
             "#fb9f3a"
            ],
            [
             0.8888888888888888,
             "#fdca26"
            ],
            [
             1,
             "#f0f921"
            ]
           ]
          },
          "colorway": [
           "#636efa",
           "#EF553B",
           "#00cc96",
           "#ab63fa",
           "#FFA15A",
           "#19d3f3",
           "#FF6692",
           "#B6E880",
           "#FF97FF",
           "#FECB52"
          ],
          "font": {
           "color": "#2a3f5f"
          },
          "geo": {
           "bgcolor": "white",
           "lakecolor": "white",
           "landcolor": "#E5ECF6",
           "showlakes": true,
           "showland": true,
           "subunitcolor": "white"
          },
          "hoverlabel": {
           "align": "left"
          },
          "hovermode": "closest",
          "mapbox": {
           "style": "light"
          },
          "paper_bgcolor": "white",
          "plot_bgcolor": "#E5ECF6",
          "polar": {
           "angularaxis": {
            "gridcolor": "white",
            "linecolor": "white",
            "ticks": ""
           },
           "bgcolor": "#E5ECF6",
           "radialaxis": {
            "gridcolor": "white",
            "linecolor": "white",
            "ticks": ""
           }
          },
          "scene": {
           "xaxis": {
            "backgroundcolor": "#E5ECF6",
            "gridcolor": "white",
            "gridwidth": 2,
            "linecolor": "white",
            "showbackground": true,
            "ticks": "",
            "zerolinecolor": "white"
           },
           "yaxis": {
            "backgroundcolor": "#E5ECF6",
            "gridcolor": "white",
            "gridwidth": 2,
            "linecolor": "white",
            "showbackground": true,
            "ticks": "",
            "zerolinecolor": "white"
           },
           "zaxis": {
            "backgroundcolor": "#E5ECF6",
            "gridcolor": "white",
            "gridwidth": 2,
            "linecolor": "white",
            "showbackground": true,
            "ticks": "",
            "zerolinecolor": "white"
           }
          },
          "shapedefaults": {
           "line": {
            "color": "#2a3f5f"
           }
          },
          "ternary": {
           "aaxis": {
            "gridcolor": "white",
            "linecolor": "white",
            "ticks": ""
           },
           "baxis": {
            "gridcolor": "white",
            "linecolor": "white",
            "ticks": ""
           },
           "bgcolor": "#E5ECF6",
           "caxis": {
            "gridcolor": "white",
            "linecolor": "white",
            "ticks": ""
           }
          },
          "title": {
           "x": 0.05
          },
          "xaxis": {
           "automargin": true,
           "gridcolor": "white",
           "linecolor": "white",
           "ticks": "",
           "title": {
            "standoff": 15
           },
           "zerolinecolor": "white",
           "zerolinewidth": 2
          },
          "yaxis": {
           "automargin": true,
           "gridcolor": "white",
           "linecolor": "white",
           "ticks": "",
           "title": {
            "standoff": 15
           },
           "zerolinecolor": "white",
           "zerolinewidth": 2
          }
         }
        },
        "title": {
         "text": "정류장별 하차 인원"
        },
        "xaxis": {
         "anchor": "y",
         "domain": [
          0,
          1
         ],
         "title": {
          "text": "정류장"
         }
        },
        "yaxis": {
         "anchor": "x",
         "domain": [
          0,
          1
         ],
         "range": [
          0,
          15000
         ],
         "title": {
          "text": "하차 인원"
         }
        }
       }
      }
     },
     "metadata": {},
     "output_type": "display_data"
    }
   ],
   "source": [
    "import pandas as pd\n",
    "import plotly.express as px\n",
    "\n",
    "# 버스 데이터 읽기\n",
    "bus_data = pd.read_csv('C:\\\\Users\\\\USER\\\\Desktop\\\\2025신월동\\\\data-20250122T010720Z-001\\\\data\\\\sinwol_bus.csv')\n",
    "\n",
    "# 정류장 데이터 읽기 (정류장 ID와 이름이 포함된 파일)\n",
    "bus_stops_data = pd.read_csv('C:\\\\Users\\\\USER\\\\Desktop\\\\2025신월동\\\\data-20250122T010720Z-001\\\\data\\\\sinwol_busstops.csv')\n",
    "\n",
    "# 하차일시를 datetime 형식으로 변환\n",
    "bus_data['하차일시'] = pd.to_datetime(bus_data['하차일시'], format='%Y%m%d%H%M%S')\n",
    "\n",
    "# 정류장별 하차 인원수 집계\n",
    "alighting_counts = bus_data.groupby('하차정류장ID')['승객수'].sum().reset_index(name='하차인원수')\n",
    "\n",
    "# 정류장 ID와 이름 매핑\n",
    "# 정류장 ID를 인덱스로 설정하여 매핑\n",
    "bus_stops_mapping = bus_stops_data.set_index('정류장ID')['버스정류장명'].to_dict()\n",
    "\n",
    "# 정류장 ID에 이름 추가\n",
    "alighting_counts['버스정류장명'] = alighting_counts['하차정류장ID'].map(bus_stops_mapping)\n",
    "\n",
    "# 정류장명에 대해 총 하차 인원수 집계\n",
    "total_alighting_counts = alighting_counts.groupby('버스정류장명')['하차인원수'].sum().reset_index()\n",
    "\n",
    "# 하차 인원수에 따라 내림차순 정렬 (정류장명 기준)\n",
    "total_alighting_counts = total_alighting_counts.sort_values(by='하차인원수', ascending=False)\n",
    "\n",
    "# 시각화\n",
    "fig = px.bar(total_alighting_counts, \n",
    "             x='버스정류장명', \n",
    "             y='하차인원수', \n",
    "             title='정류장별 하차 인원',\n",
    "             labels={'버스정류장명': '정류장', '하차인원수': '하차 인원'},\n",
    "             color='하차인원수',  # 색상으로 하차 인원수 표현\n",
    "             text='하차인원수')  # 막대 위에 인원수 표시\n",
    "\n",
    "# y축 범위 조정 (20,000까지 표시)\n",
    "fig.update_yaxes(range=[0, 15000])  # y축 범위를 0에서 20,000으로 설정\n",
    "\n",
    "fig.show()\n"
   ]
  }
 ],
 "metadata": {
  "kernelspec": {
   "display_name": "base",
   "language": "python",
   "name": "python3"
  },
  "language_info": {
   "codemirror_mode": {
    "name": "ipython",
    "version": 3
   },
   "file_extension": ".py",
   "mimetype": "text/x-python",
   "name": "python",
   "nbconvert_exporter": "python",
   "pygments_lexer": "ipython3",
   "version": "3.11.7"
  }
 },
 "nbformat": 4,
 "nbformat_minor": 2
}
